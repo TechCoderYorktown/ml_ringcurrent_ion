{
 "cells": [
  {
   "cell_type": "markdown",
   "id": "c708d919",
   "metadata": {},
   "source": [
    "For Ring Current, we will use energy  bins from 1 keV to 50 keV\n",
    "ENERGY_BINS = (np.array([51767.680, 44428.696, 38130.120, 32724.498, 28085.268, 24103.668, 20686.558, 17753.876, 15236.896, 13076.798, 11222.936, 9631.899, 8266.406, 7094.516, 6088.722, 5225.528, 4484.742, 3848.919, 3303.284, 2834.964, 2433.055, 2088.129, 1792.096, 1538.062, 1319.977, 1132.846, 972.237]))"
   ]
  },
  {
   "cell_type": "code",
   "execution_count": null,
   "id": "a016506b",
   "metadata": {},
   "outputs": [],
   "source": [
    "import prepare_ml_dataset\n",
    "import train_nn_model\n",
    "import initialize_var\n",
    "import importlib\n",
    "\n",
    "importlib.reload(train_nn_model)\n",
    "importlib.reload(prepare_ml_dataset)\n",
    "importlib.reload(initialize_var)\n",
    "\n",
    "train_nn_model.train_nn_model('51767680', 'h')"
   ]
  },
  {
   "cell_type": "code",
   "execution_count": null,
   "id": "2c512d3a-5d76-46fb-831c-692b806ebd06",
   "metadata": {},
   "outputs": [],
   "source": [
    "import prepare_ml_dataset\n",
    "import train_nn_model\n",
    "import initialize_var\n",
    "import importlib\n",
    "\n",
    "importlib.reload(train_nn_model)\n",
    "importlib.reload(prepare_ml_dataset)\n",
    "importlib.reload(initialize_var)\n",
    "\n",
    "energy = '51767680'\n",
    "species = 'h'\n",
    "forecast = \"none\"\n",
    "dL01=True\n",
    "save_data = False\n",
    "plot_data = False\n",
    "recalc = False\n",
    "number_history = 7\n",
    "raw_feature_names=['symh','asyh','ae','asyd']\n",
    "forecast = \"none\"\n",
    "\n",
    "train_nn_model.train_nn_model(energy, species, recalc = recalc, plot_data = plot_data, save_data = save_data, dL01=dL01, number_history = number_history, raw_feature_names = raw_feature_names, forecast = forecast)"
   ]
  },
  {
   "cell_type": "code",
   "execution_count": null,
   "id": "8092c7a7-8bbe-4f48-8919-713f993ec740",
   "metadata": {},
   "outputs": [],
   "source": [
    "\n",
    "# energy = '51767680'\n",
    "# species = 'h'\n",
    "# forecast = \"none\"\n",
    "# dL01=True\n",
    "# save_data = False\n",
    "# plot_data = False\n",
    "# recalc = False\n",
    "# number_history = 7\n",
    "# raw_feature_names=['symh','asyh','ae','asyd']\n",
    "# forecast = \"none\"\n",
    "\n",
    "# np.set_printoptions(precision=4)\n",
    "\n",
    "# data_directories, dataset_csv, data_settings = initialize_var.initialize_data_var(energy=energy, species=species, raw_feature_names = raw_feature_names, forecast = forecast, number_history = number_history, dL01=dL01)\n",
    "\n",
    "# x_train, x_valid, x_test, y_train, y_valid, y_test = prepare_ml_dataset.prepare_ml_dataset(energy, species, recalc = recalc, plot_data = plot_data, save_data = save_data, dL01=dL01\n",
    "#                                                                                            , raw_feature_names = raw_feature_names,  forecast = forecast, number_history = number_history)"
   ]
  },
  {
   "cell_type": "code",
   "execution_count": null,
   "id": "3a4522ff",
   "metadata": {},
   "outputs": [],
   "source": [
    "# import os\n",
    "# import numpy as np\n",
    "\n",
    "# import pandas as pd\n",
    "\n",
    "# os.environ[\"CUDA_VISIBLE_DEVICES\"] = \"-1\" # This is to disable GPU\n",
    "# os.environ[\"TF_ENABLE_ONEDNN_OPTS\"] = \"0\"\n",
    "\n",
    "# importlib.reload(train_nn_model)\n",
    "\n",
    "# para_name = \"learning_rate\"\n",
    "# para_set = [1.e-4, 1.5e-3, 1.e-3]\n",
    "\n",
    "# final_train_loss = np.zeros(len(para_set))\n",
    "# final_valid_loss = np.zeros(len(para_set))\n",
    "# total_history = dict()\n",
    "# valid_r2s = np.zeros(len(para_set))\n",
    "\n",
    "# ipara = 0\n",
    "\n",
    "# parameter = para_set[ipara]\n",
    "\n",
    "# model, history, valid_r2 = train_nn_model.nn_model(x_train, y_train, x_valid, y_valid, data_settings[\"log_y_name\"], output_dir = directories[\"training_output_dir\"] , model_fln = '', mse_fln = ''\n",
    "#                                     , n_neurons = 18, dropout_rate = 0.0, patience = 32, learning_rate = parameter, epochs = 2, batch_size = 8, dL01= dL01)\n",
    "\n",
    "# total_history[str(parameter)] = history.history\n",
    "# final_train_loss[ipara] = history.history['loss'][-1]\n",
    "# final_valid_loss[ipara] = history.history['val_loss'][-1]\n",
    "# valid_r2s[ipara] = valid_r2\n",
    "\n"
   ]
  },
  {
   "cell_type": "code",
   "execution_count": null,
   "id": "0ecf57d4-d640-4dea-a27c-ba52c2a031e0",
   "metadata": {},
   "outputs": [],
   "source": []
  },
  {
   "cell_type": "code",
   "execution_count": null,
   "id": "2e82defd-eb7a-4f44-9a78-87deaf96709b",
   "metadata": {},
   "outputs": [],
   "source": []
  }
 ],
 "metadata": {
  "kernelspec": {
   "display_name": "Python 3 (ipykernel)",
   "language": "python",
   "name": "python3"
  },
  "language_info": {
   "codemirror_mode": {
    "name": "ipython",
    "version": 3
   },
   "file_extension": ".py",
   "mimetype": "text/x-python",
   "name": "python",
   "nbconvert_exporter": "python",
   "pygments_lexer": "ipython3",
   "version": "3.11.11"
  }
 },
 "nbformat": 4,
 "nbformat_minor": 5
}

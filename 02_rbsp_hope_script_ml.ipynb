{
 "cells": [
  {
   "cell_type": "markdown",
   "id": "c708d919",
   "metadata": {},
   "source": [
    "For Ring Current, we will use energy  bins from 1 keV to 50 keV\n",
    "ENERGY_BINS = (np.array([51767.680, 44428.696, 38130.120, 32724.498, 28085.268, 24103.668, 20686.558, 17753.876, 15236.896, 13076.798, 11222.936, 9631.899, 8266.406, 7094.516, 6088.722, 5225.528, 4484.742, 3848.919, 3303.284, 2834.964, 2433.055, 2088.129, 1792.096, 1538.062, 1319.977, 1132.846, 972.237]))"
   ]
  },
  {
   "cell_type": "code",
   "execution_count": null,
   "id": "a016506b",
   "metadata": {},
   "outputs": [],
   "source": [
    "import prepare_ml_dataset\n",
    "import train_nn_model\n",
    "import initialize_var\n",
    "import importlib\n",
    "\n",
    "importlib.reload(train_nn_model)\n",
    "importlib.reload(prepare_ml_dataset)\n",
    "importlib.reload(initialize_var)\n",
    "\n",
    "train_nn_model.train_nn_model('51767680', 'h')"
   ]
  },
  {
   "cell_type": "code",
   "execution_count": null,
   "id": "2c512d3a-5d76-46fb-831c-692b806ebd06",
   "metadata": {},
   "outputs": [],
   "source": [
    "import prepare_ml_dataset\n",
    "import train_nn_model\n",
    "import initialize_var\n",
    "import importlib\n",
    "\n",
    "importlib.reload(train_nn_model)\n",
    "importlib.reload(prepare_ml_dataset)\n",
    "importlib.reload(initialize_var)\n",
    "\n",
    "energy = '51767680'\n",
    "species = 'h'\n",
    "forecast = \"none\"\n",
    "dL01=True\n",
    "recalc = False\n",
    "number_history = 7\n",
    "raw_feature_names=['symh','asyh','ae','asyd']\n",
    "\n",
    "train_nn_model.train_nn_model(energy, species, recalc = recalc, dL01=dL01, number_history = number_history, raw_feature_names = raw_feature_names, forecast = forecast)"
   ]
  },
  {
   "cell_type": "markdown",
   "id": "eff28300-102f-42ea-b1e1-a3e38eb289f1",
   "metadata": {},
   "source": [
    "### The following code are from train_nn_model. Run them seperatedly to debug"
   ]
  },
  {
   "cell_type": "code",
   "execution_count": 4,
   "id": "8092c7a7-8bbe-4f48-8919-713f993ec740",
   "metadata": {},
   "outputs": [],
   "source": [
    "dataset_csv, data_settings, directories = initialize_var.initialize_data_var(energy=energy, species=species, raw_feature_names = raw_feature_names, forecast = forecast, number_history = number_history, dL01=dL01)\n",
    "\n",
    "x_train, x_valid, x_test, y_train, y_valid, y_test = prepare_ml_dataset.load_ml_dataset(energy, species, recalc = recalc, dL01=dL01, raw_feature_names = raw_feature_names,  forecast = forecast, number_history = number_history)"
   ]
  },
  {
   "cell_type": "code",
   "execution_count": 10,
   "id": "9b87c6a5-07d9-470d-ae90-50e3b0a234fc",
   "metadata": {},
   "outputs": [
    {
     "data": {
      "text/plain": [
       "(array([1.3010e+03, 0.0000e+00, 2.2000e+01, 6.3300e+02, 1.0835e+04,\n",
       "        1.4455e+04, 2.6002e+04, 4.1952e+04, 3.0278e+04, 8.4500e+02]),\n",
       " array([1.    , 1.8199, 2.6398, 3.4597, 4.2796, 5.0995, 5.9194, 6.7393,\n",
       "        7.5593, 8.3792, 9.1991]),\n",
       " <BarContainer object of 10 artists>)"
      ]
     },
     "execution_count": 10,
     "metadata": {},
     "output_type": "execute_result"
    },
    {
     "data": {
      "image/png": "[encoded data removed]",
      "text/plain": [
       "<Figure size 640x480 with 1 Axes>"
      ]
     },
     "metadata": {},
     "output_type": "display_data"
    }
   ],
   "source": [
    "import matplotlib.pyplot as plt\n",
    "\n",
    "# data_directories, dataset_csv, data_settings = initialize_var.initialize_data_var(energy=energy, species=species, raw_feature_names = raw_feature_names, forecast = forecast, number_history = number_history, dL01=dL01)\n",
    "\n",
    "\n"
   ]
  },
  {
   "cell_type": "code",
   "execution_count": null,
   "id": "3a4522ff",
   "metadata": {},
   "outputs": [],
   "source": [
    "# import os\n",
    "# import numpy as np\n",
    "\n",
    "# import pandas as pd\n",
    "\n",
    "# os.environ[\"CUDA_VISIBLE_DEVICES\"] = \"-1\" # This is to disable GPU\n",
    "# os.environ[\"TF_ENABLE_ONEDNN_OPTS\"] = \"0\"\n",
    "\n",
    "# importlib.reload(train_nn_model)\n",
    "\n",
    "para_name = \"learning_rate\"\n",
    "para_set = [1.e-4, 1.5e-3, 1.e-3]\n",
    "\n",
    "final_train_loss = np.zeros(len(para_set))\n",
    "final_valid_loss = np.zeros(len(para_set))\n",
    "total_history = dict()\n",
    "valid_r2s = np.zeros(len(para_set))\n",
    "\n",
    "print(\"start to train\")\n",
    "\n",
    "for ipara in range(len(para_set)):\n",
    "    parameter = para_set[ipara]\n",
    "\n",
    "    model, history, valid_r2 = nn_model(x_train, y_train, x_valid, y_valid, data_settings[\"log_y_name\"], output_dir = directories[\"training_output_dir\"] , model_fln = '', mse_fln = '', n_neurons = n_neurons, dropout_rate = dropout_rate, patience = patience, learning_rate = parameter, epochs = epochs, batch_size = batch_size, dL01= dL01, nlayer= nlayer)        \n",
    "    \n",
    "    total_history[str(parameter)] = history.history\n",
    "    final_train_loss[ipara] = history.history['loss'][-1]\n",
    "    final_valid_loss[ipara] = history.history['val_loss'][-1]\n",
    "    valid_r2s[ipara] = valid_r2\n",
    "\n",
    "print(para_set, final_valid_loss,valid_r2s)\n",
    "\n"
   ]
  },
  {
   "cell_type": "code",
   "execution_count": null,
   "id": "0ecf57d4-d640-4dea-a27c-ba52c2a031e0",
   "metadata": {},
   "outputs": [],
   "source": []
  },
  {
   "cell_type": "code",
   "execution_count": null,
   "id": "2e82defd-eb7a-4f44-9a78-87deaf96709b",
   "metadata": {},
   "outputs": [],
   "source": []
  }
 ],
 "metadata": {
  "kernelspec": {
   "display_name": "Python 3 (ipykernel)",
   "language": "python",
   "name": "python3"
  },
  "language_info": {
   "codemirror_mode": {
    "name": "ipython",
    "version": 3
   },
   "file_extension": ".py",
   "mimetype": "text/x-python",
   "name": "python",
   "nbconvert_exporter": "python",
   "pygments_lexer": "ipython3",
   "version": "3.11.11"
  }
 },
 "nbformat": 4,
 "nbformat_minor": 5
}

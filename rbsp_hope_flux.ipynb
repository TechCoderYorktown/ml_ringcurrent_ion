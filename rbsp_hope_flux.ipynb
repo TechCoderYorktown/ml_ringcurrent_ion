{
 "cells": [
  {
   "cell_type": "code",
   "execution_count": 1,
   "id": "c708d919",
   "metadata": {},
   "outputs": [
    {
     "name": "stderr",
     "output_type": "stream",
     "text": [
      "2025-02-27 16:50:30.589926: I external/local_xla/xla/tsl/cuda/cudart_stub.cc:32] Could not find cuda drivers on your machine, GPU will not be used.\n",
      "2025-02-27 16:50:30.657064: I external/local_xla/xla/tsl/cuda/cudart_stub.cc:32] Could not find cuda drivers on your machine, GPU will not be used.\n",
      "2025-02-27 16:50:30.720414: E external/local_xla/xla/stream_executor/cuda/cuda_fft.cc:477] Unable to register cuFFT factory: Attempting to register factory for plugin cuFFT when one has already been registered\n",
      "WARNING: All log messages before absl::InitializeLog() is called are written to STDERR\n",
      "E0000 00:00:1740693030.769872  943058 cuda_dnn.cc:8310] Unable to register cuDNN factory: Attempting to register factory for plugin cuDNN when one has already been registered\n",
      "E0000 00:00:1740693030.784320  943058 cuda_blas.cc:1418] Unable to register cuBLAS factory: Attempting to register factory for plugin cuBLAS when one has already been registered\n",
      "2025-02-27 16:50:30.915187: I tensorflow/core/platform/cpu_feature_guard.cc:210] This TensorFlow binary is optimized to use available CPU instructions in performance-critical operations.\n",
      "To enable the following instructions: AVX2 AVX_VNNI FMA, in other operations, rebuild TensorFlow with the appropriate compiler flags.\n",
      "/home/jliao/anaconda3/envs/notebook/lib/python3.11/site-packages/tqdm/auto.py:21: TqdmWarning: IProgress not found. Please update jupyter and ipywidgets. See https://ipywidgets.readthedocs.io/en/stable/user_install.html\n",
      "  from .autonotebook import tqdm as notebook_tqdm\n"
     ]
    },
    {
     "data": {
      "text/plain": [
       "<module 'train_nn_model' from '/home/jliao/workspace/GitHub/ml_ringcurrent_ion/train_nn_model.py'>"
      ]
     },
     "execution_count": 1,
     "metadata": {},
     "output_type": "execute_result"
    }
   ],
   "source": [
    "import os\n",
    "import numpy as np\n",
    "import importlib\n",
    "import pandas as pd\n",
    "import importlib\n",
    "\n",
    "os.environ[\"CUDA_VISIBLE_DEVICES\"] = \"-1\" # This is to disable GPU\n",
    "os.environ[\"TF_ENABLE_ONEDNN_OPTS\"] = \"0\"\n",
    "\n",
    "import prepare_ml_dataset\n",
    "import train_nn_model\n",
    "\n",
    "importlib.reload(prepare_ml_dataset)\n",
    "importlib.reload(train_nn_model)"
   ]
  },
  {
   "cell_type": "code",
   "execution_count": 2,
   "id": "8f8545a2",
   "metadata": {},
   "outputs": [],
   "source": [
    "energy = '51767680'\n",
    "species = 'h'"
   ]
  },
  {
   "cell_type": "code",
   "execution_count": null,
   "id": "1086963d-fdf7-4a11-9b7d-53e5d8f5e507",
   "metadata": {},
   "outputs": [
    {
     "name": "stdout",
     "output_type": "stream",
     "text": [
      "Reading csv data for probeb"
     ]
    },
    {
     "name": "stderr",
     "output_type": "stream",
     "text": [
      "/home/jliao/anaconda3/envs/notebook/lib/python3.11/site-packages/dask/utils.py:1226: FutureWarning: the convert_dtype parameter is deprecated and will be removed in a future version.  Do ``ser.astype(object).apply()`` instead if you want ``convert_dtype=False``.\n",
      "  return getattr(__obj, self.method)(*args, **kwargs)\n",
      "/home/jliao/anaconda3/envs/notebook/lib/python3.11/site-packages/dask/utils.py:1226: FutureWarning: the convert_dtype parameter is deprecated and will be removed in a future version.  Do ``ser.astype(object).apply()`` instead if you want ``convert_dtype=False``.\n",
      "  return getattr(__obj, self.method)(*args, **kwargs)\n",
      "/home/jliao/anaconda3/envs/notebook/lib/python3.11/site-packages/dask/utils.py:1226: FutureWarning: the convert_dtype parameter is deprecated and will be removed in a future version.  Do ``ser.astype(object).apply()`` instead if you want ``convert_dtype=False``.\n",
      "  return getattr(__obj, self.method)(*args, **kwargs)\n",
      "/home/jliao/anaconda3/envs/notebook/lib/python3.11/site-packages/dask/utils.py:1226: FutureWarning: the convert_dtype parameter is deprecated and will be removed in a future version.  Do ``ser.astype(object).apply()`` instead if you want ``convert_dtype=False``.\n",
      "  return getattr(__obj, self.method)(*args, **kwargs)\n",
      "/home/jliao/anaconda3/envs/notebook/lib/python3.11/site-packages/dask/utils.py:1226: FutureWarning: the convert_dtype parameter is deprecated and will be removed in a future version.  Do ``ser.astype(object).apply()`` instead if you want ``convert_dtype=False``.\n",
      "  return getattr(__obj, self.method)(*args, **kwargs)\n",
      "/home/jliao/anaconda3/envs/notebook/lib/python3.11/site-packages/dask/utils.py:1226: FutureWarning: the convert_dtype parameter is deprecated and will be removed in a future version.  Do ``ser.astype(object).apply()`` instead if you want ``convert_dtype=False``.\n",
      "  return getattr(__obj, self.method)(*args, **kwargs)\n",
      "/home/jliao/anaconda3/envs/notebook/lib/python3.11/site-packages/dask/utils.py:1226: FutureWarning: the convert_dtype parameter is deprecated and will be removed in a future version.  Do ``ser.astype(object).apply()`` instead if you want ``convert_dtype=False``.\n",
      "  return getattr(__obj, self.method)(*args, **kwargs)\n",
      "Dask Apply: 100%|██████████| 41/41 [00:01<00:00, 21.01it/s]\n"
     ]
    },
    {
     "name": "stdout",
     "output_type": "stream",
     "text": [
      "7.868543463017787 1.040252310912895 4.4543978869653404 6.8282911521048915\n",
      "19.92544708333316 -19.85855629142716 0.033445395953000556 39.78400337476032\n",
      "78.0 -232.8000030517578 -77.4000015258789 310.8000030517578\n",
      "348.0 0.0 174.0 348.0\n",
      "379.0 0.0 189.5 379.0\n",
      "2471.39990234375 3.400000095367432 1237.3999512195587 2467.9999022483826\n",
      "255.0 64.5999984741211 159.79999923706055 190.4000015258789\n",
      "8.3 0.0 4.15 8.3\n",
      "56.76599884033203 0.050000000745058 28.407999420538545 56.71599883958697\n",
      "72.12999725341797 0.1359999924898148 36.13299862295389 71.99399726092815\n",
      "927.0999755859376 243.6999969482422 585.3999862670898 683.3999786376954\n",
      "32.51399993896484 -27.52799987792969 2.493000030517573 60.04199981689453\n",
      "31.9219970703125 -38.81400299072266 -3.4460029602050817 70.73600006103516\n"
     ]
    },
    {
     "name": "stderr",
     "output_type": "stream",
     "text": [
      "/home/jliao/workspace/GitHub/ml_ringcurrent_ion/prepare_ml_dataset.py:307: PerformanceWarning: DataFrame is highly fragmented.  This is usually the result of calling `frame.insert` many times, which has poor performance.  Consider joining all columns at once using pd.concat(axis=1) instead. To get a de-fragmented frame, use `newframe = frame.copy()`\n",
      "  df_full['episodes'] = df_full['time'].apply(lambda x: math.floor((x-t0)/episode_time))\n"
     ]
    },
    {
     "name": "stdout",
     "output_type": "stream",
     "text": [
      "475943 119522 116124\n"
     ]
    }
   ],
   "source": [
    "directories, dataset_csv, data_settings = prepare_ml_dataset.initializ_var(energy, species)\n",
    "\n",
    "x_train, x_valid, x_test, y_train, y_valid, y_test = prepare_ml_dataset.prepare_ml_dataset(energy, species, recalc=True)\n",
    "\n",
    "print(x_train.shape, x_valid.shape, x_test.shape, y_train.shape, y_valid.shape, y_test.shape)"
   ]
  },
  {
   "cell_type": "code",
   "execution_count": null,
   "id": "3a4522ff",
   "metadata": {},
   "outputs": [],
   "source": [
    "para_name = \"learning_rate\"\n",
    "para_set = [1.e-4, 1.5e-3, 1.e-3]\n",
    "\n",
    "final_train_loss = np.zeros(len(para_set))\n",
    "final_valid_loss = np.zeros(len(para_set))\n",
    "total_history = dict()\n",
    "valid_r2s = np.zeros(len(para_set))\n",
    "\n",
    "for ipara in range(len(para_set)):\n",
    "    parameter = para_set[ipara]\n",
    "\n",
    "    model, history, valid_r2 = train_nn_model.nn_model(x_train, y_train, x_valid, y_valid, data_settings[\"y_name_log\"], \n",
    "                                                       output_dir = directories[\"training_output_dir\"] , n_neurons = 18, patience = 32,\n",
    "                                                       learning_rate = parameter, epochs = 10, batch_size = 8)\n",
    "    \n",
    "    total_history[str(parameter)] = history.history\n",
    "    final_train_loss[ipara] = history.history['loss'][-1]\n",
    "    final_valid_loss[ipara] = history.history['val_loss'][-1]\n",
    "    valid_r2s[ipara] = valid_r2"
   ]
  },
  {
   "cell_type": "code",
   "execution_count": null,
   "id": "2e82defd-eb7a-4f44-9a78-87deaf96709b",
   "metadata": {},
   "outputs": [],
   "source": []
  }
 ],
 "metadata": {
  "kernelspec": {
   "display_name": "Python 3 (ipykernel)",
   "language": "python",
   "name": "python3"
  },
  "language_info": {
   "codemirror_mode": {
    "name": "ipython",
    "version": 3
   },
   "file_extension": ".py",
   "mimetype": "text/x-python",
   "name": "python",
   "nbconvert_exporter": "python",
   "pygments_lexer": "ipython3",
   "version": "3.11.5"
  }
 },
 "nbformat": 4,
 "nbformat_minor": 5
}

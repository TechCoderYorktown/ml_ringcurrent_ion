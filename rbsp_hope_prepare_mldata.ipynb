{
 "cells": [
  {
   "cell_type": "code",
   "execution_count": 1,
   "id": "c708d919",
   "metadata": {},
   "outputs": [
    {
     "name": "stderr",
     "output_type": "stream",
     "text": [
      "2025-03-14 11:41:35.761095: I tensorflow/core/util/port.cc:153] oneDNN custom operations are on. You may see slightly different numerical results due to floating-point round-off errors from different computation orders. To turn them off, set the environment variable `TF_ENABLE_ONEDNN_OPTS=0`.\n",
      "2025-03-14 11:41:35.767912: I external/local_xla/xla/tsl/cuda/cudart_stub.cc:32] Could not find cuda drivers on your machine, GPU will not be used.\n",
      "2025-03-14 11:41:35.833583: I external/local_xla/xla/tsl/cuda/cudart_stub.cc:32] Could not find cuda drivers on your machine, GPU will not be used.\n",
      "2025-03-14 11:41:35.891310: E external/local_xla/xla/stream_executor/cuda/cuda_fft.cc:477] Unable to register cuFFT factory: Attempting to register factory for plugin cuFFT when one has already been registered\n",
      "WARNING: All log messages before absl::InitializeLog() is called are written to STDERR\n",
      "E0000 00:00:1741966895.931495  454667 cuda_dnn.cc:8310] Unable to register cuDNN factory: Attempting to register factory for plugin cuDNN when one has already been registered\n",
      "E0000 00:00:1741966895.944051  454667 cuda_blas.cc:1418] Unable to register cuBLAS factory: Attempting to register factory for plugin cuBLAS when one has already been registered\n",
      "2025-03-14 11:41:36.064501: I tensorflow/core/platform/cpu_feature_guard.cc:210] This TensorFlow binary is optimized to use available CPU instructions in performance-critical operations.\n",
      "To enable the following instructions: AVX2 AVX_VNNI FMA, in other operations, rebuild TensorFlow with the appropriate compiler flags.\n"
     ]
    },
    {
     "data": {
      "text/plain": [
       "<module 'initialize_var' from '/home/jliao/workspace/GitHub/ml_ringcurrent_ion/initialize_var.py'>"
      ]
     },
     "execution_count": 1,
     "metadata": {},
     "output_type": "execute_result"
    }
   ],
   "source": [
    "import prepare_fulldata\n",
    "import importlib\n",
    "import initialize_var\n",
    "import prepare_ml_dataset\n",
    "\n",
    "\n",
    "importlib.reload(prepare_fulldata)\n",
    "importlib.reload(prepare_ml_dataset)\n",
    "importlib.reload(initialize_var)\n"
   ]
  },
  {
   "cell_type": "code",
   "execution_count": 10,
   "id": "60932f81-33fd-4143-b904-61b5b6390551",
   "metadata": {},
   "outputs": [
    {
     "name": "stdout",
     "output_type": "stream",
     "text": [
      "[]\n",
      "output_rel05/fulldata/df_hope_log_h_flux_972237\n"
     ]
    },
    {
     "ename": "AttributeError",
     "evalue": "'list' object has no attribute 'columns'",
     "output_type": "error",
     "traceback": [
      "\u001b[0;31m---------------------------------------------------------------------------\u001b[0m",
      "\u001b[0;31mAttributeError\u001b[0m                            Traceback (most recent call last)",
      "Cell \u001b[0;32mIn[10], line 20\u001b[0m\n\u001b[1;32m     13\u001b[0m dL01 \u001b[38;5;241m=\u001b[39m \u001b[38;5;28;01mFalse\u001b[39;00m\n\u001b[1;32m     15\u001b[0m dataset_csv, data_settings \u001b[38;5;241m=\u001b[39m initialize_var\u001b[38;5;241m.\u001b[39minitialize_data_var(energy\u001b[38;5;241m=\u001b[39menergy, species\u001b[38;5;241m=\u001b[39mspecies, raw_feature_names \u001b[38;5;241m=\u001b[39m raw_feature_names\n\u001b[1;32m     16\u001b[0m                                                                 , forecast \u001b[38;5;241m=\u001b[39m forecast, number_history \u001b[38;5;241m=\u001b[39m number_history\n\u001b[1;32m     17\u001b[0m                                                                 , dL01\u001b[38;5;241m=\u001b[39mdL01)\n\u001b[0;32m---> 20\u001b[0m df_data, directories, fulldataset_csv, fulldata_settings \u001b[38;5;241m=\u001b[39m prepare_fulldata\u001b[38;5;241m.\u001b[39mload_fulldata(energy \u001b[38;5;241m=\u001b[39m energy, species \u001b[38;5;241m=\u001b[39m species\n\u001b[1;32m     21\u001b[0m                                                                                           , raw_feature_names \u001b[38;5;241m=\u001b[39m raw_feature_names\n\u001b[1;32m     22\u001b[0m                                                                                           , number_history \u001b[38;5;241m=\u001b[39m number_history\n\u001b[1;32m     23\u001b[0m                                                                                           , recalc \u001b[38;5;241m=\u001b[39m recalc\n\u001b[1;32m     24\u001b[0m                                                                                           , save_data \u001b[38;5;241m=\u001b[39m save_data, plot_data \u001b[38;5;241m=\u001b[39m plot_data)\n",
      "File \u001b[0;32m~/workspace/GitHub/ml_ringcurrent_ion/prepare_fulldata.py:347\u001b[0m, in \u001b[0;36mload_fulldata\u001b[0;34m(energy, species, recalc, release, average_time, raw_coor_names, coor_names, raw_feature_names, number_history, history_resolution, save_data, plot_data, df_full)\u001b[0m\n\u001b[1;32m    344\u001b[0m \u001b[38;5;28mprint\u001b[39m(df_full)\n\u001b[1;32m    346\u001b[0m df_y, df_full, fulldata_settings \u001b[38;5;241m=\u001b[39m load_y(directories, fulldataset_csv, fulldata_settings, recalc \u001b[38;5;241m=\u001b[39m recalc, df_full \u001b[38;5;241m=\u001b[39m df_full, save_data \u001b[38;5;241m=\u001b[39m save_data, plot_data \u001b[38;5;241m=\u001b[39m plot_data, energy_bins \u001b[38;5;241m=\u001b[39m energy, species_arr \u001b[38;5;241m=\u001b[39m species)\n\u001b[0;32m--> 347\u001b[0m \u001b[38;5;28mprint\u001b[39m(df_full\u001b[38;5;241m.\u001b[39mcolumns)\n\u001b[1;32m    348\u001b[0m df_features_history, df_full, fulldata_settings \u001b[38;5;241m=\u001b[39m load_features(directories, fulldataset_csv, fulldata_settings, recalc \u001b[38;5;241m=\u001b[39m recalc, df_full \u001b[38;5;241m=\u001b[39m df_full, save_data \u001b[38;5;241m=\u001b[39m save_data, plot_data \u001b[38;5;241m=\u001b[39m plot_data, raw_feature_names \u001b[38;5;241m=\u001b[39m raw_feature_names)\n\u001b[1;32m    350\u001b[0m \u001b[38;5;28mprint\u001b[39m(df_full\u001b[38;5;241m.\u001b[39mcolumns)\n",
      "\u001b[0;31mAttributeError\u001b[0m: 'list' object has no attribute 'columns'"
     ]
    }
   ],
   "source": [
    "importlib.reload(prepare_fulldata)\n",
    "importlib.reload(prepare_ml_dataset)\n",
    "importlib.reload(initialize_var)\n",
    "\n",
    "recalc = False\n",
    "plot_data = False\n",
    "save_data = False\n",
    "raw_feature_names =  ['symh']#,'asyh','ae','asyd'] #['symh','asyh','asyd','ae','f10.7','kp','swp','swn','swv','by','bz']\n",
    "number_history = 2\n",
    "energy = '972237'\n",
    "species = 'h'\n",
    "forecast = False\n",
    "dL01 = False\n",
    "\n",
    "dataset_csv, data_settings = initialize_var.initialize_data_var(energy=energy, species=species, raw_feature_names = raw_feature_names\n",
    "                                                                , forecast = forecast, number_history = number_history\n",
    "                                                                , dL01=dL01)\n",
    "\n",
    "\n",
    "df_data, directories, fulldataset_csv, fulldata_settings = prepare_fulldata.load_fulldata(energy = energy, species = species\n",
    "                                                                                          , raw_feature_names = raw_feature_names\n",
    "                                                                                          , number_history = number_history\n",
    "                                                                                          , recalc = recalc\n",
    "                                                                                          , save_data = save_data, plot_data = plot_data)\n",
    "\n",
    "\n",
    "\n",
    "\n"
   ]
  },
  {
   "cell_type": "code",
   "execution_count": null,
   "id": "1e400a33-111e-4b61-b51d-aca548e52d6e",
   "metadata": {},
   "outputs": [],
   "source": [
    "df_data.columns"
   ]
  },
  {
   "cell_type": "code",
   "execution_count": null,
   "id": "4a24ec0f-cee6-4b9d-82dc-02c46b6248bf",
   "metadata": {},
   "outputs": [],
   "source": [
    "importlib.reload(prepare_fulldata)\n",
    "importlib.reload(prepare_ml_dataset)\n",
    "importlib.reload(initialize_var)\n",
    "\n",
    "energy = '972237'\n",
    "species = 'h'\n",
    "forecast = False\n",
    "dL01 = True\n",
    "\n",
    "\n",
    "\n",
    "\n",
    "index_good = prepare_ml_dataset.get_good_index(df_data, data_settings, dL01)\n",
    "\n"
   ]
  },
  {
   "cell_type": "code",
   "execution_count": null,
   "id": "f087d1fc-030c-48df-bdef-c918b31e4212",
   "metadata": {},
   "outputs": [],
   "source": [
    "df_data = get_dL01_mask(df_data)"
   ]
  },
  {
   "cell_type": "code",
   "execution_count": null,
   "id": "3a4522ff",
   "metadata": {},
   "outputs": [],
   "source": []
  },
  {
   "cell_type": "code",
   "execution_count": null,
   "id": "2e82defd-eb7a-4f44-9a78-87deaf96709b",
   "metadata": {},
   "outputs": [],
   "source": []
  }
 ],
 "metadata": {
  "kernelspec": {
   "display_name": "Python 3 (ipykernel)",
   "language": "python",
   "name": "python3"
  },
  "language_info": {
   "codemirror_mode": {
    "name": "ipython",
    "version": 3
   },
   "file_extension": ".py",
   "mimetype": "text/x-python",
   "name": "python",
   "nbconvert_exporter": "python",
   "pygments_lexer": "ipython3",
   "version": "3.11.5"
  }
 },
 "nbformat": 4,
 "nbformat_minor": 5
}

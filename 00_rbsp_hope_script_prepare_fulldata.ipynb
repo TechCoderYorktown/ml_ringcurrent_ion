{
 "cells": [
  {
   "cell_type": "code",
   "execution_count": 1,
   "id": "c708d919",
   "metadata": {
    "scrolled": true
   },
   "outputs": [
    {
     "name": "stderr",
     "output_type": "stream",
     "text": [
      "2025-03-24 18:00:17.899440: I tensorflow/core/util/port.cc:153] oneDNN custom operations are on. You may see slightly different numerical results due to floating-point round-off errors from different computation orders. To turn them off, set the environment variable `TF_ENABLE_ONEDNN_OPTS=0`.\n",
      "2025-03-24 18:00:17.900143: I external/local_xla/xla/tsl/cuda/cudart_stub.cc:32] Could not find cuda drivers on your machine, GPU will not be used.\n",
      "2025-03-24 18:00:17.902152: I external/local_xla/xla/tsl/cuda/cudart_stub.cc:32] Could not find cuda drivers on your machine, GPU will not be used.\n",
      "2025-03-24 18:00:17.908447: E external/local_xla/xla/stream_executor/cuda/cuda_fft.cc:477] Unable to register cuFFT factory: Attempting to register factory for plugin cuFFT when one has already been registered\n",
      "WARNING: All log messages before absl::InitializeLog() is called are written to STDERR\n",
      "E0000 00:00:1742853617.921225   42383 cuda_dnn.cc:8310] Unable to register cuDNN factory: Attempting to register factory for plugin cuDNN when one has already been registered\n",
      "E0000 00:00:1742853617.924879   42383 cuda_blas.cc:1418] Unable to register cuBLAS factory: Attempting to register factory for plugin cuBLAS when one has already been registered\n",
      "2025-03-24 18:00:17.937397: I tensorflow/core/platform/cpu_feature_guard.cc:210] This TensorFlow binary is optimized to use available CPU instructions in performance-critical operations.\n",
      "To enable the following instructions: AVX2 AVX_VNNI FMA, in other operations, rebuild TensorFlow with the appropriate compiler flags.\n"
     ]
    },
    {
     "data": {
      "text/plain": [
       "<module 'prepare_fulldata' from '/home/jliao/workspace/GitHub/ml_ringcurrent_ion/prepare_fulldata.py'>"
      ]
     },
     "execution_count": 1,
     "metadata": {},
     "output_type": "execute_result"
    }
   ],
   "source": [
    "import prepare_fulldata\n",
    "import importlib\n",
    "\n",
    "importlib.reload(prepare_fulldata)"
   ]
  },
  {
   "cell_type": "code",
   "execution_count": null,
   "id": "87b6e710-5ffa-4e9c-88e3-5831d9682317",
   "metadata": {},
   "outputs": [],
   "source": [
    "# This is the line to use load all full data\n",
    "\n",
    "df_data, directories, fulldataset_csv, fulldata_settings = prepare_fulldata.load_fulldata(save_data = True, plot_data = True, recalc=True, create_full_data = True )"
   ]
  },
  {
   "cell_type": "code",
   "execution_count": null,
   "id": "408be58e-ebfd-4c9f-97ec-25219c8c5855",
   "metadata": {},
   "outputs": [],
   "source": [
    "#\n",
    "\n",
    "# import prepare_fulldata\n",
    "# import importlib\n",
    "\n",
    "# importlib.reload(prepare_fulldata)\n",
    "\n",
    "# energy = ['51767680']\n",
    "# species = ['h']\n",
    "# number_history = 7\n",
    "# raw_feature_names = ['symh','asyh','asyd','ae']\n",
    "\n",
    "# df_data, directories, fulldataset_csv, fulldata_settings = prepare_fulldata.load_fulldata(energy = energy, species=species\n",
    "#                                                                                           , raw_feature_names = raw_feature_names\n",
    "#                                                                                           , number_history = number_history\n",
    "#                                                                                           , save_data = False, plot_data = False)\n",
    "\n",
    "# df_data.columns"
   ]
  },
  {
   "cell_type": "code",
   "execution_count": null,
   "id": "2e387b2e-b7d5-4f09-806a-b18d40d39cd1",
   "metadata": {},
   "outputs": [],
   "source": [
    "# import prepare_fulldata\n",
    "# import importlib\n",
    "# import initialize_var\n",
    "\n",
    "# importlib.reload(prepare_fulldata)\n",
    "# importlib.reload(initialize_var)\n",
    "\n",
    "# raw_feature_names = ['symh','asyh','asyd','ae','f10.7','kp','swp','swn','swv','by','bz']\n",
    "# number_history = 10\n",
    "\n",
    "# directories, dataset_csv, fulldata_settings = initialize_var.initialize_fulldata_var(raw_feature_names = raw_feature_names\n",
    "#                                                                                       , number_history=number_history)\n",
    "# df_full = prepare_fulldata.read_probes_data(directories[\"rawdata_dir\"], fulldata_settings)\n",
    "\n",
    "# # df_coor, df_full, fulldata_settings = prepare_fulldata.load_coor(directories, dataset_csv, fulldata_settings\n",
    "# # , recalc=True, save_data = True, plot_data = True)\n",
    "\n",
    "# # df_y, df_full, fulldata_settings = prepare_fulldata.load_y(directories, dataset_csv, fulldata_settings\n",
    "# # , recalc = True, save_data = True, plot_data = True )\n",
    "\n",
    "# df_feature, df_full, fulldata_settings = prepare_fulldata.load_features(directories, dataset_csv, fulldata_settings\n",
    "#                                                               , recalc = True, df_full = df_full, save_data = True, plot_data = False\n",
    "#                                                               , raw_feature_names = raw_feature_names)\n"
   ]
  },
  {
   "cell_type": "code",
   "execution_count": null,
   "id": "2e82defd-eb7a-4f44-9a78-87deaf96709b",
   "metadata": {},
   "outputs": [],
   "source": [
    "# Here a seperate code for load, calculate, save and plot for coordiantes, y (flux) and feature (indexes and sw) data.\n",
    "\n",
    "\n",
    "# raw_feature_names = ['symh','asyh','asyd','ae','f10.7','kp','swp','swn','swv','by','bz']\n",
    "# number_history = 30\n",
    "\n",
    "# directories, dataset_csv, fulldata_settings = initialize_var.initialize_fulldata_var(raw_feature_names = raw_feature_names, number_history=number_history)\n",
    "\n",
    "# df_full = prepare_fulldata.read_probes_data(directories[\"rawdata_dir\"], fulldata_settings)\n",
    "\n",
    "\n",
    "# raw_feature_names = ['symh','asyh','asyd','ae','f10.7','kp','swp','swn','swv','by','bz']\n",
    "# number_history = 30\n",
    "# energy = ['51767680']\n",
    "# species = ['h']\n",
    "\n",
    "\n",
    "# importlib.reload(prepare_fulldata)\n",
    "\n",
    "# directories, dataset_csv, fulldata_settings = initialize_var.initialize_fulldata_var(raw_feature_names = raw_feature_names\n",
    "#                                                                                  , number_history=number_history)\n",
    "\n",
    "# df_full = prepare_fulldata.read_probes_data(directories[\"rawdata_dir\"], data_settings)\n",
    "\n",
    "# df_coor, df_full, fulldata_settings = prepare_fulldata.load_coor(directories, dataset_csv, fulldata_settings\n",
    "# , recalc=True, save_data = True, plot_data = True)\n",
    "\n",
    "# df_y, df_full, fulldata_settings = prepare_fulldata.load_y(directories, dataset_csv, fulldata_settings\n",
    "# , recalc = True, save_data = True, plot_data = True )\n",
    "\n",
    "# df_feature, df_full, fulldata_settings = prepare_fulldata.load_features(directories, dataset_csv, fulldata_settings\n",
    "#                                                               , recalc = True, df_full = df_full, save_data = True, plot_data = True\n",
    "#                                                               , raw_feature_names = raw_feature_names)\n"
   ]
  },
  {
   "cell_type": "code",
   "execution_count": null,
   "id": "e14efa4c-1785-4def-8e9c-3415c2e3deed",
   "metadata": {},
   "outputs": [],
   "source": [
    "# df_full = prepare_fulldata.read_probes_data(directories[\"rawdata_dir\"], data_settings)\n",
    "\n",
    "# df_full, data_settings = prepare_fulldata.calculate_log_for_y(df_full, data_settings)\n",
    "# df_full, data_settings = prepare_fulldata.scale_corrdinates(df_full, data_settings)\n",
    "# df_full, data_settings = prepare_fulldata.scale_features(df_full, data_settings)\n",
    "# if save_data:\n",
    "#     output_names = data_settings[\"coor_names\"] + data_settings[\"log_y_names\"]\n",
    "#     output_names.insert(0,data_settings[\"datetime_name\"])\n",
    "            \n",
    "#     df_full[output_names].to_csv(dataset_csv[\"df_hope\"], index=False)\n",
    "\n",
    "# for feature_name in data_settings[\"feature_names\"]:\n",
    "#     feature_history_filename_csv = directories['fulldata_dir'] + \"df_feature_history_\" + feature_name+'.csv'\n",
    "#     df_full, data_settings = create_feature_history(df_full, data_settings, feature_name, feature_history_filename_csv, data_settings[\"doubletime_name\"],save_data)\n",
    "\n",
    "\n"
   ]
  }
 ],
 "metadata": {
  "kernelspec": {
   "display_name": "Python 3 (ipykernel)",
   "language": "python",
   "name": "python3"
  },
  "language_info": {
   "codemirror_mode": {
    "name": "ipython",
    "version": 3
   },
   "file_extension": ".py",
   "mimetype": "text/x-python",
   "name": "python",
   "nbconvert_exporter": "python",
   "pygments_lexer": "ipython3",
   "version": "3.11.5"
  }
 },
 "nbformat": 4,
 "nbformat_minor": 5
}

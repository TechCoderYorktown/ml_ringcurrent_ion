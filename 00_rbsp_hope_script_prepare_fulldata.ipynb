{
 "cells": [
  {
   "cell_type": "markdown",
   "id": "37cba285-a646-4b6c-a8e4-a0718c50378e",
   "metadata": {
    "scrolled": true
   },
   "source": [
    "### This is the line to use load all full data\n"
   ]
  },
  {
   "cell_type": "code",
   "execution_count": null,
   "id": "a42710aa-6ec8-4f61-b8d6-a8eaabadceef",
   "metadata": {
    "scrolled": true
   },
   "outputs": [
    {
     "name": "stderr",
     "output_type": "stream",
     "text": [
      "2025-04-01 20:22:30.070752: I tensorflow/core/util/port.cc:153] oneDNN custom operations are on. You may see slightly different numerical results due to floating-point round-off errors from different computation orders. To turn them off, set the environment variable `TF_ENABLE_ONEDNN_OPTS=0`.\n",
      "2025-04-01 20:22:30.071228: I external/local_xla/xla/tsl/cuda/cudart_stub.cc:32] Could not find cuda drivers on your machine, GPU will not be used.\n",
      "2025-04-01 20:22:30.105048: I tensorflow/core/platform/cpu_feature_guard.cc:210] This TensorFlow binary is optimized to use available CPU instructions in performance-critical operations.\n",
      "To enable the following instructions: AVX2 AVX_VNNI FMA, in other operations, rebuild TensorFlow with the appropriate compiler flags.\n"
     ]
    },
    {
     "name": "stdout",
     "output_type": "stream",
     "text": [
      "start plot mltta for probe b\n",
      "start plot l\n",
      "start plot lat\n"
     ]
    },
    {
     "name": "stderr",
     "output_type": "stream",
     "text": [
      "/home/jliao/workspace/GitHub/ml_ringcurrent_ion/plot_functions.py:47: UserWarning: The figure layout has changed to tight\n",
      "  plt.tight_layout()\n"
     ]
    },
    {
     "name": "stdout",
     "output_type": "stream",
     "text": [
      "start plot cos0\n",
      "start plot sin0\n",
      "start plot scaled_lat\n",
      "start plot scaled_l\n"
     ]
    },
    {
     "name": "stderr",
     "output_type": "stream",
     "text": [
      "/home/jliao/workspace/GitHub/ml_ringcurrent_ion/plot_functions.py:47: UserWarning: The figure layout has changed to tight\n",
      "  plt.tight_layout()\n"
     ]
    },
    {
     "name": "stdout",
     "output_type": "stream",
     "text": [
      "output_rel05/fulldata/df_hope_log_h_flux_51767680\n"
     ]
    },
    {
     "name": "stderr",
     "output_type": "stream",
     "text": [
      "/home/jliao/workspace/GitHub/ml_ringcurrent_ion/prepare_fulldata.py:109: SettingWithCopyWarning: \n",
      "A value is trying to be set on a copy of a slice from a DataFrame.\n",
      "Try using .loc[row_indexer,col_indexer] = value instead\n",
      "\n",
      "See the caveats in the documentation: https://pandas.pydata.org/pandas-docs/stable/user_guide/indexing.html#returning-a-view-versus-a-copy\n",
      "  df_y[log_y_name] = np.log10(df_y[y_name])+6 #### Add a factor of 6 here to ensure all data are positive\n"
     ]
    },
    {
     "name": "stdout",
     "output_type": "stream",
     "text": [
      "start plot h_flux_51767680\n",
      "start plot log_h_flux_51767680\n"
     ]
    },
    {
     "name": "stderr",
     "output_type": "stream",
     "text": [
      "/home/jliao/workspace/GitHub/ml_ringcurrent_ion/plot_functions.py:47: UserWarning: The figure layout has changed to tight\n",
      "  plt.tight_layout()\n"
     ]
    },
    {
     "name": "stdout",
     "output_type": "stream",
     "text": [
      "output_rel05/fulldata/df_hope_log_h_flux_44428696\n"
     ]
    },
    {
     "name": "stderr",
     "output_type": "stream",
     "text": [
      "/home/jliao/workspace/GitHub/ml_ringcurrent_ion/prepare_fulldata.py:109: SettingWithCopyWarning: \n",
      "A value is trying to be set on a copy of a slice from a DataFrame.\n",
      "Try using .loc[row_indexer,col_indexer] = value instead\n",
      "\n",
      "See the caveats in the documentation: https://pandas.pydata.org/pandas-docs/stable/user_guide/indexing.html#returning-a-view-versus-a-copy\n",
      "  df_y[log_y_name] = np.log10(df_y[y_name])+6 #### Add a factor of 6 here to ensure all data are positive\n"
     ]
    },
    {
     "name": "stdout",
     "output_type": "stream",
     "text": [
      "start plot h_flux_44428696\n",
      "start plot log_h_flux_44428696\n"
     ]
    },
    {
     "name": "stderr",
     "output_type": "stream",
     "text": [
      "/home/jliao/workspace/GitHub/ml_ringcurrent_ion/plot_functions.py:47: UserWarning: The figure layout has changed to tight\n",
      "  plt.tight_layout()\n"
     ]
    },
    {
     "name": "stdout",
     "output_type": "stream",
     "text": [
      "Index(['DateTime', 'h_flux_44428696', 'log_h_flux_44428696'], dtype='object')\n",
      "output_rel05/fulldata/df_hope_log_h_flux_38130120\n"
     ]
    },
    {
     "name": "stderr",
     "output_type": "stream",
     "text": [
      "/home/jliao/workspace/GitHub/ml_ringcurrent_ion/prepare_fulldata.py:109: SettingWithCopyWarning: \n",
      "A value is trying to be set on a copy of a slice from a DataFrame.\n",
      "Try using .loc[row_indexer,col_indexer] = value instead\n",
      "\n",
      "See the caveats in the documentation: https://pandas.pydata.org/pandas-docs/stable/user_guide/indexing.html#returning-a-view-versus-a-copy\n",
      "  df_y[log_y_name] = np.log10(df_y[y_name])+6 #### Add a factor of 6 here to ensure all data are positive\n"
     ]
    },
    {
     "name": "stdout",
     "output_type": "stream",
     "text": [
      "start plot h_flux_38130120\n",
      "start plot log_h_flux_38130120\n"
     ]
    },
    {
     "name": "stderr",
     "output_type": "stream",
     "text": [
      "/home/jliao/workspace/GitHub/ml_ringcurrent_ion/plot_functions.py:47: UserWarning: The figure layout has changed to tight\n",
      "  plt.tight_layout()\n"
     ]
    },
    {
     "name": "stdout",
     "output_type": "stream",
     "text": [
      "Index(['DateTime', 'h_flux_38130120', 'log_h_flux_38130120'], dtype='object')\n",
      "output_rel05/fulldata/df_hope_log_h_flux_32724498\n"
     ]
    },
    {
     "name": "stderr",
     "output_type": "stream",
     "text": [
      "/home/jliao/workspace/GitHub/ml_ringcurrent_ion/prepare_fulldata.py:109: SettingWithCopyWarning: \n",
      "A value is trying to be set on a copy of a slice from a DataFrame.\n",
      "Try using .loc[row_indexer,col_indexer] = value instead\n",
      "\n",
      "See the caveats in the documentation: https://pandas.pydata.org/pandas-docs/stable/user_guide/indexing.html#returning-a-view-versus-a-copy\n",
      "  df_y[log_y_name] = np.log10(df_y[y_name])+6 #### Add a factor of 6 here to ensure all data are positive\n"
     ]
    },
    {
     "name": "stdout",
     "output_type": "stream",
     "text": [
      "start plot h_flux_32724498\n",
      "start plot log_h_flux_32724498\n"
     ]
    },
    {
     "name": "stderr",
     "output_type": "stream",
     "text": [
      "/home/jliao/workspace/GitHub/ml_ringcurrent_ion/plot_functions.py:47: UserWarning: The figure layout has changed to tight\n",
      "  plt.tight_layout()\n"
     ]
    },
    {
     "name": "stdout",
     "output_type": "stream",
     "text": [
      "Index(['DateTime', 'h_flux_32724498', 'log_h_flux_32724498'], dtype='object')\n",
      "output_rel05/fulldata/df_hope_log_h_flux_28085268\n"
     ]
    },
    {
     "name": "stderr",
     "output_type": "stream",
     "text": [
      "/home/jliao/workspace/GitHub/ml_ringcurrent_ion/prepare_fulldata.py:109: SettingWithCopyWarning: \n",
      "A value is trying to be set on a copy of a slice from a DataFrame.\n",
      "Try using .loc[row_indexer,col_indexer] = value instead\n",
      "\n",
      "See the caveats in the documentation: https://pandas.pydata.org/pandas-docs/stable/user_guide/indexing.html#returning-a-view-versus-a-copy\n",
      "  df_y[log_y_name] = np.log10(df_y[y_name])+6 #### Add a factor of 6 here to ensure all data are positive\n"
     ]
    },
    {
     "name": "stdout",
     "output_type": "stream",
     "text": [
      "start plot h_flux_28085268\n",
      "start plot log_h_flux_28085268\n"
     ]
    },
    {
     "name": "stderr",
     "output_type": "stream",
     "text": [
      "/home/jliao/workspace/GitHub/ml_ringcurrent_ion/plot_functions.py:47: UserWarning: The figure layout has changed to tight\n",
      "  plt.tight_layout()\n"
     ]
    },
    {
     "name": "stdout",
     "output_type": "stream",
     "text": [
      "Index(['DateTime', 'h_flux_28085268', 'log_h_flux_28085268'], dtype='object')\n",
      "output_rel05/fulldata/df_hope_log_h_flux_24103668\n"
     ]
    },
    {
     "name": "stderr",
     "output_type": "stream",
     "text": [
      "/home/jliao/workspace/GitHub/ml_ringcurrent_ion/prepare_fulldata.py:109: SettingWithCopyWarning: \n",
      "A value is trying to be set on a copy of a slice from a DataFrame.\n",
      "Try using .loc[row_indexer,col_indexer] = value instead\n",
      "\n",
      "See the caveats in the documentation: https://pandas.pydata.org/pandas-docs/stable/user_guide/indexing.html#returning-a-view-versus-a-copy\n",
      "  df_y[log_y_name] = np.log10(df_y[y_name])+6 #### Add a factor of 6 here to ensure all data are positive\n"
     ]
    },
    {
     "name": "stdout",
     "output_type": "stream",
     "text": [
      "start plot h_flux_24103668\n",
      "start plot log_h_flux_24103668\n"
     ]
    },
    {
     "name": "stderr",
     "output_type": "stream",
     "text": [
      "/home/jliao/workspace/GitHub/ml_ringcurrent_ion/plot_functions.py:47: UserWarning: The figure layout has changed to tight\n",
      "  plt.tight_layout()\n"
     ]
    },
    {
     "name": "stdout",
     "output_type": "stream",
     "text": [
      "Index(['DateTime', 'h_flux_24103668', 'log_h_flux_24103668'], dtype='object')\n",
      "output_rel05/fulldata/df_hope_log_h_flux_20686558\n"
     ]
    },
    {
     "name": "stderr",
     "output_type": "stream",
     "text": [
      "/home/jliao/workspace/GitHub/ml_ringcurrent_ion/prepare_fulldata.py:109: SettingWithCopyWarning: \n",
      "A value is trying to be set on a copy of a slice from a DataFrame.\n",
      "Try using .loc[row_indexer,col_indexer] = value instead\n",
      "\n",
      "See the caveats in the documentation: https://pandas.pydata.org/pandas-docs/stable/user_guide/indexing.html#returning-a-view-versus-a-copy\n",
      "  df_y[log_y_name] = np.log10(df_y[y_name])+6 #### Add a factor of 6 here to ensure all data are positive\n"
     ]
    },
    {
     "name": "stdout",
     "output_type": "stream",
     "text": [
      "start plot h_flux_20686558\n",
      "start plot log_h_flux_20686558\n"
     ]
    },
    {
     "name": "stderr",
     "output_type": "stream",
     "text": [
      "/home/jliao/workspace/GitHub/ml_ringcurrent_ion/plot_functions.py:47: UserWarning: The figure layout has changed to tight\n",
      "  plt.tight_layout()\n"
     ]
    },
    {
     "name": "stdout",
     "output_type": "stream",
     "text": [
      "Index(['DateTime', 'h_flux_20686558', 'log_h_flux_20686558'], dtype='object')\n",
      "output_rel05/fulldata/df_hope_log_h_flux_17753876\n"
     ]
    },
    {
     "name": "stderr",
     "output_type": "stream",
     "text": [
      "/home/jliao/workspace/GitHub/ml_ringcurrent_ion/prepare_fulldata.py:109: SettingWithCopyWarning: \n",
      "A value is trying to be set on a copy of a slice from a DataFrame.\n",
      "Try using .loc[row_indexer,col_indexer] = value instead\n",
      "\n",
      "See the caveats in the documentation: https://pandas.pydata.org/pandas-docs/stable/user_guide/indexing.html#returning-a-view-versus-a-copy\n",
      "  df_y[log_y_name] = np.log10(df_y[y_name])+6 #### Add a factor of 6 here to ensure all data are positive\n"
     ]
    },
    {
     "name": "stdout",
     "output_type": "stream",
     "text": [
      "start plot h_flux_17753876\n",
      "start plot log_h_flux_17753876\n"
     ]
    },
    {
     "name": "stderr",
     "output_type": "stream",
     "text": [
      "/home/jliao/workspace/GitHub/ml_ringcurrent_ion/plot_functions.py:47: UserWarning: The figure layout has changed to tight\n",
      "  plt.tight_layout()\n"
     ]
    },
    {
     "name": "stdout",
     "output_type": "stream",
     "text": [
      "Index(['DateTime', 'h_flux_17753876', 'log_h_flux_17753876'], dtype='object')\n",
      "output_rel05/fulldata/df_hope_log_h_flux_15236896\n"
     ]
    },
    {
     "name": "stderr",
     "output_type": "stream",
     "text": [
      "/home/jliao/workspace/GitHub/ml_ringcurrent_ion/prepare_fulldata.py:109: SettingWithCopyWarning: \n",
      "A value is trying to be set on a copy of a slice from a DataFrame.\n",
      "Try using .loc[row_indexer,col_indexer] = value instead\n",
      "\n",
      "See the caveats in the documentation: https://pandas.pydata.org/pandas-docs/stable/user_guide/indexing.html#returning-a-view-versus-a-copy\n",
      "  df_y[log_y_name] = np.log10(df_y[y_name])+6 #### Add a factor of 6 here to ensure all data are positive\n"
     ]
    },
    {
     "name": "stdout",
     "output_type": "stream",
     "text": [
      "start plot h_flux_15236896\n",
      "start plot log_h_flux_15236896\n"
     ]
    },
    {
     "name": "stderr",
     "output_type": "stream",
     "text": [
      "/home/jliao/workspace/GitHub/ml_ringcurrent_ion/plot_functions.py:47: UserWarning: The figure layout has changed to tight\n",
      "  plt.tight_layout()\n"
     ]
    },
    {
     "name": "stdout",
     "output_type": "stream",
     "text": [
      "Index(['DateTime', 'h_flux_15236896', 'log_h_flux_15236896'], dtype='object')\n",
      "output_rel05/fulldata/df_hope_log_h_flux_13076798\n"
     ]
    },
    {
     "name": "stderr",
     "output_type": "stream",
     "text": [
      "/home/jliao/workspace/GitHub/ml_ringcurrent_ion/prepare_fulldata.py:109: SettingWithCopyWarning: \n",
      "A value is trying to be set on a copy of a slice from a DataFrame.\n",
      "Try using .loc[row_indexer,col_indexer] = value instead\n",
      "\n",
      "See the caveats in the documentation: https://pandas.pydata.org/pandas-docs/stable/user_guide/indexing.html#returning-a-view-versus-a-copy\n",
      "  df_y[log_y_name] = np.log10(df_y[y_name])+6 #### Add a factor of 6 here to ensure all data are positive\n"
     ]
    },
    {
     "name": "stdout",
     "output_type": "stream",
     "text": [
      "start plot h_flux_13076798\n",
      "start plot log_h_flux_13076798\n"
     ]
    },
    {
     "name": "stderr",
     "output_type": "stream",
     "text": [
      "/home/jliao/workspace/GitHub/ml_ringcurrent_ion/plot_functions.py:47: UserWarning: The figure layout has changed to tight\n",
      "  plt.tight_layout()\n"
     ]
    },
    {
     "name": "stdout",
     "output_type": "stream",
     "text": [
      "Index(['DateTime', 'h_flux_13076798', 'log_h_flux_13076798'], dtype='object')\n",
      "output_rel05/fulldata/df_hope_log_h_flux_11222936\n"
     ]
    },
    {
     "name": "stderr",
     "output_type": "stream",
     "text": [
      "/home/jliao/workspace/GitHub/ml_ringcurrent_ion/prepare_fulldata.py:109: SettingWithCopyWarning: \n",
      "A value is trying to be set on a copy of a slice from a DataFrame.\n",
      "Try using .loc[row_indexer,col_indexer] = value instead\n",
      "\n",
      "See the caveats in the documentation: https://pandas.pydata.org/pandas-docs/stable/user_guide/indexing.html#returning-a-view-versus-a-copy\n",
      "  df_y[log_y_name] = np.log10(df_y[y_name])+6 #### Add a factor of 6 here to ensure all data are positive\n"
     ]
    },
    {
     "name": "stdout",
     "output_type": "stream",
     "text": [
      "start plot h_flux_11222936\n",
      "start plot log_h_flux_11222936\n"
     ]
    },
    {
     "name": "stderr",
     "output_type": "stream",
     "text": [
      "/home/jliao/workspace/GitHub/ml_ringcurrent_ion/plot_functions.py:47: UserWarning: The figure layout has changed to tight\n",
      "  plt.tight_layout()\n"
     ]
    },
    {
     "name": "stdout",
     "output_type": "stream",
     "text": [
      "Index(['DateTime', 'h_flux_11222936', 'log_h_flux_11222936'], dtype='object')\n",
      "output_rel05/fulldata/df_hope_log_h_flux_9631899\n"
     ]
    },
    {
     "name": "stderr",
     "output_type": "stream",
     "text": [
      "/home/jliao/workspace/GitHub/ml_ringcurrent_ion/prepare_fulldata.py:109: SettingWithCopyWarning: \n",
      "A value is trying to be set on a copy of a slice from a DataFrame.\n",
      "Try using .loc[row_indexer,col_indexer] = value instead\n",
      "\n",
      "See the caveats in the documentation: https://pandas.pydata.org/pandas-docs/stable/user_guide/indexing.html#returning-a-view-versus-a-copy\n",
      "  df_y[log_y_name] = np.log10(df_y[y_name])+6 #### Add a factor of 6 here to ensure all data are positive\n"
     ]
    },
    {
     "name": "stdout",
     "output_type": "stream",
     "text": [
      "start plot h_flux_9631899\n",
      "start plot log_h_flux_9631899\n"
     ]
    },
    {
     "name": "stderr",
     "output_type": "stream",
     "text": [
      "/home/jliao/workspace/GitHub/ml_ringcurrent_ion/plot_functions.py:47: UserWarning: The figure layout has changed to tight\n",
      "  plt.tight_layout()\n"
     ]
    },
    {
     "name": "stdout",
     "output_type": "stream",
     "text": [
      "Index(['DateTime', 'h_flux_9631899', 'log_h_flux_9631899'], dtype='object')\n",
      "output_rel05/fulldata/df_hope_log_h_flux_8266406\n"
     ]
    },
    {
     "name": "stderr",
     "output_type": "stream",
     "text": [
      "/home/jliao/workspace/GitHub/ml_ringcurrent_ion/prepare_fulldata.py:109: SettingWithCopyWarning: \n",
      "A value is trying to be set on a copy of a slice from a DataFrame.\n",
      "Try using .loc[row_indexer,col_indexer] = value instead\n",
      "\n",
      "See the caveats in the documentation: https://pandas.pydata.org/pandas-docs/stable/user_guide/indexing.html#returning-a-view-versus-a-copy\n",
      "  df_y[log_y_name] = np.log10(df_y[y_name])+6 #### Add a factor of 6 here to ensure all data are positive\n"
     ]
    },
    {
     "name": "stdout",
     "output_type": "stream",
     "text": [
      "start plot h_flux_8266406\n",
      "start plot log_h_flux_8266406\n"
     ]
    },
    {
     "name": "stderr",
     "output_type": "stream",
     "text": [
      "/home/jliao/workspace/GitHub/ml_ringcurrent_ion/plot_functions.py:47: UserWarning: The figure layout has changed to tight\n",
      "  plt.tight_layout()\n"
     ]
    },
    {
     "name": "stdout",
     "output_type": "stream",
     "text": [
      "Index(['DateTime', 'h_flux_8266406', 'log_h_flux_8266406'], dtype='object')\n",
      "output_rel05/fulldata/df_hope_log_h_flux_7094516\n"
     ]
    },
    {
     "name": "stderr",
     "output_type": "stream",
     "text": [
      "/home/jliao/workspace/GitHub/ml_ringcurrent_ion/prepare_fulldata.py:109: SettingWithCopyWarning: \n",
      "A value is trying to be set on a copy of a slice from a DataFrame.\n",
      "Try using .loc[row_indexer,col_indexer] = value instead\n",
      "\n",
      "See the caveats in the documentation: https://pandas.pydata.org/pandas-docs/stable/user_guide/indexing.html#returning-a-view-versus-a-copy\n",
      "  df_y[log_y_name] = np.log10(df_y[y_name])+6 #### Add a factor of 6 here to ensure all data are positive\n"
     ]
    },
    {
     "name": "stdout",
     "output_type": "stream",
     "text": [
      "start plot h_flux_7094516\n",
      "start plot log_h_flux_7094516\n"
     ]
    },
    {
     "name": "stderr",
     "output_type": "stream",
     "text": [
      "/home/jliao/workspace/GitHub/ml_ringcurrent_ion/plot_functions.py:47: UserWarning: The figure layout has changed to tight\n",
      "  plt.tight_layout()\n"
     ]
    },
    {
     "name": "stdout",
     "output_type": "stream",
     "text": [
      "Index(['DateTime', 'h_flux_7094516', 'log_h_flux_7094516'], dtype='object')\n",
      "output_rel05/fulldata/df_hope_log_h_flux_6088722\n"
     ]
    },
    {
     "name": "stderr",
     "output_type": "stream",
     "text": [
      "/home/jliao/workspace/GitHub/ml_ringcurrent_ion/prepare_fulldata.py:109: SettingWithCopyWarning: \n",
      "A value is trying to be set on a copy of a slice from a DataFrame.\n",
      "Try using .loc[row_indexer,col_indexer] = value instead\n",
      "\n",
      "See the caveats in the documentation: https://pandas.pydata.org/pandas-docs/stable/user_guide/indexing.html#returning-a-view-versus-a-copy\n",
      "  df_y[log_y_name] = np.log10(df_y[y_name])+6 #### Add a factor of 6 here to ensure all data are positive\n"
     ]
    },
    {
     "name": "stdout",
     "output_type": "stream",
     "text": [
      "start plot h_flux_6088722\n",
      "start plot log_h_flux_6088722\n"
     ]
    },
    {
     "name": "stderr",
     "output_type": "stream",
     "text": [
      "/home/jliao/workspace/GitHub/ml_ringcurrent_ion/plot_functions.py:47: UserWarning: The figure layout has changed to tight\n",
      "  plt.tight_layout()\n"
     ]
    },
    {
     "name": "stdout",
     "output_type": "stream",
     "text": [
      "Index(['DateTime', 'h_flux_6088722', 'log_h_flux_6088722'], dtype='object')\n",
      "output_rel05/fulldata/df_hope_log_h_flux_5225528\n"
     ]
    },
    {
     "name": "stderr",
     "output_type": "stream",
     "text": [
      "/home/jliao/workspace/GitHub/ml_ringcurrent_ion/prepare_fulldata.py:109: SettingWithCopyWarning: \n",
      "A value is trying to be set on a copy of a slice from a DataFrame.\n",
      "Try using .loc[row_indexer,col_indexer] = value instead\n",
      "\n",
      "See the caveats in the documentation: https://pandas.pydata.org/pandas-docs/stable/user_guide/indexing.html#returning-a-view-versus-a-copy\n",
      "  df_y[log_y_name] = np.log10(df_y[y_name])+6 #### Add a factor of 6 here to ensure all data are positive\n"
     ]
    },
    {
     "name": "stdout",
     "output_type": "stream",
     "text": [
      "start plot h_flux_5225528\n",
      "start plot log_h_flux_5225528\n"
     ]
    },
    {
     "name": "stderr",
     "output_type": "stream",
     "text": [
      "/home/jliao/workspace/GitHub/ml_ringcurrent_ion/plot_functions.py:47: UserWarning: The figure layout has changed to tight\n",
      "  plt.tight_layout()\n"
     ]
    },
    {
     "name": "stdout",
     "output_type": "stream",
     "text": [
      "Index(['DateTime', 'h_flux_5225528', 'log_h_flux_5225528'], dtype='object')\n",
      "output_rel05/fulldata/df_hope_log_h_flux_4484742\n"
     ]
    },
    {
     "name": "stderr",
     "output_type": "stream",
     "text": [
      "/home/jliao/workspace/GitHub/ml_ringcurrent_ion/prepare_fulldata.py:109: SettingWithCopyWarning: \n",
      "A value is trying to be set on a copy of a slice from a DataFrame.\n",
      "Try using .loc[row_indexer,col_indexer] = value instead\n",
      "\n",
      "See the caveats in the documentation: https://pandas.pydata.org/pandas-docs/stable/user_guide/indexing.html#returning-a-view-versus-a-copy\n",
      "  df_y[log_y_name] = np.log10(df_y[y_name])+6 #### Add a factor of 6 here to ensure all data are positive\n"
     ]
    },
    {
     "name": "stdout",
     "output_type": "stream",
     "text": [
      "start plot h_flux_4484742\n",
      "start plot log_h_flux_4484742\n"
     ]
    },
    {
     "name": "stderr",
     "output_type": "stream",
     "text": [
      "/home/jliao/workspace/GitHub/ml_ringcurrent_ion/plot_functions.py:47: UserWarning: The figure layout has changed to tight\n",
      "  plt.tight_layout()\n"
     ]
    },
    {
     "name": "stdout",
     "output_type": "stream",
     "text": [
      "Index(['DateTime', 'h_flux_4484742', 'log_h_flux_4484742'], dtype='object')\n",
      "output_rel05/fulldata/df_hope_log_h_flux_3848919\n"
     ]
    },
    {
     "name": "stderr",
     "output_type": "stream",
     "text": [
      "/home/jliao/workspace/GitHub/ml_ringcurrent_ion/prepare_fulldata.py:109: SettingWithCopyWarning: \n",
      "A value is trying to be set on a copy of a slice from a DataFrame.\n",
      "Try using .loc[row_indexer,col_indexer] = value instead\n",
      "\n",
      "See the caveats in the documentation: https://pandas.pydata.org/pandas-docs/stable/user_guide/indexing.html#returning-a-view-versus-a-copy\n",
      "  df_y[log_y_name] = np.log10(df_y[y_name])+6 #### Add a factor of 6 here to ensure all data are positive\n"
     ]
    },
    {
     "name": "stdout",
     "output_type": "stream",
     "text": [
      "start plot h_flux_3848919\n",
      "start plot log_h_flux_3848919\n"
     ]
    },
    {
     "name": "stderr",
     "output_type": "stream",
     "text": [
      "/home/jliao/workspace/GitHub/ml_ringcurrent_ion/plot_functions.py:47: UserWarning: The figure layout has changed to tight\n",
      "  plt.tight_layout()\n"
     ]
    },
    {
     "name": "stdout",
     "output_type": "stream",
     "text": [
      "Index(['DateTime', 'h_flux_3848919', 'log_h_flux_3848919'], dtype='object')\n",
      "output_rel05/fulldata/df_hope_log_h_flux_3303284\n"
     ]
    },
    {
     "name": "stderr",
     "output_type": "stream",
     "text": [
      "/home/jliao/workspace/GitHub/ml_ringcurrent_ion/prepare_fulldata.py:109: SettingWithCopyWarning: \n",
      "A value is trying to be set on a copy of a slice from a DataFrame.\n",
      "Try using .loc[row_indexer,col_indexer] = value instead\n",
      "\n",
      "See the caveats in the documentation: https://pandas.pydata.org/pandas-docs/stable/user_guide/indexing.html#returning-a-view-versus-a-copy\n",
      "  df_y[log_y_name] = np.log10(df_y[y_name])+6 #### Add a factor of 6 here to ensure all data are positive\n",
      "/home/jliao/workspace/GitHub/ml_ringcurrent_ion/plot_functions.py:35: RuntimeWarning: More than 20 figures have been opened. Figures created through the pyplot interface (`matplotlib.pyplot.figure`) are retained until explicitly closed and may consume too much memory. (To control this warning, see the rcParam `figure.max_open_warning`). Consider using `matplotlib.pyplot.close()`.\n",
      "  fig1, ax1 = plt.subplots(nvar,1, constrained_layout = True)\n",
      "/home/jliao/workspace/GitHub/ml_ringcurrent_ion/plot_functions.py:47: UserWarning: The figure layout has changed to tight\n",
      "  plt.tight_layout()\n"
     ]
    },
    {
     "name": "stdout",
     "output_type": "stream",
     "text": [
      "start plot h_flux_3303284\n",
      "start plot log_h_flux_3303284\n",
      "Index(['DateTime', 'h_flux_3303284', 'log_h_flux_3303284'], dtype='object')\n",
      "output_rel05/fulldata/df_hope_log_h_flux_2834964\n"
     ]
    },
    {
     "name": "stderr",
     "output_type": "stream",
     "text": [
      "/home/jliao/workspace/GitHub/ml_ringcurrent_ion/prepare_fulldata.py:109: SettingWithCopyWarning: \n",
      "A value is trying to be set on a copy of a slice from a DataFrame.\n",
      "Try using .loc[row_indexer,col_indexer] = value instead\n",
      "\n",
      "See the caveats in the documentation: https://pandas.pydata.org/pandas-docs/stable/user_guide/indexing.html#returning-a-view-versus-a-copy\n",
      "  df_y[log_y_name] = np.log10(df_y[y_name])+6 #### Add a factor of 6 here to ensure all data are positive\n"
     ]
    },
    {
     "name": "stdout",
     "output_type": "stream",
     "text": [
      "start plot h_flux_2834964\n",
      "start plot log_h_flux_2834964\n"
     ]
    },
    {
     "name": "stderr",
     "output_type": "stream",
     "text": [
      "/home/jliao/workspace/GitHub/ml_ringcurrent_ion/plot_functions.py:47: UserWarning: The figure layout has changed to tight\n",
      "  plt.tight_layout()\n"
     ]
    },
    {
     "name": "stdout",
     "output_type": "stream",
     "text": [
      "Index(['DateTime', 'h_flux_2834964', 'log_h_flux_2834964'], dtype='object')\n",
      "output_rel05/fulldata/df_hope_log_h_flux_2433055\n"
     ]
    },
    {
     "name": "stderr",
     "output_type": "stream",
     "text": [
      "/home/jliao/workspace/GitHub/ml_ringcurrent_ion/prepare_fulldata.py:109: SettingWithCopyWarning: \n",
      "A value is trying to be set on a copy of a slice from a DataFrame.\n",
      "Try using .loc[row_indexer,col_indexer] = value instead\n",
      "\n",
      "See the caveats in the documentation: https://pandas.pydata.org/pandas-docs/stable/user_guide/indexing.html#returning-a-view-versus-a-copy\n",
      "  df_y[log_y_name] = np.log10(df_y[y_name])+6 #### Add a factor of 6 here to ensure all data are positive\n"
     ]
    },
    {
     "name": "stdout",
     "output_type": "stream",
     "text": [
      "start plot h_flux_2433055\n",
      "start plot log_h_flux_2433055\n"
     ]
    },
    {
     "name": "stderr",
     "output_type": "stream",
     "text": [
      "/home/jliao/workspace/GitHub/ml_ringcurrent_ion/plot_functions.py:47: UserWarning: The figure layout has changed to tight\n",
      "  plt.tight_layout()\n"
     ]
    },
    {
     "name": "stdout",
     "output_type": "stream",
     "text": [
      "Index(['DateTime', 'h_flux_2433055', 'log_h_flux_2433055'], dtype='object')\n",
      "output_rel05/fulldata/df_hope_log_h_flux_2088129\n"
     ]
    },
    {
     "name": "stderr",
     "output_type": "stream",
     "text": [
      "/home/jliao/workspace/GitHub/ml_ringcurrent_ion/prepare_fulldata.py:109: SettingWithCopyWarning: \n",
      "A value is trying to be set on a copy of a slice from a DataFrame.\n",
      "Try using .loc[row_indexer,col_indexer] = value instead\n",
      "\n",
      "See the caveats in the documentation: https://pandas.pydata.org/pandas-docs/stable/user_guide/indexing.html#returning-a-view-versus-a-copy\n",
      "  df_y[log_y_name] = np.log10(df_y[y_name])+6 #### Add a factor of 6 here to ensure all data are positive\n"
     ]
    },
    {
     "name": "stdout",
     "output_type": "stream",
     "text": [
      "start plot h_flux_2088129\n",
      "start plot log_h_flux_2088129\n"
     ]
    },
    {
     "name": "stderr",
     "output_type": "stream",
     "text": [
      "/home/jliao/workspace/GitHub/ml_ringcurrent_ion/plot_functions.py:47: UserWarning: The figure layout has changed to tight\n",
      "  plt.tight_layout()\n"
     ]
    },
    {
     "name": "stdout",
     "output_type": "stream",
     "text": [
      "Index(['DateTime', 'h_flux_2088129', 'log_h_flux_2088129'], dtype='object')\n",
      "output_rel05/fulldata/df_hope_log_h_flux_1792096\n"
     ]
    },
    {
     "name": "stderr",
     "output_type": "stream",
     "text": [
      "/home/jliao/workspace/GitHub/ml_ringcurrent_ion/prepare_fulldata.py:109: SettingWithCopyWarning: \n",
      "A value is trying to be set on a copy of a slice from a DataFrame.\n",
      "Try using .loc[row_indexer,col_indexer] = value instead\n",
      "\n",
      "See the caveats in the documentation: https://pandas.pydata.org/pandas-docs/stable/user_guide/indexing.html#returning-a-view-versus-a-copy\n",
      "  df_y[log_y_name] = np.log10(df_y[y_name])+6 #### Add a factor of 6 here to ensure all data are positive\n"
     ]
    },
    {
     "name": "stdout",
     "output_type": "stream",
     "text": [
      "start plot h_flux_1792096\n",
      "start plot log_h_flux_1792096\n"
     ]
    },
    {
     "name": "stderr",
     "output_type": "stream",
     "text": [
      "/home/jliao/workspace/GitHub/ml_ringcurrent_ion/plot_functions.py:47: UserWarning: The figure layout has changed to tight\n",
      "  plt.tight_layout()\n"
     ]
    },
    {
     "name": "stdout",
     "output_type": "stream",
     "text": [
      "Index(['DateTime', 'h_flux_1792096', 'log_h_flux_1792096'], dtype='object')\n",
      "output_rel05/fulldata/df_hope_log_h_flux_1538062\n"
     ]
    },
    {
     "name": "stderr",
     "output_type": "stream",
     "text": [
      "/home/jliao/workspace/GitHub/ml_ringcurrent_ion/prepare_fulldata.py:109: SettingWithCopyWarning: \n",
      "A value is trying to be set on a copy of a slice from a DataFrame.\n",
      "Try using .loc[row_indexer,col_indexer] = value instead\n",
      "\n",
      "See the caveats in the documentation: https://pandas.pydata.org/pandas-docs/stable/user_guide/indexing.html#returning-a-view-versus-a-copy\n",
      "  df_y[log_y_name] = np.log10(df_y[y_name])+6 #### Add a factor of 6 here to ensure all data are positive\n"
     ]
    },
    {
     "name": "stdout",
     "output_type": "stream",
     "text": [
      "start plot h_flux_1538062\n",
      "start plot log_h_flux_1538062\n"
     ]
    },
    {
     "name": "stderr",
     "output_type": "stream",
     "text": [
      "/home/jliao/workspace/GitHub/ml_ringcurrent_ion/plot_functions.py:47: UserWarning: The figure layout has changed to tight\n",
      "  plt.tight_layout()\n"
     ]
    },
    {
     "name": "stdout",
     "output_type": "stream",
     "text": [
      "Index(['DateTime', 'h_flux_1538062', 'log_h_flux_1538062'], dtype='object')\n",
      "output_rel05/fulldata/df_hope_log_h_flux_1319977\n"
     ]
    },
    {
     "name": "stderr",
     "output_type": "stream",
     "text": [
      "/home/jliao/workspace/GitHub/ml_ringcurrent_ion/prepare_fulldata.py:109: SettingWithCopyWarning: \n",
      "A value is trying to be set on a copy of a slice from a DataFrame.\n",
      "Try using .loc[row_indexer,col_indexer] = value instead\n",
      "\n",
      "See the caveats in the documentation: https://pandas.pydata.org/pandas-docs/stable/user_guide/indexing.html#returning-a-view-versus-a-copy\n",
      "  df_y[log_y_name] = np.log10(df_y[y_name])+6 #### Add a factor of 6 here to ensure all data are positive\n"
     ]
    },
    {
     "name": "stdout",
     "output_type": "stream",
     "text": [
      "start plot h_flux_1319977\n",
      "start plot log_h_flux_1319977\n"
     ]
    },
    {
     "name": "stderr",
     "output_type": "stream",
     "text": [
      "/home/jliao/workspace/GitHub/ml_ringcurrent_ion/plot_functions.py:47: UserWarning: The figure layout has changed to tight\n",
      "  plt.tight_layout()\n"
     ]
    },
    {
     "name": "stdout",
     "output_type": "stream",
     "text": [
      "Index(['DateTime', 'h_flux_1319977', 'log_h_flux_1319977'], dtype='object')\n",
      "output_rel05/fulldata/df_hope_log_h_flux_1132846\n"
     ]
    },
    {
     "name": "stderr",
     "output_type": "stream",
     "text": [
      "/home/jliao/workspace/GitHub/ml_ringcurrent_ion/prepare_fulldata.py:109: SettingWithCopyWarning: \n",
      "A value is trying to be set on a copy of a slice from a DataFrame.\n",
      "Try using .loc[row_indexer,col_indexer] = value instead\n",
      "\n",
      "See the caveats in the documentation: https://pandas.pydata.org/pandas-docs/stable/user_guide/indexing.html#returning-a-view-versus-a-copy\n",
      "  df_y[log_y_name] = np.log10(df_y[y_name])+6 #### Add a factor of 6 here to ensure all data are positive\n"
     ]
    },
    {
     "name": "stdout",
     "output_type": "stream",
     "text": [
      "start plot h_flux_1132846\n",
      "start plot log_h_flux_1132846\n"
     ]
    },
    {
     "name": "stderr",
     "output_type": "stream",
     "text": [
      "/home/jliao/workspace/GitHub/ml_ringcurrent_ion/plot_functions.py:47: UserWarning: The figure layout has changed to tight\n",
      "  plt.tight_layout()\n"
     ]
    },
    {
     "name": "stdout",
     "output_type": "stream",
     "text": [
      "Index(['DateTime', 'h_flux_1132846', 'log_h_flux_1132846'], dtype='object')\n",
      "output_rel05/fulldata/df_hope_log_h_flux_972237\n"
     ]
    },
    {
     "name": "stderr",
     "output_type": "stream",
     "text": [
      "/home/jliao/workspace/GitHub/ml_ringcurrent_ion/prepare_fulldata.py:109: SettingWithCopyWarning: \n",
      "A value is trying to be set on a copy of a slice from a DataFrame.\n",
      "Try using .loc[row_indexer,col_indexer] = value instead\n",
      "\n",
      "See the caveats in the documentation: https://pandas.pydata.org/pandas-docs/stable/user_guide/indexing.html#returning-a-view-versus-a-copy\n",
      "  df_y[log_y_name] = np.log10(df_y[y_name])+6 #### Add a factor of 6 here to ensure all data are positive\n"
     ]
    },
    {
     "name": "stdout",
     "output_type": "stream",
     "text": [
      "start plot h_flux_972237\n",
      "start plot log_h_flux_972237\n"
     ]
    },
    {
     "name": "stderr",
     "output_type": "stream",
     "text": [
      "/home/jliao/workspace/GitHub/ml_ringcurrent_ion/plot_functions.py:47: UserWarning: The figure layout has changed to tight\n",
      "  plt.tight_layout()\n"
     ]
    },
    {
     "name": "stdout",
     "output_type": "stream",
     "text": [
      "Index(['DateTime', 'h_flux_972237', 'log_h_flux_972237'], dtype='object')\n",
      "output_rel05/fulldata/df_hope_log_o_flux_51767680\n"
     ]
    },
    {
     "name": "stderr",
     "output_type": "stream",
     "text": [
      "/home/jliao/workspace/GitHub/ml_ringcurrent_ion/prepare_fulldata.py:109: SettingWithCopyWarning: \n",
      "A value is trying to be set on a copy of a slice from a DataFrame.\n",
      "Try using .loc[row_indexer,col_indexer] = value instead\n",
      "\n",
      "See the caveats in the documentation: https://pandas.pydata.org/pandas-docs/stable/user_guide/indexing.html#returning-a-view-versus-a-copy\n",
      "  df_y[log_y_name] = np.log10(df_y[y_name])+6 #### Add a factor of 6 here to ensure all data are positive\n"
     ]
    },
    {
     "name": "stdout",
     "output_type": "stream",
     "text": [
      "start plot o_flux_51767680\n",
      "start plot log_o_flux_51767680\n"
     ]
    },
    {
     "name": "stderr",
     "output_type": "stream",
     "text": [
      "/home/jliao/workspace/GitHub/ml_ringcurrent_ion/plot_functions.py:47: UserWarning: The figure layout has changed to tight\n",
      "  plt.tight_layout()\n"
     ]
    },
    {
     "name": "stdout",
     "output_type": "stream",
     "text": [
      "Index(['DateTime', 'o_flux_51767680', 'log_o_flux_51767680'], dtype='object')\n",
      "output_rel05/fulldata/df_hope_log_o_flux_44428696\n"
     ]
    },
    {
     "name": "stderr",
     "output_type": "stream",
     "text": [
      "/home/jliao/workspace/GitHub/ml_ringcurrent_ion/prepare_fulldata.py:109: SettingWithCopyWarning: \n",
      "A value is trying to be set on a copy of a slice from a DataFrame.\n",
      "Try using .loc[row_indexer,col_indexer] = value instead\n",
      "\n",
      "See the caveats in the documentation: https://pandas.pydata.org/pandas-docs/stable/user_guide/indexing.html#returning-a-view-versus-a-copy\n",
      "  df_y[log_y_name] = np.log10(df_y[y_name])+6 #### Add a factor of 6 here to ensure all data are positive\n"
     ]
    },
    {
     "name": "stdout",
     "output_type": "stream",
     "text": [
      "start plot o_flux_44428696\n",
      "start plot log_o_flux_44428696\n"
     ]
    },
    {
     "name": "stderr",
     "output_type": "stream",
     "text": [
      "/home/jliao/workspace/GitHub/ml_ringcurrent_ion/plot_functions.py:47: UserWarning: The figure layout has changed to tight\n",
      "  plt.tight_layout()\n"
     ]
    },
    {
     "name": "stdout",
     "output_type": "stream",
     "text": [
      "Index(['DateTime', 'o_flux_44428696', 'log_o_flux_44428696'], dtype='object')\n",
      "output_rel05/fulldata/df_hope_log_o_flux_38130120\n"
     ]
    },
    {
     "name": "stderr",
     "output_type": "stream",
     "text": [
      "/home/jliao/workspace/GitHub/ml_ringcurrent_ion/prepare_fulldata.py:109: SettingWithCopyWarning: \n",
      "A value is trying to be set on a copy of a slice from a DataFrame.\n",
      "Try using .loc[row_indexer,col_indexer] = value instead\n",
      "\n",
      "See the caveats in the documentation: https://pandas.pydata.org/pandas-docs/stable/user_guide/indexing.html#returning-a-view-versus-a-copy\n",
      "  df_y[log_y_name] = np.log10(df_y[y_name])+6 #### Add a factor of 6 here to ensure all data are positive\n"
     ]
    },
    {
     "name": "stdout",
     "output_type": "stream",
     "text": [
      "start plot o_flux_38130120\n",
      "start plot log_o_flux_38130120\n"
     ]
    },
    {
     "name": "stderr",
     "output_type": "stream",
     "text": [
      "/home/jliao/workspace/GitHub/ml_ringcurrent_ion/plot_functions.py:47: UserWarning: The figure layout has changed to tight\n",
      "  plt.tight_layout()\n"
     ]
    },
    {
     "name": "stdout",
     "output_type": "stream",
     "text": [
      "Index(['DateTime', 'o_flux_38130120', 'log_o_flux_38130120'], dtype='object')\n",
      "output_rel05/fulldata/df_hope_log_o_flux_32724498\n"
     ]
    },
    {
     "name": "stderr",
     "output_type": "stream",
     "text": [
      "/home/jliao/workspace/GitHub/ml_ringcurrent_ion/prepare_fulldata.py:109: SettingWithCopyWarning: \n",
      "A value is trying to be set on a copy of a slice from a DataFrame.\n",
      "Try using .loc[row_indexer,col_indexer] = value instead\n",
      "\n",
      "See the caveats in the documentation: https://pandas.pydata.org/pandas-docs/stable/user_guide/indexing.html#returning-a-view-versus-a-copy\n",
      "  df_y[log_y_name] = np.log10(df_y[y_name])+6 #### Add a factor of 6 here to ensure all data are positive\n"
     ]
    },
    {
     "name": "stdout",
     "output_type": "stream",
     "text": [
      "start plot o_flux_32724498\n",
      "start plot log_o_flux_32724498\n"
     ]
    },
    {
     "name": "stderr",
     "output_type": "stream",
     "text": [
      "/home/jliao/workspace/GitHub/ml_ringcurrent_ion/plot_functions.py:47: UserWarning: The figure layout has changed to tight\n",
      "  plt.tight_layout()\n"
     ]
    },
    {
     "name": "stdout",
     "output_type": "stream",
     "text": [
      "Index(['DateTime', 'o_flux_32724498', 'log_o_flux_32724498'], dtype='object')\n",
      "output_rel05/fulldata/df_hope_log_o_flux_28085268\n"
     ]
    },
    {
     "name": "stderr",
     "output_type": "stream",
     "text": [
      "/home/jliao/workspace/GitHub/ml_ringcurrent_ion/prepare_fulldata.py:109: SettingWithCopyWarning: \n",
      "A value is trying to be set on a copy of a slice from a DataFrame.\n",
      "Try using .loc[row_indexer,col_indexer] = value instead\n",
      "\n",
      "See the caveats in the documentation: https://pandas.pydata.org/pandas-docs/stable/user_guide/indexing.html#returning-a-view-versus-a-copy\n",
      "  df_y[log_y_name] = np.log10(df_y[y_name])+6 #### Add a factor of 6 here to ensure all data are positive\n"
     ]
    },
    {
     "name": "stdout",
     "output_type": "stream",
     "text": [
      "start plot o_flux_28085268\n",
      "start plot log_o_flux_28085268\n"
     ]
    },
    {
     "name": "stderr",
     "output_type": "stream",
     "text": [
      "/home/jliao/workspace/GitHub/ml_ringcurrent_ion/plot_functions.py:47: UserWarning: The figure layout has changed to tight\n",
      "  plt.tight_layout()\n"
     ]
    },
    {
     "name": "stdout",
     "output_type": "stream",
     "text": [
      "Index(['DateTime', 'o_flux_28085268', 'log_o_flux_28085268'], dtype='object')\n",
      "output_rel05/fulldata/df_hope_log_o_flux_24103668\n"
     ]
    },
    {
     "name": "stderr",
     "output_type": "stream",
     "text": [
      "/home/jliao/workspace/GitHub/ml_ringcurrent_ion/prepare_fulldata.py:109: SettingWithCopyWarning: \n",
      "A value is trying to be set on a copy of a slice from a DataFrame.\n",
      "Try using .loc[row_indexer,col_indexer] = value instead\n",
      "\n",
      "See the caveats in the documentation: https://pandas.pydata.org/pandas-docs/stable/user_guide/indexing.html#returning-a-view-versus-a-copy\n",
      "  df_y[log_y_name] = np.log10(df_y[y_name])+6 #### Add a factor of 6 here to ensure all data are positive\n"
     ]
    },
    {
     "name": "stdout",
     "output_type": "stream",
     "text": [
      "start plot o_flux_24103668\n",
      "start plot log_o_flux_24103668\n"
     ]
    },
    {
     "name": "stderr",
     "output_type": "stream",
     "text": [
      "/home/jliao/workspace/GitHub/ml_ringcurrent_ion/plot_functions.py:47: UserWarning: The figure layout has changed to tight\n",
      "  plt.tight_layout()\n"
     ]
    },
    {
     "name": "stdout",
     "output_type": "stream",
     "text": [
      "Index(['DateTime', 'o_flux_24103668', 'log_o_flux_24103668'], dtype='object')\n",
      "output_rel05/fulldata/df_hope_log_o_flux_20686558\n"
     ]
    },
    {
     "name": "stderr",
     "output_type": "stream",
     "text": [
      "/home/jliao/workspace/GitHub/ml_ringcurrent_ion/prepare_fulldata.py:109: SettingWithCopyWarning: \n",
      "A value is trying to be set on a copy of a slice from a DataFrame.\n",
      "Try using .loc[row_indexer,col_indexer] = value instead\n",
      "\n",
      "See the caveats in the documentation: https://pandas.pydata.org/pandas-docs/stable/user_guide/indexing.html#returning-a-view-versus-a-copy\n",
      "  df_y[log_y_name] = np.log10(df_y[y_name])+6 #### Add a factor of 6 here to ensure all data are positive\n"
     ]
    },
    {
     "name": "stdout",
     "output_type": "stream",
     "text": [
      "start plot o_flux_20686558\n",
      "start plot log_o_flux_20686558\n"
     ]
    },
    {
     "name": "stderr",
     "output_type": "stream",
     "text": [
      "/home/jliao/workspace/GitHub/ml_ringcurrent_ion/plot_functions.py:47: UserWarning: The figure layout has changed to tight\n",
      "  plt.tight_layout()\n"
     ]
    },
    {
     "name": "stdout",
     "output_type": "stream",
     "text": [
      "Index(['DateTime', 'o_flux_20686558', 'log_o_flux_20686558'], dtype='object')\n",
      "output_rel05/fulldata/df_hope_log_o_flux_17753876\n"
     ]
    },
    {
     "name": "stderr",
     "output_type": "stream",
     "text": [
      "/home/jliao/workspace/GitHub/ml_ringcurrent_ion/prepare_fulldata.py:109: SettingWithCopyWarning: \n",
      "A value is trying to be set on a copy of a slice from a DataFrame.\n",
      "Try using .loc[row_indexer,col_indexer] = value instead\n",
      "\n",
      "See the caveats in the documentation: https://pandas.pydata.org/pandas-docs/stable/user_guide/indexing.html#returning-a-view-versus-a-copy\n",
      "  df_y[log_y_name] = np.log10(df_y[y_name])+6 #### Add a factor of 6 here to ensure all data are positive\n"
     ]
    },
    {
     "name": "stdout",
     "output_type": "stream",
     "text": [
      "start plot o_flux_17753876\n",
      "start plot log_o_flux_17753876\n"
     ]
    },
    {
     "name": "stderr",
     "output_type": "stream",
     "text": [
      "/home/jliao/workspace/GitHub/ml_ringcurrent_ion/plot_functions.py:47: UserWarning: The figure layout has changed to tight\n",
      "  plt.tight_layout()\n"
     ]
    },
    {
     "name": "stdout",
     "output_type": "stream",
     "text": [
      "Index(['DateTime', 'o_flux_17753876', 'log_o_flux_17753876'], dtype='object')\n",
      "output_rel05/fulldata/df_hope_log_o_flux_15236896\n"
     ]
    },
    {
     "name": "stderr",
     "output_type": "stream",
     "text": [
      "/home/jliao/workspace/GitHub/ml_ringcurrent_ion/prepare_fulldata.py:109: SettingWithCopyWarning: \n",
      "A value is trying to be set on a copy of a slice from a DataFrame.\n",
      "Try using .loc[row_indexer,col_indexer] = value instead\n",
      "\n",
      "See the caveats in the documentation: https://pandas.pydata.org/pandas-docs/stable/user_guide/indexing.html#returning-a-view-versus-a-copy\n",
      "  df_y[log_y_name] = np.log10(df_y[y_name])+6 #### Add a factor of 6 here to ensure all data are positive\n"
     ]
    },
    {
     "name": "stdout",
     "output_type": "stream",
     "text": [
      "start plot o_flux_15236896\n",
      "start plot log_o_flux_15236896\n"
     ]
    },
    {
     "name": "stderr",
     "output_type": "stream",
     "text": [
      "/home/jliao/workspace/GitHub/ml_ringcurrent_ion/plot_functions.py:47: UserWarning: The figure layout has changed to tight\n",
      "  plt.tight_layout()\n"
     ]
    },
    {
     "name": "stdout",
     "output_type": "stream",
     "text": [
      "Index(['DateTime', 'o_flux_15236896', 'log_o_flux_15236896'], dtype='object')\n",
      "output_rel05/fulldata/df_hope_log_o_flux_13076798\n"
     ]
    },
    {
     "name": "stderr",
     "output_type": "stream",
     "text": [
      "/home/jliao/workspace/GitHub/ml_ringcurrent_ion/prepare_fulldata.py:109: SettingWithCopyWarning: \n",
      "A value is trying to be set on a copy of a slice from a DataFrame.\n",
      "Try using .loc[row_indexer,col_indexer] = value instead\n",
      "\n",
      "See the caveats in the documentation: https://pandas.pydata.org/pandas-docs/stable/user_guide/indexing.html#returning-a-view-versus-a-copy\n",
      "  df_y[log_y_name] = np.log10(df_y[y_name])+6 #### Add a factor of 6 here to ensure all data are positive\n"
     ]
    },
    {
     "name": "stdout",
     "output_type": "stream",
     "text": [
      "start plot o_flux_13076798\n",
      "start plot log_o_flux_13076798\n"
     ]
    },
    {
     "name": "stderr",
     "output_type": "stream",
     "text": [
      "/home/jliao/workspace/GitHub/ml_ringcurrent_ion/plot_functions.py:47: UserWarning: The figure layout has changed to tight\n",
      "  plt.tight_layout()\n"
     ]
    },
    {
     "name": "stdout",
     "output_type": "stream",
     "text": [
      "Index(['DateTime', 'o_flux_13076798', 'log_o_flux_13076798'], dtype='object')\n",
      "output_rel05/fulldata/df_hope_log_o_flux_11222936\n"
     ]
    },
    {
     "name": "stderr",
     "output_type": "stream",
     "text": [
      "/home/jliao/workspace/GitHub/ml_ringcurrent_ion/prepare_fulldata.py:109: SettingWithCopyWarning: \n",
      "A value is trying to be set on a copy of a slice from a DataFrame.\n",
      "Try using .loc[row_indexer,col_indexer] = value instead\n",
      "\n",
      "See the caveats in the documentation: https://pandas.pydata.org/pandas-docs/stable/user_guide/indexing.html#returning-a-view-versus-a-copy\n",
      "  df_y[log_y_name] = np.log10(df_y[y_name])+6 #### Add a factor of 6 here to ensure all data are positive\n"
     ]
    },
    {
     "name": "stdout",
     "output_type": "stream",
     "text": [
      "start plot o_flux_11222936\n",
      "start plot log_o_flux_11222936\n"
     ]
    },
    {
     "name": "stderr",
     "output_type": "stream",
     "text": [
      "/home/jliao/workspace/GitHub/ml_ringcurrent_ion/plot_functions.py:47: UserWarning: The figure layout has changed to tight\n",
      "  plt.tight_layout()\n"
     ]
    },
    {
     "name": "stdout",
     "output_type": "stream",
     "text": [
      "Index(['DateTime', 'o_flux_11222936', 'log_o_flux_11222936'], dtype='object')\n",
      "output_rel05/fulldata/df_hope_log_o_flux_9631899\n"
     ]
    },
    {
     "name": "stderr",
     "output_type": "stream",
     "text": [
      "/home/jliao/workspace/GitHub/ml_ringcurrent_ion/prepare_fulldata.py:109: SettingWithCopyWarning: \n",
      "A value is trying to be set on a copy of a slice from a DataFrame.\n",
      "Try using .loc[row_indexer,col_indexer] = value instead\n",
      "\n",
      "See the caveats in the documentation: https://pandas.pydata.org/pandas-docs/stable/user_guide/indexing.html#returning-a-view-versus-a-copy\n",
      "  df_y[log_y_name] = np.log10(df_y[y_name])+6 #### Add a factor of 6 here to ensure all data are positive\n"
     ]
    },
    {
     "name": "stdout",
     "output_type": "stream",
     "text": [
      "start plot o_flux_9631899\n",
      "start plot log_o_flux_9631899\n"
     ]
    },
    {
     "name": "stderr",
     "output_type": "stream",
     "text": [
      "/home/jliao/workspace/GitHub/ml_ringcurrent_ion/plot_functions.py:47: UserWarning: The figure layout has changed to tight\n",
      "  plt.tight_layout()\n"
     ]
    },
    {
     "name": "stdout",
     "output_type": "stream",
     "text": [
      "Index(['DateTime', 'o_flux_9631899', 'log_o_flux_9631899'], dtype='object')\n",
      "output_rel05/fulldata/df_hope_log_o_flux_8266406\n"
     ]
    },
    {
     "name": "stderr",
     "output_type": "stream",
     "text": [
      "/home/jliao/workspace/GitHub/ml_ringcurrent_ion/prepare_fulldata.py:109: SettingWithCopyWarning: \n",
      "A value is trying to be set on a copy of a slice from a DataFrame.\n",
      "Try using .loc[row_indexer,col_indexer] = value instead\n",
      "\n",
      "See the caveats in the documentation: https://pandas.pydata.org/pandas-docs/stable/user_guide/indexing.html#returning-a-view-versus-a-copy\n",
      "  df_y[log_y_name] = np.log10(df_y[y_name])+6 #### Add a factor of 6 here to ensure all data are positive\n"
     ]
    },
    {
     "name": "stdout",
     "output_type": "stream",
     "text": [
      "start plot o_flux_8266406\n",
      "start plot log_o_flux_8266406\n"
     ]
    },
    {
     "name": "stderr",
     "output_type": "stream",
     "text": [
      "/home/jliao/workspace/GitHub/ml_ringcurrent_ion/plot_functions.py:47: UserWarning: The figure layout has changed to tight\n",
      "  plt.tight_layout()\n"
     ]
    },
    {
     "name": "stdout",
     "output_type": "stream",
     "text": [
      "Index(['DateTime', 'o_flux_8266406', 'log_o_flux_8266406'], dtype='object')\n",
      "output_rel05/fulldata/df_hope_log_o_flux_7094516\n"
     ]
    },
    {
     "name": "stderr",
     "output_type": "stream",
     "text": [
      "/home/jliao/workspace/GitHub/ml_ringcurrent_ion/prepare_fulldata.py:109: SettingWithCopyWarning: \n",
      "A value is trying to be set on a copy of a slice from a DataFrame.\n",
      "Try using .loc[row_indexer,col_indexer] = value instead\n",
      "\n",
      "See the caveats in the documentation: https://pandas.pydata.org/pandas-docs/stable/user_guide/indexing.html#returning-a-view-versus-a-copy\n",
      "  df_y[log_y_name] = np.log10(df_y[y_name])+6 #### Add a factor of 6 here to ensure all data are positive\n"
     ]
    },
    {
     "name": "stdout",
     "output_type": "stream",
     "text": [
      "start plot o_flux_7094516\n",
      "start plot log_o_flux_7094516\n"
     ]
    },
    {
     "name": "stderr",
     "output_type": "stream",
     "text": [
      "/home/jliao/workspace/GitHub/ml_ringcurrent_ion/plot_functions.py:47: UserWarning: The figure layout has changed to tight\n",
      "  plt.tight_layout()\n"
     ]
    },
    {
     "name": "stdout",
     "output_type": "stream",
     "text": [
      "Index(['DateTime', 'o_flux_7094516', 'log_o_flux_7094516'], dtype='object')\n",
      "output_rel05/fulldata/df_hope_log_o_flux_6088722\n"
     ]
    },
    {
     "name": "stderr",
     "output_type": "stream",
     "text": [
      "/home/jliao/workspace/GitHub/ml_ringcurrent_ion/prepare_fulldata.py:109: SettingWithCopyWarning: \n",
      "A value is trying to be set on a copy of a slice from a DataFrame.\n",
      "Try using .loc[row_indexer,col_indexer] = value instead\n",
      "\n",
      "See the caveats in the documentation: https://pandas.pydata.org/pandas-docs/stable/user_guide/indexing.html#returning-a-view-versus-a-copy\n",
      "  df_y[log_y_name] = np.log10(df_y[y_name])+6 #### Add a factor of 6 here to ensure all data are positive\n"
     ]
    },
    {
     "name": "stdout",
     "output_type": "stream",
     "text": [
      "start plot o_flux_6088722\n",
      "start plot log_o_flux_6088722\n"
     ]
    },
    {
     "name": "stderr",
     "output_type": "stream",
     "text": [
      "/home/jliao/workspace/GitHub/ml_ringcurrent_ion/plot_functions.py:47: UserWarning: The figure layout has changed to tight\n",
      "  plt.tight_layout()\n"
     ]
    },
    {
     "name": "stdout",
     "output_type": "stream",
     "text": [
      "Index(['DateTime', 'o_flux_6088722', 'log_o_flux_6088722'], dtype='object')\n",
      "output_rel05/fulldata/df_hope_log_o_flux_5225528\n"
     ]
    },
    {
     "name": "stderr",
     "output_type": "stream",
     "text": [
      "/home/jliao/workspace/GitHub/ml_ringcurrent_ion/prepare_fulldata.py:109: SettingWithCopyWarning: \n",
      "A value is trying to be set on a copy of a slice from a DataFrame.\n",
      "Try using .loc[row_indexer,col_indexer] = value instead\n",
      "\n",
      "See the caveats in the documentation: https://pandas.pydata.org/pandas-docs/stable/user_guide/indexing.html#returning-a-view-versus-a-copy\n",
      "  df_y[log_y_name] = np.log10(df_y[y_name])+6 #### Add a factor of 6 here to ensure all data are positive\n"
     ]
    },
    {
     "name": "stdout",
     "output_type": "stream",
     "text": [
      "start plot o_flux_5225528\n",
      "start plot log_o_flux_5225528\n"
     ]
    },
    {
     "name": "stderr",
     "output_type": "stream",
     "text": [
      "/home/jliao/workspace/GitHub/ml_ringcurrent_ion/plot_functions.py:47: UserWarning: The figure layout has changed to tight\n",
      "  plt.tight_layout()\n"
     ]
    },
    {
     "name": "stdout",
     "output_type": "stream",
     "text": [
      "Index(['DateTime', 'o_flux_5225528', 'log_o_flux_5225528'], dtype='object')\n",
      "output_rel05/fulldata/df_hope_log_o_flux_4484742\n"
     ]
    },
    {
     "name": "stderr",
     "output_type": "stream",
     "text": [
      "/home/jliao/workspace/GitHub/ml_ringcurrent_ion/prepare_fulldata.py:109: SettingWithCopyWarning: \n",
      "A value is trying to be set on a copy of a slice from a DataFrame.\n",
      "Try using .loc[row_indexer,col_indexer] = value instead\n",
      "\n",
      "See the caveats in the documentation: https://pandas.pydata.org/pandas-docs/stable/user_guide/indexing.html#returning-a-view-versus-a-copy\n",
      "  df_y[log_y_name] = np.log10(df_y[y_name])+6 #### Add a factor of 6 here to ensure all data are positive\n"
     ]
    },
    {
     "name": "stdout",
     "output_type": "stream",
     "text": [
      "start plot o_flux_4484742\n",
      "start plot log_o_flux_4484742\n"
     ]
    },
    {
     "name": "stderr",
     "output_type": "stream",
     "text": [
      "/home/jliao/workspace/GitHub/ml_ringcurrent_ion/plot_functions.py:47: UserWarning: The figure layout has changed to tight\n",
      "  plt.tight_layout()\n"
     ]
    },
    {
     "name": "stdout",
     "output_type": "stream",
     "text": [
      "Index(['DateTime', 'o_flux_4484742', 'log_o_flux_4484742'], dtype='object')\n",
      "output_rel05/fulldata/df_hope_log_o_flux_3848919\n"
     ]
    },
    {
     "name": "stderr",
     "output_type": "stream",
     "text": [
      "/home/jliao/workspace/GitHub/ml_ringcurrent_ion/prepare_fulldata.py:109: SettingWithCopyWarning: \n",
      "A value is trying to be set on a copy of a slice from a DataFrame.\n",
      "Try using .loc[row_indexer,col_indexer] = value instead\n",
      "\n",
      "See the caveats in the documentation: https://pandas.pydata.org/pandas-docs/stable/user_guide/indexing.html#returning-a-view-versus-a-copy\n",
      "  df_y[log_y_name] = np.log10(df_y[y_name])+6 #### Add a factor of 6 here to ensure all data are positive\n"
     ]
    },
    {
     "name": "stdout",
     "output_type": "stream",
     "text": [
      "start plot o_flux_3848919\n",
      "start plot log_o_flux_3848919\n"
     ]
    },
    {
     "name": "stderr",
     "output_type": "stream",
     "text": [
      "/home/jliao/workspace/GitHub/ml_ringcurrent_ion/plot_functions.py:47: UserWarning: The figure layout has changed to tight\n",
      "  plt.tight_layout()\n"
     ]
    },
    {
     "name": "stdout",
     "output_type": "stream",
     "text": [
      "Index(['DateTime', 'o_flux_3848919', 'log_o_flux_3848919'], dtype='object')\n",
      "output_rel05/fulldata/df_hope_log_o_flux_3303284\n"
     ]
    },
    {
     "name": "stderr",
     "output_type": "stream",
     "text": [
      "/home/jliao/workspace/GitHub/ml_ringcurrent_ion/prepare_fulldata.py:109: SettingWithCopyWarning: \n",
      "A value is trying to be set on a copy of a slice from a DataFrame.\n",
      "Try using .loc[row_indexer,col_indexer] = value instead\n",
      "\n",
      "See the caveats in the documentation: https://pandas.pydata.org/pandas-docs/stable/user_guide/indexing.html#returning-a-view-versus-a-copy\n",
      "  df_y[log_y_name] = np.log10(df_y[y_name])+6 #### Add a factor of 6 here to ensure all data are positive\n"
     ]
    },
    {
     "name": "stdout",
     "output_type": "stream",
     "text": [
      "start plot o_flux_3303284\n",
      "start plot log_o_flux_3303284\n"
     ]
    },
    {
     "name": "stderr",
     "output_type": "stream",
     "text": [
      "/home/jliao/workspace/GitHub/ml_ringcurrent_ion/plot_functions.py:47: UserWarning: The figure layout has changed to tight\n",
      "  plt.tight_layout()\n"
     ]
    },
    {
     "name": "stdout",
     "output_type": "stream",
     "text": [
      "Index(['DateTime', 'o_flux_3303284', 'log_o_flux_3303284'], dtype='object')\n",
      "output_rel05/fulldata/df_hope_log_o_flux_2834964\n"
     ]
    },
    {
     "name": "stderr",
     "output_type": "stream",
     "text": [
      "/home/jliao/workspace/GitHub/ml_ringcurrent_ion/prepare_fulldata.py:109: SettingWithCopyWarning: \n",
      "A value is trying to be set on a copy of a slice from a DataFrame.\n",
      "Try using .loc[row_indexer,col_indexer] = value instead\n",
      "\n",
      "See the caveats in the documentation: https://pandas.pydata.org/pandas-docs/stable/user_guide/indexing.html#returning-a-view-versus-a-copy\n",
      "  df_y[log_y_name] = np.log10(df_y[y_name])+6 #### Add a factor of 6 here to ensure all data are positive\n"
     ]
    },
    {
     "name": "stdout",
     "output_type": "stream",
     "text": [
      "start plot o_flux_2834964\n",
      "start plot log_o_flux_2834964\n"
     ]
    },
    {
     "name": "stderr",
     "output_type": "stream",
     "text": [
      "/home/jliao/workspace/GitHub/ml_ringcurrent_ion/plot_functions.py:47: UserWarning: The figure layout has changed to tight\n",
      "  plt.tight_layout()\n"
     ]
    },
    {
     "name": "stdout",
     "output_type": "stream",
     "text": [
      "Index(['DateTime', 'o_flux_2834964', 'log_o_flux_2834964'], dtype='object')\n",
      "output_rel05/fulldata/df_hope_log_o_flux_2433055\n"
     ]
    },
    {
     "name": "stderr",
     "output_type": "stream",
     "text": [
      "/home/jliao/workspace/GitHub/ml_ringcurrent_ion/prepare_fulldata.py:109: SettingWithCopyWarning: \n",
      "A value is trying to be set on a copy of a slice from a DataFrame.\n",
      "Try using .loc[row_indexer,col_indexer] = value instead\n",
      "\n",
      "See the caveats in the documentation: https://pandas.pydata.org/pandas-docs/stable/user_guide/indexing.html#returning-a-view-versus-a-copy\n",
      "  df_y[log_y_name] = np.log10(df_y[y_name])+6 #### Add a factor of 6 here to ensure all data are positive\n"
     ]
    },
    {
     "name": "stdout",
     "output_type": "stream",
     "text": [
      "start plot o_flux_2433055\n",
      "start plot log_o_flux_2433055\n"
     ]
    },
    {
     "name": "stderr",
     "output_type": "stream",
     "text": [
      "/home/jliao/workspace/GitHub/ml_ringcurrent_ion/plot_functions.py:47: UserWarning: The figure layout has changed to tight\n",
      "  plt.tight_layout()\n"
     ]
    },
    {
     "name": "stdout",
     "output_type": "stream",
     "text": [
      "Index(['DateTime', 'o_flux_2433055', 'log_o_flux_2433055'], dtype='object')\n",
      "output_rel05/fulldata/df_hope_log_o_flux_2088129\n"
     ]
    },
    {
     "name": "stderr",
     "output_type": "stream",
     "text": [
      "/home/jliao/workspace/GitHub/ml_ringcurrent_ion/prepare_fulldata.py:109: SettingWithCopyWarning: \n",
      "A value is trying to be set on a copy of a slice from a DataFrame.\n",
      "Try using .loc[row_indexer,col_indexer] = value instead\n",
      "\n",
      "See the caveats in the documentation: https://pandas.pydata.org/pandas-docs/stable/user_guide/indexing.html#returning-a-view-versus-a-copy\n",
      "  df_y[log_y_name] = np.log10(df_y[y_name])+6 #### Add a factor of 6 here to ensure all data are positive\n"
     ]
    },
    {
     "name": "stdout",
     "output_type": "stream",
     "text": [
      "start plot o_flux_2088129\n",
      "start plot log_o_flux_2088129\n"
     ]
    },
    {
     "name": "stderr",
     "output_type": "stream",
     "text": [
      "/home/jliao/workspace/GitHub/ml_ringcurrent_ion/plot_functions.py:47: UserWarning: The figure layout has changed to tight\n",
      "  plt.tight_layout()\n"
     ]
    }
   ],
   "source": [
    "import prepare_fulldata\n",
    "\n",
    "prepare_fulldata.prepare_fulldata_batch()"
   ]
  },
  {
   "cell_type": "markdown",
   "id": "f5e3232b-3f6c-44b4-a38b-28ad409dab8a",
   "metadata": {},
   "source": [
    "### This code is for testing load_fulldata"
   ]
  },
  {
   "cell_type": "code",
   "execution_count": null,
   "id": "408be58e-ebfd-4c9f-97ec-25219c8c5855",
   "metadata": {},
   "outputs": [],
   "source": [
    "# import importlib\n",
    "\n",
    "# importlib.reload(prepare_fulldata)\n",
    "\n",
    "# energy = ['51767680']\n",
    "# species = ['h']\n",
    "# number_history = 7\n",
    "# raw_feature_names = ['symh','asyh','asyd','ae']\n",
    "\n",
    "# df_data, directories, fulldataset_csv, fulldata_settings = prepare_fulldata.load_fulldata(energy = energy, species=species\n",
    "#                                                                                           , raw_feature_names = raw_feature_names\n",
    "#                                                                                           , number_history = number_history\n",
    "#                                                                                           , save_data = False, plot_data = False)\n",
    "\n",
    "# df_data.columns"
   ]
  },
  {
   "cell_type": "markdown",
   "id": "e201b7fe-5274-4d34-bf59-212565abbe90",
   "metadata": {},
   "source": [
    "### This code is for debugging load_fulldata\n",
    "\n",
    "Here a seperate code for load, calculate, save and plot for coordiantes, y (flux) and feature (indexes and sw) data.\n"
   ]
  },
  {
   "cell_type": "code",
   "execution_count": null,
   "id": "3a45db4d-6fd9-4f67-a4fc-f42f99cfb626",
   "metadata": {},
   "outputs": [],
   "source": [
    "import initialize_var\n",
    "import prepare_fulldata\n",
    "importlib.reload(prepare_fulldata)\n",
    "\n",
    "\n",
    "raw_feature_names = ['ae','f10.7','kp','swp','swn','swv','by','bz']#['symh','asyh','asyd','ae','f10.7','kp','swp','swn','swv','by','bz']\n",
    "number_history = 30\n",
    "\n",
    "directories, dataset_csv, fulldata_settings = initialize_var.initialize_fulldata_var(raw_feature_names = raw_feature_names, number_history=number_history)\n",
    "\n",
    "df_full = prepare_fulldata.read_probes_data(directories[\"rawdata_dir\"], fulldata_settings)"
   ]
  },
  {
   "cell_type": "code",
   "execution_count": null,
   "id": "2e82defd-eb7a-4f44-9a78-87deaf96709b",
   "metadata": {
    "scrolled": true
   },
   "outputs": [],
   "source": [
    "# energy = ['51767680']\n",
    "# species = ['h']\n",
    "\n",
    "import importlib\n",
    "importlib.reload(prepare_fulldata)\n",
    "\n",
    "# directories, dataset_csv, fulldata_settings = initialize_var.initialize_fulldata_var(raw_feature_names = raw_feature_names\n",
    "#                                                                                  , number_history=number_history)\n",
    "\n",
    "# df_full = prepare_fulldata.read_probes_data(directories[\"rawdata_dir\"], data_settings)\n",
    "\n",
    "# df_coor, df_full, fulldata_settings = prepare_fulldata.load_coor(directories, dataset_csv, fulldata_settings\n",
    "# , recalc=True, save_data = True, plot_data = True)\n",
    "\n",
    "# df_y, df_full, fulldata_settings = prepare_fulldata.load_y(directories, dataset_csv, fulldata_settings\n",
    "# , recalc = True, save_data = True, plot_data = True )\n",
    "raw_feature_names = ['ae','f10.7','kp'] #,'swp','swn','swv','by','bz']\n",
    "df_feature, df_full, fulldata_settings = prepare_fulldata.load_features(directories, dataset_csv, fulldata_settings\n",
    "                                                              , recalc = True, df_full = df_full, save_data = True, plot_data = True\n",
    "                                                              , raw_feature_names = raw_feature_names)\n"
   ]
  },
  {
   "cell_type": "markdown",
   "id": "bddd6cfa-9141-450a-9f73-2d0f7a296c2f",
   "metadata": {},
   "source": [
    "### This code is for analyzing data"
   ]
  },
  {
   "cell_type": "code",
   "execution_count": null,
   "id": "8d6ff4d7-3d48-4df0-9e77-ba7cb1d47d67",
   "metadata": {},
   "outputs": [],
   "source": [
    "import prepare_fulldata\n",
    "import importlib\n",
    "import initialize_var\n",
    "\n",
    "importlib.reload(prepare_fulldata)\n",
    "importlib.reload(initialize_var)\n",
    "\n",
    "raw_feature_names = ['symh','asyh','asyd','ae','f10.7','kp','swp','swn','swv','by','bz']\n",
    "number_history = 10\n",
    "\n",
    "directories, dataset_csv, fulldata_settings = initialize_var.initialize_fulldata_var(raw_feature_names = raw_feature_names\n",
    "                                                                                      , number_history=number_history)\n",
    "df_full = prepare_fulldata.read_probes_data(directories[\"rawdata_dir\"], fulldata_settings)\n",
    "\n"
   ]
  },
  {
   "cell_type": "code",
   "execution_count": null,
   "id": "580ff802-7860-4653-a8e7-5d15ba7ed758",
   "metadata": {},
   "outputs": [],
   "source": [
    "import numpy as np\n",
    "import pandas as pd\n",
    "import matplotlib.pyplot as plt\n",
    "\n",
    "df_y = df_full[fulldata_settings[\"y_names\"][0:54]]\n",
    "\n",
    "zero_ct = (df_y==0).sum()\n",
    "\n",
    "min_value = df_y[df_y > 0].min()\n",
    "\n",
    "sp = [s[0] for s in (zero_ct.index.tolist())]\n",
    "en = [str(x) for x in (np.double([s[7:] for s in (zero_ct.index.tolist())])/1000)]\n",
    "\n",
    "output = pd.DataFrame({'sp':sp, 'en':en, 'zero_ct':zero_ct, 'min_value':min_value})\n",
    "output = output.iloc[::-1]"
   ]
  },
  {
   "cell_type": "code",
   "execution_count": null,
   "id": "74aeaf79-352d-4d7b-bb57-3deba2e521ca",
   "metadata": {},
   "outputs": [],
   "source": [
    "output"
   ]
  },
  {
   "cell_type": "code",
   "execution_count": null,
   "id": "862ec177-a658-4871-b304-679c49e04255",
   "metadata": {},
   "outputs": [],
   "source": [
    "color_map = {'h': 'red', 'o': 'blue',}\n",
    "colors = [color_map[category] for category in output['sp']]\n",
    "\n",
    "plt.figure(figsize=(10, 5))\n",
    "\n",
    "plt.scatter(x = output['en'], y= output['zero_ct'], c=colors, s =10, label = color_map)\n",
    "plt.xticks(rotation=45)\n",
    "plt.legend()\n",
    "\n",
    "plt.title('Number of zeros for each energy bin')\n",
    "plt.xlabel('energy (eV)')\n",
    "plt.ylabel('number of zeros')\n",
    "\n",
    "# plt.show()\n",
    "plt.tight_layout()    \n",
    "\n",
    "plt.savefig('n_zero.png')"
   ]
  },
  {
   "cell_type": "code",
   "execution_count": null,
   "id": "e14efa4c-1785-4def-8e9c-3415c2e3deed",
   "metadata": {},
   "outputs": [],
   "source": [
    "color_map = {'h': 'red', 'o': 'blue',}\n",
    "colors = [color_map[category] for category in output['sp']]\n",
    "plt.figure(figsize=(10, 5))\n",
    "\n",
    "plt.scatter(x = output['en'], y= output['min_value'], c=colors, s = 10, label = color_map)\n",
    "plt.xticks(rotation=45)\n",
    "plt.yscale('log')\n",
    "plt.legend()\n",
    "\n",
    "plt.title('Minimum value for each energy bin')\n",
    "plt.ylabel('minimum value of flux')\n",
    "plt.xlabel('energy (eV)')\n",
    "plt.tight_layout()    \n",
    "plt.ylim(0.0001, 0.1) \n",
    "\n",
    "# plt.show()\n",
    "plt.savefig('min_value.png')"
   ]
  },
  {
   "cell_type": "code",
   "execution_count": null,
   "id": "60d55be6-e398-476b-add7-e6420611af50",
   "metadata": {},
   "outputs": [],
   "source": []
  },
  {
   "cell_type": "code",
   "execution_count": null,
   "id": "e63c049b-897a-4ced-859b-82d96ddce403",
   "metadata": {},
   "outputs": [],
   "source": []
  }
 ],
 "metadata": {
  "kernelspec": {
   "display_name": "Python 3 (ipykernel)",
   "language": "python",
   "name": "python3"
  },
  "language_info": {
   "codemirror_mode": {
    "name": "ipython",
    "version": 3
   },
   "file_extension": ".py",
   "mimetype": "text/x-python",
   "name": "python",
   "nbconvert_exporter": "python",
   "pygments_lexer": "ipython3",
   "version": "3.11.11"
  }
 },
 "nbformat": 4,
 "nbformat_minor": 5
}

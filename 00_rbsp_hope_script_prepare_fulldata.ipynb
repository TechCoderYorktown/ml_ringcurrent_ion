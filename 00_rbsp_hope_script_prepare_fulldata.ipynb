{
 "cells": [
  {
   "cell_type": "code",
   "execution_count": 1,
   "id": "c708d919",
   "metadata": {
    "scrolled": true
   },
   "outputs": [
    {
     "name": "stderr",
     "output_type": "stream",
     "text": [
      "2025-03-24 18:00:17.899440: I tensorflow/core/util/port.cc:153] oneDNN custom operations are on. You may see slightly different numerical results due to floating-point round-off errors from different computation orders. To turn them off, set the environment variable `TF_ENABLE_ONEDNN_OPTS=0`.\n",
      "2025-03-24 18:00:17.900143: I external/local_xla/xla/tsl/cuda/cudart_stub.cc:32] Could not find cuda drivers on your machine, GPU will not be used.\n",
      "2025-03-24 18:00:17.902152: I external/local_xla/xla/tsl/cuda/cudart_stub.cc:32] Could not find cuda drivers on your machine, GPU will not be used.\n",
      "2025-03-24 18:00:17.908447: E external/local_xla/xla/stream_executor/cuda/cuda_fft.cc:477] Unable to register cuFFT factory: Attempting to register factory for plugin cuFFT when one has already been registered\n",
      "WARNING: All log messages before absl::InitializeLog() is called are written to STDERR\n",
      "E0000 00:00:1742853617.921225   42383 cuda_dnn.cc:8310] Unable to register cuDNN factory: Attempting to register factory for plugin cuDNN when one has already been registered\n",
      "E0000 00:00:1742853617.924879   42383 cuda_blas.cc:1418] Unable to register cuBLAS factory: Attempting to register factory for plugin cuBLAS when one has already been registered\n",
      "2025-03-24 18:00:17.937397: I tensorflow/core/platform/cpu_feature_guard.cc:210] This TensorFlow binary is optimized to use available CPU instructions in performance-critical operations.\n",
      "To enable the following instructions: AVX2 AVX_VNNI FMA, in other operations, rebuild TensorFlow with the appropriate compiler flags.\n"
     ]
    },
    {
     "data": {
      "text/plain": [
       "<module 'prepare_fulldata' from '/home/jliao/workspace/GitHub/ml_ringcurrent_ion/prepare_fulldata.py'>"
      ]
     },
     "execution_count": 1,
     "metadata": {},
     "output_type": "execute_result"
    }
   ],
   "source": [
    "import prepare_fulldata"
   ]
  },
  {
   "cell_type": "code",
   "execution_count": null,
   "id": "a42710aa-6ec8-4f61-b8d6-a8eaabadceef",
   "metadata": {},
   "outputs": [],
   "source": [
    "# This is the line to use load all full data\n",
    "\n",
    "# prepare_fulldata.prepare_ml_dataset_batch()"
   ]
  },
  {
   "cell_type": "code",
   "execution_count": null,
   "id": "408be58e-ebfd-4c9f-97ec-25219c8c5855",
   "metadata": {},
   "outputs": [],
   "source": [
    "# import importlib\n",
    "\n",
    "# importlib.reload(prepare_fulldata)\n",
    "\n",
    "# energy = ['51767680']\n",
    "# species = ['h']\n",
    "# number_history = 7\n",
    "# raw_feature_names = ['symh','asyh','asyd','ae']\n",
    "\n",
    "# df_data, directories, fulldataset_csv, fulldata_settings = prepare_fulldata.load_fulldata(energy = energy, species=species\n",
    "#                                                                                           , raw_feature_names = raw_feature_names\n",
    "#                                                                                           , number_history = number_history\n",
    "#                                                                                           , save_data = False, plot_data = False)\n",
    "\n",
    "# df_data.columns"
   ]
  },
  {
   "cell_type": "code",
   "execution_count": null,
   "id": "2e387b2e-b7d5-4f09-806a-b18d40d39cd1",
   "metadata": {},
   "outputs": [],
   "source": [
    "import prepare_fulldata\n",
    "import importlib\n",
    "import initialize_var\n",
    "\n",
    "importlib.reload(prepare_fulldata)\n",
    "importlib.reload(initialize_var)\n",
    "\n",
    "raw_feature_names = ['symh','asyh','asyd','ae','f10.7','kp','swp','swn','swv','by','bz']\n",
    "number_history = 10\n",
    "\n",
    "directories, dataset_csv, fulldata_settings = initialize_var.initialize_fulldata_var(raw_feature_names = raw_feature_names\n",
    "                                                                                      , number_history=number_history)\n",
    "df_full = prepare_fulldata.read_probes_data(directories[\"rawdata_dir\"], fulldata_settings)\n",
    "\n",
    "# df_coor, df_full, fulldata_settings = prepare_fulldata.load_coor(directories, dataset_csv, fulldata_settings\n",
    "# , recalc=True, save_data = True, plot_data = True)\n",
    "\n",
    "# df_y, df_full, fulldata_settings = prepare_fulldata.load_y(directories, dataset_csv, fulldata_settings\n",
    "# , recalc = True, save_data = True, plot_data = True )\n",
    "\n",
    "df_feature, df_full, fulldata_settings = prepare_fulldata.load_features(directories, dataset_csv, fulldata_settings\n",
    "                                                              , recalc = True, df_full = df_full, save_data = True, plot_data = False\n",
    "                                                              , raw_feature_names = raw_feature_names)\n"
   ]
  },
  {
   "cell_type": "code",
   "execution_count": 2,
   "id": "8d6ff4d7-3d48-4df0-9e77-ba7cb1d47d67",
   "metadata": {},
   "outputs": [
    {
     "name": "stdout",
     "output_type": "stream",
     "text": [
      "Reading csv data for probe b"
     ]
    }
   ],
   "source": [
    "import prepare_fulldata\n",
    "import importlib\n",
    "import initialize_var\n",
    "\n",
    "importlib.reload(prepare_fulldata)\n",
    "importlib.reload(initialize_var)\n",
    "\n",
    "raw_feature_names = ['symh','asyh','asyd','ae','f10.7','kp','swp','swn','swv','by','bz']\n",
    "number_history = 10\n",
    "\n",
    "directories, dataset_csv, fulldata_settings = initialize_var.initialize_fulldata_var(raw_feature_names = raw_feature_names\n",
    "                                                                                      , number_history=number_history)\n",
    "df_full = prepare_fulldata.read_probes_data(directories[\"rawdata_dir\"], fulldata_settings)\n",
    "\n"
   ]
  },
  {
   "cell_type": "code",
   "execution_count": 23,
   "id": "7d40fbf0-084f-4d1a-812a-441e60e504a7",
   "metadata": {},
   "outputs": [],
   "source": [
    "df_y = df_full[fulldata_settings[\"y_names\"]]\n",
    "\n",
    "\n",
    "zero_ct = (df_y==0).sum()\n",
    "\n",
    "min_value = df_y[df_y > 0].min()"
   ]
  },
  {
   "cell_type": "code",
   "execution_count": 59,
   "id": "21d59d30-ee50-413f-bea0-770d46550f45",
   "metadata": {},
   "outputs": [
    {
     "data": {
      "text/plain": [
       "h_flux_51767680     11404\n",
       "o_flux_51767680     78492\n",
       "h_flux_44428696     11965\n",
       "o_flux_44428696    121550\n",
       "h_flux_38130120     12114\n",
       "                    ...  \n",
       "o_flux_1337        317262\n",
       "h_flux_1196         38631\n",
       "o_flux_1196        323548\n",
       "h_flux_985          39981\n",
       "o_flux_985         324374\n",
       "Length: 144, dtype: int64"
      ]
     },
     "execution_count": 59,
     "metadata": {},
     "output_type": "execute_result"
    }
   ],
   "source": [
    "zero_ct"
   ]
  },
  {
   "cell_type": "code",
   "execution_count": 58,
   "id": "6c8d311d-1087-457a-9639-1a8fd25d3c3f",
   "metadata": {},
   "outputs": [],
   "source": [
    "sp = [s[0] for s in (zero_ct.index.tolist())]"
   ]
  },
  {
   "cell_type": "code",
   "execution_count": 60,
   "id": "834e92c6-32a9-4d61-a78d-2a172e5b4100",
   "metadata": {},
   "outputs": [],
   "source": [
    "en = [s[7:] for s in (zero_ct.index.tolist())]"
   ]
  },
  {
   "cell_type": "code",
   "execution_count": 62,
   "id": "580ff802-7860-4653-a8e7-5d15ba7ed758",
   "metadata": {},
   "outputs": [],
   "source": [
    "output = pd.DataFrame({'sp':sp, 'en':en, 'zero_ct':zero_ct, 'min_value':min_value})"
   ]
  },
  {
   "cell_type": "code",
   "execution_count": 70,
   "id": "370e9030-925d-4cf5-87a2-d06fd0ca8347",
   "metadata": {},
   "outputs": [
    {
     "data": {
      "text/plain": [
       "h_flux_51767680     11404\n",
       "o_flux_51767680     78492\n",
       "h_flux_44428696     11965\n",
       "o_flux_44428696    121550\n",
       "h_flux_38130120     12114\n",
       "                    ...  \n",
       "o_flux_1337        317262\n",
       "h_flux_1196         38631\n",
       "o_flux_1196        323548\n",
       "h_flux_985          39981\n",
       "o_flux_985         324374\n",
       "Name: zero_ct, Length: 144, dtype: int64"
      ]
     },
     "execution_count": 70,
     "metadata": {},
     "output_type": "execute_result"
    }
   ],
   "source": [
    "output['zero_ct']"
   ]
  },
  {
   "cell_type": "code",
   "execution_count": 71,
   "id": "862ec177-a658-4871-b304-679c49e04255",
   "metadata": {},
   "outputs": [
    {
     "data": {
      "text/plain": [
       "<matplotlib.collections.PathCollection at 0x773a1a62e750>"
      ]
     },
     "execution_count": 71,
     "metadata": {},
     "output_type": "execute_result"
    },
    {
     "data": {
      "image/png": "[encoded data removed]",
      "text/plain": [
       "<Figure size 640x480 with 1 Axes>"
      ]
     },
     "metadata": {},
     "output_type": "display_data"
    }
   ],
   "source": [
    "import matplotlib.pyplot as plt\n",
    "\n",
    "plt.scatter(x = output['en'], y= output['zero_ct'])"
   ]
  },
  {
   "cell_type": "code",
   "execution_count": 29,
   "id": "4ed1fc46-384d-4399-9c64-2434e46b2797",
   "metadata": {},
   "outputs": [
    {
     "ename": "TypeError",
     "evalue": "concat() got an unexpected keyword argument 'columns'",
     "output_type": "error",
     "traceback": [
      "\u001b[0;31m---------------------------------------------------------------------------\u001b[0m",
      "\u001b[0;31mTypeError\u001b[0m                                 Traceback (most recent call last)",
      "Cell \u001b[0;32mIn[29], line 3\u001b[0m\n\u001b[1;32m      1\u001b[0m \u001b[38;5;28;01mimport\u001b[39;00m \u001b[38;5;21;01mpandas\u001b[39;00m \u001b[38;5;28;01mas\u001b[39;00m \u001b[38;5;21;01mpd\u001b[39;00m\n\u001b[0;32m----> 3\u001b[0m output \u001b[38;5;241m=\u001b[39m pd\u001b[38;5;241m.\u001b[39mconcat([zero_ct, min_value],axis\u001b[38;5;241m=\u001b[39m\u001b[38;5;241m1\u001b[39m,columns\u001b[38;5;241m=\u001b[39m[\u001b[38;5;124m\"\u001b[39m\u001b[38;5;124mzero_count\u001b[39m\u001b[38;5;124m\"\u001b[39m, \u001b[38;5;124m\"\u001b[39m\u001b[38;5;124mmin_value\u001b[39m\u001b[38;5;124m\"\u001b[39m])\n",
      "\u001b[0;31mTypeError\u001b[0m: concat() got an unexpected keyword argument 'columns'"
     ]
    }
   ],
   "source": [
    "import pandas as pd\n",
    "\n",
    "\n"
   ]
  },
  {
   "cell_type": "code",
   "execution_count": 28,
   "id": "3ea441b3-0d05-4606-a186-61a24d9fc885",
   "metadata": {},
   "outputs": [
    {
     "data": {
      "text/html": [
       "<div>\n",
       "<style scoped>\n",
       "    .dataframe tbody tr th:only-of-type {\n",
       "        vertical-align: middle;\n",
       "    }\n",
       "\n",
       "    .dataframe tbody tr th {\n",
       "        vertical-align: top;\n",
       "    }\n",
       "\n",
       "    .dataframe thead th {\n",
       "        text-align: right;\n",
       "    }\n",
       "</style>\n",
       "<table border=\"1\" class=\"dataframe\">\n",
       "  <thead>\n",
       "    <tr style=\"text-align: right;\">\n",
       "      <th></th>\n",
       "      <th>0</th>\n",
       "      <th>1</th>\n",
       "    </tr>\n",
       "  </thead>\n",
       "  <tbody>\n",
       "    <tr>\n",
       "      <th>h_flux_51767680</th>\n",
       "      <td>11404</td>\n",
       "      <td>0.001033</td>\n",
       "    </tr>\n",
       "    <tr>\n",
       "      <th>o_flux_51767680</th>\n",
       "      <td>78492</td>\n",
       "      <td>0.000218</td>\n",
       "    </tr>\n",
       "    <tr>\n",
       "      <th>h_flux_44428696</th>\n",
       "      <td>11965</td>\n",
       "      <td>0.000893</td>\n",
       "    </tr>\n",
       "    <tr>\n",
       "      <th>o_flux_44428696</th>\n",
       "      <td>121550</td>\n",
       "      <td>0.000265</td>\n",
       "    </tr>\n",
       "    <tr>\n",
       "      <th>h_flux_38130120</th>\n",
       "      <td>12114</td>\n",
       "      <td>0.001013</td>\n",
       "    </tr>\n",
       "    <tr>\n",
       "      <th>...</th>\n",
       "      <td>...</td>\n",
       "      <td>...</td>\n",
       "    </tr>\n",
       "    <tr>\n",
       "      <th>o_flux_1337</th>\n",
       "      <td>317262</td>\n",
       "      <td>13.331915</td>\n",
       "    </tr>\n",
       "    <tr>\n",
       "      <th>h_flux_1196</th>\n",
       "      <td>38631</td>\n",
       "      <td>24.062216</td>\n",
       "    </tr>\n",
       "    <tr>\n",
       "      <th>o_flux_1196</th>\n",
       "      <td>323548</td>\n",
       "      <td>10.791989</td>\n",
       "    </tr>\n",
       "    <tr>\n",
       "      <th>h_flux_985</th>\n",
       "      <td>39981</td>\n",
       "      <td>34.948704</td>\n",
       "    </tr>\n",
       "    <tr>\n",
       "      <th>o_flux_985</th>\n",
       "      <td>324374</td>\n",
       "      <td>13.031150</td>\n",
       "    </tr>\n",
       "  </tbody>\n",
       "</table>\n",
       "<p>144 rows × 2 columns</p>\n",
       "</div>"
      ],
      "text/plain": [
       "                      0          1\n",
       "h_flux_51767680   11404   0.001033\n",
       "o_flux_51767680   78492   0.000218\n",
       "h_flux_44428696   11965   0.000893\n",
       "o_flux_44428696  121550   0.000265\n",
       "h_flux_38130120   12114   0.001013\n",
       "...                 ...        ...\n",
       "o_flux_1337      317262  13.331915\n",
       "h_flux_1196       38631  24.062216\n",
       "o_flux_1196      323548  10.791989\n",
       "h_flux_985        39981  34.948704\n",
       "o_flux_985       324374  13.031150\n",
       "\n",
       "[144 rows x 2 columns]"
      ]
     },
     "execution_count": 28,
     "metadata": {},
     "output_type": "execute_result"
    }
   ],
   "source": [
    "output\n"
   ]
  },
  {
   "cell_type": "code",
   "execution_count": null,
   "id": "2e82defd-eb7a-4f44-9a78-87deaf96709b",
   "metadata": {},
   "outputs": [],
   "source": [
    "# Here a seperate code for load, calculate, save and plot for coordiantes, y (flux) and feature (indexes and sw) data.\n",
    "\n",
    "\n",
    "# raw_feature_names = ['symh','asyh','asyd','ae','f10.7','kp','swp','swn','swv','by','bz']\n",
    "# number_history = 30\n",
    "\n",
    "# directories, dataset_csv, fulldata_settings = initialize_var.initialize_fulldata_var(raw_feature_names = raw_feature_names, number_history=number_history)\n",
    "\n",
    "# df_full = prepare_fulldata.read_probes_data(directories[\"rawdata_dir\"], fulldata_settings)\n",
    "\n",
    "\n",
    "# raw_feature_names = ['symh','asyh','asyd','ae','f10.7','kp','swp','swn','swv','by','bz']\n",
    "# number_history = 30\n",
    "# energy = ['51767680']\n",
    "# species = ['h']\n",
    "\n",
    "\n",
    "# importlib.reload(prepare_fulldata)\n",
    "\n",
    "# directories, dataset_csv, fulldata_settings = initialize_var.initialize_fulldata_var(raw_feature_names = raw_feature_names\n",
    "#                                                                                  , number_history=number_history)\n",
    "\n",
    "# df_full = prepare_fulldata.read_probes_data(directories[\"rawdata_dir\"], data_settings)\n",
    "\n",
    "# df_coor, df_full, fulldata_settings = prepare_fulldata.load_coor(directories, dataset_csv, fulldata_settings\n",
    "# , recalc=True, save_data = True, plot_data = True)\n",
    "\n",
    "# df_y, df_full, fulldata_settings = prepare_fulldata.load_y(directories, dataset_csv, fulldata_settings\n",
    "# , recalc = True, save_data = True, plot_data = True )\n",
    "\n",
    "# df_feature, df_full, fulldata_settings = prepare_fulldata.load_features(directories, dataset_csv, fulldata_settings\n",
    "#                                                               , recalc = True, df_full = df_full, save_data = True, plot_data = True\n",
    "#                                                               , raw_feature_names = raw_feature_names)\n"
   ]
  },
  {
   "cell_type": "code",
   "execution_count": null,
   "id": "e14efa4c-1785-4def-8e9c-3415c2e3deed",
   "metadata": {},
   "outputs": [],
   "source": [
    "# df_full = prepare_fulldata.read_probes_data(directories[\"rawdata_dir\"], data_settings)\n",
    "\n",
    "# df_full, data_settings = prepare_fulldata.calculate_log_for_y(df_full, data_settings)\n",
    "# df_full, data_settings = prepare_fulldata.scale_corrdinates(df_full, data_settings)\n",
    "# df_full, data_settings = prepare_fulldata.scale_features(df_full, data_settings)\n",
    "# if save_data:\n",
    "#     output_names = data_settings[\"coor_names\"] + data_settings[\"log_y_names\"]\n",
    "#     output_names.insert(0,data_settings[\"datetime_name\"])\n",
    "            \n",
    "#     df_full[output_names].to_csv(dataset_csv[\"df_hope\"], index=False)\n",
    "\n",
    "# for feature_name in data_settings[\"feature_names\"]:\n",
    "#     feature_history_filename_csv = directories['fulldata_dir'] + \"df_feature_history_\" + feature_name+'.csv'\n",
    "#     df_full, data_settings = create_feature_history(df_full, data_settings, feature_name, feature_history_filename_csv, data_settings[\"doubletime_name\"],save_data)\n",
    "\n",
    "\n"
   ]
  }
 ],
 "metadata": {
  "kernelspec": {
   "display_name": "Python 3 (ipykernel)",
   "language": "python",
   "name": "python3"
  },
  "language_info": {
   "codemirror_mode": {
    "name": "ipython",
    "version": 3
   },
   "file_extension": ".py",
   "mimetype": "text/x-python",
   "name": "python",
   "nbconvert_exporter": "python",
   "pygments_lexer": "ipython3",
   "version": "3.11.11"
  }
 },
 "nbformat": 4,
 "nbformat_minor": 5
}

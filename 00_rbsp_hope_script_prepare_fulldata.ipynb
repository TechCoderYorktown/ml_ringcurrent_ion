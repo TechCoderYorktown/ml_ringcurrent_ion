{
 "cells": [
  {
   "cell_type": "markdown",
   "id": "37cba285-a646-4b6c-a8e4-a0718c50378e",
   "metadata": {
    "scrolled": true
   },
   "source": [
    "### This is the line to use load all full data\n"
   ]
  },
  {
   "cell_type": "code",
   "execution_count": null,
   "id": "a42710aa-6ec8-4f61-b8d6-a8eaabadceef",
   "metadata": {
    "scrolled": true
   },
   "outputs": [
    {
     "name": "stderr",
     "output_type": "stream",
     "text": [
      "2025-03-28 11:16:07.093768: I tensorflow/core/util/port.cc:153] oneDNN custom operations are on. You may see slightly different numerical results due to floating-point round-off errors from different computation orders. To turn them off, set the environment variable `TF_ENABLE_ONEDNN_OPTS=0`.\n",
      "2025-03-28 11:16:07.102328: I external/local_xla/xla/tsl/cuda/cudart_stub.cc:32] Could not find cuda drivers on your machine, GPU will not be used.\n",
      "2025-03-28 11:16:07.181549: I external/local_xla/xla/tsl/cuda/cudart_stub.cc:32] Could not find cuda drivers on your machine, GPU will not be used.\n",
      "2025-03-28 11:16:07.250677: E external/local_xla/xla/stream_executor/cuda/cuda_fft.cc:477] Unable to register cuFFT factory: Attempting to register factory for plugin cuFFT when one has already been registered\n",
      "WARNING: All log messages before absl::InitializeLog() is called are written to STDERR\n",
      "E0000 00:00:1743174967.308325   12173 cuda_dnn.cc:8310] Unable to register cuDNN factory: Attempting to register factory for plugin cuDNN when one has already been registered\n",
      "E0000 00:00:1743174967.327478   12173 cuda_blas.cc:1418] Unable to register cuBLAS factory: Attempting to register factory for plugin cuBLAS when one has already been registered\n",
      "2025-03-28 11:16:07.477773: I tensorflow/core/platform/cpu_feature_guard.cc:210] This TensorFlow binary is optimized to use available CPU instructions in performance-critical operations.\n",
      "To enable the following instructions: AVX2 AVX_VNNI FMA, in other operations, rebuild TensorFlow with the appropriate compiler flags.\n"
     ]
    },
    {
     "name": "stdout",
     "output_type": "stream",
     "text": [
      "start plot mltta for probe b\n",
      "start plot l\n",
      "start plot lat\n"
     ]
    },
    {
     "name": "stderr",
     "output_type": "stream",
     "text": [
      "/home/jliao/workspace/GitHub/ml_ringcurrent_ion/plot_functions.py:47: UserWarning: The figure layout has changed to tight\n",
      "  plt.tight_layout()\n"
     ]
    },
    {
     "name": "stdout",
     "output_type": "stream",
     "text": [
      "start plot cos0\n",
      "start plot sin0\n",
      "start plot scaled_lat\n",
      "start plot scaled_l\n"
     ]
    },
    {
     "name": "stderr",
     "output_type": "stream",
     "text": [
      "/home/jliao/workspace/GitHub/ml_ringcurrent_ion/plot_functions.py:47: UserWarning: The figure layout has changed to tight\n",
      "  plt.tight_layout()\n"
     ]
    },
    {
     "name": "stdout",
     "output_type": "stream",
     "text": [
      "output_rel05/fulldata/df_hope_log_h_flux_51767680\n"
     ]
    },
    {
     "name": "stderr",
     "output_type": "stream",
     "text": [
      "/home/jliao/workspace/GitHub/ml_ringcurrent_ion/prepare_fulldata.py:109: SettingWithCopyWarning: \n",
      "A value is trying to be set on a copy of a slice from a DataFrame.\n",
      "Try using .loc[row_indexer,col_indexer] = value instead\n",
      "\n",
      "See the caveats in the documentation: https://pandas.pydata.org/pandas-docs/stable/user_guide/indexing.html#returning-a-view-versus-a-copy\n",
      "  df_y[log_y_name] = np.log10(df_y[y_name])\n"
     ]
    },
    {
     "name": "stdout",
     "output_type": "stream",
     "text": [
      "start plot h_flux_51767680\n",
      "start plot log_h_flux_51767680\n"
     ]
    },
    {
     "name": "stderr",
     "output_type": "stream",
     "text": [
      "/home/jliao/workspace/GitHub/ml_ringcurrent_ion/plot_functions.py:47: UserWarning: The figure layout has changed to tight\n",
      "  plt.tight_layout()\n"
     ]
    },
    {
     "name": "stdout",
     "output_type": "stream",
     "text": [
      "output_rel05/fulldata/df_hope_log_h_flux_44428696\n"
     ]
    },
    {
     "name": "stderr",
     "output_type": "stream",
     "text": [
      "/home/jliao/workspace/GitHub/ml_ringcurrent_ion/prepare_fulldata.py:109: SettingWithCopyWarning: \n",
      "A value is trying to be set on a copy of a slice from a DataFrame.\n",
      "Try using .loc[row_indexer,col_indexer] = value instead\n",
      "\n",
      "See the caveats in the documentation: https://pandas.pydata.org/pandas-docs/stable/user_guide/indexing.html#returning-a-view-versus-a-copy\n",
      "  df_y[log_y_name] = np.log10(df_y[y_name])\n"
     ]
    },
    {
     "name": "stdout",
     "output_type": "stream",
     "text": [
      "start plot h_flux_44428696\n",
      "start plot log_h_flux_44428696\n"
     ]
    },
    {
     "name": "stderr",
     "output_type": "stream",
     "text": [
      "/home/jliao/workspace/GitHub/ml_ringcurrent_ion/plot_functions.py:47: UserWarning: The figure layout has changed to tight\n",
      "  plt.tight_layout()\n"
     ]
    },
    {
     "name": "stdout",
     "output_type": "stream",
     "text": [
      "Index(['DateTime', 'h_flux_44428696', 'log_h_flux_44428696'], dtype='object')\n",
      "output_rel05/fulldata/df_hope_log_h_flux_38130120\n"
     ]
    },
    {
     "name": "stderr",
     "output_type": "stream",
     "text": [
      "/home/jliao/workspace/GitHub/ml_ringcurrent_ion/prepare_fulldata.py:109: SettingWithCopyWarning: \n",
      "A value is trying to be set on a copy of a slice from a DataFrame.\n",
      "Try using .loc[row_indexer,col_indexer] = value instead\n",
      "\n",
      "See the caveats in the documentation: https://pandas.pydata.org/pandas-docs/stable/user_guide/indexing.html#returning-a-view-versus-a-copy\n",
      "  df_y[log_y_name] = np.log10(df_y[y_name])\n"
     ]
    },
    {
     "name": "stdout",
     "output_type": "stream",
     "text": [
      "start plot h_flux_38130120\n",
      "start plot log_h_flux_38130120\n"
     ]
    },
    {
     "name": "stderr",
     "output_type": "stream",
     "text": [
      "/home/jliao/workspace/GitHub/ml_ringcurrent_ion/plot_functions.py:47: UserWarning: The figure layout has changed to tight\n",
      "  plt.tight_layout()\n"
     ]
    },
    {
     "name": "stdout",
     "output_type": "stream",
     "text": [
      "Index(['DateTime', 'h_flux_38130120', 'log_h_flux_38130120'], dtype='object')\n",
      "output_rel05/fulldata/df_hope_log_h_flux_32724498\n"
     ]
    },
    {
     "name": "stderr",
     "output_type": "stream",
     "text": [
      "/home/jliao/workspace/GitHub/ml_ringcurrent_ion/prepare_fulldata.py:109: SettingWithCopyWarning: \n",
      "A value is trying to be set on a copy of a slice from a DataFrame.\n",
      "Try using .loc[row_indexer,col_indexer] = value instead\n",
      "\n",
      "See the caveats in the documentation: https://pandas.pydata.org/pandas-docs/stable/user_guide/indexing.html#returning-a-view-versus-a-copy\n",
      "  df_y[log_y_name] = np.log10(df_y[y_name])\n"
     ]
    },
    {
     "name": "stdout",
     "output_type": "stream",
     "text": [
      "start plot h_flux_32724498\n",
      "start plot log_h_flux_32724498\n"
     ]
    },
    {
     "name": "stderr",
     "output_type": "stream",
     "text": [
      "/home/jliao/workspace/GitHub/ml_ringcurrent_ion/plot_functions.py:47: UserWarning: The figure layout has changed to tight\n",
      "  plt.tight_layout()\n"
     ]
    },
    {
     "name": "stdout",
     "output_type": "stream",
     "text": [
      "Index(['DateTime', 'h_flux_32724498', 'log_h_flux_32724498'], dtype='object')\n",
      "output_rel05/fulldata/df_hope_log_h_flux_28085268\n"
     ]
    },
    {
     "name": "stderr",
     "output_type": "stream",
     "text": [
      "/home/jliao/workspace/GitHub/ml_ringcurrent_ion/prepare_fulldata.py:109: SettingWithCopyWarning: \n",
      "A value is trying to be set on a copy of a slice from a DataFrame.\n",
      "Try using .loc[row_indexer,col_indexer] = value instead\n",
      "\n",
      "See the caveats in the documentation: https://pandas.pydata.org/pandas-docs/stable/user_guide/indexing.html#returning-a-view-versus-a-copy\n",
      "  df_y[log_y_name] = np.log10(df_y[y_name])\n"
     ]
    },
    {
     "name": "stdout",
     "output_type": "stream",
     "text": [
      "start plot h_flux_28085268\n",
      "start plot log_h_flux_28085268\n"
     ]
    },
    {
     "name": "stderr",
     "output_type": "stream",
     "text": [
      "/home/jliao/workspace/GitHub/ml_ringcurrent_ion/plot_functions.py:47: UserWarning: The figure layout has changed to tight\n",
      "  plt.tight_layout()\n"
     ]
    },
    {
     "name": "stdout",
     "output_type": "stream",
     "text": [
      "Index(['DateTime', 'h_flux_28085268', 'log_h_flux_28085268'], dtype='object')\n",
      "output_rel05/fulldata/df_hope_log_h_flux_24103668\n"
     ]
    },
    {
     "name": "stderr",
     "output_type": "stream",
     "text": [
      "/home/jliao/workspace/GitHub/ml_ringcurrent_ion/prepare_fulldata.py:109: SettingWithCopyWarning: \n",
      "A value is trying to be set on a copy of a slice from a DataFrame.\n",
      "Try using .loc[row_indexer,col_indexer] = value instead\n",
      "\n",
      "See the caveats in the documentation: https://pandas.pydata.org/pandas-docs/stable/user_guide/indexing.html#returning-a-view-versus-a-copy\n",
      "  df_y[log_y_name] = np.log10(df_y[y_name])\n"
     ]
    },
    {
     "name": "stdout",
     "output_type": "stream",
     "text": [
      "start plot h_flux_24103668\n",
      "start plot log_h_flux_24103668\n"
     ]
    },
    {
     "name": "stderr",
     "output_type": "stream",
     "text": [
      "/home/jliao/workspace/GitHub/ml_ringcurrent_ion/plot_functions.py:47: UserWarning: The figure layout has changed to tight\n",
      "  plt.tight_layout()\n"
     ]
    },
    {
     "name": "stdout",
     "output_type": "stream",
     "text": [
      "Index(['DateTime', 'h_flux_24103668', 'log_h_flux_24103668'], dtype='object')\n",
      "output_rel05/fulldata/df_hope_log_h_flux_20686558\n"
     ]
    },
    {
     "name": "stderr",
     "output_type": "stream",
     "text": [
      "/home/jliao/workspace/GitHub/ml_ringcurrent_ion/prepare_fulldata.py:109: SettingWithCopyWarning: \n",
      "A value is trying to be set on a copy of a slice from a DataFrame.\n",
      "Try using .loc[row_indexer,col_indexer] = value instead\n",
      "\n",
      "See the caveats in the documentation: https://pandas.pydata.org/pandas-docs/stable/user_guide/indexing.html#returning-a-view-versus-a-copy\n",
      "  df_y[log_y_name] = np.log10(df_y[y_name])\n"
     ]
    },
    {
     "name": "stdout",
     "output_type": "stream",
     "text": [
      "start plot h_flux_20686558\n",
      "start plot log_h_flux_20686558\n"
     ]
    },
    {
     "name": "stderr",
     "output_type": "stream",
     "text": [
      "/home/jliao/workspace/GitHub/ml_ringcurrent_ion/plot_functions.py:47: UserWarning: The figure layout has changed to tight\n",
      "  plt.tight_layout()\n"
     ]
    },
    {
     "name": "stdout",
     "output_type": "stream",
     "text": [
      "Index(['DateTime', 'h_flux_20686558', 'log_h_flux_20686558'], dtype='object')\n",
      "output_rel05/fulldata/df_hope_log_h_flux_17753876\n"
     ]
    },
    {
     "name": "stderr",
     "output_type": "stream",
     "text": [
      "/home/jliao/workspace/GitHub/ml_ringcurrent_ion/prepare_fulldata.py:109: SettingWithCopyWarning: \n",
      "A value is trying to be set on a copy of a slice from a DataFrame.\n",
      "Try using .loc[row_indexer,col_indexer] = value instead\n",
      "\n",
      "See the caveats in the documentation: https://pandas.pydata.org/pandas-docs/stable/user_guide/indexing.html#returning-a-view-versus-a-copy\n",
      "  df_y[log_y_name] = np.log10(df_y[y_name])\n"
     ]
    },
    {
     "name": "stdout",
     "output_type": "stream",
     "text": [
      "start plot h_flux_17753876\n",
      "start plot log_h_flux_17753876\n"
     ]
    },
    {
     "name": "stderr",
     "output_type": "stream",
     "text": [
      "/home/jliao/workspace/GitHub/ml_ringcurrent_ion/plot_functions.py:47: UserWarning: The figure layout has changed to tight\n",
      "  plt.tight_layout()\n"
     ]
    },
    {
     "name": "stdout",
     "output_type": "stream",
     "text": [
      "Index(['DateTime', 'h_flux_17753876', 'log_h_flux_17753876'], dtype='object')\n",
      "output_rel05/fulldata/df_hope_log_h_flux_15236896\n"
     ]
    },
    {
     "name": "stderr",
     "output_type": "stream",
     "text": [
      "/home/jliao/workspace/GitHub/ml_ringcurrent_ion/prepare_fulldata.py:109: SettingWithCopyWarning: \n",
      "A value is trying to be set on a copy of a slice from a DataFrame.\n",
      "Try using .loc[row_indexer,col_indexer] = value instead\n",
      "\n",
      "See the caveats in the documentation: https://pandas.pydata.org/pandas-docs/stable/user_guide/indexing.html#returning-a-view-versus-a-copy\n",
      "  df_y[log_y_name] = np.log10(df_y[y_name])\n"
     ]
    },
    {
     "name": "stdout",
     "output_type": "stream",
     "text": [
      "start plot h_flux_15236896\n",
      "start plot log_h_flux_15236896\n"
     ]
    },
    {
     "name": "stderr",
     "output_type": "stream",
     "text": [
      "/home/jliao/workspace/GitHub/ml_ringcurrent_ion/plot_functions.py:47: UserWarning: The figure layout has changed to tight\n",
      "  plt.tight_layout()\n"
     ]
    },
    {
     "name": "stdout",
     "output_type": "stream",
     "text": [
      "Index(['DateTime', 'h_flux_15236896', 'log_h_flux_15236896'], dtype='object')\n",
      "output_rel05/fulldata/df_hope_log_h_flux_13076798\n"
     ]
    },
    {
     "name": "stderr",
     "output_type": "stream",
     "text": [
      "/home/jliao/workspace/GitHub/ml_ringcurrent_ion/prepare_fulldata.py:109: SettingWithCopyWarning: \n",
      "A value is trying to be set on a copy of a slice from a DataFrame.\n",
      "Try using .loc[row_indexer,col_indexer] = value instead\n",
      "\n",
      "See the caveats in the documentation: https://pandas.pydata.org/pandas-docs/stable/user_guide/indexing.html#returning-a-view-versus-a-copy\n",
      "  df_y[log_y_name] = np.log10(df_y[y_name])\n"
     ]
    },
    {
     "name": "stdout",
     "output_type": "stream",
     "text": [
      "start plot h_flux_13076798\n",
      "start plot log_h_flux_13076798\n"
     ]
    },
    {
     "name": "stderr",
     "output_type": "stream",
     "text": [
      "/home/jliao/workspace/GitHub/ml_ringcurrent_ion/plot_functions.py:47: UserWarning: The figure layout has changed to tight\n",
      "  plt.tight_layout()\n"
     ]
    },
    {
     "name": "stdout",
     "output_type": "stream",
     "text": [
      "Index(['DateTime', 'h_flux_13076798', 'log_h_flux_13076798'], dtype='object')\n",
      "output_rel05/fulldata/df_hope_log_h_flux_11222936\n"
     ]
    },
    {
     "name": "stderr",
     "output_type": "stream",
     "text": [
      "/home/jliao/workspace/GitHub/ml_ringcurrent_ion/prepare_fulldata.py:109: SettingWithCopyWarning: \n",
      "A value is trying to be set on a copy of a slice from a DataFrame.\n",
      "Try using .loc[row_indexer,col_indexer] = value instead\n",
      "\n",
      "See the caveats in the documentation: https://pandas.pydata.org/pandas-docs/stable/user_guide/indexing.html#returning-a-view-versus-a-copy\n",
      "  df_y[log_y_name] = np.log10(df_y[y_name])\n"
     ]
    },
    {
     "name": "stdout",
     "output_type": "stream",
     "text": [
      "start plot h_flux_11222936\n",
      "start plot log_h_flux_11222936\n"
     ]
    },
    {
     "name": "stderr",
     "output_type": "stream",
     "text": [
      "/home/jliao/workspace/GitHub/ml_ringcurrent_ion/plot_functions.py:47: UserWarning: The figure layout has changed to tight\n",
      "  plt.tight_layout()\n"
     ]
    },
    {
     "name": "stdout",
     "output_type": "stream",
     "text": [
      "Index(['DateTime', 'h_flux_11222936', 'log_h_flux_11222936'], dtype='object')\n",
      "output_rel05/fulldata/df_hope_log_h_flux_9631899\n"
     ]
    },
    {
     "name": "stderr",
     "output_type": "stream",
     "text": [
      "/home/jliao/workspace/GitHub/ml_ringcurrent_ion/prepare_fulldata.py:109: SettingWithCopyWarning: \n",
      "A value is trying to be set on a copy of a slice from a DataFrame.\n",
      "Try using .loc[row_indexer,col_indexer] = value instead\n",
      "\n",
      "See the caveats in the documentation: https://pandas.pydata.org/pandas-docs/stable/user_guide/indexing.html#returning-a-view-versus-a-copy\n",
      "  df_y[log_y_name] = np.log10(df_y[y_name])\n"
     ]
    },
    {
     "name": "stdout",
     "output_type": "stream",
     "text": [
      "start plot h_flux_9631899\n",
      "start plot log_h_flux_9631899\n"
     ]
    },
    {
     "name": "stderr",
     "output_type": "stream",
     "text": [
      "/home/jliao/workspace/GitHub/ml_ringcurrent_ion/plot_functions.py:47: UserWarning: The figure layout has changed to tight\n",
      "  plt.tight_layout()\n"
     ]
    },
    {
     "name": "stdout",
     "output_type": "stream",
     "text": [
      "Index(['DateTime', 'h_flux_9631899', 'log_h_flux_9631899'], dtype='object')\n",
      "output_rel05/fulldata/df_hope_log_h_flux_8266406\n"
     ]
    },
    {
     "name": "stderr",
     "output_type": "stream",
     "text": [
      "/home/jliao/workspace/GitHub/ml_ringcurrent_ion/prepare_fulldata.py:109: SettingWithCopyWarning: \n",
      "A value is trying to be set on a copy of a slice from a DataFrame.\n",
      "Try using .loc[row_indexer,col_indexer] = value instead\n",
      "\n",
      "See the caveats in the documentation: https://pandas.pydata.org/pandas-docs/stable/user_guide/indexing.html#returning-a-view-versus-a-copy\n",
      "  df_y[log_y_name] = np.log10(df_y[y_name])\n"
     ]
    },
    {
     "name": "stdout",
     "output_type": "stream",
     "text": [
      "start plot h_flux_8266406\n",
      "start plot log_h_flux_8266406\n"
     ]
    },
    {
     "name": "stderr",
     "output_type": "stream",
     "text": [
      "/home/jliao/workspace/GitHub/ml_ringcurrent_ion/plot_functions.py:47: UserWarning: The figure layout has changed to tight\n",
      "  plt.tight_layout()\n"
     ]
    },
    {
     "name": "stdout",
     "output_type": "stream",
     "text": [
      "Index(['DateTime', 'h_flux_8266406', 'log_h_flux_8266406'], dtype='object')\n",
      "output_rel05/fulldata/df_hope_log_h_flux_7094516\n"
     ]
    },
    {
     "name": "stderr",
     "output_type": "stream",
     "text": [
      "/home/jliao/workspace/GitHub/ml_ringcurrent_ion/prepare_fulldata.py:109: SettingWithCopyWarning: \n",
      "A value is trying to be set on a copy of a slice from a DataFrame.\n",
      "Try using .loc[row_indexer,col_indexer] = value instead\n",
      "\n",
      "See the caveats in the documentation: https://pandas.pydata.org/pandas-docs/stable/user_guide/indexing.html#returning-a-view-versus-a-copy\n",
      "  df_y[log_y_name] = np.log10(df_y[y_name])\n"
     ]
    },
    {
     "name": "stdout",
     "output_type": "stream",
     "text": [
      "start plot h_flux_7094516\n",
      "start plot log_h_flux_7094516\n"
     ]
    },
    {
     "name": "stderr",
     "output_type": "stream",
     "text": [
      "/home/jliao/workspace/GitHub/ml_ringcurrent_ion/plot_functions.py:47: UserWarning: The figure layout has changed to tight\n",
      "  plt.tight_layout()\n"
     ]
    },
    {
     "name": "stdout",
     "output_type": "stream",
     "text": [
      "Index(['DateTime', 'h_flux_7094516', 'log_h_flux_7094516'], dtype='object')\n",
      "output_rel05/fulldata/df_hope_log_h_flux_6088722\n"
     ]
    },
    {
     "name": "stderr",
     "output_type": "stream",
     "text": [
      "/home/jliao/workspace/GitHub/ml_ringcurrent_ion/prepare_fulldata.py:109: SettingWithCopyWarning: \n",
      "A value is trying to be set on a copy of a slice from a DataFrame.\n",
      "Try using .loc[row_indexer,col_indexer] = value instead\n",
      "\n",
      "See the caveats in the documentation: https://pandas.pydata.org/pandas-docs/stable/user_guide/indexing.html#returning-a-view-versus-a-copy\n",
      "  df_y[log_y_name] = np.log10(df_y[y_name])\n"
     ]
    },
    {
     "name": "stdout",
     "output_type": "stream",
     "text": [
      "start plot h_flux_6088722\n",
      "start plot log_h_flux_6088722\n"
     ]
    },
    {
     "name": "stderr",
     "output_type": "stream",
     "text": [
      "/home/jliao/workspace/GitHub/ml_ringcurrent_ion/plot_functions.py:47: UserWarning: The figure layout has changed to tight\n",
      "  plt.tight_layout()\n"
     ]
    },
    {
     "name": "stdout",
     "output_type": "stream",
     "text": [
      "Index(['DateTime', 'h_flux_6088722', 'log_h_flux_6088722'], dtype='object')\n",
      "output_rel05/fulldata/df_hope_log_h_flux_5225528\n"
     ]
    },
    {
     "name": "stderr",
     "output_type": "stream",
     "text": [
      "/home/jliao/workspace/GitHub/ml_ringcurrent_ion/prepare_fulldata.py:109: SettingWithCopyWarning: \n",
      "A value is trying to be set on a copy of a slice from a DataFrame.\n",
      "Try using .loc[row_indexer,col_indexer] = value instead\n",
      "\n",
      "See the caveats in the documentation: https://pandas.pydata.org/pandas-docs/stable/user_guide/indexing.html#returning-a-view-versus-a-copy\n",
      "  df_y[log_y_name] = np.log10(df_y[y_name])\n"
     ]
    },
    {
     "name": "stdout",
     "output_type": "stream",
     "text": [
      "start plot h_flux_5225528\n",
      "start plot log_h_flux_5225528\n"
     ]
    },
    {
     "name": "stderr",
     "output_type": "stream",
     "text": [
      "/home/jliao/workspace/GitHub/ml_ringcurrent_ion/plot_functions.py:47: UserWarning: The figure layout has changed to tight\n",
      "  plt.tight_layout()\n"
     ]
    },
    {
     "name": "stdout",
     "output_type": "stream",
     "text": [
      "Index(['DateTime', 'h_flux_5225528', 'log_h_flux_5225528'], dtype='object')\n",
      "output_rel05/fulldata/df_hope_log_h_flux_4484742\n"
     ]
    },
    {
     "name": "stderr",
     "output_type": "stream",
     "text": [
      "/home/jliao/workspace/GitHub/ml_ringcurrent_ion/prepare_fulldata.py:109: SettingWithCopyWarning: \n",
      "A value is trying to be set on a copy of a slice from a DataFrame.\n",
      "Try using .loc[row_indexer,col_indexer] = value instead\n",
      "\n",
      "See the caveats in the documentation: https://pandas.pydata.org/pandas-docs/stable/user_guide/indexing.html#returning-a-view-versus-a-copy\n",
      "  df_y[log_y_name] = np.log10(df_y[y_name])\n"
     ]
    },
    {
     "name": "stdout",
     "output_type": "stream",
     "text": [
      "start plot h_flux_4484742\n",
      "start plot log_h_flux_4484742\n"
     ]
    },
    {
     "name": "stderr",
     "output_type": "stream",
     "text": [
      "/home/jliao/workspace/GitHub/ml_ringcurrent_ion/plot_functions.py:47: UserWarning: The figure layout has changed to tight\n",
      "  plt.tight_layout()\n"
     ]
    },
    {
     "name": "stdout",
     "output_type": "stream",
     "text": [
      "Index(['DateTime', 'h_flux_4484742', 'log_h_flux_4484742'], dtype='object')\n",
      "output_rel05/fulldata/df_hope_log_h_flux_3848919\n"
     ]
    },
    {
     "name": "stderr",
     "output_type": "stream",
     "text": [
      "/home/jliao/workspace/GitHub/ml_ringcurrent_ion/prepare_fulldata.py:109: SettingWithCopyWarning: \n",
      "A value is trying to be set on a copy of a slice from a DataFrame.\n",
      "Try using .loc[row_indexer,col_indexer] = value instead\n",
      "\n",
      "See the caveats in the documentation: https://pandas.pydata.org/pandas-docs/stable/user_guide/indexing.html#returning-a-view-versus-a-copy\n",
      "  df_y[log_y_name] = np.log10(df_y[y_name])\n"
     ]
    },
    {
     "name": "stdout",
     "output_type": "stream",
     "text": [
      "start plot h_flux_3848919\n",
      "start plot log_h_flux_3848919\n"
     ]
    },
    {
     "name": "stderr",
     "output_type": "stream",
     "text": [
      "/home/jliao/workspace/GitHub/ml_ringcurrent_ion/plot_functions.py:47: UserWarning: The figure layout has changed to tight\n",
      "  plt.tight_layout()\n"
     ]
    },
    {
     "name": "stdout",
     "output_type": "stream",
     "text": [
      "Index(['DateTime', 'h_flux_3848919', 'log_h_flux_3848919'], dtype='object')\n",
      "output_rel05/fulldata/df_hope_log_h_flux_3303284\n"
     ]
    },
    {
     "name": "stderr",
     "output_type": "stream",
     "text": [
      "/home/jliao/workspace/GitHub/ml_ringcurrent_ion/prepare_fulldata.py:109: SettingWithCopyWarning: \n",
      "A value is trying to be set on a copy of a slice from a DataFrame.\n",
      "Try using .loc[row_indexer,col_indexer] = value instead\n",
      "\n",
      "See the caveats in the documentation: https://pandas.pydata.org/pandas-docs/stable/user_guide/indexing.html#returning-a-view-versus-a-copy\n",
      "  df_y[log_y_name] = np.log10(df_y[y_name])\n",
      "/home/jliao/workspace/GitHub/ml_ringcurrent_ion/plot_functions.py:35: RuntimeWarning: More than 20 figures have been opened. Figures created through the pyplot interface (`matplotlib.pyplot.figure`) are retained until explicitly closed and may consume too much memory. (To control this warning, see the rcParam `figure.max_open_warning`). Consider using `matplotlib.pyplot.close()`.\n",
      "  fig1, ax1 = plt.subplots(nvar,1, constrained_layout = True)\n",
      "/home/jliao/workspace/GitHub/ml_ringcurrent_ion/plot_functions.py:47: UserWarning: The figure layout has changed to tight\n",
      "  plt.tight_layout()\n"
     ]
    },
    {
     "name": "stdout",
     "output_type": "stream",
     "text": [
      "start plot h_flux_3303284\n",
      "start plot log_h_flux_3303284\n",
      "Index(['DateTime', 'h_flux_3303284', 'log_h_flux_3303284'], dtype='object')\n",
      "output_rel05/fulldata/df_hope_log_h_flux_2834964\n"
     ]
    },
    {
     "name": "stderr",
     "output_type": "stream",
     "text": [
      "/home/jliao/workspace/GitHub/ml_ringcurrent_ion/prepare_fulldata.py:109: SettingWithCopyWarning: \n",
      "A value is trying to be set on a copy of a slice from a DataFrame.\n",
      "Try using .loc[row_indexer,col_indexer] = value instead\n",
      "\n",
      "See the caveats in the documentation: https://pandas.pydata.org/pandas-docs/stable/user_guide/indexing.html#returning-a-view-versus-a-copy\n",
      "  df_y[log_y_name] = np.log10(df_y[y_name])\n"
     ]
    },
    {
     "name": "stdout",
     "output_type": "stream",
     "text": [
      "start plot h_flux_2834964\n",
      "start plot log_h_flux_2834964\n"
     ]
    },
    {
     "name": "stderr",
     "output_type": "stream",
     "text": [
      "/home/jliao/workspace/GitHub/ml_ringcurrent_ion/plot_functions.py:47: UserWarning: The figure layout has changed to tight\n",
      "  plt.tight_layout()\n"
     ]
    },
    {
     "name": "stdout",
     "output_type": "stream",
     "text": [
      "Index(['DateTime', 'h_flux_2834964', 'log_h_flux_2834964'], dtype='object')\n",
      "output_rel05/fulldata/df_hope_log_h_flux_2433055\n"
     ]
    },
    {
     "name": "stderr",
     "output_type": "stream",
     "text": [
      "/home/jliao/workspace/GitHub/ml_ringcurrent_ion/prepare_fulldata.py:109: SettingWithCopyWarning: \n",
      "A value is trying to be set on a copy of a slice from a DataFrame.\n",
      "Try using .loc[row_indexer,col_indexer] = value instead\n",
      "\n",
      "See the caveats in the documentation: https://pandas.pydata.org/pandas-docs/stable/user_guide/indexing.html#returning-a-view-versus-a-copy\n",
      "  df_y[log_y_name] = np.log10(df_y[y_name])\n"
     ]
    },
    {
     "name": "stdout",
     "output_type": "stream",
     "text": [
      "start plot h_flux_2433055\n",
      "start plot log_h_flux_2433055\n"
     ]
    },
    {
     "name": "stderr",
     "output_type": "stream",
     "text": [
      "/home/jliao/workspace/GitHub/ml_ringcurrent_ion/plot_functions.py:47: UserWarning: The figure layout has changed to tight\n",
      "  plt.tight_layout()\n"
     ]
    },
    {
     "name": "stdout",
     "output_type": "stream",
     "text": [
      "Index(['DateTime', 'h_flux_2433055', 'log_h_flux_2433055'], dtype='object')\n",
      "output_rel05/fulldata/df_hope_log_h_flux_2088129\n"
     ]
    },
    {
     "name": "stderr",
     "output_type": "stream",
     "text": [
      "/home/jliao/workspace/GitHub/ml_ringcurrent_ion/prepare_fulldata.py:109: SettingWithCopyWarning: \n",
      "A value is trying to be set on a copy of a slice from a DataFrame.\n",
      "Try using .loc[row_indexer,col_indexer] = value instead\n",
      "\n",
      "See the caveats in the documentation: https://pandas.pydata.org/pandas-docs/stable/user_guide/indexing.html#returning-a-view-versus-a-copy\n",
      "  df_y[log_y_name] = np.log10(df_y[y_name])\n"
     ]
    },
    {
     "name": "stdout",
     "output_type": "stream",
     "text": [
      "start plot h_flux_2088129\n",
      "start plot log_h_flux_2088129\n"
     ]
    },
    {
     "name": "stderr",
     "output_type": "stream",
     "text": [
      "/home/jliao/workspace/GitHub/ml_ringcurrent_ion/plot_functions.py:47: UserWarning: The figure layout has changed to tight\n",
      "  plt.tight_layout()\n"
     ]
    },
    {
     "name": "stdout",
     "output_type": "stream",
     "text": [
      "Index(['DateTime', 'h_flux_2088129', 'log_h_flux_2088129'], dtype='object')\n",
      "output_rel05/fulldata/df_hope_log_h_flux_1792096\n"
     ]
    },
    {
     "name": "stderr",
     "output_type": "stream",
     "text": [
      "/home/jliao/workspace/GitHub/ml_ringcurrent_ion/prepare_fulldata.py:109: SettingWithCopyWarning: \n",
      "A value is trying to be set on a copy of a slice from a DataFrame.\n",
      "Try using .loc[row_indexer,col_indexer] = value instead\n",
      "\n",
      "See the caveats in the documentation: https://pandas.pydata.org/pandas-docs/stable/user_guide/indexing.html#returning-a-view-versus-a-copy\n",
      "  df_y[log_y_name] = np.log10(df_y[y_name])\n"
     ]
    },
    {
     "name": "stdout",
     "output_type": "stream",
     "text": [
      "start plot h_flux_1792096\n",
      "start plot log_h_flux_1792096\n"
     ]
    },
    {
     "name": "stderr",
     "output_type": "stream",
     "text": [
      "/home/jliao/workspace/GitHub/ml_ringcurrent_ion/plot_functions.py:47: UserWarning: The figure layout has changed to tight\n",
      "  plt.tight_layout()\n"
     ]
    },
    {
     "name": "stdout",
     "output_type": "stream",
     "text": [
      "Index(['DateTime', 'h_flux_1792096', 'log_h_flux_1792096'], dtype='object')\n",
      "output_rel05/fulldata/df_hope_log_h_flux_1538062\n"
     ]
    },
    {
     "name": "stderr",
     "output_type": "stream",
     "text": [
      "/home/jliao/workspace/GitHub/ml_ringcurrent_ion/prepare_fulldata.py:109: SettingWithCopyWarning: \n",
      "A value is trying to be set on a copy of a slice from a DataFrame.\n",
      "Try using .loc[row_indexer,col_indexer] = value instead\n",
      "\n",
      "See the caveats in the documentation: https://pandas.pydata.org/pandas-docs/stable/user_guide/indexing.html#returning-a-view-versus-a-copy\n",
      "  df_y[log_y_name] = np.log10(df_y[y_name])\n"
     ]
    },
    {
     "name": "stdout",
     "output_type": "stream",
     "text": [
      "start plot h_flux_1538062\n",
      "start plot log_h_flux_1538062\n"
     ]
    },
    {
     "name": "stderr",
     "output_type": "stream",
     "text": [
      "/home/jliao/workspace/GitHub/ml_ringcurrent_ion/plot_functions.py:47: UserWarning: The figure layout has changed to tight\n",
      "  plt.tight_layout()\n"
     ]
    },
    {
     "name": "stdout",
     "output_type": "stream",
     "text": [
      "Index(['DateTime', 'h_flux_1538062', 'log_h_flux_1538062'], dtype='object')\n",
      "output_rel05/fulldata/df_hope_log_h_flux_1319977\n"
     ]
    },
    {
     "name": "stderr",
     "output_type": "stream",
     "text": [
      "/home/jliao/workspace/GitHub/ml_ringcurrent_ion/prepare_fulldata.py:109: SettingWithCopyWarning: \n",
      "A value is trying to be set on a copy of a slice from a DataFrame.\n",
      "Try using .loc[row_indexer,col_indexer] = value instead\n",
      "\n",
      "See the caveats in the documentation: https://pandas.pydata.org/pandas-docs/stable/user_guide/indexing.html#returning-a-view-versus-a-copy\n",
      "  df_y[log_y_name] = np.log10(df_y[y_name])\n"
     ]
    },
    {
     "name": "stdout",
     "output_type": "stream",
     "text": [
      "start plot h_flux_1319977\n",
      "start plot log_h_flux_1319977\n"
     ]
    },
    {
     "name": "stderr",
     "output_type": "stream",
     "text": [
      "/home/jliao/workspace/GitHub/ml_ringcurrent_ion/plot_functions.py:47: UserWarning: The figure layout has changed to tight\n",
      "  plt.tight_layout()\n"
     ]
    },
    {
     "name": "stdout",
     "output_type": "stream",
     "text": [
      "Index(['DateTime', 'h_flux_1319977', 'log_h_flux_1319977'], dtype='object')\n",
      "output_rel05/fulldata/df_hope_log_h_flux_1132846\n"
     ]
    },
    {
     "name": "stderr",
     "output_type": "stream",
     "text": [
      "/home/jliao/workspace/GitHub/ml_ringcurrent_ion/prepare_fulldata.py:109: SettingWithCopyWarning: \n",
      "A value is trying to be set on a copy of a slice from a DataFrame.\n",
      "Try using .loc[row_indexer,col_indexer] = value instead\n",
      "\n",
      "See the caveats in the documentation: https://pandas.pydata.org/pandas-docs/stable/user_guide/indexing.html#returning-a-view-versus-a-copy\n",
      "  df_y[log_y_name] = np.log10(df_y[y_name])\n"
     ]
    },
    {
     "name": "stdout",
     "output_type": "stream",
     "text": [
      "start plot h_flux_1132846\n",
      "start plot log_h_flux_1132846\n"
     ]
    },
    {
     "name": "stderr",
     "output_type": "stream",
     "text": [
      "/home/jliao/workspace/GitHub/ml_ringcurrent_ion/plot_functions.py:47: UserWarning: The figure layout has changed to tight\n",
      "  plt.tight_layout()\n"
     ]
    },
    {
     "name": "stdout",
     "output_type": "stream",
     "text": [
      "Index(['DateTime', 'h_flux_1132846', 'log_h_flux_1132846'], dtype='object')\n",
      "output_rel05/fulldata/df_hope_log_h_flux_972237\n"
     ]
    },
    {
     "name": "stderr",
     "output_type": "stream",
     "text": [
      "/home/jliao/workspace/GitHub/ml_ringcurrent_ion/prepare_fulldata.py:109: SettingWithCopyWarning: \n",
      "A value is trying to be set on a copy of a slice from a DataFrame.\n",
      "Try using .loc[row_indexer,col_indexer] = value instead\n",
      "\n",
      "See the caveats in the documentation: https://pandas.pydata.org/pandas-docs/stable/user_guide/indexing.html#returning-a-view-versus-a-copy\n",
      "  df_y[log_y_name] = np.log10(df_y[y_name])\n"
     ]
    },
    {
     "name": "stdout",
     "output_type": "stream",
     "text": [
      "start plot h_flux_972237\n",
      "start plot log_h_flux_972237\n"
     ]
    },
    {
     "name": "stderr",
     "output_type": "stream",
     "text": [
      "/home/jliao/workspace/GitHub/ml_ringcurrent_ion/plot_functions.py:47: UserWarning: The figure layout has changed to tight\n",
      "  plt.tight_layout()\n"
     ]
    },
    {
     "name": "stdout",
     "output_type": "stream",
     "text": [
      "Index(['DateTime', 'h_flux_972237', 'log_h_flux_972237'], dtype='object')\n",
      "output_rel05/fulldata/df_hope_log_o_flux_51767680\n"
     ]
    },
    {
     "name": "stderr",
     "output_type": "stream",
     "text": [
      "/home/jliao/workspace/GitHub/ml_ringcurrent_ion/prepare_fulldata.py:109: SettingWithCopyWarning: \n",
      "A value is trying to be set on a copy of a slice from a DataFrame.\n",
      "Try using .loc[row_indexer,col_indexer] = value instead\n",
      "\n",
      "See the caveats in the documentation: https://pandas.pydata.org/pandas-docs/stable/user_guide/indexing.html#returning-a-view-versus-a-copy\n",
      "  df_y[log_y_name] = np.log10(df_y[y_name])\n"
     ]
    },
    {
     "name": "stdout",
     "output_type": "stream",
     "text": [
      "start plot o_flux_51767680\n",
      "start plot log_o_flux_51767680\n"
     ]
    },
    {
     "name": "stderr",
     "output_type": "stream",
     "text": [
      "/home/jliao/workspace/GitHub/ml_ringcurrent_ion/plot_functions.py:47: UserWarning: The figure layout has changed to tight\n",
      "  plt.tight_layout()\n"
     ]
    },
    {
     "name": "stdout",
     "output_type": "stream",
     "text": [
      "Index(['DateTime', 'o_flux_51767680', 'log_o_flux_51767680'], dtype='object')\n",
      "output_rel05/fulldata/df_hope_log_o_flux_44428696\n"
     ]
    },
    {
     "name": "stderr",
     "output_type": "stream",
     "text": [
      "/home/jliao/workspace/GitHub/ml_ringcurrent_ion/prepare_fulldata.py:109: SettingWithCopyWarning: \n",
      "A value is trying to be set on a copy of a slice from a DataFrame.\n",
      "Try using .loc[row_indexer,col_indexer] = value instead\n",
      "\n",
      "See the caveats in the documentation: https://pandas.pydata.org/pandas-docs/stable/user_guide/indexing.html#returning-a-view-versus-a-copy\n",
      "  df_y[log_y_name] = np.log10(df_y[y_name])\n"
     ]
    },
    {
     "name": "stdout",
     "output_type": "stream",
     "text": [
      "start plot o_flux_44428696\n",
      "start plot log_o_flux_44428696\n"
     ]
    },
    {
     "name": "stderr",
     "output_type": "stream",
     "text": [
      "/home/jliao/workspace/GitHub/ml_ringcurrent_ion/plot_functions.py:47: UserWarning: The figure layout has changed to tight\n",
      "  plt.tight_layout()\n"
     ]
    },
    {
     "name": "stdout",
     "output_type": "stream",
     "text": [
      "Index(['DateTime', 'o_flux_44428696', 'log_o_flux_44428696'], dtype='object')\n",
      "output_rel05/fulldata/df_hope_log_o_flux_38130120\n"
     ]
    },
    {
     "name": "stderr",
     "output_type": "stream",
     "text": [
      "/home/jliao/workspace/GitHub/ml_ringcurrent_ion/prepare_fulldata.py:109: SettingWithCopyWarning: \n",
      "A value is trying to be set on a copy of a slice from a DataFrame.\n",
      "Try using .loc[row_indexer,col_indexer] = value instead\n",
      "\n",
      "See the caveats in the documentation: https://pandas.pydata.org/pandas-docs/stable/user_guide/indexing.html#returning-a-view-versus-a-copy\n",
      "  df_y[log_y_name] = np.log10(df_y[y_name])\n"
     ]
    },
    {
     "name": "stdout",
     "output_type": "stream",
     "text": [
      "start plot o_flux_38130120\n",
      "start plot log_o_flux_38130120\n"
     ]
    },
    {
     "name": "stderr",
     "output_type": "stream",
     "text": [
      "/home/jliao/workspace/GitHub/ml_ringcurrent_ion/plot_functions.py:47: UserWarning: The figure layout has changed to tight\n",
      "  plt.tight_layout()\n"
     ]
    },
    {
     "name": "stdout",
     "output_type": "stream",
     "text": [
      "Index(['DateTime', 'o_flux_38130120', 'log_o_flux_38130120'], dtype='object')\n",
      "output_rel05/fulldata/df_hope_log_o_flux_32724498\n"
     ]
    },
    {
     "name": "stderr",
     "output_type": "stream",
     "text": [
      "/home/jliao/workspace/GitHub/ml_ringcurrent_ion/prepare_fulldata.py:109: SettingWithCopyWarning: \n",
      "A value is trying to be set on a copy of a slice from a DataFrame.\n",
      "Try using .loc[row_indexer,col_indexer] = value instead\n",
      "\n",
      "See the caveats in the documentation: https://pandas.pydata.org/pandas-docs/stable/user_guide/indexing.html#returning-a-view-versus-a-copy\n",
      "  df_y[log_y_name] = np.log10(df_y[y_name])\n"
     ]
    },
    {
     "name": "stdout",
     "output_type": "stream",
     "text": [
      "start plot o_flux_32724498\n",
      "start plot log_o_flux_32724498\n"
     ]
    },
    {
     "name": "stderr",
     "output_type": "stream",
     "text": [
      "/home/jliao/workspace/GitHub/ml_ringcurrent_ion/plot_functions.py:47: UserWarning: The figure layout has changed to tight\n",
      "  plt.tight_layout()\n"
     ]
    },
    {
     "name": "stdout",
     "output_type": "stream",
     "text": [
      "Index(['DateTime', 'o_flux_32724498', 'log_o_flux_32724498'], dtype='object')\n",
      "output_rel05/fulldata/df_hope_log_o_flux_28085268\n"
     ]
    },
    {
     "name": "stderr",
     "output_type": "stream",
     "text": [
      "/home/jliao/workspace/GitHub/ml_ringcurrent_ion/prepare_fulldata.py:109: SettingWithCopyWarning: \n",
      "A value is trying to be set on a copy of a slice from a DataFrame.\n",
      "Try using .loc[row_indexer,col_indexer] = value instead\n",
      "\n",
      "See the caveats in the documentation: https://pandas.pydata.org/pandas-docs/stable/user_guide/indexing.html#returning-a-view-versus-a-copy\n",
      "  df_y[log_y_name] = np.log10(df_y[y_name])\n"
     ]
    },
    {
     "name": "stdout",
     "output_type": "stream",
     "text": [
      "start plot o_flux_28085268\n",
      "start plot log_o_flux_28085268\n"
     ]
    },
    {
     "name": "stderr",
     "output_type": "stream",
     "text": [
      "/home/jliao/workspace/GitHub/ml_ringcurrent_ion/plot_functions.py:47: UserWarning: The figure layout has changed to tight\n",
      "  plt.tight_layout()\n"
     ]
    },
    {
     "name": "stdout",
     "output_type": "stream",
     "text": [
      "Index(['DateTime', 'o_flux_28085268', 'log_o_flux_28085268'], dtype='object')\n",
      "output_rel05/fulldata/df_hope_log_o_flux_24103668\n"
     ]
    },
    {
     "name": "stderr",
     "output_type": "stream",
     "text": [
      "/home/jliao/workspace/GitHub/ml_ringcurrent_ion/prepare_fulldata.py:109: SettingWithCopyWarning: \n",
      "A value is trying to be set on a copy of a slice from a DataFrame.\n",
      "Try using .loc[row_indexer,col_indexer] = value instead\n",
      "\n",
      "See the caveats in the documentation: https://pandas.pydata.org/pandas-docs/stable/user_guide/indexing.html#returning-a-view-versus-a-copy\n",
      "  df_y[log_y_name] = np.log10(df_y[y_name])\n"
     ]
    },
    {
     "name": "stdout",
     "output_type": "stream",
     "text": [
      "start plot o_flux_24103668\n",
      "start plot log_o_flux_24103668\n"
     ]
    },
    {
     "name": "stderr",
     "output_type": "stream",
     "text": [
      "/home/jliao/workspace/GitHub/ml_ringcurrent_ion/plot_functions.py:47: UserWarning: The figure layout has changed to tight\n",
      "  plt.tight_layout()\n"
     ]
    },
    {
     "name": "stdout",
     "output_type": "stream",
     "text": [
      "Index(['DateTime', 'o_flux_24103668', 'log_o_flux_24103668'], dtype='object')\n",
      "output_rel05/fulldata/df_hope_log_o_flux_20686558\n"
     ]
    },
    {
     "name": "stderr",
     "output_type": "stream",
     "text": [
      "/home/jliao/workspace/GitHub/ml_ringcurrent_ion/prepare_fulldata.py:109: SettingWithCopyWarning: \n",
      "A value is trying to be set on a copy of a slice from a DataFrame.\n",
      "Try using .loc[row_indexer,col_indexer] = value instead\n",
      "\n",
      "See the caveats in the documentation: https://pandas.pydata.org/pandas-docs/stable/user_guide/indexing.html#returning-a-view-versus-a-copy\n",
      "  df_y[log_y_name] = np.log10(df_y[y_name])\n"
     ]
    },
    {
     "name": "stdout",
     "output_type": "stream",
     "text": [
      "start plot o_flux_20686558\n",
      "start plot log_o_flux_20686558\n"
     ]
    },
    {
     "name": "stderr",
     "output_type": "stream",
     "text": [
      "/home/jliao/workspace/GitHub/ml_ringcurrent_ion/plot_functions.py:47: UserWarning: The figure layout has changed to tight\n",
      "  plt.tight_layout()\n"
     ]
    },
    {
     "name": "stdout",
     "output_type": "stream",
     "text": [
      "Index(['DateTime', 'o_flux_20686558', 'log_o_flux_20686558'], dtype='object')\n",
      "output_rel05/fulldata/df_hope_log_o_flux_17753876\n"
     ]
    },
    {
     "name": "stderr",
     "output_type": "stream",
     "text": [
      "/home/jliao/workspace/GitHub/ml_ringcurrent_ion/prepare_fulldata.py:109: SettingWithCopyWarning: \n",
      "A value is trying to be set on a copy of a slice from a DataFrame.\n",
      "Try using .loc[row_indexer,col_indexer] = value instead\n",
      "\n",
      "See the caveats in the documentation: https://pandas.pydata.org/pandas-docs/stable/user_guide/indexing.html#returning-a-view-versus-a-copy\n",
      "  df_y[log_y_name] = np.log10(df_y[y_name])\n"
     ]
    },
    {
     "name": "stdout",
     "output_type": "stream",
     "text": [
      "start plot o_flux_17753876\n",
      "start plot log_o_flux_17753876\n"
     ]
    },
    {
     "name": "stderr",
     "output_type": "stream",
     "text": [
      "/home/jliao/workspace/GitHub/ml_ringcurrent_ion/plot_functions.py:47: UserWarning: The figure layout has changed to tight\n",
      "  plt.tight_layout()\n"
     ]
    },
    {
     "name": "stdout",
     "output_type": "stream",
     "text": [
      "Index(['DateTime', 'o_flux_17753876', 'log_o_flux_17753876'], dtype='object')\n",
      "output_rel05/fulldata/df_hope_log_o_flux_15236896\n"
     ]
    },
    {
     "name": "stderr",
     "output_type": "stream",
     "text": [
      "/home/jliao/workspace/GitHub/ml_ringcurrent_ion/prepare_fulldata.py:109: SettingWithCopyWarning: \n",
      "A value is trying to be set on a copy of a slice from a DataFrame.\n",
      "Try using .loc[row_indexer,col_indexer] = value instead\n",
      "\n",
      "See the caveats in the documentation: https://pandas.pydata.org/pandas-docs/stable/user_guide/indexing.html#returning-a-view-versus-a-copy\n",
      "  df_y[log_y_name] = np.log10(df_y[y_name])\n"
     ]
    },
    {
     "name": "stdout",
     "output_type": "stream",
     "text": [
      "start plot o_flux_15236896\n",
      "start plot log_o_flux_15236896\n"
     ]
    },
    {
     "name": "stderr",
     "output_type": "stream",
     "text": [
      "/home/jliao/workspace/GitHub/ml_ringcurrent_ion/plot_functions.py:47: UserWarning: The figure layout has changed to tight\n",
      "  plt.tight_layout()\n"
     ]
    },
    {
     "name": "stdout",
     "output_type": "stream",
     "text": [
      "Index(['DateTime', 'o_flux_15236896', 'log_o_flux_15236896'], dtype='object')\n",
      "output_rel05/fulldata/df_hope_log_o_flux_13076798\n"
     ]
    },
    {
     "name": "stderr",
     "output_type": "stream",
     "text": [
      "/home/jliao/workspace/GitHub/ml_ringcurrent_ion/prepare_fulldata.py:109: SettingWithCopyWarning: \n",
      "A value is trying to be set on a copy of a slice from a DataFrame.\n",
      "Try using .loc[row_indexer,col_indexer] = value instead\n",
      "\n",
      "See the caveats in the documentation: https://pandas.pydata.org/pandas-docs/stable/user_guide/indexing.html#returning-a-view-versus-a-copy\n",
      "  df_y[log_y_name] = np.log10(df_y[y_name])\n"
     ]
    },
    {
     "name": "stdout",
     "output_type": "stream",
     "text": [
      "start plot o_flux_13076798\n",
      "start plot log_o_flux_13076798\n"
     ]
    },
    {
     "name": "stderr",
     "output_type": "stream",
     "text": [
      "/home/jliao/workspace/GitHub/ml_ringcurrent_ion/plot_functions.py:47: UserWarning: The figure layout has changed to tight\n",
      "  plt.tight_layout()\n"
     ]
    },
    {
     "name": "stdout",
     "output_type": "stream",
     "text": [
      "Index(['DateTime', 'o_flux_13076798', 'log_o_flux_13076798'], dtype='object')\n",
      "output_rel05/fulldata/df_hope_log_o_flux_11222936\n"
     ]
    },
    {
     "name": "stderr",
     "output_type": "stream",
     "text": [
      "/home/jliao/workspace/GitHub/ml_ringcurrent_ion/prepare_fulldata.py:109: SettingWithCopyWarning: \n",
      "A value is trying to be set on a copy of a slice from a DataFrame.\n",
      "Try using .loc[row_indexer,col_indexer] = value instead\n",
      "\n",
      "See the caveats in the documentation: https://pandas.pydata.org/pandas-docs/stable/user_guide/indexing.html#returning-a-view-versus-a-copy\n",
      "  df_y[log_y_name] = np.log10(df_y[y_name])\n"
     ]
    },
    {
     "name": "stdout",
     "output_type": "stream",
     "text": [
      "start plot o_flux_11222936\n",
      "start plot log_o_flux_11222936\n"
     ]
    },
    {
     "name": "stderr",
     "output_type": "stream",
     "text": [
      "/home/jliao/workspace/GitHub/ml_ringcurrent_ion/plot_functions.py:47: UserWarning: The figure layout has changed to tight\n",
      "  plt.tight_layout()\n"
     ]
    },
    {
     "name": "stdout",
     "output_type": "stream",
     "text": [
      "Index(['DateTime', 'o_flux_11222936', 'log_o_flux_11222936'], dtype='object')\n",
      "output_rel05/fulldata/df_hope_log_o_flux_9631899\n"
     ]
    },
    {
     "name": "stderr",
     "output_type": "stream",
     "text": [
      "/home/jliao/workspace/GitHub/ml_ringcurrent_ion/prepare_fulldata.py:109: SettingWithCopyWarning: \n",
      "A value is trying to be set on a copy of a slice from a DataFrame.\n",
      "Try using .loc[row_indexer,col_indexer] = value instead\n",
      "\n",
      "See the caveats in the documentation: https://pandas.pydata.org/pandas-docs/stable/user_guide/indexing.html#returning-a-view-versus-a-copy\n",
      "  df_y[log_y_name] = np.log10(df_y[y_name])\n"
     ]
    },
    {
     "name": "stdout",
     "output_type": "stream",
     "text": [
      "start plot o_flux_9631899\n",
      "start plot log_o_flux_9631899\n"
     ]
    },
    {
     "name": "stderr",
     "output_type": "stream",
     "text": [
      "/home/jliao/workspace/GitHub/ml_ringcurrent_ion/plot_functions.py:47: UserWarning: The figure layout has changed to tight\n",
      "  plt.tight_layout()\n"
     ]
    },
    {
     "name": "stdout",
     "output_type": "stream",
     "text": [
      "Index(['DateTime', 'o_flux_9631899', 'log_o_flux_9631899'], dtype='object')\n",
      "output_rel05/fulldata/df_hope_log_o_flux_8266406\n"
     ]
    },
    {
     "name": "stderr",
     "output_type": "stream",
     "text": [
      "/home/jliao/workspace/GitHub/ml_ringcurrent_ion/prepare_fulldata.py:109: SettingWithCopyWarning: \n",
      "A value is trying to be set on a copy of a slice from a DataFrame.\n",
      "Try using .loc[row_indexer,col_indexer] = value instead\n",
      "\n",
      "See the caveats in the documentation: https://pandas.pydata.org/pandas-docs/stable/user_guide/indexing.html#returning-a-view-versus-a-copy\n",
      "  df_y[log_y_name] = np.log10(df_y[y_name])\n"
     ]
    },
    {
     "name": "stdout",
     "output_type": "stream",
     "text": [
      "start plot o_flux_8266406\n",
      "start plot log_o_flux_8266406\n"
     ]
    },
    {
     "name": "stderr",
     "output_type": "stream",
     "text": [
      "/home/jliao/workspace/GitHub/ml_ringcurrent_ion/plot_functions.py:47: UserWarning: The figure layout has changed to tight\n",
      "  plt.tight_layout()\n"
     ]
    },
    {
     "name": "stdout",
     "output_type": "stream",
     "text": [
      "Index(['DateTime', 'o_flux_8266406', 'log_o_flux_8266406'], dtype='object')\n",
      "output_rel05/fulldata/df_hope_log_o_flux_7094516\n"
     ]
    },
    {
     "name": "stderr",
     "output_type": "stream",
     "text": [
      "/home/jliao/workspace/GitHub/ml_ringcurrent_ion/prepare_fulldata.py:109: SettingWithCopyWarning: \n",
      "A value is trying to be set on a copy of a slice from a DataFrame.\n",
      "Try using .loc[row_indexer,col_indexer] = value instead\n",
      "\n",
      "See the caveats in the documentation: https://pandas.pydata.org/pandas-docs/stable/user_guide/indexing.html#returning-a-view-versus-a-copy\n",
      "  df_y[log_y_name] = np.log10(df_y[y_name])\n"
     ]
    },
    {
     "name": "stdout",
     "output_type": "stream",
     "text": [
      "start plot o_flux_7094516\n",
      "start plot log_o_flux_7094516\n"
     ]
    },
    {
     "name": "stderr",
     "output_type": "stream",
     "text": [
      "/home/jliao/workspace/GitHub/ml_ringcurrent_ion/plot_functions.py:47: UserWarning: The figure layout has changed to tight\n",
      "  plt.tight_layout()\n"
     ]
    },
    {
     "name": "stdout",
     "output_type": "stream",
     "text": [
      "Index(['DateTime', 'o_flux_7094516', 'log_o_flux_7094516'], dtype='object')\n",
      "output_rel05/fulldata/df_hope_log_o_flux_6088722\n"
     ]
    },
    {
     "name": "stderr",
     "output_type": "stream",
     "text": [
      "/home/jliao/workspace/GitHub/ml_ringcurrent_ion/prepare_fulldata.py:109: SettingWithCopyWarning: \n",
      "A value is trying to be set on a copy of a slice from a DataFrame.\n",
      "Try using .loc[row_indexer,col_indexer] = value instead\n",
      "\n",
      "See the caveats in the documentation: https://pandas.pydata.org/pandas-docs/stable/user_guide/indexing.html#returning-a-view-versus-a-copy\n",
      "  df_y[log_y_name] = np.log10(df_y[y_name])\n"
     ]
    },
    {
     "name": "stdout",
     "output_type": "stream",
     "text": [
      "start plot o_flux_6088722\n",
      "start plot log_o_flux_6088722\n"
     ]
    },
    {
     "name": "stderr",
     "output_type": "stream",
     "text": [
      "/home/jliao/workspace/GitHub/ml_ringcurrent_ion/plot_functions.py:47: UserWarning: The figure layout has changed to tight\n",
      "  plt.tight_layout()\n"
     ]
    },
    {
     "name": "stdout",
     "output_type": "stream",
     "text": [
      "Index(['DateTime', 'o_flux_6088722', 'log_o_flux_6088722'], dtype='object')\n",
      "output_rel05/fulldata/df_hope_log_o_flux_5225528\n"
     ]
    },
    {
     "name": "stderr",
     "output_type": "stream",
     "text": [
      "/home/jliao/workspace/GitHub/ml_ringcurrent_ion/prepare_fulldata.py:109: SettingWithCopyWarning: \n",
      "A value is trying to be set on a copy of a slice from a DataFrame.\n",
      "Try using .loc[row_indexer,col_indexer] = value instead\n",
      "\n",
      "See the caveats in the documentation: https://pandas.pydata.org/pandas-docs/stable/user_guide/indexing.html#returning-a-view-versus-a-copy\n",
      "  df_y[log_y_name] = np.log10(df_y[y_name])\n"
     ]
    },
    {
     "name": "stdout",
     "output_type": "stream",
     "text": [
      "start plot o_flux_5225528\n",
      "start plot log_o_flux_5225528\n"
     ]
    },
    {
     "name": "stderr",
     "output_type": "stream",
     "text": [
      "/home/jliao/workspace/GitHub/ml_ringcurrent_ion/plot_functions.py:47: UserWarning: The figure layout has changed to tight\n",
      "  plt.tight_layout()\n"
     ]
    },
    {
     "name": "stdout",
     "output_type": "stream",
     "text": [
      "Index(['DateTime', 'o_flux_5225528', 'log_o_flux_5225528'], dtype='object')\n",
      "output_rel05/fulldata/df_hope_log_o_flux_4484742\n"
     ]
    },
    {
     "name": "stderr",
     "output_type": "stream",
     "text": [
      "/home/jliao/workspace/GitHub/ml_ringcurrent_ion/prepare_fulldata.py:109: SettingWithCopyWarning: \n",
      "A value is trying to be set on a copy of a slice from a DataFrame.\n",
      "Try using .loc[row_indexer,col_indexer] = value instead\n",
      "\n",
      "See the caveats in the documentation: https://pandas.pydata.org/pandas-docs/stable/user_guide/indexing.html#returning-a-view-versus-a-copy\n",
      "  df_y[log_y_name] = np.log10(df_y[y_name])\n"
     ]
    },
    {
     "name": "stdout",
     "output_type": "stream",
     "text": [
      "start plot o_flux_4484742\n",
      "start plot log_o_flux_4484742\n"
     ]
    },
    {
     "name": "stderr",
     "output_type": "stream",
     "text": [
      "/home/jliao/workspace/GitHub/ml_ringcurrent_ion/plot_functions.py:47: UserWarning: The figure layout has changed to tight\n",
      "  plt.tight_layout()\n"
     ]
    },
    {
     "name": "stdout",
     "output_type": "stream",
     "text": [
      "Index(['DateTime', 'o_flux_4484742', 'log_o_flux_4484742'], dtype='object')\n",
      "output_rel05/fulldata/df_hope_log_o_flux_3848919\n"
     ]
    },
    {
     "name": "stderr",
     "output_type": "stream",
     "text": [
      "/home/jliao/workspace/GitHub/ml_ringcurrent_ion/prepare_fulldata.py:109: SettingWithCopyWarning: \n",
      "A value is trying to be set on a copy of a slice from a DataFrame.\n",
      "Try using .loc[row_indexer,col_indexer] = value instead\n",
      "\n",
      "See the caveats in the documentation: https://pandas.pydata.org/pandas-docs/stable/user_guide/indexing.html#returning-a-view-versus-a-copy\n",
      "  df_y[log_y_name] = np.log10(df_y[y_name])\n"
     ]
    },
    {
     "name": "stdout",
     "output_type": "stream",
     "text": [
      "start plot o_flux_3848919\n",
      "start plot log_o_flux_3848919\n"
     ]
    },
    {
     "name": "stderr",
     "output_type": "stream",
     "text": [
      "/home/jliao/workspace/GitHub/ml_ringcurrent_ion/plot_functions.py:47: UserWarning: The figure layout has changed to tight\n",
      "  plt.tight_layout()\n"
     ]
    },
    {
     "name": "stdout",
     "output_type": "stream",
     "text": [
      "Index(['DateTime', 'o_flux_3848919', 'log_o_flux_3848919'], dtype='object')\n",
      "output_rel05/fulldata/df_hope_log_o_flux_3303284\n"
     ]
    },
    {
     "name": "stderr",
     "output_type": "stream",
     "text": [
      "/home/jliao/workspace/GitHub/ml_ringcurrent_ion/prepare_fulldata.py:109: SettingWithCopyWarning: \n",
      "A value is trying to be set on a copy of a slice from a DataFrame.\n",
      "Try using .loc[row_indexer,col_indexer] = value instead\n",
      "\n",
      "See the caveats in the documentation: https://pandas.pydata.org/pandas-docs/stable/user_guide/indexing.html#returning-a-view-versus-a-copy\n",
      "  df_y[log_y_name] = np.log10(df_y[y_name])\n"
     ]
    },
    {
     "name": "stdout",
     "output_type": "stream",
     "text": [
      "start plot o_flux_3303284\n",
      "start plot log_o_flux_3303284\n"
     ]
    },
    {
     "name": "stderr",
     "output_type": "stream",
     "text": [
      "/home/jliao/workspace/GitHub/ml_ringcurrent_ion/plot_functions.py:47: UserWarning: The figure layout has changed to tight\n",
      "  plt.tight_layout()\n"
     ]
    },
    {
     "name": "stdout",
     "output_type": "stream",
     "text": [
      "Index(['DateTime', 'o_flux_3303284', 'log_o_flux_3303284'], dtype='object')\n",
      "output_rel05/fulldata/df_hope_log_o_flux_2834964\n"
     ]
    },
    {
     "name": "stderr",
     "output_type": "stream",
     "text": [
      "/home/jliao/workspace/GitHub/ml_ringcurrent_ion/prepare_fulldata.py:109: SettingWithCopyWarning: \n",
      "A value is trying to be set on a copy of a slice from a DataFrame.\n",
      "Try using .loc[row_indexer,col_indexer] = value instead\n",
      "\n",
      "See the caveats in the documentation: https://pandas.pydata.org/pandas-docs/stable/user_guide/indexing.html#returning-a-view-versus-a-copy\n",
      "  df_y[log_y_name] = np.log10(df_y[y_name])\n"
     ]
    },
    {
     "name": "stdout",
     "output_type": "stream",
     "text": [
      "start plot o_flux_2834964\n",
      "start plot log_o_flux_2834964\n"
     ]
    },
    {
     "name": "stderr",
     "output_type": "stream",
     "text": [
      "/home/jliao/workspace/GitHub/ml_ringcurrent_ion/plot_functions.py:47: UserWarning: The figure layout has changed to tight\n",
      "  plt.tight_layout()\n"
     ]
    },
    {
     "name": "stdout",
     "output_type": "stream",
     "text": [
      "Index(['DateTime', 'o_flux_2834964', 'log_o_flux_2834964'], dtype='object')\n",
      "output_rel05/fulldata/df_hope_log_o_flux_2433055\n"
     ]
    },
    {
     "name": "stderr",
     "output_type": "stream",
     "text": [
      "/home/jliao/workspace/GitHub/ml_ringcurrent_ion/prepare_fulldata.py:109: SettingWithCopyWarning: \n",
      "A value is trying to be set on a copy of a slice from a DataFrame.\n",
      "Try using .loc[row_indexer,col_indexer] = value instead\n",
      "\n",
      "See the caveats in the documentation: https://pandas.pydata.org/pandas-docs/stable/user_guide/indexing.html#returning-a-view-versus-a-copy\n",
      "  df_y[log_y_name] = np.log10(df_y[y_name])\n"
     ]
    },
    {
     "name": "stdout",
     "output_type": "stream",
     "text": [
      "start plot o_flux_2433055\n",
      "start plot log_o_flux_2433055\n"
     ]
    },
    {
     "name": "stderr",
     "output_type": "stream",
     "text": [
      "/home/jliao/workspace/GitHub/ml_ringcurrent_ion/plot_functions.py:47: UserWarning: The figure layout has changed to tight\n",
      "  plt.tight_layout()\n"
     ]
    },
    {
     "name": "stdout",
     "output_type": "stream",
     "text": [
      "Index(['DateTime', 'o_flux_2433055', 'log_o_flux_2433055'], dtype='object')\n",
      "output_rel05/fulldata/df_hope_log_o_flux_2088129\n"
     ]
    },
    {
     "name": "stderr",
     "output_type": "stream",
     "text": [
      "/home/jliao/workspace/GitHub/ml_ringcurrent_ion/prepare_fulldata.py:109: SettingWithCopyWarning: \n",
      "A value is trying to be set on a copy of a slice from a DataFrame.\n",
      "Try using .loc[row_indexer,col_indexer] = value instead\n",
      "\n",
      "See the caveats in the documentation: https://pandas.pydata.org/pandas-docs/stable/user_guide/indexing.html#returning-a-view-versus-a-copy\n",
      "  df_y[log_y_name] = np.log10(df_y[y_name])\n"
     ]
    },
    {
     "name": "stdout",
     "output_type": "stream",
     "text": [
      "start plot o_flux_2088129\n",
      "start plot log_o_flux_2088129\n"
     ]
    },
    {
     "name": "stderr",
     "output_type": "stream",
     "text": [
      "/home/jliao/workspace/GitHub/ml_ringcurrent_ion/plot_functions.py:47: UserWarning: The figure layout has changed to tight\n",
      "  plt.tight_layout()\n"
     ]
    },
    {
     "name": "stdout",
     "output_type": "stream",
     "text": [
      "Index(['DateTime', 'o_flux_2088129', 'log_o_flux_2088129'], dtype='object')\n",
      "output_rel05/fulldata/df_hope_log_o_flux_1792096\n"
     ]
    },
    {
     "name": "stderr",
     "output_type": "stream",
     "text": [
      "/home/jliao/workspace/GitHub/ml_ringcurrent_ion/prepare_fulldata.py:109: SettingWithCopyWarning: \n",
      "A value is trying to be set on a copy of a slice from a DataFrame.\n",
      "Try using .loc[row_indexer,col_indexer] = value instead\n",
      "\n",
      "See the caveats in the documentation: https://pandas.pydata.org/pandas-docs/stable/user_guide/indexing.html#returning-a-view-versus-a-copy\n",
      "  df_y[log_y_name] = np.log10(df_y[y_name])\n"
     ]
    },
    {
     "name": "stdout",
     "output_type": "stream",
     "text": [
      "start plot o_flux_1792096\n",
      "start plot log_o_flux_1792096\n"
     ]
    },
    {
     "name": "stderr",
     "output_type": "stream",
     "text": [
      "/home/jliao/workspace/GitHub/ml_ringcurrent_ion/plot_functions.py:47: UserWarning: The figure layout has changed to tight\n",
      "  plt.tight_layout()\n"
     ]
    },
    {
     "name": "stdout",
     "output_type": "stream",
     "text": [
      "Index(['DateTime', 'o_flux_1792096', 'log_o_flux_1792096'], dtype='object')\n",
      "output_rel05/fulldata/df_hope_log_o_flux_1538062\n"
     ]
    },
    {
     "name": "stderr",
     "output_type": "stream",
     "text": [
      "/home/jliao/workspace/GitHub/ml_ringcurrent_ion/prepare_fulldata.py:109: SettingWithCopyWarning: \n",
      "A value is trying to be set on a copy of a slice from a DataFrame.\n",
      "Try using .loc[row_indexer,col_indexer] = value instead\n",
      "\n",
      "See the caveats in the documentation: https://pandas.pydata.org/pandas-docs/stable/user_guide/indexing.html#returning-a-view-versus-a-copy\n",
      "  df_y[log_y_name] = np.log10(df_y[y_name])\n"
     ]
    },
    {
     "name": "stdout",
     "output_type": "stream",
     "text": [
      "start plot o_flux_1538062\n",
      "start plot log_o_flux_1538062\n"
     ]
    },
    {
     "name": "stderr",
     "output_type": "stream",
     "text": [
      "/home/jliao/workspace/GitHub/ml_ringcurrent_ion/plot_functions.py:47: UserWarning: The figure layout has changed to tight\n",
      "  plt.tight_layout()\n"
     ]
    },
    {
     "name": "stdout",
     "output_type": "stream",
     "text": [
      "Index(['DateTime', 'o_flux_1538062', 'log_o_flux_1538062'], dtype='object')\n",
      "output_rel05/fulldata/df_hope_log_o_flux_1319977\n"
     ]
    },
    {
     "name": "stderr",
     "output_type": "stream",
     "text": [
      "/home/jliao/workspace/GitHub/ml_ringcurrent_ion/prepare_fulldata.py:109: SettingWithCopyWarning: \n",
      "A value is trying to be set on a copy of a slice from a DataFrame.\n",
      "Try using .loc[row_indexer,col_indexer] = value instead\n",
      "\n",
      "See the caveats in the documentation: https://pandas.pydata.org/pandas-docs/stable/user_guide/indexing.html#returning-a-view-versus-a-copy\n",
      "  df_y[log_y_name] = np.log10(df_y[y_name])\n"
     ]
    },
    {
     "name": "stdout",
     "output_type": "stream",
     "text": [
      "start plot o_flux_1319977\n",
      "start plot log_o_flux_1319977\n"
     ]
    },
    {
     "name": "stderr",
     "output_type": "stream",
     "text": [
      "/home/jliao/workspace/GitHub/ml_ringcurrent_ion/plot_functions.py:47: UserWarning: The figure layout has changed to tight\n",
      "  plt.tight_layout()\n"
     ]
    },
    {
     "name": "stdout",
     "output_type": "stream",
     "text": [
      "Index(['DateTime', 'o_flux_1319977', 'log_o_flux_1319977'], dtype='object')\n",
      "output_rel05/fulldata/df_hope_log_o_flux_1132846\n"
     ]
    },
    {
     "name": "stderr",
     "output_type": "stream",
     "text": [
      "/home/jliao/workspace/GitHub/ml_ringcurrent_ion/prepare_fulldata.py:109: SettingWithCopyWarning: \n",
      "A value is trying to be set on a copy of a slice from a DataFrame.\n",
      "Try using .loc[row_indexer,col_indexer] = value instead\n",
      "\n",
      "See the caveats in the documentation: https://pandas.pydata.org/pandas-docs/stable/user_guide/indexing.html#returning-a-view-versus-a-copy\n",
      "  df_y[log_y_name] = np.log10(df_y[y_name])\n"
     ]
    },
    {
     "name": "stdout",
     "output_type": "stream",
     "text": [
      "start plot o_flux_1132846\n",
      "start plot log_o_flux_1132846\n"
     ]
    },
    {
     "name": "stderr",
     "output_type": "stream",
     "text": [
      "/home/jliao/workspace/GitHub/ml_ringcurrent_ion/plot_functions.py:47: UserWarning: The figure layout has changed to tight\n",
      "  plt.tight_layout()\n"
     ]
    },
    {
     "name": "stdout",
     "output_type": "stream",
     "text": [
      "Index(['DateTime', 'o_flux_1132846', 'log_o_flux_1132846'], dtype='object')\n",
      "output_rel05/fulldata/df_hope_log_o_flux_972237\n"
     ]
    },
    {
     "name": "stderr",
     "output_type": "stream",
     "text": [
      "/home/jliao/workspace/GitHub/ml_ringcurrent_ion/prepare_fulldata.py:109: SettingWithCopyWarning: \n",
      "A value is trying to be set on a copy of a slice from a DataFrame.\n",
      "Try using .loc[row_indexer,col_indexer] = value instead\n",
      "\n",
      "See the caveats in the documentation: https://pandas.pydata.org/pandas-docs/stable/user_guide/indexing.html#returning-a-view-versus-a-copy\n",
      "  df_y[log_y_name] = np.log10(df_y[y_name])\n"
     ]
    },
    {
     "name": "stdout",
     "output_type": "stream",
     "text": [
      "start plot o_flux_972237\n",
      "start plot log_o_flux_972237\n"
     ]
    },
    {
     "name": "stderr",
     "output_type": "stream",
     "text": [
      "/home/jliao/workspace/GitHub/ml_ringcurrent_ion/plot_functions.py:47: UserWarning: The figure layout has changed to tight\n",
      "  plt.tight_layout()\n"
     ]
    },
    {
     "name": "stdout",
     "output_type": "stream",
     "text": [
      "Index(['DateTime', 'o_flux_972237', 'log_o_flux_972237'], dtype='object')\n",
      "start symh\n",
      "Calculate the feature history of symh\n",
      "start plot symh\n",
      "start plot scaled_symh\n"
     ]
    },
    {
     "name": "stderr",
     "output_type": "stream",
     "text": [
      "/home/jliao/workspace/GitHub/ml_ringcurrent_ion/prepare_fulldata.py:182: SettingWithCopyWarning: \n",
      "A value is trying to be set on a copy of a slice from a DataFrame.\n",
      "Try using .loc[row_indexer,col_indexer] = value instead\n",
      "\n",
      "See the caveats in the documentation: https://pandas.pydata.org/pandas-docs/stable/user_guide/indexing.html#returning-a-view-versus-a-copy\n",
      "  df_feature[scaled_feature_name], fulldata_settings = scale_var(df_feature, raw_feature_name, fulldata_settings)\n",
      "/home/jliao/workspace/GitHub/ml_ringcurrent_ion/plot_functions.py:47: UserWarning: The figure layout has changed to tight\n",
      "  plt.tight_layout()\n",
      "/home/jliao/workspace/GitHub/ml_ringcurrent_ion/prepare_fulldata.py:299: PerformanceWarning: DataFrame is highly fragmented.  This is usually the result of calling `frame.insert` many times, which has poor performance.  Consider joining all columns at once using pd.concat(axis=1) instead. To get a de-fragmented frame, use `newframe = frame.copy()`\n",
      "  df_features_history[feature_history_names] = idf_feature_history\n",
      "/home/jliao/workspace/GitHub/ml_ringcurrent_ion/prepare_fulldata.py:299: PerformanceWarning: DataFrame is highly fragmented.  This is usually the result of calling `frame.insert` many times, which has poor performance.  Consider joining all columns at once using pd.concat(axis=1) instead. To get a de-fragmented frame, use `newframe = frame.copy()`\n",
      "  df_features_history[feature_history_names] = idf_feature_history\n",
      "/home/jliao/workspace/GitHub/ml_ringcurrent_ion/prepare_fulldata.py:299: PerformanceWarning: DataFrame is highly fragmented.  This is usually the result of calling `frame.insert` many times, which has poor performance.  Consider joining all columns at once using pd.concat(axis=1) instead. To get a de-fragmented frame, use `newframe = frame.copy()`\n",
      "  df_features_history[feature_history_names] = idf_feature_history\n",
      "/home/jliao/workspace/GitHub/ml_ringcurrent_ion/prepare_fulldata.py:299: PerformanceWarning: DataFrame is highly fragmented.  This is usually the result of calling `frame.insert` many times, which has poor performance.  Consider joining all columns at once using pd.concat(axis=1) instead. To get a de-fragmented frame, use `newframe = frame.copy()`\n",
      "  df_features_history[feature_history_names] = idf_feature_history\n",
      "/home/jliao/workspace/GitHub/ml_ringcurrent_ion/prepare_fulldata.py:299: PerformanceWarning: DataFrame is highly fragmented.  This is usually the result of calling `frame.insert` many times, which has poor performance.  Consider joining all columns at once using pd.concat(axis=1) instead. To get a de-fragmented frame, use `newframe = frame.copy()`\n",
      "  df_features_history[feature_history_names] = idf_feature_history\n",
      "/home/jliao/workspace/GitHub/ml_ringcurrent_ion/prepare_fulldata.py:299: PerformanceWarning: DataFrame is highly fragmented.  This is usually the result of calling `frame.insert` many times, which has poor performance.  Consider joining all columns at once using pd.concat(axis=1) instead. To get a de-fragmented frame, use `newframe = frame.copy()`\n",
      "  df_features_history[feature_history_names] = idf_feature_history\n",
      "/home/jliao/workspace/GitHub/ml_ringcurrent_ion/prepare_fulldata.py:299: PerformanceWarning: DataFrame is highly fragmented.  This is usually the result of calling `frame.insert` many times, which has poor performance.  Consider joining all columns at once using pd.concat(axis=1) instead. To get a de-fragmented frame, use `newframe = frame.copy()`\n",
      "  df_features_history[feature_history_names] = idf_feature_history\n",
      "/home/jliao/workspace/GitHub/ml_ringcurrent_ion/prepare_fulldata.py:299: PerformanceWarning: DataFrame is highly fragmented.  This is usually the result of calling `frame.insert` many times, which has poor performance.  Consider joining all columns at once using pd.concat(axis=1) instead. To get a de-fragmented frame, use `newframe = frame.copy()`\n",
      "  df_features_history[feature_history_names] = idf_feature_history\n",
      "/home/jliao/workspace/GitHub/ml_ringcurrent_ion/prepare_fulldata.py:299: PerformanceWarning: DataFrame is highly fragmented.  This is usually the result of calling `frame.insert` many times, which has poor performance.  Consider joining all columns at once using pd.concat(axis=1) instead. To get a de-fragmented frame, use `newframe = frame.copy()`\n",
      "  df_features_history[feature_history_names] = idf_feature_history\n",
      "/home/jliao/workspace/GitHub/ml_ringcurrent_ion/prepare_fulldata.py:299: PerformanceWarning: DataFrame is highly fragmented.  This is usually the result of calling `frame.insert` many times, which has poor performance.  Consider joining all columns at once using pd.concat(axis=1) instead. To get a de-fragmented frame, use `newframe = frame.copy()`\n",
      "  df_features_history[feature_history_names] = idf_feature_history\n",
      "/home/jliao/workspace/GitHub/ml_ringcurrent_ion/prepare_fulldata.py:299: PerformanceWarning: DataFrame is highly fragmented.  This is usually the result of calling `frame.insert` many times, which has poor performance.  Consider joining all columns at once using pd.concat(axis=1) instead. To get a de-fragmented frame, use `newframe = frame.copy()`\n",
      "  df_features_history[feature_history_names] = idf_feature_history\n",
      "/home/jliao/workspace/GitHub/ml_ringcurrent_ion/prepare_fulldata.py:299: PerformanceWarning: DataFrame is highly fragmented.  This is usually the result of calling `frame.insert` many times, which has poor performance.  Consider joining all columns at once using pd.concat(axis=1) instead. To get a de-fragmented frame, use `newframe = frame.copy()`\n",
      "  df_features_history[feature_history_names] = idf_feature_history\n",
      "/home/jliao/workspace/GitHub/ml_ringcurrent_ion/prepare_fulldata.py:299: PerformanceWarning: DataFrame is highly fragmented.  This is usually the result of calling `frame.insert` many times, which has poor performance.  Consider joining all columns at once using pd.concat(axis=1) instead. To get a de-fragmented frame, use `newframe = frame.copy()`\n",
      "  df_features_history[feature_history_names] = idf_feature_history\n",
      "/home/jliao/workspace/GitHub/ml_ringcurrent_ion/prepare_fulldata.py:299: PerformanceWarning: DataFrame is highly fragmented.  This is usually the result of calling `frame.insert` many times, which has poor performance.  Consider joining all columns at once using pd.concat(axis=1) instead. To get a de-fragmented frame, use `newframe = frame.copy()`\n",
      "  df_features_history[feature_history_names] = idf_feature_history\n",
      "/home/jliao/workspace/GitHub/ml_ringcurrent_ion/prepare_fulldata.py:299: PerformanceWarning: DataFrame is highly fragmented.  This is usually the result of calling `frame.insert` many times, which has poor performance.  Consider joining all columns at once using pd.concat(axis=1) instead. To get a de-fragmented frame, use `newframe = frame.copy()`\n",
      "  df_features_history[feature_history_names] = idf_feature_history\n",
      "/home/jliao/workspace/GitHub/ml_ringcurrent_ion/prepare_fulldata.py:299: PerformanceWarning: DataFrame is highly fragmented.  This is usually the result of calling `frame.insert` many times, which has poor performance.  Consider joining all columns at once using pd.concat(axis=1) instead. To get a de-fragmented frame, use `newframe = frame.copy()`\n",
      "  df_features_history[feature_history_names] = idf_feature_history\n",
      "/home/jliao/workspace/GitHub/ml_ringcurrent_ion/prepare_fulldata.py:299: PerformanceWarning: DataFrame is highly fragmented.  This is usually the result of calling `frame.insert` many times, which has poor performance.  Consider joining all columns at once using pd.concat(axis=1) instead. To get a de-fragmented frame, use `newframe = frame.copy()`\n",
      "  df_features_history[feature_history_names] = idf_feature_history\n",
      "/home/jliao/workspace/GitHub/ml_ringcurrent_ion/prepare_fulldata.py:299: PerformanceWarning: DataFrame is highly fragmented.  This is usually the result of calling `frame.insert` many times, which has poor performance.  Consider joining all columns at once using pd.concat(axis=1) instead. To get a de-fragmented frame, use `newframe = frame.copy()`\n",
      "  df_features_history[feature_history_names] = idf_feature_history\n",
      "/home/jliao/workspace/GitHub/ml_ringcurrent_ion/prepare_fulldata.py:299: PerformanceWarning: DataFrame is highly fragmented.  This is usually the result of calling `frame.insert` many times, which has poor performance.  Consider joining all columns at once using pd.concat(axis=1) instead. To get a de-fragmented frame, use `newframe = frame.copy()`\n",
      "  df_features_history[feature_history_names] = idf_feature_history\n",
      "/home/jliao/workspace/GitHub/ml_ringcurrent_ion/prepare_fulldata.py:299: PerformanceWarning: DataFrame is highly fragmented.  This is usually the result of calling `frame.insert` many times, which has poor performance.  Consider joining all columns at once using pd.concat(axis=1) instead. To get a de-fragmented frame, use `newframe = frame.copy()`\n",
      "  df_features_history[feature_history_names] = idf_feature_history\n",
      "/home/jliao/workspace/GitHub/ml_ringcurrent_ion/prepare_fulldata.py:299: PerformanceWarning: DataFrame is highly fragmented.  This is usually the result of calling `frame.insert` many times, which has poor performance.  Consider joining all columns at once using pd.concat(axis=1) instead. To get a de-fragmented frame, use `newframe = frame.copy()`\n",
      "  df_features_history[feature_history_names] = idf_feature_history\n",
      "/home/jliao/workspace/GitHub/ml_ringcurrent_ion/prepare_fulldata.py:299: PerformanceWarning: DataFrame is highly fragmented.  This is usually the result of calling `frame.insert` many times, which has poor performance.  Consider joining all columns at once using pd.concat(axis=1) instead. To get a de-fragmented frame, use `newframe = frame.copy()`\n",
      "  df_features_history[feature_history_names] = idf_feature_history\n",
      "/home/jliao/workspace/GitHub/ml_ringcurrent_ion/prepare_fulldata.py:299: PerformanceWarning: DataFrame is highly fragmented.  This is usually the result of calling `frame.insert` many times, which has poor performance.  Consider joining all columns at once using pd.concat(axis=1) instead. To get a de-fragmented frame, use `newframe = frame.copy()`\n",
      "  df_features_history[feature_history_names] = idf_feature_history\n",
      "/home/jliao/workspace/GitHub/ml_ringcurrent_ion/prepare_fulldata.py:299: PerformanceWarning: DataFrame is highly fragmented.  This is usually the result of calling `frame.insert` many times, which has poor performance.  Consider joining all columns at once using pd.concat(axis=1) instead. To get a de-fragmented frame, use `newframe = frame.copy()`\n",
      "  df_features_history[feature_history_names] = idf_feature_history\n",
      "/home/jliao/workspace/GitHub/ml_ringcurrent_ion/prepare_fulldata.py:299: PerformanceWarning: DataFrame is highly fragmented.  This is usually the result of calling `frame.insert` many times, which has poor performance.  Consider joining all columns at once using pd.concat(axis=1) instead. To get a de-fragmented frame, use `newframe = frame.copy()`\n",
      "  df_features_history[feature_history_names] = idf_feature_history\n",
      "/home/jliao/workspace/GitHub/ml_ringcurrent_ion/prepare_fulldata.py:299: PerformanceWarning: DataFrame is highly fragmented.  This is usually the result of calling `frame.insert` many times, which has poor performance.  Consider joining all columns at once using pd.concat(axis=1) instead. To get a de-fragmented frame, use `newframe = frame.copy()`\n",
      "  df_features_history[feature_history_names] = idf_feature_history\n",
      "/home/jliao/workspace/GitHub/ml_ringcurrent_ion/prepare_fulldata.py:299: PerformanceWarning: DataFrame is highly fragmented.  This is usually the result of calling `frame.insert` many times, which has poor performance.  Consider joining all columns at once using pd.concat(axis=1) instead. To get a de-fragmented frame, use `newframe = frame.copy()`\n",
      "  df_features_history[feature_history_names] = idf_feature_history\n",
      "/home/jliao/workspace/GitHub/ml_ringcurrent_ion/prepare_fulldata.py:299: PerformanceWarning: DataFrame is highly fragmented.  This is usually the result of calling `frame.insert` many times, which has poor performance.  Consider joining all columns at once using pd.concat(axis=1) instead. To get a de-fragmented frame, use `newframe = frame.copy()`\n",
      "  df_features_history[feature_history_names] = idf_feature_history\n",
      "/home/jliao/workspace/GitHub/ml_ringcurrent_ion/prepare_fulldata.py:299: PerformanceWarning: DataFrame is highly fragmented.  This is usually the result of calling `frame.insert` many times, which has poor performance.  Consider joining all columns at once using pd.concat(axis=1) instead. To get a de-fragmented frame, use `newframe = frame.copy()`\n",
      "  df_features_history[feature_history_names] = idf_feature_history\n",
      "/home/jliao/workspace/GitHub/ml_ringcurrent_ion/prepare_fulldata.py:299: PerformanceWarning: DataFrame is highly fragmented.  This is usually the result of calling `frame.insert` many times, which has poor performance.  Consider joining all columns at once using pd.concat(axis=1) instead. To get a de-fragmented frame, use `newframe = frame.copy()`\n",
      "  df_features_history[feature_history_names] = idf_feature_history\n",
      "/home/jliao/workspace/GitHub/ml_ringcurrent_ion/prepare_fulldata.py:299: PerformanceWarning: DataFrame is highly fragmented.  This is usually the result of calling `frame.insert` many times, which has poor performance.  Consider joining all columns at once using pd.concat(axis=1) instead. To get a de-fragmented frame, use `newframe = frame.copy()`\n",
      "  df_features_history[feature_history_names] = idf_feature_history\n",
      "/home/jliao/workspace/GitHub/ml_ringcurrent_ion/prepare_fulldata.py:299: PerformanceWarning: DataFrame is highly fragmented.  This is usually the result of calling `frame.insert` many times, which has poor performance.  Consider joining all columns at once using pd.concat(axis=1) instead. To get a de-fragmented frame, use `newframe = frame.copy()`\n",
      "  df_features_history[feature_history_names] = idf_feature_history\n",
      "/home/jliao/workspace/GitHub/ml_ringcurrent_ion/prepare_fulldata.py:299: PerformanceWarning: DataFrame is highly fragmented.  This is usually the result of calling `frame.insert` many times, which has poor performance.  Consider joining all columns at once using pd.concat(axis=1) instead. To get a de-fragmented frame, use `newframe = frame.copy()`\n",
      "  df_features_history[feature_history_names] = idf_feature_history\n",
      "/home/jliao/workspace/GitHub/ml_ringcurrent_ion/prepare_fulldata.py:299: PerformanceWarning: DataFrame is highly fragmented.  This is usually the result of calling `frame.insert` many times, which has poor performance.  Consider joining all columns at once using pd.concat(axis=1) instead. To get a de-fragmented frame, use `newframe = frame.copy()`\n",
      "  df_features_history[feature_history_names] = idf_feature_history\n",
      "/home/jliao/workspace/GitHub/ml_ringcurrent_ion/prepare_fulldata.py:299: PerformanceWarning: DataFrame is highly fragmented.  This is usually the result of calling `frame.insert` many times, which has poor performance.  Consider joining all columns at once using pd.concat(axis=1) instead. To get a de-fragmented frame, use `newframe = frame.copy()`\n",
      "  df_features_history[feature_history_names] = idf_feature_history\n",
      "/home/jliao/workspace/GitHub/ml_ringcurrent_ion/prepare_fulldata.py:299: PerformanceWarning: DataFrame is highly fragmented.  This is usually the result of calling `frame.insert` many times, which has poor performance.  Consider joining all columns at once using pd.concat(axis=1) instead. To get a de-fragmented frame, use `newframe = frame.copy()`\n",
      "  df_features_history[feature_history_names] = idf_feature_history\n",
      "/home/jliao/workspace/GitHub/ml_ringcurrent_ion/prepare_fulldata.py:299: PerformanceWarning: DataFrame is highly fragmented.  This is usually the result of calling `frame.insert` many times, which has poor performance.  Consider joining all columns at once using pd.concat(axis=1) instead. To get a de-fragmented frame, use `newframe = frame.copy()`\n",
      "  df_features_history[feature_history_names] = idf_feature_history\n",
      "/home/jliao/workspace/GitHub/ml_ringcurrent_ion/prepare_fulldata.py:299: PerformanceWarning: DataFrame is highly fragmented.  This is usually the result of calling `frame.insert` many times, which has poor performance.  Consider joining all columns at once using pd.concat(axis=1) instead. To get a de-fragmented frame, use `newframe = frame.copy()`\n",
      "  df_features_history[feature_history_names] = idf_feature_history\n",
      "/home/jliao/workspace/GitHub/ml_ringcurrent_ion/prepare_fulldata.py:299: PerformanceWarning: DataFrame is highly fragmented.  This is usually the result of calling `frame.insert` many times, which has poor performance.  Consider joining all columns at once using pd.concat(axis=1) instead. To get a de-fragmented frame, use `newframe = frame.copy()`\n",
      "  df_features_history[feature_history_names] = idf_feature_history\n",
      "/home/jliao/workspace/GitHub/ml_ringcurrent_ion/prepare_fulldata.py:299: PerformanceWarning: DataFrame is highly fragmented.  This is usually the result of calling `frame.insert` many times, which has poor performance.  Consider joining all columns at once using pd.concat(axis=1) instead. To get a de-fragmented frame, use `newframe = frame.copy()`\n",
      "  df_features_history[feature_history_names] = idf_feature_history\n",
      "/home/jliao/workspace/GitHub/ml_ringcurrent_ion/prepare_fulldata.py:299: PerformanceWarning: DataFrame is highly fragmented.  This is usually the result of calling `frame.insert` many times, which has poor performance.  Consider joining all columns at once using pd.concat(axis=1) instead. To get a de-fragmented frame, use `newframe = frame.copy()`\n",
      "  df_features_history[feature_history_names] = idf_feature_history\n",
      "/home/jliao/workspace/GitHub/ml_ringcurrent_ion/prepare_fulldata.py:299: PerformanceWarning: DataFrame is highly fragmented.  This is usually the result of calling `frame.insert` many times, which has poor performance.  Consider joining all columns at once using pd.concat(axis=1) instead. To get a de-fragmented frame, use `newframe = frame.copy()`\n",
      "  df_features_history[feature_history_names] = idf_feature_history\n",
      "/home/jliao/workspace/GitHub/ml_ringcurrent_ion/prepare_fulldata.py:299: PerformanceWarning: DataFrame is highly fragmented.  This is usually the result of calling `frame.insert` many times, which has poor performance.  Consider joining all columns at once using pd.concat(axis=1) instead. To get a de-fragmented frame, use `newframe = frame.copy()`\n",
      "  df_features_history[feature_history_names] = idf_feature_history\n",
      "/home/jliao/workspace/GitHub/ml_ringcurrent_ion/prepare_fulldata.py:299: PerformanceWarning: DataFrame is highly fragmented.  This is usually the result of calling `frame.insert` many times, which has poor performance.  Consider joining all columns at once using pd.concat(axis=1) instead. To get a de-fragmented frame, use `newframe = frame.copy()`\n",
      "  df_features_history[feature_history_names] = idf_feature_history\n",
      "/home/jliao/workspace/GitHub/ml_ringcurrent_ion/prepare_fulldata.py:299: PerformanceWarning: DataFrame is highly fragmented.  This is usually the result of calling `frame.insert` many times, which has poor performance.  Consider joining all columns at once using pd.concat(axis=1) instead. To get a de-fragmented frame, use `newframe = frame.copy()`\n",
      "  df_features_history[feature_history_names] = idf_feature_history\n",
      "/home/jliao/workspace/GitHub/ml_ringcurrent_ion/prepare_fulldata.py:299: PerformanceWarning: DataFrame is highly fragmented.  This is usually the result of calling `frame.insert` many times, which has poor performance.  Consider joining all columns at once using pd.concat(axis=1) instead. To get a de-fragmented frame, use `newframe = frame.copy()`\n",
      "  df_features_history[feature_history_names] = idf_feature_history\n",
      "/home/jliao/workspace/GitHub/ml_ringcurrent_ion/prepare_fulldata.py:299: PerformanceWarning: DataFrame is highly fragmented.  This is usually the result of calling `frame.insert` many times, which has poor performance.  Consider joining all columns at once using pd.concat(axis=1) instead. To get a de-fragmented frame, use `newframe = frame.copy()`\n",
      "  df_features_history[feature_history_names] = idf_feature_history\n",
      "/home/jliao/workspace/GitHub/ml_ringcurrent_ion/prepare_fulldata.py:299: PerformanceWarning: DataFrame is highly fragmented.  This is usually the result of calling `frame.insert` many times, which has poor performance.  Consider joining all columns at once using pd.concat(axis=1) instead. To get a de-fragmented frame, use `newframe = frame.copy()`\n",
      "  df_features_history[feature_history_names] = idf_feature_history\n",
      "/home/jliao/workspace/GitHub/ml_ringcurrent_ion/prepare_fulldata.py:299: PerformanceWarning: DataFrame is highly fragmented.  This is usually the result of calling `frame.insert` many times, which has poor performance.  Consider joining all columns at once using pd.concat(axis=1) instead. To get a de-fragmented frame, use `newframe = frame.copy()`\n",
      "  df_features_history[feature_history_names] = idf_feature_history\n",
      "/home/jliao/workspace/GitHub/ml_ringcurrent_ion/prepare_fulldata.py:299: PerformanceWarning: DataFrame is highly fragmented.  This is usually the result of calling `frame.insert` many times, which has poor performance.  Consider joining all columns at once using pd.concat(axis=1) instead. To get a de-fragmented frame, use `newframe = frame.copy()`\n",
      "  df_features_history[feature_history_names] = idf_feature_history\n",
      "/home/jliao/workspace/GitHub/ml_ringcurrent_ion/prepare_fulldata.py:299: PerformanceWarning: DataFrame is highly fragmented.  This is usually the result of calling `frame.insert` many times, which has poor performance.  Consider joining all columns at once using pd.concat(axis=1) instead. To get a de-fragmented frame, use `newframe = frame.copy()`\n",
      "  df_features_history[feature_history_names] = idf_feature_history\n",
      "/home/jliao/workspace/GitHub/ml_ringcurrent_ion/prepare_fulldata.py:299: PerformanceWarning: DataFrame is highly fragmented.  This is usually the result of calling `frame.insert` many times, which has poor performance.  Consider joining all columns at once using pd.concat(axis=1) instead. To get a de-fragmented frame, use `newframe = frame.copy()`\n",
      "  df_features_history[feature_history_names] = idf_feature_history\n",
      "/home/jliao/workspace/GitHub/ml_ringcurrent_ion/prepare_fulldata.py:299: PerformanceWarning: DataFrame is highly fragmented.  This is usually the result of calling `frame.insert` many times, which has poor performance.  Consider joining all columns at once using pd.concat(axis=1) instead. To get a de-fragmented frame, use `newframe = frame.copy()`\n",
      "  df_features_history[feature_history_names] = idf_feature_history\n",
      "/home/jliao/workspace/GitHub/ml_ringcurrent_ion/prepare_fulldata.py:299: PerformanceWarning: DataFrame is highly fragmented.  This is usually the result of calling `frame.insert` many times, which has poor performance.  Consider joining all columns at once using pd.concat(axis=1) instead. To get a de-fragmented frame, use `newframe = frame.copy()`\n",
      "  df_features_history[feature_history_names] = idf_feature_history\n",
      "/home/jliao/workspace/GitHub/ml_ringcurrent_ion/prepare_fulldata.py:299: PerformanceWarning: DataFrame is highly fragmented.  This is usually the result of calling `frame.insert` many times, which has poor performance.  Consider joining all columns at once using pd.concat(axis=1) instead. To get a de-fragmented frame, use `newframe = frame.copy()`\n",
      "  df_features_history[feature_history_names] = idf_feature_history\n",
      "/home/jliao/workspace/GitHub/ml_ringcurrent_ion/prepare_fulldata.py:299: PerformanceWarning: DataFrame is highly fragmented.  This is usually the result of calling `frame.insert` many times, which has poor performance.  Consider joining all columns at once using pd.concat(axis=1) instead. To get a de-fragmented frame, use `newframe = frame.copy()`\n",
      "  df_features_history[feature_history_names] = idf_feature_history\n",
      "/home/jliao/workspace/GitHub/ml_ringcurrent_ion/prepare_fulldata.py:299: PerformanceWarning: DataFrame is highly fragmented.  This is usually the result of calling `frame.insert` many times, which has poor performance.  Consider joining all columns at once using pd.concat(axis=1) instead. To get a de-fragmented frame, use `newframe = frame.copy()`\n",
      "  df_features_history[feature_history_names] = idf_feature_history\n",
      "/home/jliao/workspace/GitHub/ml_ringcurrent_ion/prepare_fulldata.py:299: PerformanceWarning: DataFrame is highly fragmented.  This is usually the result of calling `frame.insert` many times, which has poor performance.  Consider joining all columns at once using pd.concat(axis=1) instead. To get a de-fragmented frame, use `newframe = frame.copy()`\n",
      "  df_features_history[feature_history_names] = idf_feature_history\n",
      "/home/jliao/workspace/GitHub/ml_ringcurrent_ion/prepare_fulldata.py:299: PerformanceWarning: DataFrame is highly fragmented.  This is usually the result of calling `frame.insert` many times, which has poor performance.  Consider joining all columns at once using pd.concat(axis=1) instead. To get a de-fragmented frame, use `newframe = frame.copy()`\n",
      "  df_features_history[feature_history_names] = idf_feature_history\n",
      "/home/jliao/workspace/GitHub/ml_ringcurrent_ion/prepare_fulldata.py:299: PerformanceWarning: DataFrame is highly fragmented.  This is usually the result of calling `frame.insert` many times, which has poor performance.  Consider joining all columns at once using pd.concat(axis=1) instead. To get a de-fragmented frame, use `newframe = frame.copy()`\n",
      "  df_features_history[feature_history_names] = idf_feature_history\n",
      "/home/jliao/workspace/GitHub/ml_ringcurrent_ion/prepare_fulldata.py:299: PerformanceWarning: DataFrame is highly fragmented.  This is usually the result of calling `frame.insert` many times, which has poor performance.  Consider joining all columns at once using pd.concat(axis=1) instead. To get a de-fragmented frame, use `newframe = frame.copy()`\n",
      "  df_features_history[feature_history_names] = idf_feature_history\n",
      "/home/jliao/workspace/GitHub/ml_ringcurrent_ion/prepare_fulldata.py:299: PerformanceWarning: DataFrame is highly fragmented.  This is usually the result of calling `frame.insert` many times, which has poor performance.  Consider joining all columns at once using pd.concat(axis=1) instead. To get a de-fragmented frame, use `newframe = frame.copy()`\n",
      "  df_features_history[feature_history_names] = idf_feature_history\n",
      "/home/jliao/workspace/GitHub/ml_ringcurrent_ion/prepare_fulldata.py:299: PerformanceWarning: DataFrame is highly fragmented.  This is usually the result of calling `frame.insert` many times, which has poor performance.  Consider joining all columns at once using pd.concat(axis=1) instead. To get a de-fragmented frame, use `newframe = frame.copy()`\n",
      "  df_features_history[feature_history_names] = idf_feature_history\n",
      "/home/jliao/workspace/GitHub/ml_ringcurrent_ion/prepare_fulldata.py:299: PerformanceWarning: DataFrame is highly fragmented.  This is usually the result of calling `frame.insert` many times, which has poor performance.  Consider joining all columns at once using pd.concat(axis=1) instead. To get a de-fragmented frame, use `newframe = frame.copy()`\n",
      "  df_features_history[feature_history_names] = idf_feature_history\n",
      "/home/jliao/workspace/GitHub/ml_ringcurrent_ion/prepare_fulldata.py:299: PerformanceWarning: DataFrame is highly fragmented.  This is usually the result of calling `frame.insert` many times, which has poor performance.  Consider joining all columns at once using pd.concat(axis=1) instead. To get a de-fragmented frame, use `newframe = frame.copy()`\n",
      "  df_features_history[feature_history_names] = idf_feature_history\n",
      "/home/jliao/workspace/GitHub/ml_ringcurrent_ion/prepare_fulldata.py:299: PerformanceWarning: DataFrame is highly fragmented.  This is usually the result of calling `frame.insert` many times, which has poor performance.  Consider joining all columns at once using pd.concat(axis=1) instead. To get a de-fragmented frame, use `newframe = frame.copy()`\n",
      "  df_features_history[feature_history_names] = idf_feature_history\n",
      "/home/jliao/workspace/GitHub/ml_ringcurrent_ion/prepare_fulldata.py:299: PerformanceWarning: DataFrame is highly fragmented.  This is usually the result of calling `frame.insert` many times, which has poor performance.  Consider joining all columns at once using pd.concat(axis=1) instead. To get a de-fragmented frame, use `newframe = frame.copy()`\n",
      "  df_features_history[feature_history_names] = idf_feature_history\n",
      "/home/jliao/workspace/GitHub/ml_ringcurrent_ion/prepare_fulldata.py:299: PerformanceWarning: DataFrame is highly fragmented.  This is usually the result of calling `frame.insert` many times, which has poor performance.  Consider joining all columns at once using pd.concat(axis=1) instead. To get a de-fragmented frame, use `newframe = frame.copy()`\n",
      "  df_features_history[feature_history_names] = idf_feature_history\n",
      "/home/jliao/workspace/GitHub/ml_ringcurrent_ion/prepare_fulldata.py:299: PerformanceWarning: DataFrame is highly fragmented.  This is usually the result of calling `frame.insert` many times, which has poor performance.  Consider joining all columns at once using pd.concat(axis=1) instead. To get a de-fragmented frame, use `newframe = frame.copy()`\n",
      "  df_features_history[feature_history_names] = idf_feature_history\n",
      "/home/jliao/workspace/GitHub/ml_ringcurrent_ion/prepare_fulldata.py:299: PerformanceWarning: DataFrame is highly fragmented.  This is usually the result of calling `frame.insert` many times, which has poor performance.  Consider joining all columns at once using pd.concat(axis=1) instead. To get a de-fragmented frame, use `newframe = frame.copy()`\n",
      "  df_features_history[feature_history_names] = idf_feature_history\n",
      "/home/jliao/workspace/GitHub/ml_ringcurrent_ion/prepare_fulldata.py:299: PerformanceWarning: DataFrame is highly fragmented.  This is usually the result of calling `frame.insert` many times, which has poor performance.  Consider joining all columns at once using pd.concat(axis=1) instead. To get a de-fragmented frame, use `newframe = frame.copy()`\n",
      "  df_features_history[feature_history_names] = idf_feature_history\n",
      "/home/jliao/workspace/GitHub/ml_ringcurrent_ion/prepare_fulldata.py:299: PerformanceWarning: DataFrame is highly fragmented.  This is usually the result of calling `frame.insert` many times, which has poor performance.  Consider joining all columns at once using pd.concat(axis=1) instead. To get a de-fragmented frame, use `newframe = frame.copy()`\n",
      "  df_features_history[feature_history_names] = idf_feature_history\n",
      "/home/jliao/workspace/GitHub/ml_ringcurrent_ion/prepare_fulldata.py:299: PerformanceWarning: DataFrame is highly fragmented.  This is usually the result of calling `frame.insert` many times, which has poor performance.  Consider joining all columns at once using pd.concat(axis=1) instead. To get a de-fragmented frame, use `newframe = frame.copy()`\n",
      "  df_features_history[feature_history_names] = idf_feature_history\n",
      "/home/jliao/workspace/GitHub/ml_ringcurrent_ion/prepare_fulldata.py:299: PerformanceWarning: DataFrame is highly fragmented.  This is usually the result of calling `frame.insert` many times, which has poor performance.  Consider joining all columns at once using pd.concat(axis=1) instead. To get a de-fragmented frame, use `newframe = frame.copy()`\n",
      "  df_features_history[feature_history_names] = idf_feature_history\n",
      "/home/jliao/workspace/GitHub/ml_ringcurrent_ion/prepare_fulldata.py:299: PerformanceWarning: DataFrame is highly fragmented.  This is usually the result of calling `frame.insert` many times, which has poor performance.  Consider joining all columns at once using pd.concat(axis=1) instead. To get a de-fragmented frame, use `newframe = frame.copy()`\n",
      "  df_features_history[feature_history_names] = idf_feature_history\n",
      "/home/jliao/workspace/GitHub/ml_ringcurrent_ion/prepare_fulldata.py:299: PerformanceWarning: DataFrame is highly fragmented.  This is usually the result of calling `frame.insert` many times, which has poor performance.  Consider joining all columns at once using pd.concat(axis=1) instead. To get a de-fragmented frame, use `newframe = frame.copy()`\n",
      "  df_features_history[feature_history_names] = idf_feature_history\n",
      "/home/jliao/workspace/GitHub/ml_ringcurrent_ion/prepare_fulldata.py:299: PerformanceWarning: DataFrame is highly fragmented.  This is usually the result of calling `frame.insert` many times, which has poor performance.  Consider joining all columns at once using pd.concat(axis=1) instead. To get a de-fragmented frame, use `newframe = frame.copy()`\n",
      "  df_features_history[feature_history_names] = idf_feature_history\n",
      "/home/jliao/workspace/GitHub/ml_ringcurrent_ion/prepare_fulldata.py:299: PerformanceWarning: DataFrame is highly fragmented.  This is usually the result of calling `frame.insert` many times, which has poor performance.  Consider joining all columns at once using pd.concat(axis=1) instead. To get a de-fragmented frame, use `newframe = frame.copy()`\n",
      "  df_features_history[feature_history_names] = idf_feature_history\n",
      "/home/jliao/workspace/GitHub/ml_ringcurrent_ion/prepare_fulldata.py:299: PerformanceWarning: DataFrame is highly fragmented.  This is usually the result of calling `frame.insert` many times, which has poor performance.  Consider joining all columns at once using pd.concat(axis=1) instead. To get a de-fragmented frame, use `newframe = frame.copy()`\n",
      "  df_features_history[feature_history_names] = idf_feature_history\n",
      "/home/jliao/workspace/GitHub/ml_ringcurrent_ion/prepare_fulldata.py:299: PerformanceWarning: DataFrame is highly fragmented.  This is usually the result of calling `frame.insert` many times, which has poor performance.  Consider joining all columns at once using pd.concat(axis=1) instead. To get a de-fragmented frame, use `newframe = frame.copy()`\n",
      "  df_features_history[feature_history_names] = idf_feature_history\n",
      "/home/jliao/workspace/GitHub/ml_ringcurrent_ion/prepare_fulldata.py:299: PerformanceWarning: DataFrame is highly fragmented.  This is usually the result of calling `frame.insert` many times, which has poor performance.  Consider joining all columns at once using pd.concat(axis=1) instead. To get a de-fragmented frame, use `newframe = frame.copy()`\n",
      "  df_features_history[feature_history_names] = idf_feature_history\n",
      "/home/jliao/workspace/GitHub/ml_ringcurrent_ion/prepare_fulldata.py:299: PerformanceWarning: DataFrame is highly fragmented.  This is usually the result of calling `frame.insert` many times, which has poor performance.  Consider joining all columns at once using pd.concat(axis=1) instead. To get a de-fragmented frame, use `newframe = frame.copy()`\n",
      "  df_features_history[feature_history_names] = idf_feature_history\n",
      "/home/jliao/workspace/GitHub/ml_ringcurrent_ion/prepare_fulldata.py:299: PerformanceWarning: DataFrame is highly fragmented.  This is usually the result of calling `frame.insert` many times, which has poor performance.  Consider joining all columns at once using pd.concat(axis=1) instead. To get a de-fragmented frame, use `newframe = frame.copy()`\n",
      "  df_features_history[feature_history_names] = idf_feature_history\n",
      "/home/jliao/workspace/GitHub/ml_ringcurrent_ion/prepare_fulldata.py:299: PerformanceWarning: DataFrame is highly fragmented.  This is usually the result of calling `frame.insert` many times, which has poor performance.  Consider joining all columns at once using pd.concat(axis=1) instead. To get a de-fragmented frame, use `newframe = frame.copy()`\n",
      "  df_features_history[feature_history_names] = idf_feature_history\n",
      "/home/jliao/workspace/GitHub/ml_ringcurrent_ion/prepare_fulldata.py:299: PerformanceWarning: DataFrame is highly fragmented.  This is usually the result of calling `frame.insert` many times, which has poor performance.  Consider joining all columns at once using pd.concat(axis=1) instead. To get a de-fragmented frame, use `newframe = frame.copy()`\n",
      "  df_features_history[feature_history_names] = idf_feature_history\n",
      "/home/jliao/workspace/GitHub/ml_ringcurrent_ion/prepare_fulldata.py:299: PerformanceWarning: DataFrame is highly fragmented.  This is usually the result of calling `frame.insert` many times, which has poor performance.  Consider joining all columns at once using pd.concat(axis=1) instead. To get a de-fragmented frame, use `newframe = frame.copy()`\n",
      "  df_features_history[feature_history_names] = idf_feature_history\n",
      "/home/jliao/workspace/GitHub/ml_ringcurrent_ion/prepare_fulldata.py:299: PerformanceWarning: DataFrame is highly fragmented.  This is usually the result of calling `frame.insert` many times, which has poor performance.  Consider joining all columns at once using pd.concat(axis=1) instead. To get a de-fragmented frame, use `newframe = frame.copy()`\n",
      "  df_features_history[feature_history_names] = idf_feature_history\n",
      "/home/jliao/workspace/GitHub/ml_ringcurrent_ion/prepare_fulldata.py:299: PerformanceWarning: DataFrame is highly fragmented.  This is usually the result of calling `frame.insert` many times, which has poor performance.  Consider joining all columns at once using pd.concat(axis=1) instead. To get a de-fragmented frame, use `newframe = frame.copy()`\n",
      "  df_features_history[feature_history_names] = idf_feature_history\n",
      "/home/jliao/workspace/GitHub/ml_ringcurrent_ion/prepare_fulldata.py:299: PerformanceWarning: DataFrame is highly fragmented.  This is usually the result of calling `frame.insert` many times, which has poor performance.  Consider joining all columns at once using pd.concat(axis=1) instead. To get a de-fragmented frame, use `newframe = frame.copy()`\n",
      "  df_features_history[feature_history_names] = idf_feature_history\n",
      "/home/jliao/workspace/GitHub/ml_ringcurrent_ion/prepare_fulldata.py:299: PerformanceWarning: DataFrame is highly fragmented.  This is usually the result of calling `frame.insert` many times, which has poor performance.  Consider joining all columns at once using pd.concat(axis=1) instead. To get a de-fragmented frame, use `newframe = frame.copy()`\n",
      "  df_features_history[feature_history_names] = idf_feature_history\n",
      "/home/jliao/workspace/GitHub/ml_ringcurrent_ion/prepare_fulldata.py:299: PerformanceWarning: DataFrame is highly fragmented.  This is usually the result of calling `frame.insert` many times, which has poor performance.  Consider joining all columns at once using pd.concat(axis=1) instead. To get a de-fragmented frame, use `newframe = frame.copy()`\n",
      "  df_features_history[feature_history_names] = idf_feature_history\n",
      "/home/jliao/workspace/GitHub/ml_ringcurrent_ion/prepare_fulldata.py:299: PerformanceWarning: DataFrame is highly fragmented.  This is usually the result of calling `frame.insert` many times, which has poor performance.  Consider joining all columns at once using pd.concat(axis=1) instead. To get a de-fragmented frame, use `newframe = frame.copy()`\n",
      "  df_features_history[feature_history_names] = idf_feature_history\n",
      "/home/jliao/workspace/GitHub/ml_ringcurrent_ion/prepare_fulldata.py:299: PerformanceWarning: DataFrame is highly fragmented.  This is usually the result of calling `frame.insert` many times, which has poor performance.  Consider joining all columns at once using pd.concat(axis=1) instead. To get a de-fragmented frame, use `newframe = frame.copy()`\n",
      "  df_features_history[feature_history_names] = idf_feature_history\n",
      "/home/jliao/workspace/GitHub/ml_ringcurrent_ion/prepare_fulldata.py:299: PerformanceWarning: DataFrame is highly fragmented.  This is usually the result of calling `frame.insert` many times, which has poor performance.  Consider joining all columns at once using pd.concat(axis=1) instead. To get a de-fragmented frame, use `newframe = frame.copy()`\n",
      "  df_features_history[feature_history_names] = idf_feature_history\n",
      "/home/jliao/workspace/GitHub/ml_ringcurrent_ion/prepare_fulldata.py:299: PerformanceWarning: DataFrame is highly fragmented.  This is usually the result of calling `frame.insert` many times, which has poor performance.  Consider joining all columns at once using pd.concat(axis=1) instead. To get a de-fragmented frame, use `newframe = frame.copy()`\n",
      "  df_features_history[feature_history_names] = idf_feature_history\n",
      "/home/jliao/workspace/GitHub/ml_ringcurrent_ion/prepare_fulldata.py:299: PerformanceWarning: DataFrame is highly fragmented.  This is usually the result of calling `frame.insert` many times, which has poor performance.  Consider joining all columns at once using pd.concat(axis=1) instead. To get a de-fragmented frame, use `newframe = frame.copy()`\n",
      "  df_features_history[feature_history_names] = idf_feature_history\n",
      "/home/jliao/workspace/GitHub/ml_ringcurrent_ion/prepare_fulldata.py:299: PerformanceWarning: DataFrame is highly fragmented.  This is usually the result of calling `frame.insert` many times, which has poor performance.  Consider joining all columns at once using pd.concat(axis=1) instead. To get a de-fragmented frame, use `newframe = frame.copy()`\n",
      "  df_features_history[feature_history_names] = idf_feature_history\n",
      "/home/jliao/workspace/GitHub/ml_ringcurrent_ion/prepare_fulldata.py:299: PerformanceWarning: DataFrame is highly fragmented.  This is usually the result of calling `frame.insert` many times, which has poor performance.  Consider joining all columns at once using pd.concat(axis=1) instead. To get a de-fragmented frame, use `newframe = frame.copy()`\n",
      "  df_features_history[feature_history_names] = idf_feature_history\n",
      "/home/jliao/workspace/GitHub/ml_ringcurrent_ion/prepare_fulldata.py:299: PerformanceWarning: DataFrame is highly fragmented.  This is usually the result of calling `frame.insert` many times, which has poor performance.  Consider joining all columns at once using pd.concat(axis=1) instead. To get a de-fragmented frame, use `newframe = frame.copy()`\n",
      "  df_features_history[feature_history_names] = idf_feature_history\n",
      "/home/jliao/workspace/GitHub/ml_ringcurrent_ion/prepare_fulldata.py:299: PerformanceWarning: DataFrame is highly fragmented.  This is usually the result of calling `frame.insert` many times, which has poor performance.  Consider joining all columns at once using pd.concat(axis=1) instead. To get a de-fragmented frame, use `newframe = frame.copy()`\n",
      "  df_features_history[feature_history_names] = idf_feature_history\n",
      "/home/jliao/workspace/GitHub/ml_ringcurrent_ion/prepare_fulldata.py:299: PerformanceWarning: DataFrame is highly fragmented.  This is usually the result of calling `frame.insert` many times, which has poor performance.  Consider joining all columns at once using pd.concat(axis=1) instead. To get a de-fragmented frame, use `newframe = frame.copy()`\n",
      "  df_features_history[feature_history_names] = idf_feature_history\n",
      "/home/jliao/workspace/GitHub/ml_ringcurrent_ion/prepare_fulldata.py:299: PerformanceWarning: DataFrame is highly fragmented.  This is usually the result of calling `frame.insert` many times, which has poor performance.  Consider joining all columns at once using pd.concat(axis=1) instead. To get a de-fragmented frame, use `newframe = frame.copy()`\n",
      "  df_features_history[feature_history_names] = idf_feature_history\n",
      "/home/jliao/workspace/GitHub/ml_ringcurrent_ion/prepare_fulldata.py:299: PerformanceWarning: DataFrame is highly fragmented.  This is usually the result of calling `frame.insert` many times, which has poor performance.  Consider joining all columns at once using pd.concat(axis=1) instead. To get a de-fragmented frame, use `newframe = frame.copy()`\n",
      "  df_features_history[feature_history_names] = idf_feature_history\n",
      "/home/jliao/workspace/GitHub/ml_ringcurrent_ion/prepare_fulldata.py:299: PerformanceWarning: DataFrame is highly fragmented.  This is usually the result of calling `frame.insert` many times, which has poor performance.  Consider joining all columns at once using pd.concat(axis=1) instead. To get a de-fragmented frame, use `newframe = frame.copy()`\n",
      "  df_features_history[feature_history_names] = idf_feature_history\n",
      "/home/jliao/workspace/GitHub/ml_ringcurrent_ion/prepare_fulldata.py:299: PerformanceWarning: DataFrame is highly fragmented.  This is usually the result of calling `frame.insert` many times, which has poor performance.  Consider joining all columns at once using pd.concat(axis=1) instead. To get a de-fragmented frame, use `newframe = frame.copy()`\n",
      "  df_features_history[feature_history_names] = idf_feature_history\n",
      "/home/jliao/workspace/GitHub/ml_ringcurrent_ion/prepare_fulldata.py:299: PerformanceWarning: DataFrame is highly fragmented.  This is usually the result of calling `frame.insert` many times, which has poor performance.  Consider joining all columns at once using pd.concat(axis=1) instead. To get a de-fragmented frame, use `newframe = frame.copy()`\n",
      "  df_features_history[feature_history_names] = idf_feature_history\n",
      "/home/jliao/workspace/GitHub/ml_ringcurrent_ion/prepare_fulldata.py:299: PerformanceWarning: DataFrame is highly fragmented.  This is usually the result of calling `frame.insert` many times, which has poor performance.  Consider joining all columns at once using pd.concat(axis=1) instead. To get a de-fragmented frame, use `newframe = frame.copy()`\n",
      "  df_features_history[feature_history_names] = idf_feature_history\n",
      "/home/jliao/workspace/GitHub/ml_ringcurrent_ion/prepare_fulldata.py:299: PerformanceWarning: DataFrame is highly fragmented.  This is usually the result of calling `frame.insert` many times, which has poor performance.  Consider joining all columns at once using pd.concat(axis=1) instead. To get a de-fragmented frame, use `newframe = frame.copy()`\n",
      "  df_features_history[feature_history_names] = idf_feature_history\n",
      "/home/jliao/workspace/GitHub/ml_ringcurrent_ion/prepare_fulldata.py:299: PerformanceWarning: DataFrame is highly fragmented.  This is usually the result of calling `frame.insert` many times, which has poor performance.  Consider joining all columns at once using pd.concat(axis=1) instead. To get a de-fragmented frame, use `newframe = frame.copy()`\n",
      "  df_features_history[feature_history_names] = idf_feature_history\n",
      "/home/jliao/workspace/GitHub/ml_ringcurrent_ion/prepare_fulldata.py:299: PerformanceWarning: DataFrame is highly fragmented.  This is usually the result of calling `frame.insert` many times, which has poor performance.  Consider joining all columns at once using pd.concat(axis=1) instead. To get a de-fragmented frame, use `newframe = frame.copy()`\n",
      "  df_features_history[feature_history_names] = idf_feature_history\n",
      "/home/jliao/workspace/GitHub/ml_ringcurrent_ion/prepare_fulldata.py:299: PerformanceWarning: DataFrame is highly fragmented.  This is usually the result of calling `frame.insert` many times, which has poor performance.  Consider joining all columns at once using pd.concat(axis=1) instead. To get a de-fragmented frame, use `newframe = frame.copy()`\n",
      "  df_features_history[feature_history_names] = idf_feature_history\n",
      "/home/jliao/workspace/GitHub/ml_ringcurrent_ion/prepare_fulldata.py:299: PerformanceWarning: DataFrame is highly fragmented.  This is usually the result of calling `frame.insert` many times, which has poor performance.  Consider joining all columns at once using pd.concat(axis=1) instead. To get a de-fragmented frame, use `newframe = frame.copy()`\n",
      "  df_features_history[feature_history_names] = idf_feature_history\n",
      "/home/jliao/workspace/GitHub/ml_ringcurrent_ion/prepare_fulldata.py:299: PerformanceWarning: DataFrame is highly fragmented.  This is usually the result of calling `frame.insert` many times, which has poor performance.  Consider joining all columns at once using pd.concat(axis=1) instead. To get a de-fragmented frame, use `newframe = frame.copy()`\n",
      "  df_features_history[feature_history_names] = idf_feature_history\n",
      "/home/jliao/workspace/GitHub/ml_ringcurrent_ion/prepare_fulldata.py:299: PerformanceWarning: DataFrame is highly fragmented.  This is usually the result of calling `frame.insert` many times, which has poor performance.  Consider joining all columns at once using pd.concat(axis=1) instead. To get a de-fragmented frame, use `newframe = frame.copy()`\n",
      "  df_features_history[feature_history_names] = idf_feature_history\n",
      "/home/jliao/workspace/GitHub/ml_ringcurrent_ion/prepare_fulldata.py:299: PerformanceWarning: DataFrame is highly fragmented.  This is usually the result of calling `frame.insert` many times, which has poor performance.  Consider joining all columns at once using pd.concat(axis=1) instead. To get a de-fragmented frame, use `newframe = frame.copy()`\n",
      "  df_features_history[feature_history_names] = idf_feature_history\n",
      "/home/jliao/workspace/GitHub/ml_ringcurrent_ion/prepare_fulldata.py:299: PerformanceWarning: DataFrame is highly fragmented.  This is usually the result of calling `frame.insert` many times, which has poor performance.  Consider joining all columns at once using pd.concat(axis=1) instead. To get a de-fragmented frame, use `newframe = frame.copy()`\n",
      "  df_features_history[feature_history_names] = idf_feature_history\n",
      "/home/jliao/workspace/GitHub/ml_ringcurrent_ion/prepare_fulldata.py:299: PerformanceWarning: DataFrame is highly fragmented.  This is usually the result of calling `frame.insert` many times, which has poor performance.  Consider joining all columns at once using pd.concat(axis=1) instead. To get a de-fragmented frame, use `newframe = frame.copy()`\n",
      "  df_features_history[feature_history_names] = idf_feature_history\n",
      "/home/jliao/workspace/GitHub/ml_ringcurrent_ion/prepare_fulldata.py:299: PerformanceWarning: DataFrame is highly fragmented.  This is usually the result of calling `frame.insert` many times, which has poor performance.  Consider joining all columns at once using pd.concat(axis=1) instead. To get a de-fragmented frame, use `newframe = frame.copy()`\n",
      "  df_features_history[feature_history_names] = idf_feature_history\n",
      "/home/jliao/workspace/GitHub/ml_ringcurrent_ion/prepare_fulldata.py:299: PerformanceWarning: DataFrame is highly fragmented.  This is usually the result of calling `frame.insert` many times, which has poor performance.  Consider joining all columns at once using pd.concat(axis=1) instead. To get a de-fragmented frame, use `newframe = frame.copy()`\n",
      "  df_features_history[feature_history_names] = idf_feature_history\n",
      "/home/jliao/workspace/GitHub/ml_ringcurrent_ion/prepare_fulldata.py:299: PerformanceWarning: DataFrame is highly fragmented.  This is usually the result of calling `frame.insert` many times, which has poor performance.  Consider joining all columns at once using pd.concat(axis=1) instead. To get a de-fragmented frame, use `newframe = frame.copy()`\n",
      "  df_features_history[feature_history_names] = idf_feature_history\n",
      "/home/jliao/workspace/GitHub/ml_ringcurrent_ion/prepare_fulldata.py:299: PerformanceWarning: DataFrame is highly fragmented.  This is usually the result of calling `frame.insert` many times, which has poor performance.  Consider joining all columns at once using pd.concat(axis=1) instead. To get a de-fragmented frame, use `newframe = frame.copy()`\n",
      "  df_features_history[feature_history_names] = idf_feature_history\n",
      "/home/jliao/workspace/GitHub/ml_ringcurrent_ion/prepare_fulldata.py:299: PerformanceWarning: DataFrame is highly fragmented.  This is usually the result of calling `frame.insert` many times, which has poor performance.  Consider joining all columns at once using pd.concat(axis=1) instead. To get a de-fragmented frame, use `newframe = frame.copy()`\n",
      "  df_features_history[feature_history_names] = idf_feature_history\n",
      "/home/jliao/workspace/GitHub/ml_ringcurrent_ion/prepare_fulldata.py:299: PerformanceWarning: DataFrame is highly fragmented.  This is usually the result of calling `frame.insert` many times, which has poor performance.  Consider joining all columns at once using pd.concat(axis=1) instead. To get a de-fragmented frame, use `newframe = frame.copy()`\n",
      "  df_features_history[feature_history_names] = idf_feature_history\n",
      "/home/jliao/workspace/GitHub/ml_ringcurrent_ion/prepare_fulldata.py:299: PerformanceWarning: DataFrame is highly fragmented.  This is usually the result of calling `frame.insert` many times, which has poor performance.  Consider joining all columns at once using pd.concat(axis=1) instead. To get a de-fragmented frame, use `newframe = frame.copy()`\n",
      "  df_features_history[feature_history_names] = idf_feature_history\n",
      "/home/jliao/workspace/GitHub/ml_ringcurrent_ion/prepare_fulldata.py:299: PerformanceWarning: DataFrame is highly fragmented.  This is usually the result of calling `frame.insert` many times, which has poor performance.  Consider joining all columns at once using pd.concat(axis=1) instead. To get a de-fragmented frame, use `newframe = frame.copy()`\n",
      "  df_features_history[feature_history_names] = idf_feature_history\n",
      "/home/jliao/workspace/GitHub/ml_ringcurrent_ion/prepare_fulldata.py:299: PerformanceWarning: DataFrame is highly fragmented.  This is usually the result of calling `frame.insert` many times, which has poor performance.  Consider joining all columns at once using pd.concat(axis=1) instead. To get a de-fragmented frame, use `newframe = frame.copy()`\n",
      "  df_features_history[feature_history_names] = idf_feature_history\n",
      "/home/jliao/workspace/GitHub/ml_ringcurrent_ion/prepare_fulldata.py:299: PerformanceWarning: DataFrame is highly fragmented.  This is usually the result of calling `frame.insert` many times, which has poor performance.  Consider joining all columns at once using pd.concat(axis=1) instead. To get a de-fragmented frame, use `newframe = frame.copy()`\n",
      "  df_features_history[feature_history_names] = idf_feature_history\n",
      "/home/jliao/workspace/GitHub/ml_ringcurrent_ion/prepare_fulldata.py:299: PerformanceWarning: DataFrame is highly fragmented.  This is usually the result of calling `frame.insert` many times, which has poor performance.  Consider joining all columns at once using pd.concat(axis=1) instead. To get a de-fragmented frame, use `newframe = frame.copy()`\n",
      "  df_features_history[feature_history_names] = idf_feature_history\n",
      "/home/jliao/workspace/GitHub/ml_ringcurrent_ion/prepare_fulldata.py:299: PerformanceWarning: DataFrame is highly fragmented.  This is usually the result of calling `frame.insert` many times, which has poor performance.  Consider joining all columns at once using pd.concat(axis=1) instead. To get a de-fragmented frame, use `newframe = frame.copy()`\n",
      "  df_features_history[feature_history_names] = idf_feature_history\n",
      "/home/jliao/workspace/GitHub/ml_ringcurrent_ion/prepare_fulldata.py:299: PerformanceWarning: DataFrame is highly fragmented.  This is usually the result of calling `frame.insert` many times, which has poor performance.  Consider joining all columns at once using pd.concat(axis=1) instead. To get a de-fragmented frame, use `newframe = frame.copy()`\n",
      "  df_features_history[feature_history_names] = idf_feature_history\n",
      "/home/jliao/workspace/GitHub/ml_ringcurrent_ion/prepare_fulldata.py:299: PerformanceWarning: DataFrame is highly fragmented.  This is usually the result of calling `frame.insert` many times, which has poor performance.  Consider joining all columns at once using pd.concat(axis=1) instead. To get a de-fragmented frame, use `newframe = frame.copy()`\n",
      "  df_features_history[feature_history_names] = idf_feature_history\n",
      "/home/jliao/workspace/GitHub/ml_ringcurrent_ion/prepare_fulldata.py:299: PerformanceWarning: DataFrame is highly fragmented.  This is usually the result of calling `frame.insert` many times, which has poor performance.  Consider joining all columns at once using pd.concat(axis=1) instead. To get a de-fragmented frame, use `newframe = frame.copy()`\n",
      "  df_features_history[feature_history_names] = idf_feature_history\n",
      "/home/jliao/workspace/GitHub/ml_ringcurrent_ion/prepare_fulldata.py:299: PerformanceWarning: DataFrame is highly fragmented.  This is usually the result of calling `frame.insert` many times, which has poor performance.  Consider joining all columns at once using pd.concat(axis=1) instead. To get a de-fragmented frame, use `newframe = frame.copy()`\n",
      "  df_features_history[feature_history_names] = idf_feature_history\n",
      "/home/jliao/workspace/GitHub/ml_ringcurrent_ion/prepare_fulldata.py:299: PerformanceWarning: DataFrame is highly fragmented.  This is usually the result of calling `frame.insert` many times, which has poor performance.  Consider joining all columns at once using pd.concat(axis=1) instead. To get a de-fragmented frame, use `newframe = frame.copy()`\n",
      "  df_features_history[feature_history_names] = idf_feature_history\n",
      "/home/jliao/workspace/GitHub/ml_ringcurrent_ion/prepare_fulldata.py:299: PerformanceWarning: DataFrame is highly fragmented.  This is usually the result of calling `frame.insert` many times, which has poor performance.  Consider joining all columns at once using pd.concat(axis=1) instead. To get a de-fragmented frame, use `newframe = frame.copy()`\n",
      "  df_features_history[feature_history_names] = idf_feature_history\n",
      "/home/jliao/workspace/GitHub/ml_ringcurrent_ion/prepare_fulldata.py:299: PerformanceWarning: DataFrame is highly fragmented.  This is usually the result of calling `frame.insert` many times, which has poor performance.  Consider joining all columns at once using pd.concat(axis=1) instead. To get a de-fragmented frame, use `newframe = frame.copy()`\n",
      "  df_features_history[feature_history_names] = idf_feature_history\n",
      "/home/jliao/workspace/GitHub/ml_ringcurrent_ion/prepare_fulldata.py:299: PerformanceWarning: DataFrame is highly fragmented.  This is usually the result of calling `frame.insert` many times, which has poor performance.  Consider joining all columns at once using pd.concat(axis=1) instead. To get a de-fragmented frame, use `newframe = frame.copy()`\n",
      "  df_features_history[feature_history_names] = idf_feature_history\n",
      "/home/jliao/workspace/GitHub/ml_ringcurrent_ion/prepare_fulldata.py:299: PerformanceWarning: DataFrame is highly fragmented.  This is usually the result of calling `frame.insert` many times, which has poor performance.  Consider joining all columns at once using pd.concat(axis=1) instead. To get a de-fragmented frame, use `newframe = frame.copy()`\n",
      "  df_features_history[feature_history_names] = idf_feature_history\n",
      "/home/jliao/workspace/GitHub/ml_ringcurrent_ion/prepare_fulldata.py:299: PerformanceWarning: DataFrame is highly fragmented.  This is usually the result of calling `frame.insert` many times, which has poor performance.  Consider joining all columns at once using pd.concat(axis=1) instead. To get a de-fragmented frame, use `newframe = frame.copy()`\n",
      "  df_features_history[feature_history_names] = idf_feature_history\n",
      "/home/jliao/workspace/GitHub/ml_ringcurrent_ion/prepare_fulldata.py:299: PerformanceWarning: DataFrame is highly fragmented.  This is usually the result of calling `frame.insert` many times, which has poor performance.  Consider joining all columns at once using pd.concat(axis=1) instead. To get a de-fragmented frame, use `newframe = frame.copy()`\n",
      "  df_features_history[feature_history_names] = idf_feature_history\n",
      "/home/jliao/workspace/GitHub/ml_ringcurrent_ion/prepare_fulldata.py:299: PerformanceWarning: DataFrame is highly fragmented.  This is usually the result of calling `frame.insert` many times, which has poor performance.  Consider joining all columns at once using pd.concat(axis=1) instead. To get a de-fragmented frame, use `newframe = frame.copy()`\n",
      "  df_features_history[feature_history_names] = idf_feature_history\n",
      "/home/jliao/workspace/GitHub/ml_ringcurrent_ion/prepare_fulldata.py:299: PerformanceWarning: DataFrame is highly fragmented.  This is usually the result of calling `frame.insert` many times, which has poor performance.  Consider joining all columns at once using pd.concat(axis=1) instead. To get a de-fragmented frame, use `newframe = frame.copy()`\n",
      "  df_features_history[feature_history_names] = idf_feature_history\n",
      "/home/jliao/workspace/GitHub/ml_ringcurrent_ion/prepare_fulldata.py:299: PerformanceWarning: DataFrame is highly fragmented.  This is usually the result of calling `frame.insert` many times, which has poor performance.  Consider joining all columns at once using pd.concat(axis=1) instead. To get a de-fragmented frame, use `newframe = frame.copy()`\n",
      "  df_features_history[feature_history_names] = idf_feature_history\n",
      "/home/jliao/workspace/GitHub/ml_ringcurrent_ion/prepare_fulldata.py:299: PerformanceWarning: DataFrame is highly fragmented.  This is usually the result of calling `frame.insert` many times, which has poor performance.  Consider joining all columns at once using pd.concat(axis=1) instead. To get a de-fragmented frame, use `newframe = frame.copy()`\n",
      "  df_features_history[feature_history_names] = idf_feature_history\n",
      "/home/jliao/workspace/GitHub/ml_ringcurrent_ion/prepare_fulldata.py:299: PerformanceWarning: DataFrame is highly fragmented.  This is usually the result of calling `frame.insert` many times, which has poor performance.  Consider joining all columns at once using pd.concat(axis=1) instead. To get a de-fragmented frame, use `newframe = frame.copy()`\n",
      "  df_features_history[feature_history_names] = idf_feature_history\n",
      "/home/jliao/workspace/GitHub/ml_ringcurrent_ion/prepare_fulldata.py:299: PerformanceWarning: DataFrame is highly fragmented.  This is usually the result of calling `frame.insert` many times, which has poor performance.  Consider joining all columns at once using pd.concat(axis=1) instead. To get a de-fragmented frame, use `newframe = frame.copy()`\n",
      "  df_features_history[feature_history_names] = idf_feature_history\n",
      "/home/jliao/workspace/GitHub/ml_ringcurrent_ion/prepare_fulldata.py:299: PerformanceWarning: DataFrame is highly fragmented.  This is usually the result of calling `frame.insert` many times, which has poor performance.  Consider joining all columns at once using pd.concat(axis=1) instead. To get a de-fragmented frame, use `newframe = frame.copy()`\n",
      "  df_features_history[feature_history_names] = idf_feature_history\n",
      "/home/jliao/workspace/GitHub/ml_ringcurrent_ion/prepare_fulldata.py:299: PerformanceWarning: DataFrame is highly fragmented.  This is usually the result of calling `frame.insert` many times, which has poor performance.  Consider joining all columns at once using pd.concat(axis=1) instead. To get a de-fragmented frame, use `newframe = frame.copy()`\n",
      "  df_features_history[feature_history_names] = idf_feature_history\n",
      "/home/jliao/workspace/GitHub/ml_ringcurrent_ion/prepare_fulldata.py:299: PerformanceWarning: DataFrame is highly fragmented.  This is usually the result of calling `frame.insert` many times, which has poor performance.  Consider joining all columns at once using pd.concat(axis=1) instead. To get a de-fragmented frame, use `newframe = frame.copy()`\n",
      "  df_features_history[feature_history_names] = idf_feature_history\n",
      "/home/jliao/workspace/GitHub/ml_ringcurrent_ion/prepare_fulldata.py:299: PerformanceWarning: DataFrame is highly fragmented.  This is usually the result of calling `frame.insert` many times, which has poor performance.  Consider joining all columns at once using pd.concat(axis=1) instead. To get a de-fragmented frame, use `newframe = frame.copy()`\n",
      "  df_features_history[feature_history_names] = idf_feature_history\n",
      "/home/jliao/workspace/GitHub/ml_ringcurrent_ion/prepare_fulldata.py:299: PerformanceWarning: DataFrame is highly fragmented.  This is usually the result of calling `frame.insert` many times, which has poor performance.  Consider joining all columns at once using pd.concat(axis=1) instead. To get a de-fragmented frame, use `newframe = frame.copy()`\n",
      "  df_features_history[feature_history_names] = idf_feature_history\n",
      "/home/jliao/workspace/GitHub/ml_ringcurrent_ion/prepare_fulldata.py:299: PerformanceWarning: DataFrame is highly fragmented.  This is usually the result of calling `frame.insert` many times, which has poor performance.  Consider joining all columns at once using pd.concat(axis=1) instead. To get a de-fragmented frame, use `newframe = frame.copy()`\n",
      "  df_features_history[feature_history_names] = idf_feature_history\n",
      "/home/jliao/workspace/GitHub/ml_ringcurrent_ion/prepare_fulldata.py:299: PerformanceWarning: DataFrame is highly fragmented.  This is usually the result of calling `frame.insert` many times, which has poor performance.  Consider joining all columns at once using pd.concat(axis=1) instead. To get a de-fragmented frame, use `newframe = frame.copy()`\n",
      "  df_features_history[feature_history_names] = idf_feature_history\n",
      "/home/jliao/workspace/GitHub/ml_ringcurrent_ion/prepare_fulldata.py:299: PerformanceWarning: DataFrame is highly fragmented.  This is usually the result of calling `frame.insert` many times, which has poor performance.  Consider joining all columns at once using pd.concat(axis=1) instead. To get a de-fragmented frame, use `newframe = frame.copy()`\n",
      "  df_features_history[feature_history_names] = idf_feature_history\n",
      "/home/jliao/workspace/GitHub/ml_ringcurrent_ion/prepare_fulldata.py:299: PerformanceWarning: DataFrame is highly fragmented.  This is usually the result of calling `frame.insert` many times, which has poor performance.  Consider joining all columns at once using pd.concat(axis=1) instead. To get a de-fragmented frame, use `newframe = frame.copy()`\n",
      "  df_features_history[feature_history_names] = idf_feature_history\n",
      "/home/jliao/workspace/GitHub/ml_ringcurrent_ion/prepare_fulldata.py:299: PerformanceWarning: DataFrame is highly fragmented.  This is usually the result of calling `frame.insert` many times, which has poor performance.  Consider joining all columns at once using pd.concat(axis=1) instead. To get a de-fragmented frame, use `newframe = frame.copy()`\n",
      "  df_features_history[feature_history_names] = idf_feature_history\n",
      "/home/jliao/workspace/GitHub/ml_ringcurrent_ion/prepare_fulldata.py:299: PerformanceWarning: DataFrame is highly fragmented.  This is usually the result of calling `frame.insert` many times, which has poor performance.  Consider joining all columns at once using pd.concat(axis=1) instead. To get a de-fragmented frame, use `newframe = frame.copy()`\n",
      "  df_features_history[feature_history_names] = idf_feature_history\n",
      "/home/jliao/workspace/GitHub/ml_ringcurrent_ion/prepare_fulldata.py:299: PerformanceWarning: DataFrame is highly fragmented.  This is usually the result of calling `frame.insert` many times, which has poor performance.  Consider joining all columns at once using pd.concat(axis=1) instead. To get a de-fragmented frame, use `newframe = frame.copy()`\n",
      "  df_features_history[feature_history_names] = idf_feature_history\n",
      "/home/jliao/workspace/GitHub/ml_ringcurrent_ion/prepare_fulldata.py:299: PerformanceWarning: DataFrame is highly fragmented.  This is usually the result of calling `frame.insert` many times, which has poor performance.  Consider joining all columns at once using pd.concat(axis=1) instead. To get a de-fragmented frame, use `newframe = frame.copy()`\n",
      "  df_features_history[feature_history_names] = idf_feature_history\n",
      "/home/jliao/workspace/GitHub/ml_ringcurrent_ion/prepare_fulldata.py:299: PerformanceWarning: DataFrame is highly fragmented.  This is usually the result of calling `frame.insert` many times, which has poor performance.  Consider joining all columns at once using pd.concat(axis=1) instead. To get a de-fragmented frame, use `newframe = frame.copy()`\n",
      "  df_features_history[feature_history_names] = idf_feature_history\n",
      "/home/jliao/workspace/GitHub/ml_ringcurrent_ion/prepare_fulldata.py:299: PerformanceWarning: DataFrame is highly fragmented.  This is usually the result of calling `frame.insert` many times, which has poor performance.  Consider joining all columns at once using pd.concat(axis=1) instead. To get a de-fragmented frame, use `newframe = frame.copy()`\n",
      "  df_features_history[feature_history_names] = idf_feature_history\n",
      "/home/jliao/workspace/GitHub/ml_ringcurrent_ion/prepare_fulldata.py:299: PerformanceWarning: DataFrame is highly fragmented.  This is usually the result of calling `frame.insert` many times, which has poor performance.  Consider joining all columns at once using pd.concat(axis=1) instead. To get a de-fragmented frame, use `newframe = frame.copy()`\n",
      "  df_features_history[feature_history_names] = idf_feature_history\n",
      "/home/jliao/workspace/GitHub/ml_ringcurrent_ion/prepare_fulldata.py:299: PerformanceWarning: DataFrame is highly fragmented.  This is usually the result of calling `frame.insert` many times, which has poor performance.  Consider joining all columns at once using pd.concat(axis=1) instead. To get a de-fragmented frame, use `newframe = frame.copy()`\n",
      "  df_features_history[feature_history_names] = idf_feature_history\n",
      "/home/jliao/workspace/GitHub/ml_ringcurrent_ion/prepare_fulldata.py:299: PerformanceWarning: DataFrame is highly fragmented.  This is usually the result of calling `frame.insert` many times, which has poor performance.  Consider joining all columns at once using pd.concat(axis=1) instead. To get a de-fragmented frame, use `newframe = frame.copy()`\n",
      "  df_features_history[feature_history_names] = idf_feature_history\n",
      "/home/jliao/workspace/GitHub/ml_ringcurrent_ion/prepare_fulldata.py:299: PerformanceWarning: DataFrame is highly fragmented.  This is usually the result of calling `frame.insert` many times, which has poor performance.  Consider joining all columns at once using pd.concat(axis=1) instead. To get a de-fragmented frame, use `newframe = frame.copy()`\n",
      "  df_features_history[feature_history_names] = idf_feature_history\n",
      "/home/jliao/workspace/GitHub/ml_ringcurrent_ion/prepare_fulldata.py:299: PerformanceWarning: DataFrame is highly fragmented.  This is usually the result of calling `frame.insert` many times, which has poor performance.  Consider joining all columns at once using pd.concat(axis=1) instead. To get a de-fragmented frame, use `newframe = frame.copy()`\n",
      "  df_features_history[feature_history_names] = idf_feature_history\n",
      "/home/jliao/workspace/GitHub/ml_ringcurrent_ion/prepare_fulldata.py:299: PerformanceWarning: DataFrame is highly fragmented.  This is usually the result of calling `frame.insert` many times, which has poor performance.  Consider joining all columns at once using pd.concat(axis=1) instead. To get a de-fragmented frame, use `newframe = frame.copy()`\n",
      "  df_features_history[feature_history_names] = idf_feature_history\n",
      "/home/jliao/workspace/GitHub/ml_ringcurrent_ion/prepare_fulldata.py:299: PerformanceWarning: DataFrame is highly fragmented.  This is usually the result of calling `frame.insert` many times, which has poor performance.  Consider joining all columns at once using pd.concat(axis=1) instead. To get a de-fragmented frame, use `newframe = frame.copy()`\n",
      "  df_features_history[feature_history_names] = idf_feature_history\n",
      "/home/jliao/workspace/GitHub/ml_ringcurrent_ion/prepare_fulldata.py:299: PerformanceWarning: DataFrame is highly fragmented.  This is usually the result of calling `frame.insert` many times, which has poor performance.  Consider joining all columns at once using pd.concat(axis=1) instead. To get a de-fragmented frame, use `newframe = frame.copy()`\n",
      "  df_features_history[feature_history_names] = idf_feature_history\n",
      "/home/jliao/workspace/GitHub/ml_ringcurrent_ion/prepare_fulldata.py:299: PerformanceWarning: DataFrame is highly fragmented.  This is usually the result of calling `frame.insert` many times, which has poor performance.  Consider joining all columns at once using pd.concat(axis=1) instead. To get a de-fragmented frame, use `newframe = frame.copy()`\n",
      "  df_features_history[feature_history_names] = idf_feature_history\n",
      "/home/jliao/workspace/GitHub/ml_ringcurrent_ion/prepare_fulldata.py:299: PerformanceWarning: DataFrame is highly fragmented.  This is usually the result of calling `frame.insert` many times, which has poor performance.  Consider joining all columns at once using pd.concat(axis=1) instead. To get a de-fragmented frame, use `newframe = frame.copy()`\n",
      "  df_features_history[feature_history_names] = idf_feature_history\n",
      "/home/jliao/workspace/GitHub/ml_ringcurrent_ion/prepare_fulldata.py:299: PerformanceWarning: DataFrame is highly fragmented.  This is usually the result of calling `frame.insert` many times, which has poor performance.  Consider joining all columns at once using pd.concat(axis=1) instead. To get a de-fragmented frame, use `newframe = frame.copy()`\n",
      "  df_features_history[feature_history_names] = idf_feature_history\n",
      "/home/jliao/workspace/GitHub/ml_ringcurrent_ion/prepare_fulldata.py:299: PerformanceWarning: DataFrame is highly fragmented.  This is usually the result of calling `frame.insert` many times, which has poor performance.  Consider joining all columns at once using pd.concat(axis=1) instead. To get a de-fragmented frame, use `newframe = frame.copy()`\n",
      "  df_features_history[feature_history_names] = idf_feature_history\n",
      "/home/jliao/workspace/GitHub/ml_ringcurrent_ion/prepare_fulldata.py:299: PerformanceWarning: DataFrame is highly fragmented.  This is usually the result of calling `frame.insert` many times, which has poor performance.  Consider joining all columns at once using pd.concat(axis=1) instead. To get a de-fragmented frame, use `newframe = frame.copy()`\n",
      "  df_features_history[feature_history_names] = idf_feature_history\n",
      "/home/jliao/workspace/GitHub/ml_ringcurrent_ion/prepare_fulldata.py:299: PerformanceWarning: DataFrame is highly fragmented.  This is usually the result of calling `frame.insert` many times, which has poor performance.  Consider joining all columns at once using pd.concat(axis=1) instead. To get a de-fragmented frame, use `newframe = frame.copy()`\n",
      "  df_features_history[feature_history_names] = idf_feature_history\n",
      "/home/jliao/workspace/GitHub/ml_ringcurrent_ion/prepare_fulldata.py:299: PerformanceWarning: DataFrame is highly fragmented.  This is usually the result of calling `frame.insert` many times, which has poor performance.  Consider joining all columns at once using pd.concat(axis=1) instead. To get a de-fragmented frame, use `newframe = frame.copy()`\n",
      "  df_features_history[feature_history_names] = idf_feature_history\n",
      "/home/jliao/workspace/GitHub/ml_ringcurrent_ion/prepare_fulldata.py:299: PerformanceWarning: DataFrame is highly fragmented.  This is usually the result of calling `frame.insert` many times, which has poor performance.  Consider joining all columns at once using pd.concat(axis=1) instead. To get a de-fragmented frame, use `newframe = frame.copy()`\n",
      "  df_features_history[feature_history_names] = idf_feature_history\n",
      "/home/jliao/workspace/GitHub/ml_ringcurrent_ion/prepare_fulldata.py:299: PerformanceWarning: DataFrame is highly fragmented.  This is usually the result of calling `frame.insert` many times, which has poor performance.  Consider joining all columns at once using pd.concat(axis=1) instead. To get a de-fragmented frame, use `newframe = frame.copy()`\n",
      "  df_features_history[feature_history_names] = idf_feature_history\n",
      "/home/jliao/workspace/GitHub/ml_ringcurrent_ion/prepare_fulldata.py:299: PerformanceWarning: DataFrame is highly fragmented.  This is usually the result of calling `frame.insert` many times, which has poor performance.  Consider joining all columns at once using pd.concat(axis=1) instead. To get a de-fragmented frame, use `newframe = frame.copy()`\n",
      "  df_features_history[feature_history_names] = idf_feature_history\n",
      "/home/jliao/workspace/GitHub/ml_ringcurrent_ion/prepare_fulldata.py:299: PerformanceWarning: DataFrame is highly fragmented.  This is usually the result of calling `frame.insert` many times, which has poor performance.  Consider joining all columns at once using pd.concat(axis=1) instead. To get a de-fragmented frame, use `newframe = frame.copy()`\n",
      "  df_features_history[feature_history_names] = idf_feature_history\n",
      "/home/jliao/workspace/GitHub/ml_ringcurrent_ion/prepare_fulldata.py:299: PerformanceWarning: DataFrame is highly fragmented.  This is usually the result of calling `frame.insert` many times, which has poor performance.  Consider joining all columns at once using pd.concat(axis=1) instead. To get a de-fragmented frame, use `newframe = frame.copy()`\n",
      "  df_features_history[feature_history_names] = idf_feature_history\n",
      "/home/jliao/workspace/GitHub/ml_ringcurrent_ion/prepare_fulldata.py:299: PerformanceWarning: DataFrame is highly fragmented.  This is usually the result of calling `frame.insert` many times, which has poor performance.  Consider joining all columns at once using pd.concat(axis=1) instead. To get a de-fragmented frame, use `newframe = frame.copy()`\n",
      "  df_features_history[feature_history_names] = idf_feature_history\n",
      "/home/jliao/workspace/GitHub/ml_ringcurrent_ion/prepare_fulldata.py:299: PerformanceWarning: DataFrame is highly fragmented.  This is usually the result of calling `frame.insert` many times, which has poor performance.  Consider joining all columns at once using pd.concat(axis=1) instead. To get a de-fragmented frame, use `newframe = frame.copy()`\n",
      "  df_features_history[feature_history_names] = idf_feature_history\n",
      "/home/jliao/workspace/GitHub/ml_ringcurrent_ion/prepare_fulldata.py:299: PerformanceWarning: DataFrame is highly fragmented.  This is usually the result of calling `frame.insert` many times, which has poor performance.  Consider joining all columns at once using pd.concat(axis=1) instead. To get a de-fragmented frame, use `newframe = frame.copy()`\n",
      "  df_features_history[feature_history_names] = idf_feature_history\n",
      "/home/jliao/workspace/GitHub/ml_ringcurrent_ion/prepare_fulldata.py:299: PerformanceWarning: DataFrame is highly fragmented.  This is usually the result of calling `frame.insert` many times, which has poor performance.  Consider joining all columns at once using pd.concat(axis=1) instead. To get a de-fragmented frame, use `newframe = frame.copy()`\n",
      "  df_features_history[feature_history_names] = idf_feature_history\n",
      "/home/jliao/workspace/GitHub/ml_ringcurrent_ion/prepare_fulldata.py:299: PerformanceWarning: DataFrame is highly fragmented.  This is usually the result of calling `frame.insert` many times, which has poor performance.  Consider joining all columns at once using pd.concat(axis=1) instead. To get a de-fragmented frame, use `newframe = frame.copy()`\n",
      "  df_features_history[feature_history_names] = idf_feature_history\n",
      "/home/jliao/workspace/GitHub/ml_ringcurrent_ion/prepare_fulldata.py:299: PerformanceWarning: DataFrame is highly fragmented.  This is usually the result of calling `frame.insert` many times, which has poor performance.  Consider joining all columns at once using pd.concat(axis=1) instead. To get a de-fragmented frame, use `newframe = frame.copy()`\n",
      "  df_features_history[feature_history_names] = idf_feature_history\n",
      "/home/jliao/workspace/GitHub/ml_ringcurrent_ion/prepare_fulldata.py:299: PerformanceWarning: DataFrame is highly fragmented.  This is usually the result of calling `frame.insert` many times, which has poor performance.  Consider joining all columns at once using pd.concat(axis=1) instead. To get a de-fragmented frame, use `newframe = frame.copy()`\n",
      "  df_features_history[feature_history_names] = idf_feature_history\n",
      "/home/jliao/workspace/GitHub/ml_ringcurrent_ion/prepare_fulldata.py:299: PerformanceWarning: DataFrame is highly fragmented.  This is usually the result of calling `frame.insert` many times, which has poor performance.  Consider joining all columns at once using pd.concat(axis=1) instead. To get a de-fragmented frame, use `newframe = frame.copy()`\n",
      "  df_features_history[feature_history_names] = idf_feature_history\n",
      "/home/jliao/workspace/GitHub/ml_ringcurrent_ion/prepare_fulldata.py:299: PerformanceWarning: DataFrame is highly fragmented.  This is usually the result of calling `frame.insert` many times, which has poor performance.  Consider joining all columns at once using pd.concat(axis=1) instead. To get a de-fragmented frame, use `newframe = frame.copy()`\n",
      "  df_features_history[feature_history_names] = idf_feature_history\n",
      "/home/jliao/workspace/GitHub/ml_ringcurrent_ion/prepare_fulldata.py:299: PerformanceWarning: DataFrame is highly fragmented.  This is usually the result of calling `frame.insert` many times, which has poor performance.  Consider joining all columns at once using pd.concat(axis=1) instead. To get a de-fragmented frame, use `newframe = frame.copy()`\n",
      "  df_features_history[feature_history_names] = idf_feature_history\n",
      "/home/jliao/workspace/GitHub/ml_ringcurrent_ion/prepare_fulldata.py:299: PerformanceWarning: DataFrame is highly fragmented.  This is usually the result of calling `frame.insert` many times, which has poor performance.  Consider joining all columns at once using pd.concat(axis=1) instead. To get a de-fragmented frame, use `newframe = frame.copy()`\n",
      "  df_features_history[feature_history_names] = idf_feature_history\n",
      "/home/jliao/workspace/GitHub/ml_ringcurrent_ion/prepare_fulldata.py:299: PerformanceWarning: DataFrame is highly fragmented.  This is usually the result of calling `frame.insert` many times, which has poor performance.  Consider joining all columns at once using pd.concat(axis=1) instead. To get a de-fragmented frame, use `newframe = frame.copy()`\n",
      "  df_features_history[feature_history_names] = idf_feature_history\n",
      "/home/jliao/workspace/GitHub/ml_ringcurrent_ion/prepare_fulldata.py:299: PerformanceWarning: DataFrame is highly fragmented.  This is usually the result of calling `frame.insert` many times, which has poor performance.  Consider joining all columns at once using pd.concat(axis=1) instead. To get a de-fragmented frame, use `newframe = frame.copy()`\n",
      "  df_features_history[feature_history_names] = idf_feature_history\n",
      "/home/jliao/workspace/GitHub/ml_ringcurrent_ion/prepare_fulldata.py:299: PerformanceWarning: DataFrame is highly fragmented.  This is usually the result of calling `frame.insert` many times, which has poor performance.  Consider joining all columns at once using pd.concat(axis=1) instead. To get a de-fragmented frame, use `newframe = frame.copy()`\n",
      "  df_features_history[feature_history_names] = idf_feature_history\n",
      "/home/jliao/workspace/GitHub/ml_ringcurrent_ion/prepare_fulldata.py:299: PerformanceWarning: DataFrame is highly fragmented.  This is usually the result of calling `frame.insert` many times, which has poor performance.  Consider joining all columns at once using pd.concat(axis=1) instead. To get a de-fragmented frame, use `newframe = frame.copy()`\n",
      "  df_features_history[feature_history_names] = idf_feature_history\n",
      "/home/jliao/workspace/GitHub/ml_ringcurrent_ion/prepare_fulldata.py:299: PerformanceWarning: DataFrame is highly fragmented.  This is usually the result of calling `frame.insert` many times, which has poor performance.  Consider joining all columns at once using pd.concat(axis=1) instead. To get a de-fragmented frame, use `newframe = frame.copy()`\n",
      "  df_features_history[feature_history_names] = idf_feature_history\n",
      "/home/jliao/workspace/GitHub/ml_ringcurrent_ion/prepare_fulldata.py:299: PerformanceWarning: DataFrame is highly fragmented.  This is usually the result of calling `frame.insert` many times, which has poor performance.  Consider joining all columns at once using pd.concat(axis=1) instead. To get a de-fragmented frame, use `newframe = frame.copy()`\n",
      "  df_features_history[feature_history_names] = idf_feature_history\n",
      "/home/jliao/workspace/GitHub/ml_ringcurrent_ion/prepare_fulldata.py:299: PerformanceWarning: DataFrame is highly fragmented.  This is usually the result of calling `frame.insert` many times, which has poor performance.  Consider joining all columns at once using pd.concat(axis=1) instead. To get a de-fragmented frame, use `newframe = frame.copy()`\n",
      "  df_features_history[feature_history_names] = idf_feature_history\n",
      "/home/jliao/workspace/GitHub/ml_ringcurrent_ion/prepare_fulldata.py:299: PerformanceWarning: DataFrame is highly fragmented.  This is usually the result of calling `frame.insert` many times, which has poor performance.  Consider joining all columns at once using pd.concat(axis=1) instead. To get a de-fragmented frame, use `newframe = frame.copy()`\n",
      "  df_features_history[feature_history_names] = idf_feature_history\n",
      "/home/jliao/workspace/GitHub/ml_ringcurrent_ion/prepare_fulldata.py:299: PerformanceWarning: DataFrame is highly fragmented.  This is usually the result of calling `frame.insert` many times, which has poor performance.  Consider joining all columns at once using pd.concat(axis=1) instead. To get a de-fragmented frame, use `newframe = frame.copy()`\n",
      "  df_features_history[feature_history_names] = idf_feature_history\n",
      "/home/jliao/workspace/GitHub/ml_ringcurrent_ion/prepare_fulldata.py:299: PerformanceWarning: DataFrame is highly fragmented.  This is usually the result of calling `frame.insert` many times, which has poor performance.  Consider joining all columns at once using pd.concat(axis=1) instead. To get a de-fragmented frame, use `newframe = frame.copy()`\n",
      "  df_features_history[feature_history_names] = idf_feature_history\n",
      "/home/jliao/workspace/GitHub/ml_ringcurrent_ion/prepare_fulldata.py:299: PerformanceWarning: DataFrame is highly fragmented.  This is usually the result of calling `frame.insert` many times, which has poor performance.  Consider joining all columns at once using pd.concat(axis=1) instead. To get a de-fragmented frame, use `newframe = frame.copy()`\n",
      "  df_features_history[feature_history_names] = idf_feature_history\n",
      "/home/jliao/workspace/GitHub/ml_ringcurrent_ion/prepare_fulldata.py:299: PerformanceWarning: DataFrame is highly fragmented.  This is usually the result of calling `frame.insert` many times, which has poor performance.  Consider joining all columns at once using pd.concat(axis=1) instead. To get a de-fragmented frame, use `newframe = frame.copy()`\n",
      "  df_features_history[feature_history_names] = idf_feature_history\n",
      "/home/jliao/workspace/GitHub/ml_ringcurrent_ion/prepare_fulldata.py:299: PerformanceWarning: DataFrame is highly fragmented.  This is usually the result of calling `frame.insert` many times, which has poor performance.  Consider joining all columns at once using pd.concat(axis=1) instead. To get a de-fragmented frame, use `newframe = frame.copy()`\n",
      "  df_features_history[feature_history_names] = idf_feature_history\n",
      "/home/jliao/workspace/GitHub/ml_ringcurrent_ion/prepare_fulldata.py:299: PerformanceWarning: DataFrame is highly fragmented.  This is usually the result of calling `frame.insert` many times, which has poor performance.  Consider joining all columns at once using pd.concat(axis=1) instead. To get a de-fragmented frame, use `newframe = frame.copy()`\n",
      "  df_features_history[feature_history_names] = idf_feature_history\n",
      "/home/jliao/workspace/GitHub/ml_ringcurrent_ion/prepare_fulldata.py:299: PerformanceWarning: DataFrame is highly fragmented.  This is usually the result of calling `frame.insert` many times, which has poor performance.  Consider joining all columns at once using pd.concat(axis=1) instead. To get a de-fragmented frame, use `newframe = frame.copy()`\n",
      "  df_features_history[feature_history_names] = idf_feature_history\n",
      "/home/jliao/workspace/GitHub/ml_ringcurrent_ion/prepare_fulldata.py:299: PerformanceWarning: DataFrame is highly fragmented.  This is usually the result of calling `frame.insert` many times, which has poor performance.  Consider joining all columns at once using pd.concat(axis=1) instead. To get a de-fragmented frame, use `newframe = frame.copy()`\n",
      "  df_features_history[feature_history_names] = idf_feature_history\n",
      "/home/jliao/workspace/GitHub/ml_ringcurrent_ion/prepare_fulldata.py:299: PerformanceWarning: DataFrame is highly fragmented.  This is usually the result of calling `frame.insert` many times, which has poor performance.  Consider joining all columns at once using pd.concat(axis=1) instead. To get a de-fragmented frame, use `newframe = frame.copy()`\n",
      "  df_features_history[feature_history_names] = idf_feature_history\n",
      "/home/jliao/workspace/GitHub/ml_ringcurrent_ion/prepare_fulldata.py:299: PerformanceWarning: DataFrame is highly fragmented.  This is usually the result of calling `frame.insert` many times, which has poor performance.  Consider joining all columns at once using pd.concat(axis=1) instead. To get a de-fragmented frame, use `newframe = frame.copy()`\n",
      "  df_features_history[feature_history_names] = idf_feature_history\n",
      "/home/jliao/workspace/GitHub/ml_ringcurrent_ion/prepare_fulldata.py:299: PerformanceWarning: DataFrame is highly fragmented.  This is usually the result of calling `frame.insert` many times, which has poor performance.  Consider joining all columns at once using pd.concat(axis=1) instead. To get a de-fragmented frame, use `newframe = frame.copy()`\n",
      "  df_features_history[feature_history_names] = idf_feature_history\n",
      "/home/jliao/workspace/GitHub/ml_ringcurrent_ion/prepare_fulldata.py:299: PerformanceWarning: DataFrame is highly fragmented.  This is usually the result of calling `frame.insert` many times, which has poor performance.  Consider joining all columns at once using pd.concat(axis=1) instead. To get a de-fragmented frame, use `newframe = frame.copy()`\n",
      "  df_features_history[feature_history_names] = idf_feature_history\n",
      "/home/jliao/workspace/GitHub/ml_ringcurrent_ion/prepare_fulldata.py:299: PerformanceWarning: DataFrame is highly fragmented.  This is usually the result of calling `frame.insert` many times, which has poor performance.  Consider joining all columns at once using pd.concat(axis=1) instead. To get a de-fragmented frame, use `newframe = frame.copy()`\n",
      "  df_features_history[feature_history_names] = idf_feature_history\n",
      "/home/jliao/workspace/GitHub/ml_ringcurrent_ion/prepare_fulldata.py:299: PerformanceWarning: DataFrame is highly fragmented.  This is usually the result of calling `frame.insert` many times, which has poor performance.  Consider joining all columns at once using pd.concat(axis=1) instead. To get a de-fragmented frame, use `newframe = frame.copy()`\n",
      "  df_features_history[feature_history_names] = idf_feature_history\n",
      "/home/jliao/workspace/GitHub/ml_ringcurrent_ion/prepare_fulldata.py:299: PerformanceWarning: DataFrame is highly fragmented.  This is usually the result of calling `frame.insert` many times, which has poor performance.  Consider joining all columns at once using pd.concat(axis=1) instead. To get a de-fragmented frame, use `newframe = frame.copy()`\n",
      "  df_features_history[feature_history_names] = idf_feature_history\n",
      "/home/jliao/workspace/GitHub/ml_ringcurrent_ion/prepare_fulldata.py:299: PerformanceWarning: DataFrame is highly fragmented.  This is usually the result of calling `frame.insert` many times, which has poor performance.  Consider joining all columns at once using pd.concat(axis=1) instead. To get a de-fragmented frame, use `newframe = frame.copy()`\n",
      "  df_features_history[feature_history_names] = idf_feature_history\n",
      "/home/jliao/workspace/GitHub/ml_ringcurrent_ion/prepare_fulldata.py:299: PerformanceWarning: DataFrame is highly fragmented.  This is usually the result of calling `frame.insert` many times, which has poor performance.  Consider joining all columns at once using pd.concat(axis=1) instead. To get a de-fragmented frame, use `newframe = frame.copy()`\n",
      "  df_features_history[feature_history_names] = idf_feature_history\n",
      "/home/jliao/workspace/GitHub/ml_ringcurrent_ion/prepare_fulldata.py:299: PerformanceWarning: DataFrame is highly fragmented.  This is usually the result of calling `frame.insert` many times, which has poor performance.  Consider joining all columns at once using pd.concat(axis=1) instead. To get a de-fragmented frame, use `newframe = frame.copy()`\n",
      "  df_features_history[feature_history_names] = idf_feature_history\n",
      "/home/jliao/workspace/GitHub/ml_ringcurrent_ion/prepare_fulldata.py:299: PerformanceWarning: DataFrame is highly fragmented.  This is usually the result of calling `frame.insert` many times, which has poor performance.  Consider joining all columns at once using pd.concat(axis=1) instead. To get a de-fragmented frame, use `newframe = frame.copy()`\n",
      "  df_features_history[feature_history_names] = idf_feature_history\n",
      "/home/jliao/workspace/GitHub/ml_ringcurrent_ion/prepare_fulldata.py:299: PerformanceWarning: DataFrame is highly fragmented.  This is usually the result of calling `frame.insert` many times, which has poor performance.  Consider joining all columns at once using pd.concat(axis=1) instead. To get a de-fragmented frame, use `newframe = frame.copy()`\n",
      "  df_features_history[feature_history_names] = idf_feature_history\n",
      "/home/jliao/workspace/GitHub/ml_ringcurrent_ion/prepare_fulldata.py:299: PerformanceWarning: DataFrame is highly fragmented.  This is usually the result of calling `frame.insert` many times, which has poor performance.  Consider joining all columns at once using pd.concat(axis=1) instead. To get a de-fragmented frame, use `newframe = frame.copy()`\n",
      "  df_features_history[feature_history_names] = idf_feature_history\n",
      "/home/jliao/workspace/GitHub/ml_ringcurrent_ion/prepare_fulldata.py:299: PerformanceWarning: DataFrame is highly fragmented.  This is usually the result of calling `frame.insert` many times, which has poor performance.  Consider joining all columns at once using pd.concat(axis=1) instead. To get a de-fragmented frame, use `newframe = frame.copy()`\n",
      "  df_features_history[feature_history_names] = idf_feature_history\n",
      "/home/jliao/workspace/GitHub/ml_ringcurrent_ion/prepare_fulldata.py:299: PerformanceWarning: DataFrame is highly fragmented.  This is usually the result of calling `frame.insert` many times, which has poor performance.  Consider joining all columns at once using pd.concat(axis=1) instead. To get a de-fragmented frame, use `newframe = frame.copy()`\n",
      "  df_features_history[feature_history_names] = idf_feature_history\n",
      "/home/jliao/workspace/GitHub/ml_ringcurrent_ion/prepare_fulldata.py:299: PerformanceWarning: DataFrame is highly fragmented.  This is usually the result of calling `frame.insert` many times, which has poor performance.  Consider joining all columns at once using pd.concat(axis=1) instead. To get a de-fragmented frame, use `newframe = frame.copy()`\n",
      "  df_features_history[feature_history_names] = idf_feature_history\n",
      "/home/jliao/workspace/GitHub/ml_ringcurrent_ion/prepare_fulldata.py:299: PerformanceWarning: DataFrame is highly fragmented.  This is usually the result of calling `frame.insert` many times, which has poor performance.  Consider joining all columns at once using pd.concat(axis=1) instead. To get a de-fragmented frame, use `newframe = frame.copy()`\n",
      "  df_features_history[feature_history_names] = idf_feature_history\n",
      "/home/jliao/workspace/GitHub/ml_ringcurrent_ion/prepare_fulldata.py:299: PerformanceWarning: DataFrame is highly fragmented.  This is usually the result of calling `frame.insert` many times, which has poor performance.  Consider joining all columns at once using pd.concat(axis=1) instead. To get a de-fragmented frame, use `newframe = frame.copy()`\n",
      "  df_features_history[feature_history_names] = idf_feature_history\n",
      "/home/jliao/workspace/GitHub/ml_ringcurrent_ion/prepare_fulldata.py:299: PerformanceWarning: DataFrame is highly fragmented.  This is usually the result of calling `frame.insert` many times, which has poor performance.  Consider joining all columns at once using pd.concat(axis=1) instead. To get a de-fragmented frame, use `newframe = frame.copy()`\n",
      "  df_features_history[feature_history_names] = idf_feature_history\n",
      "/home/jliao/workspace/GitHub/ml_ringcurrent_ion/prepare_fulldata.py:299: PerformanceWarning: DataFrame is highly fragmented.  This is usually the result of calling `frame.insert` many times, which has poor performance.  Consider joining all columns at once using pd.concat(axis=1) instead. To get a de-fragmented frame, use `newframe = frame.copy()`\n",
      "  df_features_history[feature_history_names] = idf_feature_history\n",
      "/home/jliao/workspace/GitHub/ml_ringcurrent_ion/prepare_fulldata.py:299: PerformanceWarning: DataFrame is highly fragmented.  This is usually the result of calling `frame.insert` many times, which has poor performance.  Consider joining all columns at once using pd.concat(axis=1) instead. To get a de-fragmented frame, use `newframe = frame.copy()`\n",
      "  df_features_history[feature_history_names] = idf_feature_history\n",
      "/home/jliao/workspace/GitHub/ml_ringcurrent_ion/prepare_fulldata.py:299: PerformanceWarning: DataFrame is highly fragmented.  This is usually the result of calling `frame.insert` many times, which has poor performance.  Consider joining all columns at once using pd.concat(axis=1) instead. To get a de-fragmented frame, use `newframe = frame.copy()`\n",
      "  df_features_history[feature_history_names] = idf_feature_history\n",
      "/home/jliao/workspace/GitHub/ml_ringcurrent_ion/prepare_fulldata.py:299: PerformanceWarning: DataFrame is highly fragmented.  This is usually the result of calling `frame.insert` many times, which has poor performance.  Consider joining all columns at once using pd.concat(axis=1) instead. To get a de-fragmented frame, use `newframe = frame.copy()`\n",
      "  df_features_history[feature_history_names] = idf_feature_history\n",
      "/home/jliao/workspace/GitHub/ml_ringcurrent_ion/prepare_fulldata.py:299: PerformanceWarning: DataFrame is highly fragmented.  This is usually the result of calling `frame.insert` many times, which has poor performance.  Consider joining all columns at once using pd.concat(axis=1) instead. To get a de-fragmented frame, use `newframe = frame.copy()`\n",
      "  df_features_history[feature_history_names] = idf_feature_history\n",
      "/home/jliao/workspace/GitHub/ml_ringcurrent_ion/prepare_fulldata.py:299: PerformanceWarning: DataFrame is highly fragmented.  This is usually the result of calling `frame.insert` many times, which has poor performance.  Consider joining all columns at once using pd.concat(axis=1) instead. To get a de-fragmented frame, use `newframe = frame.copy()`\n",
      "  df_features_history[feature_history_names] = idf_feature_history\n",
      "/home/jliao/workspace/GitHub/ml_ringcurrent_ion/prepare_fulldata.py:299: PerformanceWarning: DataFrame is highly fragmented.  This is usually the result of calling `frame.insert` many times, which has poor performance.  Consider joining all columns at once using pd.concat(axis=1) instead. To get a de-fragmented frame, use `newframe = frame.copy()`\n",
      "  df_features_history[feature_history_names] = idf_feature_history\n",
      "/home/jliao/workspace/GitHub/ml_ringcurrent_ion/prepare_fulldata.py:299: PerformanceWarning: DataFrame is highly fragmented.  This is usually the result of calling `frame.insert` many times, which has poor performance.  Consider joining all columns at once using pd.concat(axis=1) instead. To get a de-fragmented frame, use `newframe = frame.copy()`\n",
      "  df_features_history[feature_history_names] = idf_feature_history\n",
      "/home/jliao/workspace/GitHub/ml_ringcurrent_ion/prepare_fulldata.py:299: PerformanceWarning: DataFrame is highly fragmented.  This is usually the result of calling `frame.insert` many times, which has poor performance.  Consider joining all columns at once using pd.concat(axis=1) instead. To get a de-fragmented frame, use `newframe = frame.copy()`\n",
      "  df_features_history[feature_history_names] = idf_feature_history\n",
      "/home/jliao/workspace/GitHub/ml_ringcurrent_ion/prepare_fulldata.py:299: PerformanceWarning: DataFrame is highly fragmented.  This is usually the result of calling `frame.insert` many times, which has poor performance.  Consider joining all columns at once using pd.concat(axis=1) instead. To get a de-fragmented frame, use `newframe = frame.copy()`\n",
      "  df_features_history[feature_history_names] = idf_feature_history\n",
      "/home/jliao/workspace/GitHub/ml_ringcurrent_ion/prepare_fulldata.py:299: PerformanceWarning: DataFrame is highly fragmented.  This is usually the result of calling `frame.insert` many times, which has poor performance.  Consider joining all columns at once using pd.concat(axis=1) instead. To get a de-fragmented frame, use `newframe = frame.copy()`\n",
      "  df_features_history[feature_history_names] = idf_feature_history\n",
      "/home/jliao/workspace/GitHub/ml_ringcurrent_ion/prepare_fulldata.py:299: PerformanceWarning: DataFrame is highly fragmented.  This is usually the result of calling `frame.insert` many times, which has poor performance.  Consider joining all columns at once using pd.concat(axis=1) instead. To get a de-fragmented frame, use `newframe = frame.copy()`\n",
      "  df_features_history[feature_history_names] = idf_feature_history\n",
      "/home/jliao/workspace/GitHub/ml_ringcurrent_ion/prepare_fulldata.py:299: PerformanceWarning: DataFrame is highly fragmented.  This is usually the result of calling `frame.insert` many times, which has poor performance.  Consider joining all columns at once using pd.concat(axis=1) instead. To get a de-fragmented frame, use `newframe = frame.copy()`\n",
      "  df_features_history[feature_history_names] = idf_feature_history\n",
      "/home/jliao/workspace/GitHub/ml_ringcurrent_ion/prepare_fulldata.py:299: PerformanceWarning: DataFrame is highly fragmented.  This is usually the result of calling `frame.insert` many times, which has poor performance.  Consider joining all columns at once using pd.concat(axis=1) instead. To get a de-fragmented frame, use `newframe = frame.copy()`\n",
      "  df_features_history[feature_history_names] = idf_feature_history\n",
      "/home/jliao/workspace/GitHub/ml_ringcurrent_ion/prepare_fulldata.py:299: PerformanceWarning: DataFrame is highly fragmented.  This is usually the result of calling `frame.insert` many times, which has poor performance.  Consider joining all columns at once using pd.concat(axis=1) instead. To get a de-fragmented frame, use `newframe = frame.copy()`\n",
      "  df_features_history[feature_history_names] = idf_feature_history\n",
      "/home/jliao/workspace/GitHub/ml_ringcurrent_ion/prepare_fulldata.py:299: PerformanceWarning: DataFrame is highly fragmented.  This is usually the result of calling `frame.insert` many times, which has poor performance.  Consider joining all columns at once using pd.concat(axis=1) instead. To get a de-fragmented frame, use `newframe = frame.copy()`\n",
      "  df_features_history[feature_history_names] = idf_feature_history\n",
      "/home/jliao/workspace/GitHub/ml_ringcurrent_ion/prepare_fulldata.py:299: PerformanceWarning: DataFrame is highly fragmented.  This is usually the result of calling `frame.insert` many times, which has poor performance.  Consider joining all columns at once using pd.concat(axis=1) instead. To get a de-fragmented frame, use `newframe = frame.copy()`\n",
      "  df_features_history[feature_history_names] = idf_feature_history\n",
      "/home/jliao/workspace/GitHub/ml_ringcurrent_ion/prepare_fulldata.py:299: PerformanceWarning: DataFrame is highly fragmented.  This is usually the result of calling `frame.insert` many times, which has poor performance.  Consider joining all columns at once using pd.concat(axis=1) instead. To get a de-fragmented frame, use `newframe = frame.copy()`\n",
      "  df_features_history[feature_history_names] = idf_feature_history\n",
      "/home/jliao/workspace/GitHub/ml_ringcurrent_ion/prepare_fulldata.py:299: PerformanceWarning: DataFrame is highly fragmented.  This is usually the result of calling `frame.insert` many times, which has poor performance.  Consider joining all columns at once using pd.concat(axis=1) instead. To get a de-fragmented frame, use `newframe = frame.copy()`\n",
      "  df_features_history[feature_history_names] = idf_feature_history\n",
      "/home/jliao/workspace/GitHub/ml_ringcurrent_ion/prepare_fulldata.py:299: PerformanceWarning: DataFrame is highly fragmented.  This is usually the result of calling `frame.insert` many times, which has poor performance.  Consider joining all columns at once using pd.concat(axis=1) instead. To get a de-fragmented frame, use `newframe = frame.copy()`\n",
      "  df_features_history[feature_history_names] = idf_feature_history\n",
      "/home/jliao/workspace/GitHub/ml_ringcurrent_ion/prepare_fulldata.py:299: PerformanceWarning: DataFrame is highly fragmented.  This is usually the result of calling `frame.insert` many times, which has poor performance.  Consider joining all columns at once using pd.concat(axis=1) instead. To get a de-fragmented frame, use `newframe = frame.copy()`\n",
      "  df_features_history[feature_history_names] = idf_feature_history\n",
      "/home/jliao/workspace/GitHub/ml_ringcurrent_ion/prepare_fulldata.py:299: PerformanceWarning: DataFrame is highly fragmented.  This is usually the result of calling `frame.insert` many times, which has poor performance.  Consider joining all columns at once using pd.concat(axis=1) instead. To get a de-fragmented frame, use `newframe = frame.copy()`\n",
      "  df_features_history[feature_history_names] = idf_feature_history\n",
      "/home/jliao/workspace/GitHub/ml_ringcurrent_ion/prepare_fulldata.py:299: PerformanceWarning: DataFrame is highly fragmented.  This is usually the result of calling `frame.insert` many times, which has poor performance.  Consider joining all columns at once using pd.concat(axis=1) instead. To get a de-fragmented frame, use `newframe = frame.copy()`\n",
      "  df_features_history[feature_history_names] = idf_feature_history\n",
      "/home/jliao/workspace/GitHub/ml_ringcurrent_ion/prepare_fulldata.py:299: PerformanceWarning: DataFrame is highly fragmented.  This is usually the result of calling `frame.insert` many times, which has poor performance.  Consider joining all columns at once using pd.concat(axis=1) instead. To get a de-fragmented frame, use `newframe = frame.copy()`\n",
      "  df_features_history[feature_history_names] = idf_feature_history\n",
      "/home/jliao/workspace/GitHub/ml_ringcurrent_ion/prepare_fulldata.py:299: PerformanceWarning: DataFrame is highly fragmented.  This is usually the result of calling `frame.insert` many times, which has poor performance.  Consider joining all columns at once using pd.concat(axis=1) instead. To get a de-fragmented frame, use `newframe = frame.copy()`\n",
      "  df_features_history[feature_history_names] = idf_feature_history\n",
      "/home/jliao/workspace/GitHub/ml_ringcurrent_ion/prepare_fulldata.py:299: PerformanceWarning: DataFrame is highly fragmented.  This is usually the result of calling `frame.insert` many times, which has poor performance.  Consider joining all columns at once using pd.concat(axis=1) instead. To get a de-fragmented frame, use `newframe = frame.copy()`\n",
      "  df_features_history[feature_history_names] = idf_feature_history\n",
      "/home/jliao/workspace/GitHub/ml_ringcurrent_ion/prepare_fulldata.py:299: PerformanceWarning: DataFrame is highly fragmented.  This is usually the result of calling `frame.insert` many times, which has poor performance.  Consider joining all columns at once using pd.concat(axis=1) instead. To get a de-fragmented frame, use `newframe = frame.copy()`\n",
      "  df_features_history[feature_history_names] = idf_feature_history\n",
      "/home/jliao/workspace/GitHub/ml_ringcurrent_ion/prepare_fulldata.py:299: PerformanceWarning: DataFrame is highly fragmented.  This is usually the result of calling `frame.insert` many times, which has poor performance.  Consider joining all columns at once using pd.concat(axis=1) instead. To get a de-fragmented frame, use `newframe = frame.copy()`\n",
      "  df_features_history[feature_history_names] = idf_feature_history\n",
      "/home/jliao/workspace/GitHub/ml_ringcurrent_ion/prepare_fulldata.py:299: PerformanceWarning: DataFrame is highly fragmented.  This is usually the result of calling `frame.insert` many times, which has poor performance.  Consider joining all columns at once using pd.concat(axis=1) instead. To get a de-fragmented frame, use `newframe = frame.copy()`\n",
      "  df_features_history[feature_history_names] = idf_feature_history\n",
      "/home/jliao/workspace/GitHub/ml_ringcurrent_ion/prepare_fulldata.py:299: PerformanceWarning: DataFrame is highly fragmented.  This is usually the result of calling `frame.insert` many times, which has poor performance.  Consider joining all columns at once using pd.concat(axis=1) instead. To get a de-fragmented frame, use `newframe = frame.copy()`\n",
      "  df_features_history[feature_history_names] = idf_feature_history\n",
      "/home/jliao/workspace/GitHub/ml_ringcurrent_ion/prepare_fulldata.py:299: PerformanceWarning: DataFrame is highly fragmented.  This is usually the result of calling `frame.insert` many times, which has poor performance.  Consider joining all columns at once using pd.concat(axis=1) instead. To get a de-fragmented frame, use `newframe = frame.copy()`\n",
      "  df_features_history[feature_history_names] = idf_feature_history\n",
      "/home/jliao/workspace/GitHub/ml_ringcurrent_ion/prepare_fulldata.py:299: PerformanceWarning: DataFrame is highly fragmented.  This is usually the result of calling `frame.insert` many times, which has poor performance.  Consider joining all columns at once using pd.concat(axis=1) instead. To get a de-fragmented frame, use `newframe = frame.copy()`\n",
      "  df_features_history[feature_history_names] = idf_feature_history\n",
      "/home/jliao/workspace/GitHub/ml_ringcurrent_ion/prepare_fulldata.py:299: PerformanceWarning: DataFrame is highly fragmented.  This is usually the result of calling `frame.insert` many times, which has poor performance.  Consider joining all columns at once using pd.concat(axis=1) instead. To get a de-fragmented frame, use `newframe = frame.copy()`\n",
      "  df_features_history[feature_history_names] = idf_feature_history\n",
      "/home/jliao/workspace/GitHub/ml_ringcurrent_ion/prepare_fulldata.py:299: PerformanceWarning: DataFrame is highly fragmented.  This is usually the result of calling `frame.insert` many times, which has poor performance.  Consider joining all columns at once using pd.concat(axis=1) instead. To get a de-fragmented frame, use `newframe = frame.copy()`\n",
      "  df_features_history[feature_history_names] = idf_feature_history\n"
     ]
    },
    {
     "name": "stdout",
     "output_type": "stream",
     "text": [
      "start asyh\n",
      "Calculate the feature history of asyh\n",
      "start plot asyh\n",
      "start plot scaled_asyh\n"
     ]
    },
    {
     "name": "stderr",
     "output_type": "stream",
     "text": [
      "/home/jliao/workspace/GitHub/ml_ringcurrent_ion/prepare_fulldata.py:182: SettingWithCopyWarning: \n",
      "A value is trying to be set on a copy of a slice from a DataFrame.\n",
      "Try using .loc[row_indexer,col_indexer] = value instead\n",
      "\n",
      "See the caveats in the documentation: https://pandas.pydata.org/pandas-docs/stable/user_guide/indexing.html#returning-a-view-versus-a-copy\n",
      "  df_feature[scaled_feature_name], fulldata_settings = scale_var(df_feature, raw_feature_name, fulldata_settings)\n",
      "/home/jliao/workspace/GitHub/ml_ringcurrent_ion/plot_functions.py:47: UserWarning: The figure layout has changed to tight\n",
      "  plt.tight_layout()\n"
     ]
    }
   ],
   "source": [
    "import prepare_fulldata\n",
    "\n",
    "prepare_fulldata.prepare_fulldata_batch()"
   ]
  },
  {
   "cell_type": "markdown",
   "id": "f5e3232b-3f6c-44b4-a38b-28ad409dab8a",
   "metadata": {},
   "source": [
    "### This code is for testing load_fulldata"
   ]
  },
  {
   "cell_type": "code",
   "execution_count": null,
   "id": "408be58e-ebfd-4c9f-97ec-25219c8c5855",
   "metadata": {},
   "outputs": [],
   "source": [
    "# import importlib\n",
    "\n",
    "# importlib.reload(prepare_fulldata)\n",
    "\n",
    "# energy = ['51767680']\n",
    "# species = ['h']\n",
    "# number_history = 7\n",
    "# raw_feature_names = ['symh','asyh','asyd','ae']\n",
    "\n",
    "# df_data, directories, fulldataset_csv, fulldata_settings = prepare_fulldata.load_fulldata(energy = energy, species=species\n",
    "#                                                                                           , raw_feature_names = raw_feature_names\n",
    "#                                                                                           , number_history = number_history\n",
    "#                                                                                           , save_data = False, plot_data = False)\n",
    "\n",
    "# df_data.columns"
   ]
  },
  {
   "cell_type": "markdown",
   "id": "e201b7fe-5274-4d34-bf59-212565abbe90",
   "metadata": {},
   "source": [
    "### This code is for debugging load_fulldata\n",
    "\n",
    "Here a seperate code for load, calculate, save and plot for coordiantes, y (flux) and feature (indexes and sw) data.\n"
   ]
  },
  {
   "cell_type": "code",
   "execution_count": 1,
   "id": "3a45db4d-6fd9-4f67-a4fc-f42f99cfb626",
   "metadata": {},
   "outputs": [
    {
     "name": "stderr",
     "output_type": "stream",
     "text": [
      "2025-03-28 12:29:45.892175: I tensorflow/core/util/port.cc:153] oneDNN custom operations are on. You may see slightly different numerical results due to floating-point round-off errors from different computation orders. To turn them off, set the environment variable `TF_ENABLE_ONEDNN_OPTS=0`.\n",
      "2025-03-28 12:29:45.900711: I external/local_xla/xla/tsl/cuda/cudart_stub.cc:32] Could not find cuda drivers on your machine, GPU will not be used.\n",
      "2025-03-28 12:29:45.986483: I external/local_xla/xla/tsl/cuda/cudart_stub.cc:32] Could not find cuda drivers on your machine, GPU will not be used.\n",
      "2025-03-28 12:29:46.059009: E external/local_xla/xla/stream_executor/cuda/cuda_fft.cc:477] Unable to register cuFFT factory: Attempting to register factory for plugin cuFFT when one has already been registered\n",
      "WARNING: All log messages before absl::InitializeLog() is called are written to STDERR\n",
      "E0000 00:00:1743179386.113976   18307 cuda_dnn.cc:8310] Unable to register cuDNN factory: Attempting to register factory for plugin cuDNN when one has already been registered\n",
      "E0000 00:00:1743179386.130246   18307 cuda_blas.cc:1418] Unable to register cuBLAS factory: Attempting to register factory for plugin cuBLAS when one has already been registered\n",
      "2025-03-28 12:29:46.274598: I tensorflow/core/platform/cpu_feature_guard.cc:210] This TensorFlow binary is optimized to use available CPU instructions in performance-critical operations.\n",
      "To enable the following instructions: AVX2 AVX_VNNI FMA, in other operations, rebuild TensorFlow with the appropriate compiler flags.\n"
     ]
    },
    {
     "name": "stdout",
     "output_type": "stream",
     "text": [
      "Reading csv data for probe b"
     ]
    }
   ],
   "source": [
    "import initialize_var\n",
    "import prepare_fulldata\n",
    "importlib.reload(prepare_fulldata)\n",
    "\n",
    "\n",
    "raw_feature_names = ['ae','f10.7','kp','swp','swn','swv','by','bz']#['symh','asyh','asyd','ae','f10.7','kp','swp','swn','swv','by','bz']\n",
    "number_history = 30\n",
    "\n",
    "directories, dataset_csv, fulldata_settings = initialize_var.initialize_fulldata_var(raw_feature_names = raw_feature_names, number_history=number_history)\n",
    "\n",
    "df_full = prepare_fulldata.read_probes_data(directories[\"rawdata_dir\"], fulldata_settings)"
   ]
  },
  {
   "cell_type": "code",
   "execution_count": 3,
   "id": "2e82defd-eb7a-4f44-9a78-87deaf96709b",
   "metadata": {
    "scrolled": true
   },
   "outputs": [
    {
     "name": "stdout",
     "output_type": "stream",
     "text": [
      "start ae\n",
      "Calculate the feature history of ae\n",
      "start plot ae\n",
      "start plot scaled_ae\n"
     ]
    },
    {
     "name": "stderr",
     "output_type": "stream",
     "text": [
      "/home/jliao/workspace/GitHub/ml_ringcurrent_ion/prepare_fulldata.py:182: SettingWithCopyWarning: \n",
      "A value is trying to be set on a copy of a slice from a DataFrame.\n",
      "Try using .loc[row_indexer,col_indexer] = value instead\n",
      "\n",
      "See the caveats in the documentation: https://pandas.pydata.org/pandas-docs/stable/user_guide/indexing.html#returning-a-view-versus-a-copy\n",
      "  df_feature[scaled_feature_name], fulldata_settings = scale_var(df_feature, raw_feature_name, fulldata_settings)\n",
      "/home/jliao/workspace/GitHub/ml_ringcurrent_ion/plot_functions.py:47: UserWarning: The figure layout has changed to tight\n",
      "  plt.tight_layout()\n"
     ]
    },
    {
     "name": "stdout",
     "output_type": "stream",
     "text": [
      "Writing csv data completed for output_rel05/fulldata/df_feature_history_scaled_ae\n"
     ]
    },
    {
     "name": "stderr",
     "output_type": "stream",
     "text": [
      "/home/jliao/workspace/GitHub/ml_ringcurrent_ion/prepare_fulldata.py:299: PerformanceWarning: DataFrame is highly fragmented.  This is usually the result of calling `frame.insert` many times, which has poor performance.  Consider joining all columns at once using pd.concat(axis=1) instead. To get a de-fragmented frame, use `newframe = frame.copy()`\n",
      "  df_features_history[feature_history_names] = idf_feature_history\n",
      "/home/jliao/workspace/GitHub/ml_ringcurrent_ion/prepare_fulldata.py:299: PerformanceWarning: DataFrame is highly fragmented.  This is usually the result of calling `frame.insert` many times, which has poor performance.  Consider joining all columns at once using pd.concat(axis=1) instead. To get a de-fragmented frame, use `newframe = frame.copy()`\n",
      "  df_features_history[feature_history_names] = idf_feature_history\n",
      "/home/jliao/workspace/GitHub/ml_ringcurrent_ion/prepare_fulldata.py:299: PerformanceWarning: DataFrame is highly fragmented.  This is usually the result of calling `frame.insert` many times, which has poor performance.  Consider joining all columns at once using pd.concat(axis=1) instead. To get a de-fragmented frame, use `newframe = frame.copy()`\n",
      "  df_features_history[feature_history_names] = idf_feature_history\n",
      "/home/jliao/workspace/GitHub/ml_ringcurrent_ion/prepare_fulldata.py:299: PerformanceWarning: DataFrame is highly fragmented.  This is usually the result of calling `frame.insert` many times, which has poor performance.  Consider joining all columns at once using pd.concat(axis=1) instead. To get a de-fragmented frame, use `newframe = frame.copy()`\n",
      "  df_features_history[feature_history_names] = idf_feature_history\n",
      "/home/jliao/workspace/GitHub/ml_ringcurrent_ion/prepare_fulldata.py:299: PerformanceWarning: DataFrame is highly fragmented.  This is usually the result of calling `frame.insert` many times, which has poor performance.  Consider joining all columns at once using pd.concat(axis=1) instead. To get a de-fragmented frame, use `newframe = frame.copy()`\n",
      "  df_features_history[feature_history_names] = idf_feature_history\n",
      "/home/jliao/workspace/GitHub/ml_ringcurrent_ion/prepare_fulldata.py:299: PerformanceWarning: DataFrame is highly fragmented.  This is usually the result of calling `frame.insert` many times, which has poor performance.  Consider joining all columns at once using pd.concat(axis=1) instead. To get a de-fragmented frame, use `newframe = frame.copy()`\n",
      "  df_features_history[feature_history_names] = idf_feature_history\n",
      "/home/jliao/workspace/GitHub/ml_ringcurrent_ion/prepare_fulldata.py:299: PerformanceWarning: DataFrame is highly fragmented.  This is usually the result of calling `frame.insert` many times, which has poor performance.  Consider joining all columns at once using pd.concat(axis=1) instead. To get a de-fragmented frame, use `newframe = frame.copy()`\n",
      "  df_features_history[feature_history_names] = idf_feature_history\n",
      "/home/jliao/workspace/GitHub/ml_ringcurrent_ion/prepare_fulldata.py:299: PerformanceWarning: DataFrame is highly fragmented.  This is usually the result of calling `frame.insert` many times, which has poor performance.  Consider joining all columns at once using pd.concat(axis=1) instead. To get a de-fragmented frame, use `newframe = frame.copy()`\n",
      "  df_features_history[feature_history_names] = idf_feature_history\n",
      "/home/jliao/workspace/GitHub/ml_ringcurrent_ion/prepare_fulldata.py:299: PerformanceWarning: DataFrame is highly fragmented.  This is usually the result of calling `frame.insert` many times, which has poor performance.  Consider joining all columns at once using pd.concat(axis=1) instead. To get a de-fragmented frame, use `newframe = frame.copy()`\n",
      "  df_features_history[feature_history_names] = idf_feature_history\n",
      "/home/jliao/workspace/GitHub/ml_ringcurrent_ion/prepare_fulldata.py:299: PerformanceWarning: DataFrame is highly fragmented.  This is usually the result of calling `frame.insert` many times, which has poor performance.  Consider joining all columns at once using pd.concat(axis=1) instead. To get a de-fragmented frame, use `newframe = frame.copy()`\n",
      "  df_features_history[feature_history_names] = idf_feature_history\n",
      "/home/jliao/workspace/GitHub/ml_ringcurrent_ion/prepare_fulldata.py:299: PerformanceWarning: DataFrame is highly fragmented.  This is usually the result of calling `frame.insert` many times, which has poor performance.  Consider joining all columns at once using pd.concat(axis=1) instead. To get a de-fragmented frame, use `newframe = frame.copy()`\n",
      "  df_features_history[feature_history_names] = idf_feature_history\n",
      "/home/jliao/workspace/GitHub/ml_ringcurrent_ion/prepare_fulldata.py:299: PerformanceWarning: DataFrame is highly fragmented.  This is usually the result of calling `frame.insert` many times, which has poor performance.  Consider joining all columns at once using pd.concat(axis=1) instead. To get a de-fragmented frame, use `newframe = frame.copy()`\n",
      "  df_features_history[feature_history_names] = idf_feature_history\n",
      "/home/jliao/workspace/GitHub/ml_ringcurrent_ion/prepare_fulldata.py:299: PerformanceWarning: DataFrame is highly fragmented.  This is usually the result of calling `frame.insert` many times, which has poor performance.  Consider joining all columns at once using pd.concat(axis=1) instead. To get a de-fragmented frame, use `newframe = frame.copy()`\n",
      "  df_features_history[feature_history_names] = idf_feature_history\n",
      "/home/jliao/workspace/GitHub/ml_ringcurrent_ion/prepare_fulldata.py:299: PerformanceWarning: DataFrame is highly fragmented.  This is usually the result of calling `frame.insert` many times, which has poor performance.  Consider joining all columns at once using pd.concat(axis=1) instead. To get a de-fragmented frame, use `newframe = frame.copy()`\n",
      "  df_features_history[feature_history_names] = idf_feature_history\n",
      "/home/jliao/workspace/GitHub/ml_ringcurrent_ion/prepare_fulldata.py:299: PerformanceWarning: DataFrame is highly fragmented.  This is usually the result of calling `frame.insert` many times, which has poor performance.  Consider joining all columns at once using pd.concat(axis=1) instead. To get a de-fragmented frame, use `newframe = frame.copy()`\n",
      "  df_features_history[feature_history_names] = idf_feature_history\n",
      "/home/jliao/workspace/GitHub/ml_ringcurrent_ion/prepare_fulldata.py:299: PerformanceWarning: DataFrame is highly fragmented.  This is usually the result of calling `frame.insert` many times, which has poor performance.  Consider joining all columns at once using pd.concat(axis=1) instead. To get a de-fragmented frame, use `newframe = frame.copy()`\n",
      "  df_features_history[feature_history_names] = idf_feature_history\n",
      "/home/jliao/workspace/GitHub/ml_ringcurrent_ion/prepare_fulldata.py:299: PerformanceWarning: DataFrame is highly fragmented.  This is usually the result of calling `frame.insert` many times, which has poor performance.  Consider joining all columns at once using pd.concat(axis=1) instead. To get a de-fragmented frame, use `newframe = frame.copy()`\n",
      "  df_features_history[feature_history_names] = idf_feature_history\n",
      "/home/jliao/workspace/GitHub/ml_ringcurrent_ion/prepare_fulldata.py:299: PerformanceWarning: DataFrame is highly fragmented.  This is usually the result of calling `frame.insert` many times, which has poor performance.  Consider joining all columns at once using pd.concat(axis=1) instead. To get a de-fragmented frame, use `newframe = frame.copy()`\n",
      "  df_features_history[feature_history_names] = idf_feature_history\n",
      "/home/jliao/workspace/GitHub/ml_ringcurrent_ion/prepare_fulldata.py:299: PerformanceWarning: DataFrame is highly fragmented.  This is usually the result of calling `frame.insert` many times, which has poor performance.  Consider joining all columns at once using pd.concat(axis=1) instead. To get a de-fragmented frame, use `newframe = frame.copy()`\n",
      "  df_features_history[feature_history_names] = idf_feature_history\n",
      "/home/jliao/workspace/GitHub/ml_ringcurrent_ion/prepare_fulldata.py:299: PerformanceWarning: DataFrame is highly fragmented.  This is usually the result of calling `frame.insert` many times, which has poor performance.  Consider joining all columns at once using pd.concat(axis=1) instead. To get a de-fragmented frame, use `newframe = frame.copy()`\n",
      "  df_features_history[feature_history_names] = idf_feature_history\n",
      "/home/jliao/workspace/GitHub/ml_ringcurrent_ion/prepare_fulldata.py:299: PerformanceWarning: DataFrame is highly fragmented.  This is usually the result of calling `frame.insert` many times, which has poor performance.  Consider joining all columns at once using pd.concat(axis=1) instead. To get a de-fragmented frame, use `newframe = frame.copy()`\n",
      "  df_features_history[feature_history_names] = idf_feature_history\n",
      "/home/jliao/workspace/GitHub/ml_ringcurrent_ion/prepare_fulldata.py:299: PerformanceWarning: DataFrame is highly fragmented.  This is usually the result of calling `frame.insert` many times, which has poor performance.  Consider joining all columns at once using pd.concat(axis=1) instead. To get a de-fragmented frame, use `newframe = frame.copy()`\n",
      "  df_features_history[feature_history_names] = idf_feature_history\n",
      "/home/jliao/workspace/GitHub/ml_ringcurrent_ion/prepare_fulldata.py:299: PerformanceWarning: DataFrame is highly fragmented.  This is usually the result of calling `frame.insert` many times, which has poor performance.  Consider joining all columns at once using pd.concat(axis=1) instead. To get a de-fragmented frame, use `newframe = frame.copy()`\n",
      "  df_features_history[feature_history_names] = idf_feature_history\n",
      "/home/jliao/workspace/GitHub/ml_ringcurrent_ion/prepare_fulldata.py:299: PerformanceWarning: DataFrame is highly fragmented.  This is usually the result of calling `frame.insert` many times, which has poor performance.  Consider joining all columns at once using pd.concat(axis=1) instead. To get a de-fragmented frame, use `newframe = frame.copy()`\n",
      "  df_features_history[feature_history_names] = idf_feature_history\n",
      "/home/jliao/workspace/GitHub/ml_ringcurrent_ion/prepare_fulldata.py:299: PerformanceWarning: DataFrame is highly fragmented.  This is usually the result of calling `frame.insert` many times, which has poor performance.  Consider joining all columns at once using pd.concat(axis=1) instead. To get a de-fragmented frame, use `newframe = frame.copy()`\n",
      "  df_features_history[feature_history_names] = idf_feature_history\n",
      "/home/jliao/workspace/GitHub/ml_ringcurrent_ion/prepare_fulldata.py:299: PerformanceWarning: DataFrame is highly fragmented.  This is usually the result of calling `frame.insert` many times, which has poor performance.  Consider joining all columns at once using pd.concat(axis=1) instead. To get a de-fragmented frame, use `newframe = frame.copy()`\n",
      "  df_features_history[feature_history_names] = idf_feature_history\n",
      "/home/jliao/workspace/GitHub/ml_ringcurrent_ion/prepare_fulldata.py:299: PerformanceWarning: DataFrame is highly fragmented.  This is usually the result of calling `frame.insert` many times, which has poor performance.  Consider joining all columns at once using pd.concat(axis=1) instead. To get a de-fragmented frame, use `newframe = frame.copy()`\n",
      "  df_features_history[feature_history_names] = idf_feature_history\n",
      "/home/jliao/workspace/GitHub/ml_ringcurrent_ion/prepare_fulldata.py:299: PerformanceWarning: DataFrame is highly fragmented.  This is usually the result of calling `frame.insert` many times, which has poor performance.  Consider joining all columns at once using pd.concat(axis=1) instead. To get a de-fragmented frame, use `newframe = frame.copy()`\n",
      "  df_features_history[feature_history_names] = idf_feature_history\n",
      "/home/jliao/workspace/GitHub/ml_ringcurrent_ion/prepare_fulldata.py:299: PerformanceWarning: DataFrame is highly fragmented.  This is usually the result of calling `frame.insert` many times, which has poor performance.  Consider joining all columns at once using pd.concat(axis=1) instead. To get a de-fragmented frame, use `newframe = frame.copy()`\n",
      "  df_features_history[feature_history_names] = idf_feature_history\n",
      "/home/jliao/workspace/GitHub/ml_ringcurrent_ion/prepare_fulldata.py:299: PerformanceWarning: DataFrame is highly fragmented.  This is usually the result of calling `frame.insert` many times, which has poor performance.  Consider joining all columns at once using pd.concat(axis=1) instead. To get a de-fragmented frame, use `newframe = frame.copy()`\n",
      "  df_features_history[feature_history_names] = idf_feature_history\n",
      "/home/jliao/workspace/GitHub/ml_ringcurrent_ion/prepare_fulldata.py:299: PerformanceWarning: DataFrame is highly fragmented.  This is usually the result of calling `frame.insert` many times, which has poor performance.  Consider joining all columns at once using pd.concat(axis=1) instead. To get a de-fragmented frame, use `newframe = frame.copy()`\n",
      "  df_features_history[feature_history_names] = idf_feature_history\n",
      "/home/jliao/workspace/GitHub/ml_ringcurrent_ion/prepare_fulldata.py:299: PerformanceWarning: DataFrame is highly fragmented.  This is usually the result of calling `frame.insert` many times, which has poor performance.  Consider joining all columns at once using pd.concat(axis=1) instead. To get a de-fragmented frame, use `newframe = frame.copy()`\n",
      "  df_features_history[feature_history_names] = idf_feature_history\n",
      "/home/jliao/workspace/GitHub/ml_ringcurrent_ion/prepare_fulldata.py:299: PerformanceWarning: DataFrame is highly fragmented.  This is usually the result of calling `frame.insert` many times, which has poor performance.  Consider joining all columns at once using pd.concat(axis=1) instead. To get a de-fragmented frame, use `newframe = frame.copy()`\n",
      "  df_features_history[feature_history_names] = idf_feature_history\n",
      "/home/jliao/workspace/GitHub/ml_ringcurrent_ion/prepare_fulldata.py:299: PerformanceWarning: DataFrame is highly fragmented.  This is usually the result of calling `frame.insert` many times, which has poor performance.  Consider joining all columns at once using pd.concat(axis=1) instead. To get a de-fragmented frame, use `newframe = frame.copy()`\n",
      "  df_features_history[feature_history_names] = idf_feature_history\n",
      "/home/jliao/workspace/GitHub/ml_ringcurrent_ion/prepare_fulldata.py:299: PerformanceWarning: DataFrame is highly fragmented.  This is usually the result of calling `frame.insert` many times, which has poor performance.  Consider joining all columns at once using pd.concat(axis=1) instead. To get a de-fragmented frame, use `newframe = frame.copy()`\n",
      "  df_features_history[feature_history_names] = idf_feature_history\n",
      "/home/jliao/workspace/GitHub/ml_ringcurrent_ion/prepare_fulldata.py:299: PerformanceWarning: DataFrame is highly fragmented.  This is usually the result of calling `frame.insert` many times, which has poor performance.  Consider joining all columns at once using pd.concat(axis=1) instead. To get a de-fragmented frame, use `newframe = frame.copy()`\n",
      "  df_features_history[feature_history_names] = idf_feature_history\n",
      "/home/jliao/workspace/GitHub/ml_ringcurrent_ion/prepare_fulldata.py:299: PerformanceWarning: DataFrame is highly fragmented.  This is usually the result of calling `frame.insert` many times, which has poor performance.  Consider joining all columns at once using pd.concat(axis=1) instead. To get a de-fragmented frame, use `newframe = frame.copy()`\n",
      "  df_features_history[feature_history_names] = idf_feature_history\n",
      "/home/jliao/workspace/GitHub/ml_ringcurrent_ion/prepare_fulldata.py:299: PerformanceWarning: DataFrame is highly fragmented.  This is usually the result of calling `frame.insert` many times, which has poor performance.  Consider joining all columns at once using pd.concat(axis=1) instead. To get a de-fragmented frame, use `newframe = frame.copy()`\n",
      "  df_features_history[feature_history_names] = idf_feature_history\n",
      "/home/jliao/workspace/GitHub/ml_ringcurrent_ion/prepare_fulldata.py:299: PerformanceWarning: DataFrame is highly fragmented.  This is usually the result of calling `frame.insert` many times, which has poor performance.  Consider joining all columns at once using pd.concat(axis=1) instead. To get a de-fragmented frame, use `newframe = frame.copy()`\n",
      "  df_features_history[feature_history_names] = idf_feature_history\n",
      "/home/jliao/workspace/GitHub/ml_ringcurrent_ion/prepare_fulldata.py:299: PerformanceWarning: DataFrame is highly fragmented.  This is usually the result of calling `frame.insert` many times, which has poor performance.  Consider joining all columns at once using pd.concat(axis=1) instead. To get a de-fragmented frame, use `newframe = frame.copy()`\n",
      "  df_features_history[feature_history_names] = idf_feature_history\n",
      "/home/jliao/workspace/GitHub/ml_ringcurrent_ion/prepare_fulldata.py:299: PerformanceWarning: DataFrame is highly fragmented.  This is usually the result of calling `frame.insert` many times, which has poor performance.  Consider joining all columns at once using pd.concat(axis=1) instead. To get a de-fragmented frame, use `newframe = frame.copy()`\n",
      "  df_features_history[feature_history_names] = idf_feature_history\n",
      "/home/jliao/workspace/GitHub/ml_ringcurrent_ion/prepare_fulldata.py:299: PerformanceWarning: DataFrame is highly fragmented.  This is usually the result of calling `frame.insert` many times, which has poor performance.  Consider joining all columns at once using pd.concat(axis=1) instead. To get a de-fragmented frame, use `newframe = frame.copy()`\n",
      "  df_features_history[feature_history_names] = idf_feature_history\n",
      "/home/jliao/workspace/GitHub/ml_ringcurrent_ion/prepare_fulldata.py:299: PerformanceWarning: DataFrame is highly fragmented.  This is usually the result of calling `frame.insert` many times, which has poor performance.  Consider joining all columns at once using pd.concat(axis=1) instead. To get a de-fragmented frame, use `newframe = frame.copy()`\n",
      "  df_features_history[feature_history_names] = idf_feature_history\n",
      "/home/jliao/workspace/GitHub/ml_ringcurrent_ion/prepare_fulldata.py:299: PerformanceWarning: DataFrame is highly fragmented.  This is usually the result of calling `frame.insert` many times, which has poor performance.  Consider joining all columns at once using pd.concat(axis=1) instead. To get a de-fragmented frame, use `newframe = frame.copy()`\n",
      "  df_features_history[feature_history_names] = idf_feature_history\n",
      "/home/jliao/workspace/GitHub/ml_ringcurrent_ion/prepare_fulldata.py:299: PerformanceWarning: DataFrame is highly fragmented.  This is usually the result of calling `frame.insert` many times, which has poor performance.  Consider joining all columns at once using pd.concat(axis=1) instead. To get a de-fragmented frame, use `newframe = frame.copy()`\n",
      "  df_features_history[feature_history_names] = idf_feature_history\n",
      "/home/jliao/workspace/GitHub/ml_ringcurrent_ion/prepare_fulldata.py:299: PerformanceWarning: DataFrame is highly fragmented.  This is usually the result of calling `frame.insert` many times, which has poor performance.  Consider joining all columns at once using pd.concat(axis=1) instead. To get a de-fragmented frame, use `newframe = frame.copy()`\n",
      "  df_features_history[feature_history_names] = idf_feature_history\n",
      "/home/jliao/workspace/GitHub/ml_ringcurrent_ion/prepare_fulldata.py:299: PerformanceWarning: DataFrame is highly fragmented.  This is usually the result of calling `frame.insert` many times, which has poor performance.  Consider joining all columns at once using pd.concat(axis=1) instead. To get a de-fragmented frame, use `newframe = frame.copy()`\n",
      "  df_features_history[feature_history_names] = idf_feature_history\n",
      "/home/jliao/workspace/GitHub/ml_ringcurrent_ion/prepare_fulldata.py:299: PerformanceWarning: DataFrame is highly fragmented.  This is usually the result of calling `frame.insert` many times, which has poor performance.  Consider joining all columns at once using pd.concat(axis=1) instead. To get a de-fragmented frame, use `newframe = frame.copy()`\n",
      "  df_features_history[feature_history_names] = idf_feature_history\n",
      "/home/jliao/workspace/GitHub/ml_ringcurrent_ion/prepare_fulldata.py:299: PerformanceWarning: DataFrame is highly fragmented.  This is usually the result of calling `frame.insert` many times, which has poor performance.  Consider joining all columns at once using pd.concat(axis=1) instead. To get a de-fragmented frame, use `newframe = frame.copy()`\n",
      "  df_features_history[feature_history_names] = idf_feature_history\n",
      "/home/jliao/workspace/GitHub/ml_ringcurrent_ion/prepare_fulldata.py:299: PerformanceWarning: DataFrame is highly fragmented.  This is usually the result of calling `frame.insert` many times, which has poor performance.  Consider joining all columns at once using pd.concat(axis=1) instead. To get a de-fragmented frame, use `newframe = frame.copy()`\n",
      "  df_features_history[feature_history_names] = idf_feature_history\n",
      "/home/jliao/workspace/GitHub/ml_ringcurrent_ion/prepare_fulldata.py:299: PerformanceWarning: DataFrame is highly fragmented.  This is usually the result of calling `frame.insert` many times, which has poor performance.  Consider joining all columns at once using pd.concat(axis=1) instead. To get a de-fragmented frame, use `newframe = frame.copy()`\n",
      "  df_features_history[feature_history_names] = idf_feature_history\n",
      "/home/jliao/workspace/GitHub/ml_ringcurrent_ion/prepare_fulldata.py:299: PerformanceWarning: DataFrame is highly fragmented.  This is usually the result of calling `frame.insert` many times, which has poor performance.  Consider joining all columns at once using pd.concat(axis=1) instead. To get a de-fragmented frame, use `newframe = frame.copy()`\n",
      "  df_features_history[feature_history_names] = idf_feature_history\n",
      "/home/jliao/workspace/GitHub/ml_ringcurrent_ion/prepare_fulldata.py:299: PerformanceWarning: DataFrame is highly fragmented.  This is usually the result of calling `frame.insert` many times, which has poor performance.  Consider joining all columns at once using pd.concat(axis=1) instead. To get a de-fragmented frame, use `newframe = frame.copy()`\n",
      "  df_features_history[feature_history_names] = idf_feature_history\n",
      "/home/jliao/workspace/GitHub/ml_ringcurrent_ion/prepare_fulldata.py:299: PerformanceWarning: DataFrame is highly fragmented.  This is usually the result of calling `frame.insert` many times, which has poor performance.  Consider joining all columns at once using pd.concat(axis=1) instead. To get a de-fragmented frame, use `newframe = frame.copy()`\n",
      "  df_features_history[feature_history_names] = idf_feature_history\n",
      "/home/jliao/workspace/GitHub/ml_ringcurrent_ion/prepare_fulldata.py:299: PerformanceWarning: DataFrame is highly fragmented.  This is usually the result of calling `frame.insert` many times, which has poor performance.  Consider joining all columns at once using pd.concat(axis=1) instead. To get a de-fragmented frame, use `newframe = frame.copy()`\n",
      "  df_features_history[feature_history_names] = idf_feature_history\n",
      "/home/jliao/workspace/GitHub/ml_ringcurrent_ion/prepare_fulldata.py:299: PerformanceWarning: DataFrame is highly fragmented.  This is usually the result of calling `frame.insert` many times, which has poor performance.  Consider joining all columns at once using pd.concat(axis=1) instead. To get a de-fragmented frame, use `newframe = frame.copy()`\n",
      "  df_features_history[feature_history_names] = idf_feature_history\n",
      "/home/jliao/workspace/GitHub/ml_ringcurrent_ion/prepare_fulldata.py:299: PerformanceWarning: DataFrame is highly fragmented.  This is usually the result of calling `frame.insert` many times, which has poor performance.  Consider joining all columns at once using pd.concat(axis=1) instead. To get a de-fragmented frame, use `newframe = frame.copy()`\n",
      "  df_features_history[feature_history_names] = idf_feature_history\n",
      "/home/jliao/workspace/GitHub/ml_ringcurrent_ion/prepare_fulldata.py:299: PerformanceWarning: DataFrame is highly fragmented.  This is usually the result of calling `frame.insert` many times, which has poor performance.  Consider joining all columns at once using pd.concat(axis=1) instead. To get a de-fragmented frame, use `newframe = frame.copy()`\n",
      "  df_features_history[feature_history_names] = idf_feature_history\n",
      "/home/jliao/workspace/GitHub/ml_ringcurrent_ion/prepare_fulldata.py:299: PerformanceWarning: DataFrame is highly fragmented.  This is usually the result of calling `frame.insert` many times, which has poor performance.  Consider joining all columns at once using pd.concat(axis=1) instead. To get a de-fragmented frame, use `newframe = frame.copy()`\n",
      "  df_features_history[feature_history_names] = idf_feature_history\n",
      "/home/jliao/workspace/GitHub/ml_ringcurrent_ion/prepare_fulldata.py:299: PerformanceWarning: DataFrame is highly fragmented.  This is usually the result of calling `frame.insert` many times, which has poor performance.  Consider joining all columns at once using pd.concat(axis=1) instead. To get a de-fragmented frame, use `newframe = frame.copy()`\n",
      "  df_features_history[feature_history_names] = idf_feature_history\n",
      "/home/jliao/workspace/GitHub/ml_ringcurrent_ion/prepare_fulldata.py:299: PerformanceWarning: DataFrame is highly fragmented.  This is usually the result of calling `frame.insert` many times, which has poor performance.  Consider joining all columns at once using pd.concat(axis=1) instead. To get a de-fragmented frame, use `newframe = frame.copy()`\n",
      "  df_features_history[feature_history_names] = idf_feature_history\n",
      "/home/jliao/workspace/GitHub/ml_ringcurrent_ion/prepare_fulldata.py:299: PerformanceWarning: DataFrame is highly fragmented.  This is usually the result of calling `frame.insert` many times, which has poor performance.  Consider joining all columns at once using pd.concat(axis=1) instead. To get a de-fragmented frame, use `newframe = frame.copy()`\n",
      "  df_features_history[feature_history_names] = idf_feature_history\n",
      "/home/jliao/workspace/GitHub/ml_ringcurrent_ion/prepare_fulldata.py:299: PerformanceWarning: DataFrame is highly fragmented.  This is usually the result of calling `frame.insert` many times, which has poor performance.  Consider joining all columns at once using pd.concat(axis=1) instead. To get a de-fragmented frame, use `newframe = frame.copy()`\n",
      "  df_features_history[feature_history_names] = idf_feature_history\n",
      "/home/jliao/workspace/GitHub/ml_ringcurrent_ion/prepare_fulldata.py:299: PerformanceWarning: DataFrame is highly fragmented.  This is usually the result of calling `frame.insert` many times, which has poor performance.  Consider joining all columns at once using pd.concat(axis=1) instead. To get a de-fragmented frame, use `newframe = frame.copy()`\n",
      "  df_features_history[feature_history_names] = idf_feature_history\n",
      "/home/jliao/workspace/GitHub/ml_ringcurrent_ion/prepare_fulldata.py:299: PerformanceWarning: DataFrame is highly fragmented.  This is usually the result of calling `frame.insert` many times, which has poor performance.  Consider joining all columns at once using pd.concat(axis=1) instead. To get a de-fragmented frame, use `newframe = frame.copy()`\n",
      "  df_features_history[feature_history_names] = idf_feature_history\n",
      "/home/jliao/workspace/GitHub/ml_ringcurrent_ion/prepare_fulldata.py:299: PerformanceWarning: DataFrame is highly fragmented.  This is usually the result of calling `frame.insert` many times, which has poor performance.  Consider joining all columns at once using pd.concat(axis=1) instead. To get a de-fragmented frame, use `newframe = frame.copy()`\n",
      "  df_features_history[feature_history_names] = idf_feature_history\n",
      "/home/jliao/workspace/GitHub/ml_ringcurrent_ion/prepare_fulldata.py:299: PerformanceWarning: DataFrame is highly fragmented.  This is usually the result of calling `frame.insert` many times, which has poor performance.  Consider joining all columns at once using pd.concat(axis=1) instead. To get a de-fragmented frame, use `newframe = frame.copy()`\n",
      "  df_features_history[feature_history_names] = idf_feature_history\n",
      "/home/jliao/workspace/GitHub/ml_ringcurrent_ion/prepare_fulldata.py:299: PerformanceWarning: DataFrame is highly fragmented.  This is usually the result of calling `frame.insert` many times, which has poor performance.  Consider joining all columns at once using pd.concat(axis=1) instead. To get a de-fragmented frame, use `newframe = frame.copy()`\n",
      "  df_features_history[feature_history_names] = idf_feature_history\n",
      "/home/jliao/workspace/GitHub/ml_ringcurrent_ion/prepare_fulldata.py:299: PerformanceWarning: DataFrame is highly fragmented.  This is usually the result of calling `frame.insert` many times, which has poor performance.  Consider joining all columns at once using pd.concat(axis=1) instead. To get a de-fragmented frame, use `newframe = frame.copy()`\n",
      "  df_features_history[feature_history_names] = idf_feature_history\n",
      "/home/jliao/workspace/GitHub/ml_ringcurrent_ion/prepare_fulldata.py:299: PerformanceWarning: DataFrame is highly fragmented.  This is usually the result of calling `frame.insert` many times, which has poor performance.  Consider joining all columns at once using pd.concat(axis=1) instead. To get a de-fragmented frame, use `newframe = frame.copy()`\n",
      "  df_features_history[feature_history_names] = idf_feature_history\n",
      "/home/jliao/workspace/GitHub/ml_ringcurrent_ion/prepare_fulldata.py:299: PerformanceWarning: DataFrame is highly fragmented.  This is usually the result of calling `frame.insert` many times, which has poor performance.  Consider joining all columns at once using pd.concat(axis=1) instead. To get a de-fragmented frame, use `newframe = frame.copy()`\n",
      "  df_features_history[feature_history_names] = idf_feature_history\n",
      "/home/jliao/workspace/GitHub/ml_ringcurrent_ion/prepare_fulldata.py:299: PerformanceWarning: DataFrame is highly fragmented.  This is usually the result of calling `frame.insert` many times, which has poor performance.  Consider joining all columns at once using pd.concat(axis=1) instead. To get a de-fragmented frame, use `newframe = frame.copy()`\n",
      "  df_features_history[feature_history_names] = idf_feature_history\n",
      "/home/jliao/workspace/GitHub/ml_ringcurrent_ion/prepare_fulldata.py:299: PerformanceWarning: DataFrame is highly fragmented.  This is usually the result of calling `frame.insert` many times, which has poor performance.  Consider joining all columns at once using pd.concat(axis=1) instead. To get a de-fragmented frame, use `newframe = frame.copy()`\n",
      "  df_features_history[feature_history_names] = idf_feature_history\n",
      "/home/jliao/workspace/GitHub/ml_ringcurrent_ion/prepare_fulldata.py:299: PerformanceWarning: DataFrame is highly fragmented.  This is usually the result of calling `frame.insert` many times, which has poor performance.  Consider joining all columns at once using pd.concat(axis=1) instead. To get a de-fragmented frame, use `newframe = frame.copy()`\n",
      "  df_features_history[feature_history_names] = idf_feature_history\n",
      "/home/jliao/workspace/GitHub/ml_ringcurrent_ion/prepare_fulldata.py:299: PerformanceWarning: DataFrame is highly fragmented.  This is usually the result of calling `frame.insert` many times, which has poor performance.  Consider joining all columns at once using pd.concat(axis=1) instead. To get a de-fragmented frame, use `newframe = frame.copy()`\n",
      "  df_features_history[feature_history_names] = idf_feature_history\n",
      "/home/jliao/workspace/GitHub/ml_ringcurrent_ion/prepare_fulldata.py:299: PerformanceWarning: DataFrame is highly fragmented.  This is usually the result of calling `frame.insert` many times, which has poor performance.  Consider joining all columns at once using pd.concat(axis=1) instead. To get a de-fragmented frame, use `newframe = frame.copy()`\n",
      "  df_features_history[feature_history_names] = idf_feature_history\n",
      "/home/jliao/workspace/GitHub/ml_ringcurrent_ion/prepare_fulldata.py:299: PerformanceWarning: DataFrame is highly fragmented.  This is usually the result of calling `frame.insert` many times, which has poor performance.  Consider joining all columns at once using pd.concat(axis=1) instead. To get a de-fragmented frame, use `newframe = frame.copy()`\n",
      "  df_features_history[feature_history_names] = idf_feature_history\n",
      "/home/jliao/workspace/GitHub/ml_ringcurrent_ion/prepare_fulldata.py:299: PerformanceWarning: DataFrame is highly fragmented.  This is usually the result of calling `frame.insert` many times, which has poor performance.  Consider joining all columns at once using pd.concat(axis=1) instead. To get a de-fragmented frame, use `newframe = frame.copy()`\n",
      "  df_features_history[feature_history_names] = idf_feature_history\n",
      "/home/jliao/workspace/GitHub/ml_ringcurrent_ion/prepare_fulldata.py:299: PerformanceWarning: DataFrame is highly fragmented.  This is usually the result of calling `frame.insert` many times, which has poor performance.  Consider joining all columns at once using pd.concat(axis=1) instead. To get a de-fragmented frame, use `newframe = frame.copy()`\n",
      "  df_features_history[feature_history_names] = idf_feature_history\n",
      "/home/jliao/workspace/GitHub/ml_ringcurrent_ion/prepare_fulldata.py:299: PerformanceWarning: DataFrame is highly fragmented.  This is usually the result of calling `frame.insert` many times, which has poor performance.  Consider joining all columns at once using pd.concat(axis=1) instead. To get a de-fragmented frame, use `newframe = frame.copy()`\n",
      "  df_features_history[feature_history_names] = idf_feature_history\n",
      "/home/jliao/workspace/GitHub/ml_ringcurrent_ion/prepare_fulldata.py:299: PerformanceWarning: DataFrame is highly fragmented.  This is usually the result of calling `frame.insert` many times, which has poor performance.  Consider joining all columns at once using pd.concat(axis=1) instead. To get a de-fragmented frame, use `newframe = frame.copy()`\n",
      "  df_features_history[feature_history_names] = idf_feature_history\n",
      "/home/jliao/workspace/GitHub/ml_ringcurrent_ion/prepare_fulldata.py:299: PerformanceWarning: DataFrame is highly fragmented.  This is usually the result of calling `frame.insert` many times, which has poor performance.  Consider joining all columns at once using pd.concat(axis=1) instead. To get a de-fragmented frame, use `newframe = frame.copy()`\n",
      "  df_features_history[feature_history_names] = idf_feature_history\n",
      "/home/jliao/workspace/GitHub/ml_ringcurrent_ion/prepare_fulldata.py:299: PerformanceWarning: DataFrame is highly fragmented.  This is usually the result of calling `frame.insert` many times, which has poor performance.  Consider joining all columns at once using pd.concat(axis=1) instead. To get a de-fragmented frame, use `newframe = frame.copy()`\n",
      "  df_features_history[feature_history_names] = idf_feature_history\n",
      "/home/jliao/workspace/GitHub/ml_ringcurrent_ion/prepare_fulldata.py:299: PerformanceWarning: DataFrame is highly fragmented.  This is usually the result of calling `frame.insert` many times, which has poor performance.  Consider joining all columns at once using pd.concat(axis=1) instead. To get a de-fragmented frame, use `newframe = frame.copy()`\n",
      "  df_features_history[feature_history_names] = idf_feature_history\n",
      "/home/jliao/workspace/GitHub/ml_ringcurrent_ion/prepare_fulldata.py:299: PerformanceWarning: DataFrame is highly fragmented.  This is usually the result of calling `frame.insert` many times, which has poor performance.  Consider joining all columns at once using pd.concat(axis=1) instead. To get a de-fragmented frame, use `newframe = frame.copy()`\n",
      "  df_features_history[feature_history_names] = idf_feature_history\n",
      "/home/jliao/workspace/GitHub/ml_ringcurrent_ion/prepare_fulldata.py:299: PerformanceWarning: DataFrame is highly fragmented.  This is usually the result of calling `frame.insert` many times, which has poor performance.  Consider joining all columns at once using pd.concat(axis=1) instead. To get a de-fragmented frame, use `newframe = frame.copy()`\n",
      "  df_features_history[feature_history_names] = idf_feature_history\n",
      "/home/jliao/workspace/GitHub/ml_ringcurrent_ion/prepare_fulldata.py:299: PerformanceWarning: DataFrame is highly fragmented.  This is usually the result of calling `frame.insert` many times, which has poor performance.  Consider joining all columns at once using pd.concat(axis=1) instead. To get a de-fragmented frame, use `newframe = frame.copy()`\n",
      "  df_features_history[feature_history_names] = idf_feature_history\n",
      "/home/jliao/workspace/GitHub/ml_ringcurrent_ion/prepare_fulldata.py:299: PerformanceWarning: DataFrame is highly fragmented.  This is usually the result of calling `frame.insert` many times, which has poor performance.  Consider joining all columns at once using pd.concat(axis=1) instead. To get a de-fragmented frame, use `newframe = frame.copy()`\n",
      "  df_features_history[feature_history_names] = idf_feature_history\n",
      "/home/jliao/workspace/GitHub/ml_ringcurrent_ion/prepare_fulldata.py:299: PerformanceWarning: DataFrame is highly fragmented.  This is usually the result of calling `frame.insert` many times, which has poor performance.  Consider joining all columns at once using pd.concat(axis=1) instead. To get a de-fragmented frame, use `newframe = frame.copy()`\n",
      "  df_features_history[feature_history_names] = idf_feature_history\n",
      "/home/jliao/workspace/GitHub/ml_ringcurrent_ion/prepare_fulldata.py:299: PerformanceWarning: DataFrame is highly fragmented.  This is usually the result of calling `frame.insert` many times, which has poor performance.  Consider joining all columns at once using pd.concat(axis=1) instead. To get a de-fragmented frame, use `newframe = frame.copy()`\n",
      "  df_features_history[feature_history_names] = idf_feature_history\n",
      "/home/jliao/workspace/GitHub/ml_ringcurrent_ion/prepare_fulldata.py:299: PerformanceWarning: DataFrame is highly fragmented.  This is usually the result of calling `frame.insert` many times, which has poor performance.  Consider joining all columns at once using pd.concat(axis=1) instead. To get a de-fragmented frame, use `newframe = frame.copy()`\n",
      "  df_features_history[feature_history_names] = idf_feature_history\n",
      "/home/jliao/workspace/GitHub/ml_ringcurrent_ion/prepare_fulldata.py:299: PerformanceWarning: DataFrame is highly fragmented.  This is usually the result of calling `frame.insert` many times, which has poor performance.  Consider joining all columns at once using pd.concat(axis=1) instead. To get a de-fragmented frame, use `newframe = frame.copy()`\n",
      "  df_features_history[feature_history_names] = idf_feature_history\n",
      "/home/jliao/workspace/GitHub/ml_ringcurrent_ion/prepare_fulldata.py:299: PerformanceWarning: DataFrame is highly fragmented.  This is usually the result of calling `frame.insert` many times, which has poor performance.  Consider joining all columns at once using pd.concat(axis=1) instead. To get a de-fragmented frame, use `newframe = frame.copy()`\n",
      "  df_features_history[feature_history_names] = idf_feature_history\n",
      "/home/jliao/workspace/GitHub/ml_ringcurrent_ion/prepare_fulldata.py:299: PerformanceWarning: DataFrame is highly fragmented.  This is usually the result of calling `frame.insert` many times, which has poor performance.  Consider joining all columns at once using pd.concat(axis=1) instead. To get a de-fragmented frame, use `newframe = frame.copy()`\n",
      "  df_features_history[feature_history_names] = idf_feature_history\n",
      "/home/jliao/workspace/GitHub/ml_ringcurrent_ion/prepare_fulldata.py:299: PerformanceWarning: DataFrame is highly fragmented.  This is usually the result of calling `frame.insert` many times, which has poor performance.  Consider joining all columns at once using pd.concat(axis=1) instead. To get a de-fragmented frame, use `newframe = frame.copy()`\n",
      "  df_features_history[feature_history_names] = idf_feature_history\n",
      "/home/jliao/workspace/GitHub/ml_ringcurrent_ion/prepare_fulldata.py:299: PerformanceWarning: DataFrame is highly fragmented.  This is usually the result of calling `frame.insert` many times, which has poor performance.  Consider joining all columns at once using pd.concat(axis=1) instead. To get a de-fragmented frame, use `newframe = frame.copy()`\n",
      "  df_features_history[feature_history_names] = idf_feature_history\n",
      "/home/jliao/workspace/GitHub/ml_ringcurrent_ion/prepare_fulldata.py:299: PerformanceWarning: DataFrame is highly fragmented.  This is usually the result of calling `frame.insert` many times, which has poor performance.  Consider joining all columns at once using pd.concat(axis=1) instead. To get a de-fragmented frame, use `newframe = frame.copy()`\n",
      "  df_features_history[feature_history_names] = idf_feature_history\n",
      "/home/jliao/workspace/GitHub/ml_ringcurrent_ion/prepare_fulldata.py:299: PerformanceWarning: DataFrame is highly fragmented.  This is usually the result of calling `frame.insert` many times, which has poor performance.  Consider joining all columns at once using pd.concat(axis=1) instead. To get a de-fragmented frame, use `newframe = frame.copy()`\n",
      "  df_features_history[feature_history_names] = idf_feature_history\n",
      "/home/jliao/workspace/GitHub/ml_ringcurrent_ion/prepare_fulldata.py:299: PerformanceWarning: DataFrame is highly fragmented.  This is usually the result of calling `frame.insert` many times, which has poor performance.  Consider joining all columns at once using pd.concat(axis=1) instead. To get a de-fragmented frame, use `newframe = frame.copy()`\n",
      "  df_features_history[feature_history_names] = idf_feature_history\n",
      "/home/jliao/workspace/GitHub/ml_ringcurrent_ion/prepare_fulldata.py:299: PerformanceWarning: DataFrame is highly fragmented.  This is usually the result of calling `frame.insert` many times, which has poor performance.  Consider joining all columns at once using pd.concat(axis=1) instead. To get a de-fragmented frame, use `newframe = frame.copy()`\n",
      "  df_features_history[feature_history_names] = idf_feature_history\n",
      "/home/jliao/workspace/GitHub/ml_ringcurrent_ion/prepare_fulldata.py:299: PerformanceWarning: DataFrame is highly fragmented.  This is usually the result of calling `frame.insert` many times, which has poor performance.  Consider joining all columns at once using pd.concat(axis=1) instead. To get a de-fragmented frame, use `newframe = frame.copy()`\n",
      "  df_features_history[feature_history_names] = idf_feature_history\n",
      "/home/jliao/workspace/GitHub/ml_ringcurrent_ion/prepare_fulldata.py:299: PerformanceWarning: DataFrame is highly fragmented.  This is usually the result of calling `frame.insert` many times, which has poor performance.  Consider joining all columns at once using pd.concat(axis=1) instead. To get a de-fragmented frame, use `newframe = frame.copy()`\n",
      "  df_features_history[feature_history_names] = idf_feature_history\n",
      "/home/jliao/workspace/GitHub/ml_ringcurrent_ion/prepare_fulldata.py:299: PerformanceWarning: DataFrame is highly fragmented.  This is usually the result of calling `frame.insert` many times, which has poor performance.  Consider joining all columns at once using pd.concat(axis=1) instead. To get a de-fragmented frame, use `newframe = frame.copy()`\n",
      "  df_features_history[feature_history_names] = idf_feature_history\n",
      "/home/jliao/workspace/GitHub/ml_ringcurrent_ion/prepare_fulldata.py:299: PerformanceWarning: DataFrame is highly fragmented.  This is usually the result of calling `frame.insert` many times, which has poor performance.  Consider joining all columns at once using pd.concat(axis=1) instead. To get a de-fragmented frame, use `newframe = frame.copy()`\n",
      "  df_features_history[feature_history_names] = idf_feature_history\n",
      "/home/jliao/workspace/GitHub/ml_ringcurrent_ion/prepare_fulldata.py:299: PerformanceWarning: DataFrame is highly fragmented.  This is usually the result of calling `frame.insert` many times, which has poor performance.  Consider joining all columns at once using pd.concat(axis=1) instead. To get a de-fragmented frame, use `newframe = frame.copy()`\n",
      "  df_features_history[feature_history_names] = idf_feature_history\n",
      "/home/jliao/workspace/GitHub/ml_ringcurrent_ion/prepare_fulldata.py:299: PerformanceWarning: DataFrame is highly fragmented.  This is usually the result of calling `frame.insert` many times, which has poor performance.  Consider joining all columns at once using pd.concat(axis=1) instead. To get a de-fragmented frame, use `newframe = frame.copy()`\n",
      "  df_features_history[feature_history_names] = idf_feature_history\n",
      "/home/jliao/workspace/GitHub/ml_ringcurrent_ion/prepare_fulldata.py:299: PerformanceWarning: DataFrame is highly fragmented.  This is usually the result of calling `frame.insert` many times, which has poor performance.  Consider joining all columns at once using pd.concat(axis=1) instead. To get a de-fragmented frame, use `newframe = frame.copy()`\n",
      "  df_features_history[feature_history_names] = idf_feature_history\n",
      "/home/jliao/workspace/GitHub/ml_ringcurrent_ion/prepare_fulldata.py:299: PerformanceWarning: DataFrame is highly fragmented.  This is usually the result of calling `frame.insert` many times, which has poor performance.  Consider joining all columns at once using pd.concat(axis=1) instead. To get a de-fragmented frame, use `newframe = frame.copy()`\n",
      "  df_features_history[feature_history_names] = idf_feature_history\n",
      "/home/jliao/workspace/GitHub/ml_ringcurrent_ion/prepare_fulldata.py:299: PerformanceWarning: DataFrame is highly fragmented.  This is usually the result of calling `frame.insert` many times, which has poor performance.  Consider joining all columns at once using pd.concat(axis=1) instead. To get a de-fragmented frame, use `newframe = frame.copy()`\n",
      "  df_features_history[feature_history_names] = idf_feature_history\n",
      "/home/jliao/workspace/GitHub/ml_ringcurrent_ion/prepare_fulldata.py:299: PerformanceWarning: DataFrame is highly fragmented.  This is usually the result of calling `frame.insert` many times, which has poor performance.  Consider joining all columns at once using pd.concat(axis=1) instead. To get a de-fragmented frame, use `newframe = frame.copy()`\n",
      "  df_features_history[feature_history_names] = idf_feature_history\n",
      "/home/jliao/workspace/GitHub/ml_ringcurrent_ion/prepare_fulldata.py:299: PerformanceWarning: DataFrame is highly fragmented.  This is usually the result of calling `frame.insert` many times, which has poor performance.  Consider joining all columns at once using pd.concat(axis=1) instead. To get a de-fragmented frame, use `newframe = frame.copy()`\n",
      "  df_features_history[feature_history_names] = idf_feature_history\n",
      "/home/jliao/workspace/GitHub/ml_ringcurrent_ion/prepare_fulldata.py:299: PerformanceWarning: DataFrame is highly fragmented.  This is usually the result of calling `frame.insert` many times, which has poor performance.  Consider joining all columns at once using pd.concat(axis=1) instead. To get a de-fragmented frame, use `newframe = frame.copy()`\n",
      "  df_features_history[feature_history_names] = idf_feature_history\n",
      "/home/jliao/workspace/GitHub/ml_ringcurrent_ion/prepare_fulldata.py:299: PerformanceWarning: DataFrame is highly fragmented.  This is usually the result of calling `frame.insert` many times, which has poor performance.  Consider joining all columns at once using pd.concat(axis=1) instead. To get a de-fragmented frame, use `newframe = frame.copy()`\n",
      "  df_features_history[feature_history_names] = idf_feature_history\n",
      "/home/jliao/workspace/GitHub/ml_ringcurrent_ion/prepare_fulldata.py:299: PerformanceWarning: DataFrame is highly fragmented.  This is usually the result of calling `frame.insert` many times, which has poor performance.  Consider joining all columns at once using pd.concat(axis=1) instead. To get a de-fragmented frame, use `newframe = frame.copy()`\n",
      "  df_features_history[feature_history_names] = idf_feature_history\n",
      "/home/jliao/workspace/GitHub/ml_ringcurrent_ion/prepare_fulldata.py:299: PerformanceWarning: DataFrame is highly fragmented.  This is usually the result of calling `frame.insert` many times, which has poor performance.  Consider joining all columns at once using pd.concat(axis=1) instead. To get a de-fragmented frame, use `newframe = frame.copy()`\n",
      "  df_features_history[feature_history_names] = idf_feature_history\n",
      "/home/jliao/workspace/GitHub/ml_ringcurrent_ion/prepare_fulldata.py:299: PerformanceWarning: DataFrame is highly fragmented.  This is usually the result of calling `frame.insert` many times, which has poor performance.  Consider joining all columns at once using pd.concat(axis=1) instead. To get a de-fragmented frame, use `newframe = frame.copy()`\n",
      "  df_features_history[feature_history_names] = idf_feature_history\n",
      "/home/jliao/workspace/GitHub/ml_ringcurrent_ion/prepare_fulldata.py:299: PerformanceWarning: DataFrame is highly fragmented.  This is usually the result of calling `frame.insert` many times, which has poor performance.  Consider joining all columns at once using pd.concat(axis=1) instead. To get a de-fragmented frame, use `newframe = frame.copy()`\n",
      "  df_features_history[feature_history_names] = idf_feature_history\n",
      "/home/jliao/workspace/GitHub/ml_ringcurrent_ion/prepare_fulldata.py:299: PerformanceWarning: DataFrame is highly fragmented.  This is usually the result of calling `frame.insert` many times, which has poor performance.  Consider joining all columns at once using pd.concat(axis=1) instead. To get a de-fragmented frame, use `newframe = frame.copy()`\n",
      "  df_features_history[feature_history_names] = idf_feature_history\n",
      "/home/jliao/workspace/GitHub/ml_ringcurrent_ion/prepare_fulldata.py:299: PerformanceWarning: DataFrame is highly fragmented.  This is usually the result of calling `frame.insert` many times, which has poor performance.  Consider joining all columns at once using pd.concat(axis=1) instead. To get a de-fragmented frame, use `newframe = frame.copy()`\n",
      "  df_features_history[feature_history_names] = idf_feature_history\n",
      "/home/jliao/workspace/GitHub/ml_ringcurrent_ion/prepare_fulldata.py:299: PerformanceWarning: DataFrame is highly fragmented.  This is usually the result of calling `frame.insert` many times, which has poor performance.  Consider joining all columns at once using pd.concat(axis=1) instead. To get a de-fragmented frame, use `newframe = frame.copy()`\n",
      "  df_features_history[feature_history_names] = idf_feature_history\n",
      "/home/jliao/workspace/GitHub/ml_ringcurrent_ion/prepare_fulldata.py:299: PerformanceWarning: DataFrame is highly fragmented.  This is usually the result of calling `frame.insert` many times, which has poor performance.  Consider joining all columns at once using pd.concat(axis=1) instead. To get a de-fragmented frame, use `newframe = frame.copy()`\n",
      "  df_features_history[feature_history_names] = idf_feature_history\n",
      "/home/jliao/workspace/GitHub/ml_ringcurrent_ion/prepare_fulldata.py:299: PerformanceWarning: DataFrame is highly fragmented.  This is usually the result of calling `frame.insert` many times, which has poor performance.  Consider joining all columns at once using pd.concat(axis=1) instead. To get a de-fragmented frame, use `newframe = frame.copy()`\n",
      "  df_features_history[feature_history_names] = idf_feature_history\n",
      "/home/jliao/workspace/GitHub/ml_ringcurrent_ion/prepare_fulldata.py:299: PerformanceWarning: DataFrame is highly fragmented.  This is usually the result of calling `frame.insert` many times, which has poor performance.  Consider joining all columns at once using pd.concat(axis=1) instead. To get a de-fragmented frame, use `newframe = frame.copy()`\n",
      "  df_features_history[feature_history_names] = idf_feature_history\n",
      "/home/jliao/workspace/GitHub/ml_ringcurrent_ion/prepare_fulldata.py:299: PerformanceWarning: DataFrame is highly fragmented.  This is usually the result of calling `frame.insert` many times, which has poor performance.  Consider joining all columns at once using pd.concat(axis=1) instead. To get a de-fragmented frame, use `newframe = frame.copy()`\n",
      "  df_features_history[feature_history_names] = idf_feature_history\n",
      "/home/jliao/workspace/GitHub/ml_ringcurrent_ion/prepare_fulldata.py:299: PerformanceWarning: DataFrame is highly fragmented.  This is usually the result of calling `frame.insert` many times, which has poor performance.  Consider joining all columns at once using pd.concat(axis=1) instead. To get a de-fragmented frame, use `newframe = frame.copy()`\n",
      "  df_features_history[feature_history_names] = idf_feature_history\n",
      "/home/jliao/workspace/GitHub/ml_ringcurrent_ion/prepare_fulldata.py:299: PerformanceWarning: DataFrame is highly fragmented.  This is usually the result of calling `frame.insert` many times, which has poor performance.  Consider joining all columns at once using pd.concat(axis=1) instead. To get a de-fragmented frame, use `newframe = frame.copy()`\n",
      "  df_features_history[feature_history_names] = idf_feature_history\n",
      "/home/jliao/workspace/GitHub/ml_ringcurrent_ion/prepare_fulldata.py:299: PerformanceWarning: DataFrame is highly fragmented.  This is usually the result of calling `frame.insert` many times, which has poor performance.  Consider joining all columns at once using pd.concat(axis=1) instead. To get a de-fragmented frame, use `newframe = frame.copy()`\n",
      "  df_features_history[feature_history_names] = idf_feature_history\n",
      "/home/jliao/workspace/GitHub/ml_ringcurrent_ion/prepare_fulldata.py:299: PerformanceWarning: DataFrame is highly fragmented.  This is usually the result of calling `frame.insert` many times, which has poor performance.  Consider joining all columns at once using pd.concat(axis=1) instead. To get a de-fragmented frame, use `newframe = frame.copy()`\n",
      "  df_features_history[feature_history_names] = idf_feature_history\n",
      "/home/jliao/workspace/GitHub/ml_ringcurrent_ion/prepare_fulldata.py:299: PerformanceWarning: DataFrame is highly fragmented.  This is usually the result of calling `frame.insert` many times, which has poor performance.  Consider joining all columns at once using pd.concat(axis=1) instead. To get a de-fragmented frame, use `newframe = frame.copy()`\n",
      "  df_features_history[feature_history_names] = idf_feature_history\n",
      "/home/jliao/workspace/GitHub/ml_ringcurrent_ion/prepare_fulldata.py:299: PerformanceWarning: DataFrame is highly fragmented.  This is usually the result of calling `frame.insert` many times, which has poor performance.  Consider joining all columns at once using pd.concat(axis=1) instead. To get a de-fragmented frame, use `newframe = frame.copy()`\n",
      "  df_features_history[feature_history_names] = idf_feature_history\n",
      "/home/jliao/workspace/GitHub/ml_ringcurrent_ion/prepare_fulldata.py:299: PerformanceWarning: DataFrame is highly fragmented.  This is usually the result of calling `frame.insert` many times, which has poor performance.  Consider joining all columns at once using pd.concat(axis=1) instead. To get a de-fragmented frame, use `newframe = frame.copy()`\n",
      "  df_features_history[feature_history_names] = idf_feature_history\n",
      "/home/jliao/workspace/GitHub/ml_ringcurrent_ion/prepare_fulldata.py:299: PerformanceWarning: DataFrame is highly fragmented.  This is usually the result of calling `frame.insert` many times, which has poor performance.  Consider joining all columns at once using pd.concat(axis=1) instead. To get a de-fragmented frame, use `newframe = frame.copy()`\n",
      "  df_features_history[feature_history_names] = idf_feature_history\n",
      "/home/jliao/workspace/GitHub/ml_ringcurrent_ion/prepare_fulldata.py:299: PerformanceWarning: DataFrame is highly fragmented.  This is usually the result of calling `frame.insert` many times, which has poor performance.  Consider joining all columns at once using pd.concat(axis=1) instead. To get a de-fragmented frame, use `newframe = frame.copy()`\n",
      "  df_features_history[feature_history_names] = idf_feature_history\n",
      "/home/jliao/workspace/GitHub/ml_ringcurrent_ion/prepare_fulldata.py:299: PerformanceWarning: DataFrame is highly fragmented.  This is usually the result of calling `frame.insert` many times, which has poor performance.  Consider joining all columns at once using pd.concat(axis=1) instead. To get a de-fragmented frame, use `newframe = frame.copy()`\n",
      "  df_features_history[feature_history_names] = idf_feature_history\n",
      "/home/jliao/workspace/GitHub/ml_ringcurrent_ion/prepare_fulldata.py:299: PerformanceWarning: DataFrame is highly fragmented.  This is usually the result of calling `frame.insert` many times, which has poor performance.  Consider joining all columns at once using pd.concat(axis=1) instead. To get a de-fragmented frame, use `newframe = frame.copy()`\n",
      "  df_features_history[feature_history_names] = idf_feature_history\n",
      "/home/jliao/workspace/GitHub/ml_ringcurrent_ion/prepare_fulldata.py:299: PerformanceWarning: DataFrame is highly fragmented.  This is usually the result of calling `frame.insert` many times, which has poor performance.  Consider joining all columns at once using pd.concat(axis=1) instead. To get a de-fragmented frame, use `newframe = frame.copy()`\n",
      "  df_features_history[feature_history_names] = idf_feature_history\n",
      "/home/jliao/workspace/GitHub/ml_ringcurrent_ion/prepare_fulldata.py:299: PerformanceWarning: DataFrame is highly fragmented.  This is usually the result of calling `frame.insert` many times, which has poor performance.  Consider joining all columns at once using pd.concat(axis=1) instead. To get a de-fragmented frame, use `newframe = frame.copy()`\n",
      "  df_features_history[feature_history_names] = idf_feature_history\n",
      "/home/jliao/workspace/GitHub/ml_ringcurrent_ion/prepare_fulldata.py:299: PerformanceWarning: DataFrame is highly fragmented.  This is usually the result of calling `frame.insert` many times, which has poor performance.  Consider joining all columns at once using pd.concat(axis=1) instead. To get a de-fragmented frame, use `newframe = frame.copy()`\n",
      "  df_features_history[feature_history_names] = idf_feature_history\n",
      "/home/jliao/workspace/GitHub/ml_ringcurrent_ion/prepare_fulldata.py:299: PerformanceWarning: DataFrame is highly fragmented.  This is usually the result of calling `frame.insert` many times, which has poor performance.  Consider joining all columns at once using pd.concat(axis=1) instead. To get a de-fragmented frame, use `newframe = frame.copy()`\n",
      "  df_features_history[feature_history_names] = idf_feature_history\n",
      "/home/jliao/workspace/GitHub/ml_ringcurrent_ion/prepare_fulldata.py:299: PerformanceWarning: DataFrame is highly fragmented.  This is usually the result of calling `frame.insert` many times, which has poor performance.  Consider joining all columns at once using pd.concat(axis=1) instead. To get a de-fragmented frame, use `newframe = frame.copy()`\n",
      "  df_features_history[feature_history_names] = idf_feature_history\n",
      "/home/jliao/workspace/GitHub/ml_ringcurrent_ion/prepare_fulldata.py:299: PerformanceWarning: DataFrame is highly fragmented.  This is usually the result of calling `frame.insert` many times, which has poor performance.  Consider joining all columns at once using pd.concat(axis=1) instead. To get a de-fragmented frame, use `newframe = frame.copy()`\n",
      "  df_features_history[feature_history_names] = idf_feature_history\n",
      "/home/jliao/workspace/GitHub/ml_ringcurrent_ion/prepare_fulldata.py:299: PerformanceWarning: DataFrame is highly fragmented.  This is usually the result of calling `frame.insert` many times, which has poor performance.  Consider joining all columns at once using pd.concat(axis=1) instead. To get a de-fragmented frame, use `newframe = frame.copy()`\n",
      "  df_features_history[feature_history_names] = idf_feature_history\n",
      "/home/jliao/workspace/GitHub/ml_ringcurrent_ion/prepare_fulldata.py:299: PerformanceWarning: DataFrame is highly fragmented.  This is usually the result of calling `frame.insert` many times, which has poor performance.  Consider joining all columns at once using pd.concat(axis=1) instead. To get a de-fragmented frame, use `newframe = frame.copy()`\n",
      "  df_features_history[feature_history_names] = idf_feature_history\n",
      "/home/jliao/workspace/GitHub/ml_ringcurrent_ion/prepare_fulldata.py:299: PerformanceWarning: DataFrame is highly fragmented.  This is usually the result of calling `frame.insert` many times, which has poor performance.  Consider joining all columns at once using pd.concat(axis=1) instead. To get a de-fragmented frame, use `newframe = frame.copy()`\n",
      "  df_features_history[feature_history_names] = idf_feature_history\n",
      "/home/jliao/workspace/GitHub/ml_ringcurrent_ion/prepare_fulldata.py:299: PerformanceWarning: DataFrame is highly fragmented.  This is usually the result of calling `frame.insert` many times, which has poor performance.  Consider joining all columns at once using pd.concat(axis=1) instead. To get a de-fragmented frame, use `newframe = frame.copy()`\n",
      "  df_features_history[feature_history_names] = idf_feature_history\n",
      "/home/jliao/workspace/GitHub/ml_ringcurrent_ion/prepare_fulldata.py:299: PerformanceWarning: DataFrame is highly fragmented.  This is usually the result of calling `frame.insert` many times, which has poor performance.  Consider joining all columns at once using pd.concat(axis=1) instead. To get a de-fragmented frame, use `newframe = frame.copy()`\n",
      "  df_features_history[feature_history_names] = idf_feature_history\n",
      "/home/jliao/workspace/GitHub/ml_ringcurrent_ion/prepare_fulldata.py:299: PerformanceWarning: DataFrame is highly fragmented.  This is usually the result of calling `frame.insert` many times, which has poor performance.  Consider joining all columns at once using pd.concat(axis=1) instead. To get a de-fragmented frame, use `newframe = frame.copy()`\n",
      "  df_features_history[feature_history_names] = idf_feature_history\n",
      "/home/jliao/workspace/GitHub/ml_ringcurrent_ion/prepare_fulldata.py:299: PerformanceWarning: DataFrame is highly fragmented.  This is usually the result of calling `frame.insert` many times, which has poor performance.  Consider joining all columns at once using pd.concat(axis=1) instead. To get a de-fragmented frame, use `newframe = frame.copy()`\n",
      "  df_features_history[feature_history_names] = idf_feature_history\n",
      "/home/jliao/workspace/GitHub/ml_ringcurrent_ion/prepare_fulldata.py:299: PerformanceWarning: DataFrame is highly fragmented.  This is usually the result of calling `frame.insert` many times, which has poor performance.  Consider joining all columns at once using pd.concat(axis=1) instead. To get a de-fragmented frame, use `newframe = frame.copy()`\n",
      "  df_features_history[feature_history_names] = idf_feature_history\n",
      "/home/jliao/workspace/GitHub/ml_ringcurrent_ion/prepare_fulldata.py:299: PerformanceWarning: DataFrame is highly fragmented.  This is usually the result of calling `frame.insert` many times, which has poor performance.  Consider joining all columns at once using pd.concat(axis=1) instead. To get a de-fragmented frame, use `newframe = frame.copy()`\n",
      "  df_features_history[feature_history_names] = idf_feature_history\n",
      "/home/jliao/workspace/GitHub/ml_ringcurrent_ion/prepare_fulldata.py:299: PerformanceWarning: DataFrame is highly fragmented.  This is usually the result of calling `frame.insert` many times, which has poor performance.  Consider joining all columns at once using pd.concat(axis=1) instead. To get a de-fragmented frame, use `newframe = frame.copy()`\n",
      "  df_features_history[feature_history_names] = idf_feature_history\n",
      "/home/jliao/workspace/GitHub/ml_ringcurrent_ion/prepare_fulldata.py:299: PerformanceWarning: DataFrame is highly fragmented.  This is usually the result of calling `frame.insert` many times, which has poor performance.  Consider joining all columns at once using pd.concat(axis=1) instead. To get a de-fragmented frame, use `newframe = frame.copy()`\n",
      "  df_features_history[feature_history_names] = idf_feature_history\n",
      "/home/jliao/workspace/GitHub/ml_ringcurrent_ion/prepare_fulldata.py:299: PerformanceWarning: DataFrame is highly fragmented.  This is usually the result of calling `frame.insert` many times, which has poor performance.  Consider joining all columns at once using pd.concat(axis=1) instead. To get a de-fragmented frame, use `newframe = frame.copy()`\n",
      "  df_features_history[feature_history_names] = idf_feature_history\n",
      "/home/jliao/workspace/GitHub/ml_ringcurrent_ion/prepare_fulldata.py:299: PerformanceWarning: DataFrame is highly fragmented.  This is usually the result of calling `frame.insert` many times, which has poor performance.  Consider joining all columns at once using pd.concat(axis=1) instead. To get a de-fragmented frame, use `newframe = frame.copy()`\n",
      "  df_features_history[feature_history_names] = idf_feature_history\n",
      "/home/jliao/workspace/GitHub/ml_ringcurrent_ion/prepare_fulldata.py:299: PerformanceWarning: DataFrame is highly fragmented.  This is usually the result of calling `frame.insert` many times, which has poor performance.  Consider joining all columns at once using pd.concat(axis=1) instead. To get a de-fragmented frame, use `newframe = frame.copy()`\n",
      "  df_features_history[feature_history_names] = idf_feature_history\n",
      "/home/jliao/workspace/GitHub/ml_ringcurrent_ion/prepare_fulldata.py:299: PerformanceWarning: DataFrame is highly fragmented.  This is usually the result of calling `frame.insert` many times, which has poor performance.  Consider joining all columns at once using pd.concat(axis=1) instead. To get a de-fragmented frame, use `newframe = frame.copy()`\n",
      "  df_features_history[feature_history_names] = idf_feature_history\n",
      "/home/jliao/workspace/GitHub/ml_ringcurrent_ion/prepare_fulldata.py:299: PerformanceWarning: DataFrame is highly fragmented.  This is usually the result of calling `frame.insert` many times, which has poor performance.  Consider joining all columns at once using pd.concat(axis=1) instead. To get a de-fragmented frame, use `newframe = frame.copy()`\n",
      "  df_features_history[feature_history_names] = idf_feature_history\n",
      "/home/jliao/workspace/GitHub/ml_ringcurrent_ion/prepare_fulldata.py:299: PerformanceWarning: DataFrame is highly fragmented.  This is usually the result of calling `frame.insert` many times, which has poor performance.  Consider joining all columns at once using pd.concat(axis=1) instead. To get a de-fragmented frame, use `newframe = frame.copy()`\n",
      "  df_features_history[feature_history_names] = idf_feature_history\n",
      "/home/jliao/workspace/GitHub/ml_ringcurrent_ion/prepare_fulldata.py:299: PerformanceWarning: DataFrame is highly fragmented.  This is usually the result of calling `frame.insert` many times, which has poor performance.  Consider joining all columns at once using pd.concat(axis=1) instead. To get a de-fragmented frame, use `newframe = frame.copy()`\n",
      "  df_features_history[feature_history_names] = idf_feature_history\n",
      "/home/jliao/workspace/GitHub/ml_ringcurrent_ion/prepare_fulldata.py:299: PerformanceWarning: DataFrame is highly fragmented.  This is usually the result of calling `frame.insert` many times, which has poor performance.  Consider joining all columns at once using pd.concat(axis=1) instead. To get a de-fragmented frame, use `newframe = frame.copy()`\n",
      "  df_features_history[feature_history_names] = idf_feature_history\n",
      "/home/jliao/workspace/GitHub/ml_ringcurrent_ion/prepare_fulldata.py:299: PerformanceWarning: DataFrame is highly fragmented.  This is usually the result of calling `frame.insert` many times, which has poor performance.  Consider joining all columns at once using pd.concat(axis=1) instead. To get a de-fragmented frame, use `newframe = frame.copy()`\n",
      "  df_features_history[feature_history_names] = idf_feature_history\n",
      "/home/jliao/workspace/GitHub/ml_ringcurrent_ion/prepare_fulldata.py:299: PerformanceWarning: DataFrame is highly fragmented.  This is usually the result of calling `frame.insert` many times, which has poor performance.  Consider joining all columns at once using pd.concat(axis=1) instead. To get a de-fragmented frame, use `newframe = frame.copy()`\n",
      "  df_features_history[feature_history_names] = idf_feature_history\n",
      "/home/jliao/workspace/GitHub/ml_ringcurrent_ion/prepare_fulldata.py:299: PerformanceWarning: DataFrame is highly fragmented.  This is usually the result of calling `frame.insert` many times, which has poor performance.  Consider joining all columns at once using pd.concat(axis=1) instead. To get a de-fragmented frame, use `newframe = frame.copy()`\n",
      "  df_features_history[feature_history_names] = idf_feature_history\n",
      "/home/jliao/workspace/GitHub/ml_ringcurrent_ion/prepare_fulldata.py:299: PerformanceWarning: DataFrame is highly fragmented.  This is usually the result of calling `frame.insert` many times, which has poor performance.  Consider joining all columns at once using pd.concat(axis=1) instead. To get a de-fragmented frame, use `newframe = frame.copy()`\n",
      "  df_features_history[feature_history_names] = idf_feature_history\n",
      "/home/jliao/workspace/GitHub/ml_ringcurrent_ion/prepare_fulldata.py:299: PerformanceWarning: DataFrame is highly fragmented.  This is usually the result of calling `frame.insert` many times, which has poor performance.  Consider joining all columns at once using pd.concat(axis=1) instead. To get a de-fragmented frame, use `newframe = frame.copy()`\n",
      "  df_features_history[feature_history_names] = idf_feature_history\n",
      "/home/jliao/workspace/GitHub/ml_ringcurrent_ion/prepare_fulldata.py:299: PerformanceWarning: DataFrame is highly fragmented.  This is usually the result of calling `frame.insert` many times, which has poor performance.  Consider joining all columns at once using pd.concat(axis=1) instead. To get a de-fragmented frame, use `newframe = frame.copy()`\n",
      "  df_features_history[feature_history_names] = idf_feature_history\n",
      "/home/jliao/workspace/GitHub/ml_ringcurrent_ion/prepare_fulldata.py:299: PerformanceWarning: DataFrame is highly fragmented.  This is usually the result of calling `frame.insert` many times, which has poor performance.  Consider joining all columns at once using pd.concat(axis=1) instead. To get a de-fragmented frame, use `newframe = frame.copy()`\n",
      "  df_features_history[feature_history_names] = idf_feature_history\n",
      "/home/jliao/workspace/GitHub/ml_ringcurrent_ion/prepare_fulldata.py:299: PerformanceWarning: DataFrame is highly fragmented.  This is usually the result of calling `frame.insert` many times, which has poor performance.  Consider joining all columns at once using pd.concat(axis=1) instead. To get a de-fragmented frame, use `newframe = frame.copy()`\n",
      "  df_features_history[feature_history_names] = idf_feature_history\n",
      "/home/jliao/workspace/GitHub/ml_ringcurrent_ion/prepare_fulldata.py:299: PerformanceWarning: DataFrame is highly fragmented.  This is usually the result of calling `frame.insert` many times, which has poor performance.  Consider joining all columns at once using pd.concat(axis=1) instead. To get a de-fragmented frame, use `newframe = frame.copy()`\n",
      "  df_features_history[feature_history_names] = idf_feature_history\n",
      "/home/jliao/workspace/GitHub/ml_ringcurrent_ion/prepare_fulldata.py:299: PerformanceWarning: DataFrame is highly fragmented.  This is usually the result of calling `frame.insert` many times, which has poor performance.  Consider joining all columns at once using pd.concat(axis=1) instead. To get a de-fragmented frame, use `newframe = frame.copy()`\n",
      "  df_features_history[feature_history_names] = idf_feature_history\n",
      "/home/jliao/workspace/GitHub/ml_ringcurrent_ion/prepare_fulldata.py:299: PerformanceWarning: DataFrame is highly fragmented.  This is usually the result of calling `frame.insert` many times, which has poor performance.  Consider joining all columns at once using pd.concat(axis=1) instead. To get a de-fragmented frame, use `newframe = frame.copy()`\n",
      "  df_features_history[feature_history_names] = idf_feature_history\n",
      "/home/jliao/workspace/GitHub/ml_ringcurrent_ion/prepare_fulldata.py:299: PerformanceWarning: DataFrame is highly fragmented.  This is usually the result of calling `frame.insert` many times, which has poor performance.  Consider joining all columns at once using pd.concat(axis=1) instead. To get a de-fragmented frame, use `newframe = frame.copy()`\n",
      "  df_features_history[feature_history_names] = idf_feature_history\n",
      "/home/jliao/workspace/GitHub/ml_ringcurrent_ion/prepare_fulldata.py:299: PerformanceWarning: DataFrame is highly fragmented.  This is usually the result of calling `frame.insert` many times, which has poor performance.  Consider joining all columns at once using pd.concat(axis=1) instead. To get a de-fragmented frame, use `newframe = frame.copy()`\n",
      "  df_features_history[feature_history_names] = idf_feature_history\n",
      "/home/jliao/workspace/GitHub/ml_ringcurrent_ion/prepare_fulldata.py:299: PerformanceWarning: DataFrame is highly fragmented.  This is usually the result of calling `frame.insert` many times, which has poor performance.  Consider joining all columns at once using pd.concat(axis=1) instead. To get a de-fragmented frame, use `newframe = frame.copy()`\n",
      "  df_features_history[feature_history_names] = idf_feature_history\n",
      "/home/jliao/workspace/GitHub/ml_ringcurrent_ion/prepare_fulldata.py:299: PerformanceWarning: DataFrame is highly fragmented.  This is usually the result of calling `frame.insert` many times, which has poor performance.  Consider joining all columns at once using pd.concat(axis=1) instead. To get a de-fragmented frame, use `newframe = frame.copy()`\n",
      "  df_features_history[feature_history_names] = idf_feature_history\n",
      "/home/jliao/workspace/GitHub/ml_ringcurrent_ion/prepare_fulldata.py:299: PerformanceWarning: DataFrame is highly fragmented.  This is usually the result of calling `frame.insert` many times, which has poor performance.  Consider joining all columns at once using pd.concat(axis=1) instead. To get a de-fragmented frame, use `newframe = frame.copy()`\n",
      "  df_features_history[feature_history_names] = idf_feature_history\n",
      "/home/jliao/workspace/GitHub/ml_ringcurrent_ion/prepare_fulldata.py:299: PerformanceWarning: DataFrame is highly fragmented.  This is usually the result of calling `frame.insert` many times, which has poor performance.  Consider joining all columns at once using pd.concat(axis=1) instead. To get a de-fragmented frame, use `newframe = frame.copy()`\n",
      "  df_features_history[feature_history_names] = idf_feature_history\n",
      "/home/jliao/workspace/GitHub/ml_ringcurrent_ion/prepare_fulldata.py:299: PerformanceWarning: DataFrame is highly fragmented.  This is usually the result of calling `frame.insert` many times, which has poor performance.  Consider joining all columns at once using pd.concat(axis=1) instead. To get a de-fragmented frame, use `newframe = frame.copy()`\n",
      "  df_features_history[feature_history_names] = idf_feature_history\n",
      "/home/jliao/workspace/GitHub/ml_ringcurrent_ion/prepare_fulldata.py:299: PerformanceWarning: DataFrame is highly fragmented.  This is usually the result of calling `frame.insert` many times, which has poor performance.  Consider joining all columns at once using pd.concat(axis=1) instead. To get a de-fragmented frame, use `newframe = frame.copy()`\n",
      "  df_features_history[feature_history_names] = idf_feature_history\n",
      "/home/jliao/workspace/GitHub/ml_ringcurrent_ion/prepare_fulldata.py:299: PerformanceWarning: DataFrame is highly fragmented.  This is usually the result of calling `frame.insert` many times, which has poor performance.  Consider joining all columns at once using pd.concat(axis=1) instead. To get a de-fragmented frame, use `newframe = frame.copy()`\n",
      "  df_features_history[feature_history_names] = idf_feature_history\n",
      "/home/jliao/workspace/GitHub/ml_ringcurrent_ion/prepare_fulldata.py:299: PerformanceWarning: DataFrame is highly fragmented.  This is usually the result of calling `frame.insert` many times, which has poor performance.  Consider joining all columns at once using pd.concat(axis=1) instead. To get a de-fragmented frame, use `newframe = frame.copy()`\n",
      "  df_features_history[feature_history_names] = idf_feature_history\n",
      "/home/jliao/workspace/GitHub/ml_ringcurrent_ion/prepare_fulldata.py:299: PerformanceWarning: DataFrame is highly fragmented.  This is usually the result of calling `frame.insert` many times, which has poor performance.  Consider joining all columns at once using pd.concat(axis=1) instead. To get a de-fragmented frame, use `newframe = frame.copy()`\n",
      "  df_features_history[feature_history_names] = idf_feature_history\n",
      "/home/jliao/workspace/GitHub/ml_ringcurrent_ion/prepare_fulldata.py:299: PerformanceWarning: DataFrame is highly fragmented.  This is usually the result of calling `frame.insert` many times, which has poor performance.  Consider joining all columns at once using pd.concat(axis=1) instead. To get a de-fragmented frame, use `newframe = frame.copy()`\n",
      "  df_features_history[feature_history_names] = idf_feature_history\n",
      "/home/jliao/workspace/GitHub/ml_ringcurrent_ion/prepare_fulldata.py:299: PerformanceWarning: DataFrame is highly fragmented.  This is usually the result of calling `frame.insert` many times, which has poor performance.  Consider joining all columns at once using pd.concat(axis=1) instead. To get a de-fragmented frame, use `newframe = frame.copy()`\n",
      "  df_features_history[feature_history_names] = idf_feature_history\n",
      "/home/jliao/workspace/GitHub/ml_ringcurrent_ion/prepare_fulldata.py:299: PerformanceWarning: DataFrame is highly fragmented.  This is usually the result of calling `frame.insert` many times, which has poor performance.  Consider joining all columns at once using pd.concat(axis=1) instead. To get a de-fragmented frame, use `newframe = frame.copy()`\n",
      "  df_features_history[feature_history_names] = idf_feature_history\n",
      "/home/jliao/workspace/GitHub/ml_ringcurrent_ion/prepare_fulldata.py:299: PerformanceWarning: DataFrame is highly fragmented.  This is usually the result of calling `frame.insert` many times, which has poor performance.  Consider joining all columns at once using pd.concat(axis=1) instead. To get a de-fragmented frame, use `newframe = frame.copy()`\n",
      "  df_features_history[feature_history_names] = idf_feature_history\n",
      "/home/jliao/workspace/GitHub/ml_ringcurrent_ion/prepare_fulldata.py:299: PerformanceWarning: DataFrame is highly fragmented.  This is usually the result of calling `frame.insert` many times, which has poor performance.  Consider joining all columns at once using pd.concat(axis=1) instead. To get a de-fragmented frame, use `newframe = frame.copy()`\n",
      "  df_features_history[feature_history_names] = idf_feature_history\n",
      "/home/jliao/workspace/GitHub/ml_ringcurrent_ion/prepare_fulldata.py:299: PerformanceWarning: DataFrame is highly fragmented.  This is usually the result of calling `frame.insert` many times, which has poor performance.  Consider joining all columns at once using pd.concat(axis=1) instead. To get a de-fragmented frame, use `newframe = frame.copy()`\n",
      "  df_features_history[feature_history_names] = idf_feature_history\n",
      "/home/jliao/workspace/GitHub/ml_ringcurrent_ion/prepare_fulldata.py:299: PerformanceWarning: DataFrame is highly fragmented.  This is usually the result of calling `frame.insert` many times, which has poor performance.  Consider joining all columns at once using pd.concat(axis=1) instead. To get a de-fragmented frame, use `newframe = frame.copy()`\n",
      "  df_features_history[feature_history_names] = idf_feature_history\n",
      "/home/jliao/workspace/GitHub/ml_ringcurrent_ion/prepare_fulldata.py:299: PerformanceWarning: DataFrame is highly fragmented.  This is usually the result of calling `frame.insert` many times, which has poor performance.  Consider joining all columns at once using pd.concat(axis=1) instead. To get a de-fragmented frame, use `newframe = frame.copy()`\n",
      "  df_features_history[feature_history_names] = idf_feature_history\n",
      "/home/jliao/workspace/GitHub/ml_ringcurrent_ion/prepare_fulldata.py:299: PerformanceWarning: DataFrame is highly fragmented.  This is usually the result of calling `frame.insert` many times, which has poor performance.  Consider joining all columns at once using pd.concat(axis=1) instead. To get a de-fragmented frame, use `newframe = frame.copy()`\n",
      "  df_features_history[feature_history_names] = idf_feature_history\n",
      "/home/jliao/workspace/GitHub/ml_ringcurrent_ion/prepare_fulldata.py:299: PerformanceWarning: DataFrame is highly fragmented.  This is usually the result of calling `frame.insert` many times, which has poor performance.  Consider joining all columns at once using pd.concat(axis=1) instead. To get a de-fragmented frame, use `newframe = frame.copy()`\n",
      "  df_features_history[feature_history_names] = idf_feature_history\n",
      "/home/jliao/workspace/GitHub/ml_ringcurrent_ion/prepare_fulldata.py:299: PerformanceWarning: DataFrame is highly fragmented.  This is usually the result of calling `frame.insert` many times, which has poor performance.  Consider joining all columns at once using pd.concat(axis=1) instead. To get a de-fragmented frame, use `newframe = frame.copy()`\n",
      "  df_features_history[feature_history_names] = idf_feature_history\n",
      "/home/jliao/workspace/GitHub/ml_ringcurrent_ion/prepare_fulldata.py:299: PerformanceWarning: DataFrame is highly fragmented.  This is usually the result of calling `frame.insert` many times, which has poor performance.  Consider joining all columns at once using pd.concat(axis=1) instead. To get a de-fragmented frame, use `newframe = frame.copy()`\n",
      "  df_features_history[feature_history_names] = idf_feature_history\n",
      "/home/jliao/workspace/GitHub/ml_ringcurrent_ion/prepare_fulldata.py:299: PerformanceWarning: DataFrame is highly fragmented.  This is usually the result of calling `frame.insert` many times, which has poor performance.  Consider joining all columns at once using pd.concat(axis=1) instead. To get a de-fragmented frame, use `newframe = frame.copy()`\n",
      "  df_features_history[feature_history_names] = idf_feature_history\n",
      "/home/jliao/workspace/GitHub/ml_ringcurrent_ion/prepare_fulldata.py:299: PerformanceWarning: DataFrame is highly fragmented.  This is usually the result of calling `frame.insert` many times, which has poor performance.  Consider joining all columns at once using pd.concat(axis=1) instead. To get a de-fragmented frame, use `newframe = frame.copy()`\n",
      "  df_features_history[feature_history_names] = idf_feature_history\n",
      "/home/jliao/workspace/GitHub/ml_ringcurrent_ion/prepare_fulldata.py:299: PerformanceWarning: DataFrame is highly fragmented.  This is usually the result of calling `frame.insert` many times, which has poor performance.  Consider joining all columns at once using pd.concat(axis=1) instead. To get a de-fragmented frame, use `newframe = frame.copy()`\n",
      "  df_features_history[feature_history_names] = idf_feature_history\n",
      "/home/jliao/workspace/GitHub/ml_ringcurrent_ion/prepare_fulldata.py:299: PerformanceWarning: DataFrame is highly fragmented.  This is usually the result of calling `frame.insert` many times, which has poor performance.  Consider joining all columns at once using pd.concat(axis=1) instead. To get a de-fragmented frame, use `newframe = frame.copy()`\n",
      "  df_features_history[feature_history_names] = idf_feature_history\n",
      "/home/jliao/workspace/GitHub/ml_ringcurrent_ion/prepare_fulldata.py:299: PerformanceWarning: DataFrame is highly fragmented.  This is usually the result of calling `frame.insert` many times, which has poor performance.  Consider joining all columns at once using pd.concat(axis=1) instead. To get a de-fragmented frame, use `newframe = frame.copy()`\n",
      "  df_features_history[feature_history_names] = idf_feature_history\n",
      "/home/jliao/workspace/GitHub/ml_ringcurrent_ion/prepare_fulldata.py:299: PerformanceWarning: DataFrame is highly fragmented.  This is usually the result of calling `frame.insert` many times, which has poor performance.  Consider joining all columns at once using pd.concat(axis=1) instead. To get a de-fragmented frame, use `newframe = frame.copy()`\n",
      "  df_features_history[feature_history_names] = idf_feature_history\n",
      "/home/jliao/workspace/GitHub/ml_ringcurrent_ion/prepare_fulldata.py:299: PerformanceWarning: DataFrame is highly fragmented.  This is usually the result of calling `frame.insert` many times, which has poor performance.  Consider joining all columns at once using pd.concat(axis=1) instead. To get a de-fragmented frame, use `newframe = frame.copy()`\n",
      "  df_features_history[feature_history_names] = idf_feature_history\n",
      "/home/jliao/workspace/GitHub/ml_ringcurrent_ion/prepare_fulldata.py:299: PerformanceWarning: DataFrame is highly fragmented.  This is usually the result of calling `frame.insert` many times, which has poor performance.  Consider joining all columns at once using pd.concat(axis=1) instead. To get a de-fragmented frame, use `newframe = frame.copy()`\n",
      "  df_features_history[feature_history_names] = idf_feature_history\n",
      "/home/jliao/workspace/GitHub/ml_ringcurrent_ion/prepare_fulldata.py:299: PerformanceWarning: DataFrame is highly fragmented.  This is usually the result of calling `frame.insert` many times, which has poor performance.  Consider joining all columns at once using pd.concat(axis=1) instead. To get a de-fragmented frame, use `newframe = frame.copy()`\n",
      "  df_features_history[feature_history_names] = idf_feature_history\n",
      "/home/jliao/workspace/GitHub/ml_ringcurrent_ion/prepare_fulldata.py:299: PerformanceWarning: DataFrame is highly fragmented.  This is usually the result of calling `frame.insert` many times, which has poor performance.  Consider joining all columns at once using pd.concat(axis=1) instead. To get a de-fragmented frame, use `newframe = frame.copy()`\n",
      "  df_features_history[feature_history_names] = idf_feature_history\n",
      "/home/jliao/workspace/GitHub/ml_ringcurrent_ion/prepare_fulldata.py:299: PerformanceWarning: DataFrame is highly fragmented.  This is usually the result of calling `frame.insert` many times, which has poor performance.  Consider joining all columns at once using pd.concat(axis=1) instead. To get a de-fragmented frame, use `newframe = frame.copy()`\n",
      "  df_features_history[feature_history_names] = idf_feature_history\n",
      "/home/jliao/workspace/GitHub/ml_ringcurrent_ion/prepare_fulldata.py:299: PerformanceWarning: DataFrame is highly fragmented.  This is usually the result of calling `frame.insert` many times, which has poor performance.  Consider joining all columns at once using pd.concat(axis=1) instead. To get a de-fragmented frame, use `newframe = frame.copy()`\n",
      "  df_features_history[feature_history_names] = idf_feature_history\n",
      "/home/jliao/workspace/GitHub/ml_ringcurrent_ion/prepare_fulldata.py:299: PerformanceWarning: DataFrame is highly fragmented.  This is usually the result of calling `frame.insert` many times, which has poor performance.  Consider joining all columns at once using pd.concat(axis=1) instead. To get a de-fragmented frame, use `newframe = frame.copy()`\n",
      "  df_features_history[feature_history_names] = idf_feature_history\n",
      "/home/jliao/workspace/GitHub/ml_ringcurrent_ion/prepare_fulldata.py:299: PerformanceWarning: DataFrame is highly fragmented.  This is usually the result of calling `frame.insert` many times, which has poor performance.  Consider joining all columns at once using pd.concat(axis=1) instead. To get a de-fragmented frame, use `newframe = frame.copy()`\n",
      "  df_features_history[feature_history_names] = idf_feature_history\n",
      "/home/jliao/workspace/GitHub/ml_ringcurrent_ion/prepare_fulldata.py:299: PerformanceWarning: DataFrame is highly fragmented.  This is usually the result of calling `frame.insert` many times, which has poor performance.  Consider joining all columns at once using pd.concat(axis=1) instead. To get a de-fragmented frame, use `newframe = frame.copy()`\n",
      "  df_features_history[feature_history_names] = idf_feature_history\n",
      "/home/jliao/workspace/GitHub/ml_ringcurrent_ion/prepare_fulldata.py:299: PerformanceWarning: DataFrame is highly fragmented.  This is usually the result of calling `frame.insert` many times, which has poor performance.  Consider joining all columns at once using pd.concat(axis=1) instead. To get a de-fragmented frame, use `newframe = frame.copy()`\n",
      "  df_features_history[feature_history_names] = idf_feature_history\n",
      "/home/jliao/workspace/GitHub/ml_ringcurrent_ion/prepare_fulldata.py:299: PerformanceWarning: DataFrame is highly fragmented.  This is usually the result of calling `frame.insert` many times, which has poor performance.  Consider joining all columns at once using pd.concat(axis=1) instead. To get a de-fragmented frame, use `newframe = frame.copy()`\n",
      "  df_features_history[feature_history_names] = idf_feature_history\n",
      "/home/jliao/workspace/GitHub/ml_ringcurrent_ion/prepare_fulldata.py:299: PerformanceWarning: DataFrame is highly fragmented.  This is usually the result of calling `frame.insert` many times, which has poor performance.  Consider joining all columns at once using pd.concat(axis=1) instead. To get a de-fragmented frame, use `newframe = frame.copy()`\n",
      "  df_features_history[feature_history_names] = idf_feature_history\n",
      "/home/jliao/workspace/GitHub/ml_ringcurrent_ion/prepare_fulldata.py:299: PerformanceWarning: DataFrame is highly fragmented.  This is usually the result of calling `frame.insert` many times, which has poor performance.  Consider joining all columns at once using pd.concat(axis=1) instead. To get a de-fragmented frame, use `newframe = frame.copy()`\n",
      "  df_features_history[feature_history_names] = idf_feature_history\n",
      "/home/jliao/workspace/GitHub/ml_ringcurrent_ion/prepare_fulldata.py:299: PerformanceWarning: DataFrame is highly fragmented.  This is usually the result of calling `frame.insert` many times, which has poor performance.  Consider joining all columns at once using pd.concat(axis=1) instead. To get a de-fragmented frame, use `newframe = frame.copy()`\n",
      "  df_features_history[feature_history_names] = idf_feature_history\n",
      "/home/jliao/workspace/GitHub/ml_ringcurrent_ion/prepare_fulldata.py:299: PerformanceWarning: DataFrame is highly fragmented.  This is usually the result of calling `frame.insert` many times, which has poor performance.  Consider joining all columns at once using pd.concat(axis=1) instead. To get a de-fragmented frame, use `newframe = frame.copy()`\n",
      "  df_features_history[feature_history_names] = idf_feature_history\n",
      "/home/jliao/workspace/GitHub/ml_ringcurrent_ion/prepare_fulldata.py:299: PerformanceWarning: DataFrame is highly fragmented.  This is usually the result of calling `frame.insert` many times, which has poor performance.  Consider joining all columns at once using pd.concat(axis=1) instead. To get a de-fragmented frame, use `newframe = frame.copy()`\n",
      "  df_features_history[feature_history_names] = idf_feature_history\n",
      "/home/jliao/workspace/GitHub/ml_ringcurrent_ion/prepare_fulldata.py:299: PerformanceWarning: DataFrame is highly fragmented.  This is usually the result of calling `frame.insert` many times, which has poor performance.  Consider joining all columns at once using pd.concat(axis=1) instead. To get a de-fragmented frame, use `newframe = frame.copy()`\n",
      "  df_features_history[feature_history_names] = idf_feature_history\n",
      "/home/jliao/workspace/GitHub/ml_ringcurrent_ion/prepare_fulldata.py:299: PerformanceWarning: DataFrame is highly fragmented.  This is usually the result of calling `frame.insert` many times, which has poor performance.  Consider joining all columns at once using pd.concat(axis=1) instead. To get a de-fragmented frame, use `newframe = frame.copy()`\n",
      "  df_features_history[feature_history_names] = idf_feature_history\n",
      "/home/jliao/workspace/GitHub/ml_ringcurrent_ion/prepare_fulldata.py:299: PerformanceWarning: DataFrame is highly fragmented.  This is usually the result of calling `frame.insert` many times, which has poor performance.  Consider joining all columns at once using pd.concat(axis=1) instead. To get a de-fragmented frame, use `newframe = frame.copy()`\n",
      "  df_features_history[feature_history_names] = idf_feature_history\n",
      "/home/jliao/workspace/GitHub/ml_ringcurrent_ion/prepare_fulldata.py:299: PerformanceWarning: DataFrame is highly fragmented.  This is usually the result of calling `frame.insert` many times, which has poor performance.  Consider joining all columns at once using pd.concat(axis=1) instead. To get a de-fragmented frame, use `newframe = frame.copy()`\n",
      "  df_features_history[feature_history_names] = idf_feature_history\n",
      "/home/jliao/workspace/GitHub/ml_ringcurrent_ion/prepare_fulldata.py:299: PerformanceWarning: DataFrame is highly fragmented.  This is usually the result of calling `frame.insert` many times, which has poor performance.  Consider joining all columns at once using pd.concat(axis=1) instead. To get a de-fragmented frame, use `newframe = frame.copy()`\n",
      "  df_features_history[feature_history_names] = idf_feature_history\n",
      "/home/jliao/workspace/GitHub/ml_ringcurrent_ion/prepare_fulldata.py:299: PerformanceWarning: DataFrame is highly fragmented.  This is usually the result of calling `frame.insert` many times, which has poor performance.  Consider joining all columns at once using pd.concat(axis=1) instead. To get a de-fragmented frame, use `newframe = frame.copy()`\n",
      "  df_features_history[feature_history_names] = idf_feature_history\n",
      "/home/jliao/workspace/GitHub/ml_ringcurrent_ion/prepare_fulldata.py:299: PerformanceWarning: DataFrame is highly fragmented.  This is usually the result of calling `frame.insert` many times, which has poor performance.  Consider joining all columns at once using pd.concat(axis=1) instead. To get a de-fragmented frame, use `newframe = frame.copy()`\n",
      "  df_features_history[feature_history_names] = idf_feature_history\n",
      "/home/jliao/workspace/GitHub/ml_ringcurrent_ion/prepare_fulldata.py:299: PerformanceWarning: DataFrame is highly fragmented.  This is usually the result of calling `frame.insert` many times, which has poor performance.  Consider joining all columns at once using pd.concat(axis=1) instead. To get a de-fragmented frame, use `newframe = frame.copy()`\n",
      "  df_features_history[feature_history_names] = idf_feature_history\n",
      "/home/jliao/workspace/GitHub/ml_ringcurrent_ion/prepare_fulldata.py:299: PerformanceWarning: DataFrame is highly fragmented.  This is usually the result of calling `frame.insert` many times, which has poor performance.  Consider joining all columns at once using pd.concat(axis=1) instead. To get a de-fragmented frame, use `newframe = frame.copy()`\n",
      "  df_features_history[feature_history_names] = idf_feature_history\n",
      "/home/jliao/workspace/GitHub/ml_ringcurrent_ion/prepare_fulldata.py:299: PerformanceWarning: DataFrame is highly fragmented.  This is usually the result of calling `frame.insert` many times, which has poor performance.  Consider joining all columns at once using pd.concat(axis=1) instead. To get a de-fragmented frame, use `newframe = frame.copy()`\n",
      "  df_features_history[feature_history_names] = idf_feature_history\n",
      "/home/jliao/workspace/GitHub/ml_ringcurrent_ion/prepare_fulldata.py:299: PerformanceWarning: DataFrame is highly fragmented.  This is usually the result of calling `frame.insert` many times, which has poor performance.  Consider joining all columns at once using pd.concat(axis=1) instead. To get a de-fragmented frame, use `newframe = frame.copy()`\n",
      "  df_features_history[feature_history_names] = idf_feature_history\n",
      "/home/jliao/workspace/GitHub/ml_ringcurrent_ion/prepare_fulldata.py:299: PerformanceWarning: DataFrame is highly fragmented.  This is usually the result of calling `frame.insert` many times, which has poor performance.  Consider joining all columns at once using pd.concat(axis=1) instead. To get a de-fragmented frame, use `newframe = frame.copy()`\n",
      "  df_features_history[feature_history_names] = idf_feature_history\n",
      "/home/jliao/workspace/GitHub/ml_ringcurrent_ion/prepare_fulldata.py:299: PerformanceWarning: DataFrame is highly fragmented.  This is usually the result of calling `frame.insert` many times, which has poor performance.  Consider joining all columns at once using pd.concat(axis=1) instead. To get a de-fragmented frame, use `newframe = frame.copy()`\n",
      "  df_features_history[feature_history_names] = idf_feature_history\n",
      "/home/jliao/workspace/GitHub/ml_ringcurrent_ion/prepare_fulldata.py:299: PerformanceWarning: DataFrame is highly fragmented.  This is usually the result of calling `frame.insert` many times, which has poor performance.  Consider joining all columns at once using pd.concat(axis=1) instead. To get a de-fragmented frame, use `newframe = frame.copy()`\n",
      "  df_features_history[feature_history_names] = idf_feature_history\n",
      "/home/jliao/workspace/GitHub/ml_ringcurrent_ion/prepare_fulldata.py:299: PerformanceWarning: DataFrame is highly fragmented.  This is usually the result of calling `frame.insert` many times, which has poor performance.  Consider joining all columns at once using pd.concat(axis=1) instead. To get a de-fragmented frame, use `newframe = frame.copy()`\n",
      "  df_features_history[feature_history_names] = idf_feature_history\n",
      "/home/jliao/workspace/GitHub/ml_ringcurrent_ion/prepare_fulldata.py:299: PerformanceWarning: DataFrame is highly fragmented.  This is usually the result of calling `frame.insert` many times, which has poor performance.  Consider joining all columns at once using pd.concat(axis=1) instead. To get a de-fragmented frame, use `newframe = frame.copy()`\n",
      "  df_features_history[feature_history_names] = idf_feature_history\n",
      "/home/jliao/workspace/GitHub/ml_ringcurrent_ion/prepare_fulldata.py:299: PerformanceWarning: DataFrame is highly fragmented.  This is usually the result of calling `frame.insert` many times, which has poor performance.  Consider joining all columns at once using pd.concat(axis=1) instead. To get a de-fragmented frame, use `newframe = frame.copy()`\n",
      "  df_features_history[feature_history_names] = idf_feature_history\n",
      "/home/jliao/workspace/GitHub/ml_ringcurrent_ion/prepare_fulldata.py:299: PerformanceWarning: DataFrame is highly fragmented.  This is usually the result of calling `frame.insert` many times, which has poor performance.  Consider joining all columns at once using pd.concat(axis=1) instead. To get a de-fragmented frame, use `newframe = frame.copy()`\n",
      "  df_features_history[feature_history_names] = idf_feature_history\n",
      "/home/jliao/workspace/GitHub/ml_ringcurrent_ion/prepare_fulldata.py:299: PerformanceWarning: DataFrame is highly fragmented.  This is usually the result of calling `frame.insert` many times, which has poor performance.  Consider joining all columns at once using pd.concat(axis=1) instead. To get a de-fragmented frame, use `newframe = frame.copy()`\n",
      "  df_features_history[feature_history_names] = idf_feature_history\n",
      "/home/jliao/workspace/GitHub/ml_ringcurrent_ion/prepare_fulldata.py:299: PerformanceWarning: DataFrame is highly fragmented.  This is usually the result of calling `frame.insert` many times, which has poor performance.  Consider joining all columns at once using pd.concat(axis=1) instead. To get a de-fragmented frame, use `newframe = frame.copy()`\n",
      "  df_features_history[feature_history_names] = idf_feature_history\n",
      "/home/jliao/workspace/GitHub/ml_ringcurrent_ion/prepare_fulldata.py:299: PerformanceWarning: DataFrame is highly fragmented.  This is usually the result of calling `frame.insert` many times, which has poor performance.  Consider joining all columns at once using pd.concat(axis=1) instead. To get a de-fragmented frame, use `newframe = frame.copy()`\n",
      "  df_features_history[feature_history_names] = idf_feature_history\n",
      "/home/jliao/workspace/GitHub/ml_ringcurrent_ion/prepare_fulldata.py:299: PerformanceWarning: DataFrame is highly fragmented.  This is usually the result of calling `frame.insert` many times, which has poor performance.  Consider joining all columns at once using pd.concat(axis=1) instead. To get a de-fragmented frame, use `newframe = frame.copy()`\n",
      "  df_features_history[feature_history_names] = idf_feature_history\n",
      "/home/jliao/workspace/GitHub/ml_ringcurrent_ion/prepare_fulldata.py:299: PerformanceWarning: DataFrame is highly fragmented.  This is usually the result of calling `frame.insert` many times, which has poor performance.  Consider joining all columns at once using pd.concat(axis=1) instead. To get a de-fragmented frame, use `newframe = frame.copy()`\n",
      "  df_features_history[feature_history_names] = idf_feature_history\n",
      "/home/jliao/workspace/GitHub/ml_ringcurrent_ion/prepare_fulldata.py:299: PerformanceWarning: DataFrame is highly fragmented.  This is usually the result of calling `frame.insert` many times, which has poor performance.  Consider joining all columns at once using pd.concat(axis=1) instead. To get a de-fragmented frame, use `newframe = frame.copy()`\n",
      "  df_features_history[feature_history_names] = idf_feature_history\n",
      "/home/jliao/workspace/GitHub/ml_ringcurrent_ion/prepare_fulldata.py:299: PerformanceWarning: DataFrame is highly fragmented.  This is usually the result of calling `frame.insert` many times, which has poor performance.  Consider joining all columns at once using pd.concat(axis=1) instead. To get a de-fragmented frame, use `newframe = frame.copy()`\n",
      "  df_features_history[feature_history_names] = idf_feature_history\n",
      "/home/jliao/workspace/GitHub/ml_ringcurrent_ion/prepare_fulldata.py:299: PerformanceWarning: DataFrame is highly fragmented.  This is usually the result of calling `frame.insert` many times, which has poor performance.  Consider joining all columns at once using pd.concat(axis=1) instead. To get a de-fragmented frame, use `newframe = frame.copy()`\n",
      "  df_features_history[feature_history_names] = idf_feature_history\n",
      "/home/jliao/workspace/GitHub/ml_ringcurrent_ion/prepare_fulldata.py:299: PerformanceWarning: DataFrame is highly fragmented.  This is usually the result of calling `frame.insert` many times, which has poor performance.  Consider joining all columns at once using pd.concat(axis=1) instead. To get a de-fragmented frame, use `newframe = frame.copy()`\n",
      "  df_features_history[feature_history_names] = idf_feature_history\n",
      "/home/jliao/workspace/GitHub/ml_ringcurrent_ion/prepare_fulldata.py:299: PerformanceWarning: DataFrame is highly fragmented.  This is usually the result of calling `frame.insert` many times, which has poor performance.  Consider joining all columns at once using pd.concat(axis=1) instead. To get a de-fragmented frame, use `newframe = frame.copy()`\n",
      "  df_features_history[feature_history_names] = idf_feature_history\n",
      "/home/jliao/workspace/GitHub/ml_ringcurrent_ion/prepare_fulldata.py:299: PerformanceWarning: DataFrame is highly fragmented.  This is usually the result of calling `frame.insert` many times, which has poor performance.  Consider joining all columns at once using pd.concat(axis=1) instead. To get a de-fragmented frame, use `newframe = frame.copy()`\n",
      "  df_features_history[feature_history_names] = idf_feature_history\n",
      "/home/jliao/workspace/GitHub/ml_ringcurrent_ion/prepare_fulldata.py:299: PerformanceWarning: DataFrame is highly fragmented.  This is usually the result of calling `frame.insert` many times, which has poor performance.  Consider joining all columns at once using pd.concat(axis=1) instead. To get a de-fragmented frame, use `newframe = frame.copy()`\n",
      "  df_features_history[feature_history_names] = idf_feature_history\n",
      "/home/jliao/workspace/GitHub/ml_ringcurrent_ion/prepare_fulldata.py:299: PerformanceWarning: DataFrame is highly fragmented.  This is usually the result of calling `frame.insert` many times, which has poor performance.  Consider joining all columns at once using pd.concat(axis=1) instead. To get a de-fragmented frame, use `newframe = frame.copy()`\n",
      "  df_features_history[feature_history_names] = idf_feature_history\n",
      "/home/jliao/workspace/GitHub/ml_ringcurrent_ion/prepare_fulldata.py:299: PerformanceWarning: DataFrame is highly fragmented.  This is usually the result of calling `frame.insert` many times, which has poor performance.  Consider joining all columns at once using pd.concat(axis=1) instead. To get a de-fragmented frame, use `newframe = frame.copy()`\n",
      "  df_features_history[feature_history_names] = idf_feature_history\n",
      "/home/jliao/workspace/GitHub/ml_ringcurrent_ion/prepare_fulldata.py:299: PerformanceWarning: DataFrame is highly fragmented.  This is usually the result of calling `frame.insert` many times, which has poor performance.  Consider joining all columns at once using pd.concat(axis=1) instead. To get a de-fragmented frame, use `newframe = frame.copy()`\n",
      "  df_features_history[feature_history_names] = idf_feature_history\n",
      "/home/jliao/workspace/GitHub/ml_ringcurrent_ion/prepare_fulldata.py:299: PerformanceWarning: DataFrame is highly fragmented.  This is usually the result of calling `frame.insert` many times, which has poor performance.  Consider joining all columns at once using pd.concat(axis=1) instead. To get a de-fragmented frame, use `newframe = frame.copy()`\n",
      "  df_features_history[feature_history_names] = idf_feature_history\n",
      "/home/jliao/workspace/GitHub/ml_ringcurrent_ion/prepare_fulldata.py:299: PerformanceWarning: DataFrame is highly fragmented.  This is usually the result of calling `frame.insert` many times, which has poor performance.  Consider joining all columns at once using pd.concat(axis=1) instead. To get a de-fragmented frame, use `newframe = frame.copy()`\n",
      "  df_features_history[feature_history_names] = idf_feature_history\n",
      "/home/jliao/workspace/GitHub/ml_ringcurrent_ion/prepare_fulldata.py:299: PerformanceWarning: DataFrame is highly fragmented.  This is usually the result of calling `frame.insert` many times, which has poor performance.  Consider joining all columns at once using pd.concat(axis=1) instead. To get a de-fragmented frame, use `newframe = frame.copy()`\n",
      "  df_features_history[feature_history_names] = idf_feature_history\n",
      "/home/jliao/workspace/GitHub/ml_ringcurrent_ion/prepare_fulldata.py:299: PerformanceWarning: DataFrame is highly fragmented.  This is usually the result of calling `frame.insert` many times, which has poor performance.  Consider joining all columns at once using pd.concat(axis=1) instead. To get a de-fragmented frame, use `newframe = frame.copy()`\n",
      "  df_features_history[feature_history_names] = idf_feature_history\n",
      "/home/jliao/workspace/GitHub/ml_ringcurrent_ion/prepare_fulldata.py:299: PerformanceWarning: DataFrame is highly fragmented.  This is usually the result of calling `frame.insert` many times, which has poor performance.  Consider joining all columns at once using pd.concat(axis=1) instead. To get a de-fragmented frame, use `newframe = frame.copy()`\n",
      "  df_features_history[feature_history_names] = idf_feature_history\n",
      "/home/jliao/workspace/GitHub/ml_ringcurrent_ion/prepare_fulldata.py:299: PerformanceWarning: DataFrame is highly fragmented.  This is usually the result of calling `frame.insert` many times, which has poor performance.  Consider joining all columns at once using pd.concat(axis=1) instead. To get a de-fragmented frame, use `newframe = frame.copy()`\n",
      "  df_features_history[feature_history_names] = idf_feature_history\n",
      "/home/jliao/workspace/GitHub/ml_ringcurrent_ion/prepare_fulldata.py:299: PerformanceWarning: DataFrame is highly fragmented.  This is usually the result of calling `frame.insert` many times, which has poor performance.  Consider joining all columns at once using pd.concat(axis=1) instead. To get a de-fragmented frame, use `newframe = frame.copy()`\n",
      "  df_features_history[feature_history_names] = idf_feature_history\n",
      "/home/jliao/workspace/GitHub/ml_ringcurrent_ion/prepare_fulldata.py:299: PerformanceWarning: DataFrame is highly fragmented.  This is usually the result of calling `frame.insert` many times, which has poor performance.  Consider joining all columns at once using pd.concat(axis=1) instead. To get a de-fragmented frame, use `newframe = frame.copy()`\n",
      "  df_features_history[feature_history_names] = idf_feature_history\n",
      "/home/jliao/workspace/GitHub/ml_ringcurrent_ion/prepare_fulldata.py:299: PerformanceWarning: DataFrame is highly fragmented.  This is usually the result of calling `frame.insert` many times, which has poor performance.  Consider joining all columns at once using pd.concat(axis=1) instead. To get a de-fragmented frame, use `newframe = frame.copy()`\n",
      "  df_features_history[feature_history_names] = idf_feature_history\n",
      "/home/jliao/workspace/GitHub/ml_ringcurrent_ion/prepare_fulldata.py:299: PerformanceWarning: DataFrame is highly fragmented.  This is usually the result of calling `frame.insert` many times, which has poor performance.  Consider joining all columns at once using pd.concat(axis=1) instead. To get a de-fragmented frame, use `newframe = frame.copy()`\n",
      "  df_features_history[feature_history_names] = idf_feature_history\n",
      "/home/jliao/workspace/GitHub/ml_ringcurrent_ion/prepare_fulldata.py:299: PerformanceWarning: DataFrame is highly fragmented.  This is usually the result of calling `frame.insert` many times, which has poor performance.  Consider joining all columns at once using pd.concat(axis=1) instead. To get a de-fragmented frame, use `newframe = frame.copy()`\n",
      "  df_features_history[feature_history_names] = idf_feature_history\n",
      "/home/jliao/workspace/GitHub/ml_ringcurrent_ion/prepare_fulldata.py:299: PerformanceWarning: DataFrame is highly fragmented.  This is usually the result of calling `frame.insert` many times, which has poor performance.  Consider joining all columns at once using pd.concat(axis=1) instead. To get a de-fragmented frame, use `newframe = frame.copy()`\n",
      "  df_features_history[feature_history_names] = idf_feature_history\n"
     ]
    },
    {
     "name": "stdout",
     "output_type": "stream",
     "text": [
      "start f10.7\n",
      "Calculate the feature history of f10.7\n",
      "start plot f10.7\n",
      "start plot scaled_f10.7\n"
     ]
    },
    {
     "name": "stderr",
     "output_type": "stream",
     "text": [
      "/home/jliao/workspace/GitHub/ml_ringcurrent_ion/prepare_fulldata.py:182: SettingWithCopyWarning: \n",
      "A value is trying to be set on a copy of a slice from a DataFrame.\n",
      "Try using .loc[row_indexer,col_indexer] = value instead\n",
      "\n",
      "See the caveats in the documentation: https://pandas.pydata.org/pandas-docs/stable/user_guide/indexing.html#returning-a-view-versus-a-copy\n",
      "  df_feature[scaled_feature_name], fulldata_settings = scale_var(df_feature, raw_feature_name, fulldata_settings)\n",
      "/home/jliao/workspace/GitHub/ml_ringcurrent_ion/plot_functions.py:47: UserWarning: The figure layout has changed to tight\n",
      "  plt.tight_layout()\n"
     ]
    },
    {
     "ename": "KeyboardInterrupt",
     "evalue": "",
     "output_type": "error",
     "traceback": [
      "\u001b[0;31m---------------------------------------------------------------------------\u001b[0m",
      "\u001b[0;31mKeyboardInterrupt\u001b[0m                         Traceback (most recent call last)",
      "Cell \u001b[0;32mIn[3], line 18\u001b[0m\n\u001b[1;32m      7\u001b[0m \u001b[38;5;66;03m# directories, dataset_csv, fulldata_settings = initialize_var.initialize_fulldata_var(raw_feature_names = raw_feature_names\u001b[39;00m\n\u001b[1;32m      8\u001b[0m \u001b[38;5;66;03m#                                                                                  , number_history=number_history)\u001b[39;00m\n\u001b[1;32m      9\u001b[0m \n\u001b[0;32m   (...)\u001b[0m\n\u001b[1;32m     15\u001b[0m \u001b[38;5;66;03m# df_y, df_full, fulldata_settings = prepare_fulldata.load_y(directories, dataset_csv, fulldata_settings\u001b[39;00m\n\u001b[1;32m     16\u001b[0m \u001b[38;5;66;03m# , recalc = True, save_data = True, plot_data = True )\u001b[39;00m\n\u001b[1;32m     17\u001b[0m raw_feature_names \u001b[38;5;241m=\u001b[39m [\u001b[38;5;124m'\u001b[39m\u001b[38;5;124mae\u001b[39m\u001b[38;5;124m'\u001b[39m,\u001b[38;5;124m'\u001b[39m\u001b[38;5;124mf10.7\u001b[39m\u001b[38;5;124m'\u001b[39m,\u001b[38;5;124m'\u001b[39m\u001b[38;5;124mkp\u001b[39m\u001b[38;5;124m'\u001b[39m] \u001b[38;5;66;03m#,'swp','swn','swv','by','bz']\u001b[39;00m\n\u001b[0;32m---> 18\u001b[0m df_feature, df_full, fulldata_settings \u001b[38;5;241m=\u001b[39m prepare_fulldata\u001b[38;5;241m.\u001b[39mload_features(directories, dataset_csv, fulldata_settings\n\u001b[1;32m     19\u001b[0m                                                               , recalc \u001b[38;5;241m=\u001b[39m \u001b[38;5;28;01mTrue\u001b[39;00m, df_full \u001b[38;5;241m=\u001b[39m df_full, save_data \u001b[38;5;241m=\u001b[39m \u001b[38;5;28;01mTrue\u001b[39;00m, plot_data \u001b[38;5;241m=\u001b[39m \u001b[38;5;28;01mTrue\u001b[39;00m\n\u001b[1;32m     20\u001b[0m                                                               , raw_feature_names \u001b[38;5;241m=\u001b[39m raw_feature_names)\n",
      "File \u001b[0;32m~/workspace/GitHub/ml_ringcurrent_ion/prepare_fulldata.py:297\u001b[0m, in \u001b[0;36mload_features\u001b[0;34m(directories, fulldataset_csv, fulldata_settings, recalc, df_full, save_data, plot_data, raw_feature_names)\u001b[0m\n\u001b[1;32m    293\u001b[0m     idf_feature \u001b[38;5;241m=\u001b[39m df_full[[fulldata_settings[\u001b[38;5;124m\"\u001b[39m\u001b[38;5;124mdatetime_name\u001b[39m\u001b[38;5;124m\"\u001b[39m], raw_feature_name]]\n\u001b[1;32m    295\u001b[0m     idf_feature, fulldata_settings \u001b[38;5;241m=\u001b[39m scale_feature(idf_feature, raw_feature_name, fulldata_settings, feature_history_filename, plot_data \u001b[38;5;241m=\u001b[39m plot_data)\n\u001b[0;32m--> 297\u001b[0m     idf_feature_history, fulldata_settings \u001b[38;5;241m=\u001b[39m create_feature_history(idf_feature, fulldata_settings,raw_feature_name, \u001b[38;5;124m\"\u001b[39m\u001b[38;5;124mscaled_\u001b[39m\u001b[38;5;124m\"\u001b[39m\u001b[38;5;241m+\u001b[39mraw_feature_name, feature_history_filename, fulldata_settings[\u001b[38;5;124m\"\u001b[39m\u001b[38;5;124mdatetime_name\u001b[39m\u001b[38;5;124m\"\u001b[39m], save_data \u001b[38;5;241m=\u001b[39m save_data)\n\u001b[1;32m    299\u001b[0m df_features_history[feature_history_names] \u001b[38;5;241m=\u001b[39m idf_feature_history\n\u001b[1;32m    300\u001b[0m fulldata_settings[\u001b[38;5;124m\"\u001b[39m\u001b[38;5;124mfeature_history_names\u001b[39m\u001b[38;5;124m\"\u001b[39m] \u001b[38;5;241m=\u001b[39m fulldata_settings[\u001b[38;5;124m\"\u001b[39m\u001b[38;5;124mfeature_history_names\u001b[39m\u001b[38;5;124m\"\u001b[39m] \u001b[38;5;241m+\u001b[39m feature_history_names\n",
      "File \u001b[0;32m~/workspace/GitHub/ml_ringcurrent_ion/prepare_fulldata.py:271\u001b[0m, in \u001b[0;36mcreate_feature_history\u001b[0;34m(df_feature, fulldata_settings, raw_feature_name, scaled_feature_name, feature_history_filename, datetime_name, save_data)\u001b[0m\n\u001b[1;32m    268\u001b[0m df_history \u001b[38;5;241m=\u001b[39m pd\u001b[38;5;241m.\u001b[39mconcat([df_feature[datetime_name], pd\u001b[38;5;241m.\u001b[39mDataFrame(arr_history, columns\u001b[38;5;241m=\u001b[39mfeature_history_names)],axis\u001b[38;5;241m=\u001b[39m\u001b[38;5;241m1\u001b[39m)\n\u001b[1;32m    270\u001b[0m \u001b[38;5;28;01mif\u001b[39;00m save_data:\n\u001b[0;32m--> 271\u001b[0m     df_history\u001b[38;5;241m.\u001b[39mto_csv(feature_history_filename\u001b[38;5;241m+\u001b[39m \u001b[38;5;124m\"\u001b[39m\u001b[38;5;124m.csv\u001b[39m\u001b[38;5;124m\"\u001b[39m, index\u001b[38;5;241m=\u001b[39m\u001b[38;5;28;01mFalse\u001b[39;00m)\n\u001b[1;32m    272\u001b[0m     \u001b[38;5;28mprint\u001b[39m(\u001b[38;5;124m\"\u001b[39m\u001b[38;5;124mWriting csv data completed for \u001b[39m\u001b[38;5;124m\"\u001b[39m \u001b[38;5;241m+\u001b[39m feature_history_filename)\n\u001b[1;32m    273\u001b[0m fulldata_settings[\u001b[38;5;124m\"\u001b[39m\u001b[38;5;124mfeature_history_names\u001b[39m\u001b[38;5;124m\"\u001b[39m] \u001b[38;5;241m=\u001b[39m feature_history_names\n",
      "File \u001b[0;32m~/anaconda3/envs/notebook/lib/python3.11/site-packages/pandas/util/_decorators.py:333\u001b[0m, in \u001b[0;36mdeprecate_nonkeyword_arguments.<locals>.decorate.<locals>.wrapper\u001b[0;34m(*args, **kwargs)\u001b[0m\n\u001b[1;32m    327\u001b[0m \u001b[38;5;28;01mif\u001b[39;00m \u001b[38;5;28mlen\u001b[39m(args) \u001b[38;5;241m>\u001b[39m num_allow_args:\n\u001b[1;32m    328\u001b[0m     warnings\u001b[38;5;241m.\u001b[39mwarn(\n\u001b[1;32m    329\u001b[0m         msg\u001b[38;5;241m.\u001b[39mformat(arguments\u001b[38;5;241m=\u001b[39m_format_argument_list(allow_args)),\n\u001b[1;32m    330\u001b[0m         \u001b[38;5;167;01mFutureWarning\u001b[39;00m,\n\u001b[1;32m    331\u001b[0m         stacklevel\u001b[38;5;241m=\u001b[39mfind_stack_level(),\n\u001b[1;32m    332\u001b[0m     )\n\u001b[0;32m--> 333\u001b[0m \u001b[38;5;28;01mreturn\u001b[39;00m func(\u001b[38;5;241m*\u001b[39margs, \u001b[38;5;241m*\u001b[39m\u001b[38;5;241m*\u001b[39mkwargs)\n",
      "File \u001b[0;32m~/anaconda3/envs/notebook/lib/python3.11/site-packages/pandas/core/generic.py:3967\u001b[0m, in \u001b[0;36mNDFrame.to_csv\u001b[0;34m(self, path_or_buf, sep, na_rep, float_format, columns, header, index, index_label, mode, encoding, compression, quoting, quotechar, lineterminator, chunksize, date_format, doublequote, escapechar, decimal, errors, storage_options)\u001b[0m\n\u001b[1;32m   3956\u001b[0m df \u001b[38;5;241m=\u001b[39m \u001b[38;5;28mself\u001b[39m \u001b[38;5;28;01mif\u001b[39;00m \u001b[38;5;28misinstance\u001b[39m(\u001b[38;5;28mself\u001b[39m, ABCDataFrame) \u001b[38;5;28;01melse\u001b[39;00m \u001b[38;5;28mself\u001b[39m\u001b[38;5;241m.\u001b[39mto_frame()\n\u001b[1;32m   3958\u001b[0m formatter \u001b[38;5;241m=\u001b[39m DataFrameFormatter(\n\u001b[1;32m   3959\u001b[0m     frame\u001b[38;5;241m=\u001b[39mdf,\n\u001b[1;32m   3960\u001b[0m     header\u001b[38;5;241m=\u001b[39mheader,\n\u001b[0;32m   (...)\u001b[0m\n\u001b[1;32m   3964\u001b[0m     decimal\u001b[38;5;241m=\u001b[39mdecimal,\n\u001b[1;32m   3965\u001b[0m )\n\u001b[0;32m-> 3967\u001b[0m \u001b[38;5;28;01mreturn\u001b[39;00m DataFrameRenderer(formatter)\u001b[38;5;241m.\u001b[39mto_csv(\n\u001b[1;32m   3968\u001b[0m     path_or_buf,\n\u001b[1;32m   3969\u001b[0m     lineterminator\u001b[38;5;241m=\u001b[39mlineterminator,\n\u001b[1;32m   3970\u001b[0m     sep\u001b[38;5;241m=\u001b[39msep,\n\u001b[1;32m   3971\u001b[0m     encoding\u001b[38;5;241m=\u001b[39mencoding,\n\u001b[1;32m   3972\u001b[0m     errors\u001b[38;5;241m=\u001b[39merrors,\n\u001b[1;32m   3973\u001b[0m     compression\u001b[38;5;241m=\u001b[39mcompression,\n\u001b[1;32m   3974\u001b[0m     quoting\u001b[38;5;241m=\u001b[39mquoting,\n\u001b[1;32m   3975\u001b[0m     columns\u001b[38;5;241m=\u001b[39mcolumns,\n\u001b[1;32m   3976\u001b[0m     index_label\u001b[38;5;241m=\u001b[39mindex_label,\n\u001b[1;32m   3977\u001b[0m     mode\u001b[38;5;241m=\u001b[39mmode,\n\u001b[1;32m   3978\u001b[0m     chunksize\u001b[38;5;241m=\u001b[39mchunksize,\n\u001b[1;32m   3979\u001b[0m     quotechar\u001b[38;5;241m=\u001b[39mquotechar,\n\u001b[1;32m   3980\u001b[0m     date_format\u001b[38;5;241m=\u001b[39mdate_format,\n\u001b[1;32m   3981\u001b[0m     doublequote\u001b[38;5;241m=\u001b[39mdoublequote,\n\u001b[1;32m   3982\u001b[0m     escapechar\u001b[38;5;241m=\u001b[39mescapechar,\n\u001b[1;32m   3983\u001b[0m     storage_options\u001b[38;5;241m=\u001b[39mstorage_options,\n\u001b[1;32m   3984\u001b[0m )\n",
      "File \u001b[0;32m~/anaconda3/envs/notebook/lib/python3.11/site-packages/pandas/io/formats/format.py:1014\u001b[0m, in \u001b[0;36mDataFrameRenderer.to_csv\u001b[0;34m(self, path_or_buf, encoding, sep, columns, index_label, mode, compression, quoting, quotechar, lineterminator, chunksize, date_format, doublequote, escapechar, errors, storage_options)\u001b[0m\n\u001b[1;32m    993\u001b[0m     created_buffer \u001b[38;5;241m=\u001b[39m \u001b[38;5;28;01mFalse\u001b[39;00m\n\u001b[1;32m    995\u001b[0m csv_formatter \u001b[38;5;241m=\u001b[39m CSVFormatter(\n\u001b[1;32m    996\u001b[0m     path_or_buf\u001b[38;5;241m=\u001b[39mpath_or_buf,\n\u001b[1;32m    997\u001b[0m     lineterminator\u001b[38;5;241m=\u001b[39mlineterminator,\n\u001b[0;32m   (...)\u001b[0m\n\u001b[1;32m   1012\u001b[0m     formatter\u001b[38;5;241m=\u001b[39m\u001b[38;5;28mself\u001b[39m\u001b[38;5;241m.\u001b[39mfmt,\n\u001b[1;32m   1013\u001b[0m )\n\u001b[0;32m-> 1014\u001b[0m csv_formatter\u001b[38;5;241m.\u001b[39msave()\n\u001b[1;32m   1016\u001b[0m \u001b[38;5;28;01mif\u001b[39;00m created_buffer:\n\u001b[1;32m   1017\u001b[0m     \u001b[38;5;28;01massert\u001b[39;00m \u001b[38;5;28misinstance\u001b[39m(path_or_buf, StringIO)\n",
      "File \u001b[0;32m~/anaconda3/envs/notebook/lib/python3.11/site-packages/pandas/io/formats/csvs.py:270\u001b[0m, in \u001b[0;36mCSVFormatter.save\u001b[0;34m(self)\u001b[0m\n\u001b[1;32m    251\u001b[0m \u001b[38;5;28;01mwith\u001b[39;00m get_handle(\n\u001b[1;32m    252\u001b[0m     \u001b[38;5;28mself\u001b[39m\u001b[38;5;241m.\u001b[39mfilepath_or_buffer,\n\u001b[1;32m    253\u001b[0m     \u001b[38;5;28mself\u001b[39m\u001b[38;5;241m.\u001b[39mmode,\n\u001b[0;32m   (...)\u001b[0m\n\u001b[1;32m    258\u001b[0m ) \u001b[38;5;28;01mas\u001b[39;00m handles:\n\u001b[1;32m    259\u001b[0m     \u001b[38;5;66;03m# Note: self.encoding is irrelevant here\u001b[39;00m\n\u001b[1;32m    260\u001b[0m     \u001b[38;5;28mself\u001b[39m\u001b[38;5;241m.\u001b[39mwriter \u001b[38;5;241m=\u001b[39m csvlib\u001b[38;5;241m.\u001b[39mwriter(\n\u001b[1;32m    261\u001b[0m         handles\u001b[38;5;241m.\u001b[39mhandle,\n\u001b[1;32m    262\u001b[0m         lineterminator\u001b[38;5;241m=\u001b[39m\u001b[38;5;28mself\u001b[39m\u001b[38;5;241m.\u001b[39mlineterminator,\n\u001b[0;32m   (...)\u001b[0m\n\u001b[1;32m    267\u001b[0m         quotechar\u001b[38;5;241m=\u001b[39m\u001b[38;5;28mself\u001b[39m\u001b[38;5;241m.\u001b[39mquotechar,\n\u001b[1;32m    268\u001b[0m     )\n\u001b[0;32m--> 270\u001b[0m     \u001b[38;5;28mself\u001b[39m\u001b[38;5;241m.\u001b[39m_save()\n",
      "File \u001b[0;32m~/anaconda3/envs/notebook/lib/python3.11/site-packages/pandas/io/formats/csvs.py:275\u001b[0m, in \u001b[0;36mCSVFormatter._save\u001b[0;34m(self)\u001b[0m\n\u001b[1;32m    273\u001b[0m \u001b[38;5;28;01mif\u001b[39;00m \u001b[38;5;28mself\u001b[39m\u001b[38;5;241m.\u001b[39m_need_to_save_header:\n\u001b[1;32m    274\u001b[0m     \u001b[38;5;28mself\u001b[39m\u001b[38;5;241m.\u001b[39m_save_header()\n\u001b[0;32m--> 275\u001b[0m \u001b[38;5;28mself\u001b[39m\u001b[38;5;241m.\u001b[39m_save_body()\n",
      "File \u001b[0;32m~/anaconda3/envs/notebook/lib/python3.11/site-packages/pandas/io/formats/csvs.py:313\u001b[0m, in \u001b[0;36mCSVFormatter._save_body\u001b[0;34m(self)\u001b[0m\n\u001b[1;32m    311\u001b[0m \u001b[38;5;28;01mif\u001b[39;00m start_i \u001b[38;5;241m>\u001b[39m\u001b[38;5;241m=\u001b[39m end_i:\n\u001b[1;32m    312\u001b[0m     \u001b[38;5;28;01mbreak\u001b[39;00m\n\u001b[0;32m--> 313\u001b[0m \u001b[38;5;28mself\u001b[39m\u001b[38;5;241m.\u001b[39m_save_chunk(start_i, end_i)\n",
      "File \u001b[0;32m~/anaconda3/envs/notebook/lib/python3.11/site-packages/pandas/io/formats/csvs.py:320\u001b[0m, in \u001b[0;36mCSVFormatter._save_chunk\u001b[0;34m(self, start_i, end_i)\u001b[0m\n\u001b[1;32m    317\u001b[0m slicer \u001b[38;5;241m=\u001b[39m \u001b[38;5;28mslice\u001b[39m(start_i, end_i)\n\u001b[1;32m    318\u001b[0m df \u001b[38;5;241m=\u001b[39m \u001b[38;5;28mself\u001b[39m\u001b[38;5;241m.\u001b[39mobj\u001b[38;5;241m.\u001b[39miloc[slicer]\n\u001b[0;32m--> 320\u001b[0m res \u001b[38;5;241m=\u001b[39m df\u001b[38;5;241m.\u001b[39m_get_values_for_csv(\u001b[38;5;241m*\u001b[39m\u001b[38;5;241m*\u001b[39m\u001b[38;5;28mself\u001b[39m\u001b[38;5;241m.\u001b[39m_number_format)\n\u001b[1;32m    321\u001b[0m data \u001b[38;5;241m=\u001b[39m \u001b[38;5;28mlist\u001b[39m(res\u001b[38;5;241m.\u001b[39m_iter_column_arrays())\n\u001b[1;32m    323\u001b[0m ix \u001b[38;5;241m=\u001b[39m \u001b[38;5;28mself\u001b[39m\u001b[38;5;241m.\u001b[39mdata_index[slicer]\u001b[38;5;241m.\u001b[39m_get_values_for_csv(\u001b[38;5;241m*\u001b[39m\u001b[38;5;241m*\u001b[39m\u001b[38;5;28mself\u001b[39m\u001b[38;5;241m.\u001b[39m_number_format)\n",
      "File \u001b[0;32m~/anaconda3/envs/notebook/lib/python3.11/site-packages/pandas/core/frame.py:1410\u001b[0m, in \u001b[0;36mDataFrame._get_values_for_csv\u001b[0;34m(self, float_format, date_format, decimal, na_rep, quoting)\u001b[0m\n\u001b[1;32m   1400\u001b[0m \u001b[38;5;28;01mdef\u001b[39;00m \u001b[38;5;21m_get_values_for_csv\u001b[39m(\n\u001b[1;32m   1401\u001b[0m     \u001b[38;5;28mself\u001b[39m,\n\u001b[1;32m   1402\u001b[0m     \u001b[38;5;241m*\u001b[39m,\n\u001b[0;32m   (...)\u001b[0m\n\u001b[1;32m   1408\u001b[0m ) \u001b[38;5;241m-\u001b[39m\u001b[38;5;241m>\u001b[39m Self:\n\u001b[1;32m   1409\u001b[0m     \u001b[38;5;66;03m# helper used by to_csv\u001b[39;00m\n\u001b[0;32m-> 1410\u001b[0m     mgr \u001b[38;5;241m=\u001b[39m \u001b[38;5;28mself\u001b[39m\u001b[38;5;241m.\u001b[39m_mgr\u001b[38;5;241m.\u001b[39mget_values_for_csv(\n\u001b[1;32m   1411\u001b[0m         float_format\u001b[38;5;241m=\u001b[39mfloat_format,\n\u001b[1;32m   1412\u001b[0m         date_format\u001b[38;5;241m=\u001b[39mdate_format,\n\u001b[1;32m   1413\u001b[0m         decimal\u001b[38;5;241m=\u001b[39mdecimal,\n\u001b[1;32m   1414\u001b[0m         na_rep\u001b[38;5;241m=\u001b[39mna_rep,\n\u001b[1;32m   1415\u001b[0m         quoting\u001b[38;5;241m=\u001b[39mquoting,\n\u001b[1;32m   1416\u001b[0m     )\n\u001b[1;32m   1417\u001b[0m     \u001b[38;5;66;03m# error: Incompatible return value type (got \"DataFrame\", expected \"Self\")\u001b[39;00m\n\u001b[1;32m   1418\u001b[0m     \u001b[38;5;28;01mreturn\u001b[39;00m \u001b[38;5;28mself\u001b[39m\u001b[38;5;241m.\u001b[39m_constructor_from_mgr(mgr, axes\u001b[38;5;241m=\u001b[39mmgr\u001b[38;5;241m.\u001b[39maxes)\n",
      "File \u001b[0;32m~/anaconda3/envs/notebook/lib/python3.11/site-packages/pandas/core/internals/managers.py:466\u001b[0m, in \u001b[0;36mBaseBlockManager.get_values_for_csv\u001b[0;34m(self, float_format, date_format, decimal, na_rep, quoting)\u001b[0m\n\u001b[1;32m    459\u001b[0m \u001b[38;5;28;01mdef\u001b[39;00m \u001b[38;5;21mget_values_for_csv\u001b[39m(\n\u001b[1;32m    460\u001b[0m     \u001b[38;5;28mself\u001b[39m, \u001b[38;5;241m*\u001b[39m, float_format, date_format, decimal, na_rep: \u001b[38;5;28mstr\u001b[39m \u001b[38;5;241m=\u001b[39m \u001b[38;5;124m\"\u001b[39m\u001b[38;5;124mnan\u001b[39m\u001b[38;5;124m\"\u001b[39m, quoting\u001b[38;5;241m=\u001b[39m\u001b[38;5;28;01mNone\u001b[39;00m\n\u001b[1;32m    461\u001b[0m ) \u001b[38;5;241m-\u001b[39m\u001b[38;5;241m>\u001b[39m Self:\n\u001b[1;32m    462\u001b[0m \u001b[38;5;250m    \u001b[39m\u001b[38;5;124;03m\"\"\"\u001b[39;00m\n\u001b[1;32m    463\u001b[0m \u001b[38;5;124;03m    Convert values to native types (strings / python objects) that are used\u001b[39;00m\n\u001b[1;32m    464\u001b[0m \u001b[38;5;124;03m    in formatting (repr / csv).\u001b[39;00m\n\u001b[1;32m    465\u001b[0m \u001b[38;5;124;03m    \"\"\"\u001b[39;00m\n\u001b[0;32m--> 466\u001b[0m     \u001b[38;5;28;01mreturn\u001b[39;00m \u001b[38;5;28mself\u001b[39m\u001b[38;5;241m.\u001b[39mapply(\n\u001b[1;32m    467\u001b[0m         \u001b[38;5;124m\"\u001b[39m\u001b[38;5;124mget_values_for_csv\u001b[39m\u001b[38;5;124m\"\u001b[39m,\n\u001b[1;32m    468\u001b[0m         na_rep\u001b[38;5;241m=\u001b[39mna_rep,\n\u001b[1;32m    469\u001b[0m         quoting\u001b[38;5;241m=\u001b[39mquoting,\n\u001b[1;32m    470\u001b[0m         float_format\u001b[38;5;241m=\u001b[39mfloat_format,\n\u001b[1;32m    471\u001b[0m         date_format\u001b[38;5;241m=\u001b[39mdate_format,\n\u001b[1;32m    472\u001b[0m         decimal\u001b[38;5;241m=\u001b[39mdecimal,\n\u001b[1;32m    473\u001b[0m     )\n",
      "File \u001b[0;32m~/anaconda3/envs/notebook/lib/python3.11/site-packages/pandas/core/internals/managers.py:363\u001b[0m, in \u001b[0;36mBaseBlockManager.apply\u001b[0;34m(self, f, align_keys, **kwargs)\u001b[0m\n\u001b[1;32m    361\u001b[0m         applied \u001b[38;5;241m=\u001b[39m b\u001b[38;5;241m.\u001b[39mapply(f, \u001b[38;5;241m*\u001b[39m\u001b[38;5;241m*\u001b[39mkwargs)\n\u001b[1;32m    362\u001b[0m     \u001b[38;5;28;01melse\u001b[39;00m:\n\u001b[0;32m--> 363\u001b[0m         applied \u001b[38;5;241m=\u001b[39m \u001b[38;5;28mgetattr\u001b[39m(b, f)(\u001b[38;5;241m*\u001b[39m\u001b[38;5;241m*\u001b[39mkwargs)\n\u001b[1;32m    364\u001b[0m     result_blocks \u001b[38;5;241m=\u001b[39m extend_blocks(applied, result_blocks)\n\u001b[1;32m    366\u001b[0m out \u001b[38;5;241m=\u001b[39m \u001b[38;5;28mtype\u001b[39m(\u001b[38;5;28mself\u001b[39m)\u001b[38;5;241m.\u001b[39mfrom_blocks(result_blocks, \u001b[38;5;28mself\u001b[39m\u001b[38;5;241m.\u001b[39maxes)\n",
      "File \u001b[0;32m~/anaconda3/envs/notebook/lib/python3.11/site-packages/pandas/core/internals/blocks.py:780\u001b[0m, in \u001b[0;36mBlock.get_values_for_csv\u001b[0;34m(self, float_format, date_format, decimal, na_rep, quoting)\u001b[0m\n\u001b[1;32m    775\u001b[0m \u001b[38;5;129m@final\u001b[39m\n\u001b[1;32m    776\u001b[0m \u001b[38;5;28;01mdef\u001b[39;00m \u001b[38;5;21mget_values_for_csv\u001b[39m(\n\u001b[1;32m    777\u001b[0m     \u001b[38;5;28mself\u001b[39m, \u001b[38;5;241m*\u001b[39m, float_format, date_format, decimal, na_rep: \u001b[38;5;28mstr\u001b[39m \u001b[38;5;241m=\u001b[39m \u001b[38;5;124m\"\u001b[39m\u001b[38;5;124mnan\u001b[39m\u001b[38;5;124m\"\u001b[39m, quoting\u001b[38;5;241m=\u001b[39m\u001b[38;5;28;01mNone\u001b[39;00m\n\u001b[1;32m    778\u001b[0m ) \u001b[38;5;241m-\u001b[39m\u001b[38;5;241m>\u001b[39m Block:\n\u001b[1;32m    779\u001b[0m \u001b[38;5;250m    \u001b[39m\u001b[38;5;124;03m\"\"\"convert to our native types format\"\"\"\u001b[39;00m\n\u001b[0;32m--> 780\u001b[0m     result \u001b[38;5;241m=\u001b[39m get_values_for_csv(\n\u001b[1;32m    781\u001b[0m         \u001b[38;5;28mself\u001b[39m\u001b[38;5;241m.\u001b[39mvalues,\n\u001b[1;32m    782\u001b[0m         na_rep\u001b[38;5;241m=\u001b[39mna_rep,\n\u001b[1;32m    783\u001b[0m         quoting\u001b[38;5;241m=\u001b[39mquoting,\n\u001b[1;32m    784\u001b[0m         float_format\u001b[38;5;241m=\u001b[39mfloat_format,\n\u001b[1;32m    785\u001b[0m         date_format\u001b[38;5;241m=\u001b[39mdate_format,\n\u001b[1;32m    786\u001b[0m         decimal\u001b[38;5;241m=\u001b[39mdecimal,\n\u001b[1;32m    787\u001b[0m     )\n\u001b[1;32m    788\u001b[0m     \u001b[38;5;28;01mreturn\u001b[39;00m \u001b[38;5;28mself\u001b[39m\u001b[38;5;241m.\u001b[39mmake_block(result)\n",
      "File \u001b[0;32m~/anaconda3/envs/notebook/lib/python3.11/site-packages/pandas/core/indexes/base.py:7834\u001b[0m, in \u001b[0;36mget_values_for_csv\u001b[0;34m(values, date_format, na_rep, quoting, float_format, decimal)\u001b[0m\n\u001b[1;32m   7831\u001b[0m mask \u001b[38;5;241m=\u001b[39m isna(values)\n\u001b[1;32m   7833\u001b[0m \u001b[38;5;28;01mif\u001b[39;00m \u001b[38;5;129;01mnot\u001b[39;00m quoting:\n\u001b[0;32m-> 7834\u001b[0m     values \u001b[38;5;241m=\u001b[39m values\u001b[38;5;241m.\u001b[39mastype(\u001b[38;5;28mstr\u001b[39m)\n\u001b[1;32m   7835\u001b[0m \u001b[38;5;28;01melse\u001b[39;00m:\n\u001b[1;32m   7836\u001b[0m     values \u001b[38;5;241m=\u001b[39m np\u001b[38;5;241m.\u001b[39marray(values, dtype\u001b[38;5;241m=\u001b[39m\u001b[38;5;124m\"\u001b[39m\u001b[38;5;124mobject\u001b[39m\u001b[38;5;124m\"\u001b[39m)\n",
      "\u001b[0;31mKeyboardInterrupt\u001b[0m: "
     ]
    },
    {
     "data": {
      "image/png": "[encoded data removed]",
      "text/plain": [
       "<Figure size 800x400 with 2 Axes>"
      ]
     },
     "metadata": {},
     "output_type": "display_data"
    },
    {
     "data": {
      "image/png": "[encoded data removed]",
      "text/plain": [
       "<Figure size 800x400 with 2 Axes>"
      ]
     },
     "metadata": {},
     "output_type": "display_data"
    }
   ],
   "source": [
    "# energy = ['51767680']\n",
    "# species = ['h']\n",
    "\n",
    "import importlib\n",
    "importlib.reload(prepare_fulldata)\n",
    "\n",
    "# directories, dataset_csv, fulldata_settings = initialize_var.initialize_fulldata_var(raw_feature_names = raw_feature_names\n",
    "#                                                                                  , number_history=number_history)\n",
    "\n",
    "# df_full = prepare_fulldata.read_probes_data(directories[\"rawdata_dir\"], data_settings)\n",
    "\n",
    "# df_coor, df_full, fulldata_settings = prepare_fulldata.load_coor(directories, dataset_csv, fulldata_settings\n",
    "# , recalc=True, save_data = True, plot_data = True)\n",
    "\n",
    "# df_y, df_full, fulldata_settings = prepare_fulldata.load_y(directories, dataset_csv, fulldata_settings\n",
    "# , recalc = True, save_data = True, plot_data = True )\n",
    "raw_feature_names = ['ae','f10.7','kp'] #,'swp','swn','swv','by','bz']\n",
    "df_feature, df_full, fulldata_settings = prepare_fulldata.load_features(directories, dataset_csv, fulldata_settings\n",
    "                                                              , recalc = True, df_full = df_full, save_data = True, plot_data = True\n",
    "                                                              , raw_feature_names = raw_feature_names)\n"
   ]
  },
  {
   "cell_type": "markdown",
   "id": "bddd6cfa-9141-450a-9f73-2d0f7a296c2f",
   "metadata": {},
   "source": [
    "### This code is for analyzing data"
   ]
  },
  {
   "cell_type": "code",
   "execution_count": 4,
   "id": "8d6ff4d7-3d48-4df0-9e77-ba7cb1d47d67",
   "metadata": {},
   "outputs": [
    {
     "name": "stdout",
     "output_type": "stream",
     "text": [
      "Reading csv data for probe b"
     ]
    }
   ],
   "source": [
    "import prepare_fulldata\n",
    "import importlib\n",
    "import initialize_var\n",
    "\n",
    "importlib.reload(prepare_fulldata)\n",
    "importlib.reload(initialize_var)\n",
    "\n",
    "raw_feature_names = ['symh','asyh','asyd','ae','f10.7','kp','swp','swn','swv','by','bz']\n",
    "number_history = 10\n",
    "\n",
    "directories, dataset_csv, fulldata_settings = initialize_var.initialize_fulldata_var(raw_feature_names = raw_feature_names\n",
    "                                                                                      , number_history=number_history)\n",
    "df_full = prepare_fulldata.read_probes_data(directories[\"rawdata_dir\"], fulldata_settings)\n",
    "\n"
   ]
  },
  {
   "cell_type": "code",
   "execution_count": null,
   "id": "580ff802-7860-4653-a8e7-5d15ba7ed758",
   "metadata": {},
   "outputs": [],
   "source": [
    "import numpy as np\n",
    "import pandas as pd\n",
    "import matplotlib.pyplot as plt\n",
    "\n",
    "df_y = df_full[fulldata_settings[\"y_names\"][0:54]]\n",
    "\n",
    "zero_ct = (df_y==0).sum()\n",
    "\n",
    "min_value = df_y[df_y > 0].min()\n",
    "\n",
    "sp = [s[0] for s in (zero_ct.index.tolist())]\n",
    "en = [str(x) for x in (np.double([s[7:] for s in (zero_ct.index.tolist())])/1000)]\n",
    "\n",
    "output = pd.DataFrame({'sp':sp, 'en':en, 'zero_ct':zero_ct, 'min_value':min_value})\n",
    "output = output.iloc[::-1]"
   ]
  },
  {
   "cell_type": "code",
   "execution_count": null,
   "id": "74aeaf79-352d-4d7b-bb57-3deba2e521ca",
   "metadata": {},
   "outputs": [],
   "source": [
    "output"
   ]
  },
  {
   "cell_type": "code",
   "execution_count": null,
   "id": "862ec177-a658-4871-b304-679c49e04255",
   "metadata": {},
   "outputs": [],
   "source": [
    "color_map = {'h': 'red', 'o': 'blue',}\n",
    "colors = [color_map[category] for category in output['sp']]\n",
    "\n",
    "plt.figure(figsize=(10, 5))\n",
    "\n",
    "plt.scatter(x = output['en'], y= output['zero_ct'], c=colors, s =10, label = color_map)\n",
    "plt.xticks(rotation=45)\n",
    "plt.legend()\n",
    "\n",
    "plt.title('Number of zeros for each energy bin')\n",
    "plt.xlabel('energy (eV)')\n",
    "plt.ylabel('number of zeros')\n",
    "\n",
    "# plt.show()\n",
    "plt.tight_layout()    \n",
    "\n",
    "plt.savefig('n_zero.png')"
   ]
  },
  {
   "cell_type": "code",
   "execution_count": null,
   "id": "e14efa4c-1785-4def-8e9c-3415c2e3deed",
   "metadata": {},
   "outputs": [],
   "source": [
    "color_map = {'h': 'red', 'o': 'blue',}\n",
    "colors = [color_map[category] for category in output['sp']]\n",
    "plt.figure(figsize=(10, 5))\n",
    "\n",
    "plt.scatter(x = output['en'], y= output['min_value'], c=colors, s = 10, label = color_map)\n",
    "plt.xticks(rotation=45)\n",
    "plt.yscale('log')\n",
    "plt.legend()\n",
    "\n",
    "plt.title('Minimum value for each energy bin')\n",
    "plt.ylabel('minimum value of flux')\n",
    "plt.xlabel('energy (eV)')\n",
    "plt.tight_layout()    \n",
    "plt.ylim(0.0001, 0.1) \n",
    "\n",
    "# plt.show()\n",
    "plt.savefig('min_value.png')"
   ]
  },
  {
   "cell_type": "code",
   "execution_count": null,
   "id": "60d55be6-e398-476b-add7-e6420611af50",
   "metadata": {},
   "outputs": [],
   "source": []
  },
  {
   "cell_type": "code",
   "execution_count": null,
   "id": "e63c049b-897a-4ced-859b-82d96ddce403",
   "metadata": {},
   "outputs": [],
   "source": []
  }
 ],
 "metadata": {
  "kernelspec": {
   "display_name": "Python 3 (ipykernel)",
   "language": "python",
   "name": "python3"
  },
  "language_info": {
   "codemirror_mode": {
    "name": "ipython",
    "version": 3
   },
   "file_extension": ".py",
   "mimetype": "text/x-python",
   "name": "python",
   "nbconvert_exporter": "python",
   "pygments_lexer": "ipython3",
   "version": "3.11.11"
  }
 },
 "nbformat": 4,
 "nbformat_minor": 5
}
